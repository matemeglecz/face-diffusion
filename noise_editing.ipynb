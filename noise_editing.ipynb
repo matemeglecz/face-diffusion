{
 "cells": [
  {
   "cell_type": "code",
   "execution_count": 1,
   "metadata": {},
   "outputs": [],
   "source": [
    "import torch\n",
    "import torchvision\n",
    "import argparse\n",
    "import yaml\n",
    "import os\n",
    "from torchvision.utils import make_grid\n",
    "from PIL import Image\n",
    "from tqdm import tqdm\n",
    "from models.unet_cond_base import Unet\n",
    "from models.vqvae import VQVAE\n",
    "from scheduler.linear_noise_scheduler import LinearNoiseScheduler\n",
    "from scheduler.linear_noise_scheduler_ddim import LinearNoiseSchedulerDDIM\n",
    "from utils.config_utils import *\n",
    "from collections import OrderedDict\n",
    "from datetime import datetime\n",
    "from tools.sample_ddpm_attr_cond import sample, ddim_inversion\n",
    "\n",
    "device = torch.device('cuda' if torch.cuda.is_available() else 'cpu')"
   ]
  },
  {
   "cell_type": "code",
   "execution_count": 2,
   "metadata": {},
   "outputs": [],
   "source": [
    "\"\"\" module of functions related to discovering feature axis \"\"\"\n",
    "\n",
    "import time\n",
    "import numpy as np\n",
    "import sklearn.linear_model as linear_model\n",
    "\n",
    "\n",
    "def find_feature_axis(z, y, method='linear', **kwargs_model):\n",
    "    \"\"\"\n",
    "    function to find axis in the latent space that is predictive of feature vectors\n",
    "\n",
    "    :param z: vectors in the latent space, shape=(num_samples, num_latent_vector_dimension)\n",
    "    :param y: feature vectors, shape=(num_samples, num_features)\n",
    "    :param method: one of ['linear', 'logistic'], or a sklearn.linear_model object, (eg. sklearn.linear_model.ElasticNet)\n",
    "    :param kwargs_model: parameters specific to a sklearn.linear_model object, (eg., penalty=’l2’)\n",
    "    :return: feature vectors, shape = (num_latent_vector_dimension, num_features)\n",
    "    \"\"\"\n",
    "\n",
    "    if method == 'linear':\n",
    "        model = linear_model.LinearRegression(**kwargs_model)\n",
    "        model.fit(z, y)\n",
    "    elif method == 'tanh':\n",
    "        def arctanh_clip(y):\n",
    "            return np.arctanh(np.clip(y, np.tanh(-3), np.tanh(3)))\n",
    "\n",
    "        model = linear_model.LinearRegression(**kwargs_model)\n",
    "\n",
    "        model.fit(z, arctanh_clip(y))\n",
    "    else:\n",
    "        raise Exception('method has to be one of [\"linear\", \"tanh\"]')\n",
    "\n",
    "    return model.coef_.transpose()\n",
    "\n",
    "\n",
    "def normalize_feature_axis(feature_slope):\n",
    "    \"\"\"\n",
    "    function to normalize the slope of features axis so that they have the same length\n",
    "\n",
    "    :param feature_slope: array of feature axis, shape = (num_latent_vector_dimension, num_features)\n",
    "    :return: same shape of input\n",
    "    \"\"\"\n",
    "\n",
    "    feature_direction = feature_slope / np.linalg.norm(feature_slope, ord=2, axis=0, keepdims=True)\n",
    "    return feature_direction\n",
    "\n",
    "\n",
    "def disentangle_feature_axis(feature_axis_target, feature_axis_base, yn_base_orthogonalized=False):\n",
    "    \"\"\"\n",
    "    make feature_axis_target orthogonal to feature_axis_base\n",
    "\n",
    "    :param feature_axis_target: features axes to decorrerelate, shape = (num_dim, num_feature_0)\n",
    "    :param feature_axis_base: features axes to decorrerelate, shape = (num_dim, num_feature_1))\n",
    "    :param yn_base_orthogonalized: True/False whether the feature_axis_base is already othogonalized\n",
    "    :return: feature_axis_decorrelated, shape = shape = (num_dim, num_feature_0)\n",
    "    \"\"\"\n",
    "\n",
    "    # make sure this funciton works to 1D vector\n",
    "    if len(feature_axis_target.shape) == 0:\n",
    "        yn_single_vector_in = True\n",
    "        feature_axis_target = feature_axis_target[:, None]\n",
    "    else:\n",
    "        yn_single_vector_in = False\n",
    "\n",
    "    # if already othogonalized, skip this step\n",
    "    if yn_base_orthogonalized:\n",
    "        feature_axis_base_orthononal = orthogonalize_vectors(feature_axis_base)\n",
    "    else:\n",
    "        feature_axis_base_orthononal = feature_axis_base\n",
    "\n",
    "    # orthogonalize every vector\n",
    "    feature_axis_decorrelated = feature_axis_target + 0\n",
    "    num_dim, num_feature_0 = feature_axis_target.shape\n",
    "    num_dim, num_feature_1 = feature_axis_base_orthononal.shape\n",
    "    for i in range(num_feature_0):\n",
    "        for j in range(num_feature_1):\n",
    "            feature_axis_decorrelated[:, i] = orthogonalize_one_vector(feature_axis_decorrelated[:, i],\n",
    "                                                                       feature_axis_base_orthononal[:, j])\n",
    "\n",
    "    # make sure this funciton works to 1D vector\n",
    "    if yn_single_vector_in:\n",
    "        result = feature_axis_decorrelated[:, 0]\n",
    "    else:\n",
    "        result = feature_axis_decorrelated\n",
    "\n",
    "    return result\n",
    "\n",
    "\n",
    "def disentangle_feature_axis_by_idx(feature_axis, idx_base=None, idx_target=None, yn_normalize=True):\n",
    "    \"\"\"\n",
    "    disentangle correlated feature axis, make the features with index idx_target orthogonal to\n",
    "    those with index idx_target, wrapper of function disentangle_feature_axis()\n",
    "\n",
    "    :param feature_axis:       all features axis, shape = (num_dim, num_feature)\n",
    "    :param idx_base:           index of base features (1D numpy array), to which the other features will be orthogonal\n",
    "    :param idx_target: index of features to disentangle (1D numpy array), which will be disentangled from\n",
    "                                    base features, default to all remaining features\n",
    "    :param yn_normalize:       True/False to normalize the results\n",
    "    :return:                   disentangled features, shape = feature_axis\n",
    "    \"\"\"\n",
    "\n",
    "    (num_dim, num_feature) = feature_axis.shape\n",
    "\n",
    "    # process default input\n",
    "    if idx_base is None or len(idx_base) == 0:    # if None or empty, do nothing\n",
    "        feature_axis_disentangled = feature_axis\n",
    "    else:                                         # otherwise, disentangle features\n",
    "        if idx_target is None:                # if None, use all remaining features\n",
    "            idx_target = np.setdiff1d(np.arange(num_feature), idx_base)\n",
    "\n",
    "        feature_axis_target = feature_axis[:, idx_target] + 0\n",
    "        feature_axis_base = feature_axis[:, idx_base] + 0\n",
    "        feature_axis_base_orthogonalized = orthogonalize_vectors(feature_axis_base)\n",
    "        feature_axis_target_orthogonalized = disentangle_feature_axis(\n",
    "            feature_axis_target, feature_axis_base_orthogonalized, yn_base_orthogonalized=True)\n",
    "\n",
    "        feature_axis_disentangled = feature_axis + 0  # holder of results\n",
    "        feature_axis_disentangled[:, idx_target] = feature_axis_target_orthogonalized\n",
    "        feature_axis_disentangled[:, idx_base] = feature_axis_base_orthogonalized\n",
    "\n",
    "    # normalize output\n",
    "    if yn_normalize:\n",
    "        feature_axis_out = normalize_feature_axis(feature_axis_disentangled)\n",
    "    else:\n",
    "        feature_axis_out = feature_axis_disentangled\n",
    "    return feature_axis_out\n",
    "\n",
    "\n",
    "def orthogonalize_one_vector(vector, vector_base):\n",
    "    \"\"\"\n",
    "    tool function, adjust vector so that it is orthogonal to vector_base (i.e., vector - its_projection_on_vector_base )\n",
    "\n",
    "    :param vector0: 1D array\n",
    "    :param vector1: 1D array\n",
    "    :return: adjusted vector1\n",
    "    \"\"\"\n",
    "    return vector - np.dot(vector, vector_base) / np.dot(vector_base, vector_base) * vector_base\n",
    "\n",
    "\n",
    "def orthogonalize_vectors(vectors):\n",
    "    \"\"\"\n",
    "    tool function, adjust vectors so that they are orthogonal to each other, takes O(num_vector^2) time\n",
    "\n",
    "    :param vectors: vectors, shape = (num_dimension, num_vector)\n",
    "    :return: orthorgonal vectors, shape = (num_dimension, num_vector)\n",
    "    \"\"\"\n",
    "    vectors_orthogonal = vectors + 0\n",
    "    num_dimension, num_vector = vectors.shape\n",
    "    for i in range(num_vector):\n",
    "        for j in range(i):\n",
    "            vectors_orthogonal[:, i] = orthogonalize_one_vector(vectors_orthogonal[:, i], vectors_orthogonal[:, j])\n",
    "    return vectors_orthogonal\n",
    "\n",
    "\n",
    "def plot_feature_correlation(feature_direction, feature_name=None):\n",
    "    import matplotlib.pyplot as plt\n",
    "\n",
    "    len_z, len_y = feature_direction.shape\n",
    "    if feature_name is None:\n",
    "        feature_name = range(len_y)\n",
    "\n",
    "    feature_correlation = np.corrcoef(feature_direction.transpose())\n",
    "\n",
    "    c_lim_abs = np.max(np.abs(feature_correlation))\n",
    "\n",
    "    plt.pcolormesh(np.arange(len_y+1), np.arange(len_y+1), feature_correlation,\n",
    "                   cmap='coolwarm', vmin=-c_lim_abs, vmax=+c_lim_abs)\n",
    "    plt.gca().invert_yaxis()\n",
    "    plt.colorbar()\n",
    "    # plt.axis('square')\n",
    "    plt.xticks(np.arange(len_y) + 0.5, feature_name, fontsize='x-small', rotation='vertical')\n",
    "    plt.yticks(np.arange(len_y) + 0.5, feature_name, fontsize='x-small')\n",
    "    plt.show()\n",
    "\n",
    "\n",
    "def plot_feature_cos_sim(feature_direction, feature_name=None):\n",
    "    \"\"\"\n",
    "    plot cosine similarity measure of vectors\n",
    "\n",
    "    :param feature_direction: vectors, shape = (num_dimension, num_vector)\n",
    "    :param feature_name:      list of names of features\n",
    "    :return:                  cosines similarity matrix, shape = (num_vector, num_vector)\n",
    "    \"\"\"\n",
    "    import matplotlib.pyplot as plt\n",
    "    from sklearn.metrics.pairwise import cosine_similarity\n",
    "\n",
    "    len_z, len_y = feature_direction.shape\n",
    "    if feature_name is None:\n",
    "        feature_name = range(len_y)\n",
    "\n",
    "    feature_cos_sim = cosine_similarity(feature_direction.transpose())\n",
    "\n",
    "    c_lim_abs = np.max(np.abs(feature_cos_sim))\n",
    "\n",
    "    plt.pcolormesh(np.arange(len_y+1), np.arange(len_y+1), feature_cos_sim,\n",
    "                   vmin=-c_lim_abs, vmax=+c_lim_abs, cmap='coolwarm')\n",
    "    plt.gca().invert_yaxis()\n",
    "    plt.colorbar()\n",
    "    # plt.axis('square')\n",
    "    plt.xticks(np.arange(len_y) + 0.5, feature_name, fontsize='x-small', rotation='vertical')\n",
    "    plt.yticks(np.arange(len_y) + 0.5, feature_name, fontsize='x-small')\n",
    "    plt.show()\n",
    "    return feature_cos_sim\n",
    "\n",
    "\n",
    "\n"
   ]
  },
  {
   "cell_type": "code",
   "execution_count": 10,
   "metadata": {},
   "outputs": [
    {
     "name": "stdout",
     "output_type": "stream",
     "text": [
      "{'task_name': 'celebhq-512-64-train-komondor_b', 'continue': True, 'last_step': 0, 'last_epoch': 199, 'dataset_params': {'im_path': 'data/CelebAMask-HQ', 'im_channels': 3, 'im_size': 512, 'name': 'celebhq'}, 'diffusion_params': {'num_timesteps': 1000, 'beta_start': 0.0015, 'beta_end': 0.0195}, 'ldm_params': {'down_channels': [512, 768, 768, 1024], 'mid_channels': [1024, 768], 'down_sample': [True, True, True], 'attn_down': [True, True, True], 'time_emb_dim': 512, 'norm_channels': 32, 'num_heads': 16, 'conv_out_channels': 128, 'num_down_layers': 2, 'num_mid_layers': 2, 'num_up_layers': 2, 'condition_config': {'condition_types': ['attribute'], 'attribute_condition_config': {'attribute_condition_num': 19, 'attribute_condition_selected_attrs': ['Male', 'Young', 'Bald', 'Bangs', 'Receding_Hairline', 'Black_Hair', 'Blond_Hair', 'Brown_Hair', 'Gray_Hair', 'Straight_Hair', 'Wavy_Hair', 'No_Beard', 'Goatee', 'Mustache', 'Sideburns', 'Narrow_Eyes', 'Oval_Face', 'Pale_Skin', 'Pointy_Nose']}}}, 'autoencoder_params': {'z_channels': 3, 'codebook_size': 8192, 'down_channels': [128, 256, 512, 512], 'mid_channels': [512, 512], 'down_sample': [True, True, True], 'attn_down': [False, False, False], 'norm_channels': 32, 'num_heads': 4, 'num_down_layers': 2, 'num_mid_layers': 2, 'num_up_layers': 2}, 'train_params': {'seed': 1111, 'task_name': 'celebhq-512-64-train-komondor_b', 'ldm_batch_size': 1, 'autoencoder_batch_size': 1, 'disc_start': 15000, 'disc_weight': 0.5, 'codebook_weight': 1, 'commitment_beta': 0.2, 'perceptual_weight': 1, 'kl_weight': 5e-06, 'ldm_epochs': 300, 'autoencoder_epochs': 80, 'num_samples': 1, 'num_grid_rows': 1, 'ldm_lr': 1e-06, 'autoencoder_lr': 1e-05, 'autoencoder_acc_steps': 4, 'autoencoder_img_save_steps': 64, 'autoencoder_img_save_steps_wandb': 500, 'autoencoder_log_step_steps_wandb': 500, 'save_latents': True, 'vae_latent_dir_name': 'vae_latents', 'vqvae_latent_dir_name': 'vqvae_latents', 'ldm_ckpt_name': 'ddpm_ckpt.pth', 'vqvae_autoencoder_ckpt_name': 'vqvae_autoencoder_ckpt.pth', 'vae_autoencoder_ckpt_name': 'vae_autoencoder_ckpt.pth', 'vqvae_discriminator_ckpt_name': 'vqvae_discriminator_ckpt.pth', 'vae_discriminator_ckpt_name': 'vae_discriminator_ckpt.pth', 'distributed_data_paralell': True, 'ddpm_log_step_steps_wandb': 500, 'ddpm_img_save_steps_wandb': 1500}, 'sample_params': {'use_ddim': True}}\n",
      "Using DDIM\n",
      "Loaded unet checkpoint\n",
      "Loaded vae checkpoint\n"
     ]
    }
   ],
   "source": [
    "# Read the config file #\n",
    "#with open('celebhq-1024-64-16k-komondor_b/celeba_komondor_16k_b.yaml', 'r') as file:\n",
    "#with open('celebhq-1024-64-16k-komondor/celeba_komondor_16k.yaml', 'r') as file:\n",
    "#with open('celebhq-512-64/celeba_komondor_512.yaml', 'r') as file:\n",
    "with open('celebhq-512-64-train-komondor_b/celeba_komondor_512_b.yaml', 'r') as file:\n",
    "    try:\n",
    "        config = yaml.safe_load(file)\n",
    "    except yaml.YAMLError as exc:\n",
    "        print(exc)\n",
    "print(config)\n",
    "########################\n",
    "\n",
    "diffusion_config = config['diffusion_params']\n",
    "dataset_config = config['dataset_params']\n",
    "diffusion_model_config = config['ldm_params']\n",
    "autoencoder_model_config = config['autoencoder_params']\n",
    "train_config = config['train_params']\n",
    "sample_config = config['sample_params']\n",
    "\n",
    "########## Create the noise scheduler #############\n",
    "\n",
    "if sample_config['use_ddim']:\n",
    "    print('Using DDIM')\n",
    "    scheduler = LinearNoiseSchedulerDDIM(num_timesteps=diffusion_config['num_timesteps'],\n",
    "                                            beta_start=diffusion_config['beta_start'],\n",
    "                                            beta_end=diffusion_config['beta_end'])\n",
    "else:\n",
    "    scheduler = LinearNoiseScheduler(num_timesteps=diffusion_config['num_timesteps'],\n",
    "                                    beta_start=diffusion_config['beta_start'],\n",
    "                                    beta_end=diffusion_config['beta_end'])\n",
    "###############################################\n",
    "\n",
    "########## Load Unet #############\n",
    "model = Unet(im_channels=autoencoder_model_config['z_channels'],\n",
    "                model_config=diffusion_model_config).to(device)\n",
    "model.eval()\n",
    "if os.path.exists(os.path.join(train_config['task_name'],\n",
    "                                train_config['ldm_ckpt_name'])):\n",
    "    \n",
    "\n",
    "    ddp_state_dict = torch.load(os.path.join(train_config['task_name'],\n",
    "                                                    train_config['ldm_ckpt_name']),\n",
    "                                        map_location=device)\n",
    "    new_state_dict = OrderedDict()\n",
    "    for k, v in ddp_state_dict.items():\n",
    "        if k.startswith('module.'):\n",
    "            name = k[7:] # remove `module.`\n",
    "        new_state_dict[name] = v\n",
    "    \n",
    "    ddp_state_dict = new_state_dict\n",
    "    print('Loaded unet checkpoint')\n",
    "    model.load_state_dict(ddp_state_dict)\n",
    "else:\n",
    "    raise Exception('Model checkpoint {} not found'.format(os.path.join(train_config['task_name'],\n",
    "                                                                        train_config['ldm_ckpt_name'])))\n",
    "#####################################\n",
    "\n",
    "# Create output directories\n",
    "if not os.path.exists(train_config['task_name']):\n",
    "    os.mkdir(train_config['task_name'])\n",
    "\n",
    "########## Load VQVAE #############\n",
    "vae = VQVAE(im_channels=dataset_config['im_channels'],\n",
    "            model_config=autoencoder_model_config).to(device)\n",
    "vae.eval()\n",
    "\n",
    "# Load vae if found\n",
    "if os.path.exists(os.path.join(train_config['task_name'],\n",
    "                                train_config['vqvae_autoencoder_ckpt_name'])):\n",
    "    print('Loaded vae checkpoint')\n",
    "\n",
    "    vae_state_dict = torch.load(os.path.join(train_config['task_name'],\n",
    "                                                train_config['vqvae_autoencoder_ckpt_name']),\n",
    "                                    map_location=device)\n",
    "    \n",
    "    \n",
    "    new_state_dict = OrderedDict()\n",
    "\n",
    "    for k, v in vae_state_dict.items():\n",
    "        if k.startswith('module.'):\n",
    "            name = k[7:]\n",
    "        new_state_dict[name] = v   \n",
    "\n",
    "    #new_state_dict = vae_state_dict     \n",
    "    \n",
    "    vae.load_state_dict(new_state_dict, strict=True)\n",
    "else:\n",
    "    raise Exception('VAE checkpoint {} not found'.format(os.path.join(train_config['task_name'],\n",
    "                                                train_config['vqvae_autoencoder_ckpt_name'])))\n",
    "#####################################\n",
    "\n"
   ]
  },
  {
   "cell_type": "code",
   "execution_count": 2,
   "metadata": {},
   "outputs": [
    {
     "name": "stderr",
     "output_type": "stream",
     "text": [
      "  0%|          | 0/40 [00:00<?, ?it/s]"
     ]
    },
    {
     "name": "stderr",
     "output_type": "stream",
     "text": [
      "100%|██████████| 40/40 [07:31<00:00, 11.30s/it]\n"
     ]
    }
   ],
   "source": [
    "raw_dir = '/mnt/g/data/latents/700/raw/big_nose'\n",
    "\n",
    "# load all files in the directory\n",
    "files = os.listdir(raw_dir)\n",
    "files = [f for f in files if f.endswith('.pt')]\n",
    "\n",
    "# load all latents\n",
    "latents = torch.tensor([])\n",
    "attributes = torch.tensor([])\n",
    "for f in tqdm(files):\n",
    "    dict = torch.load(os.path.join(raw_dir, f))\n",
    "    l = dict['latents']\n",
    "    a = dict['attribute_desc']\n",
    "    del dict\n",
    "    l = l[-1, :, :, :, :]\n",
    "\n",
    "    latents = torch.cat((latents, l), dim=0)\n",
    "    attributes = torch.cat((attributes, a), dim=0)\n",
    "\n",
    "# save the latents and attributes\n",
    "torch.save({'latents': latents, 'attributes': attributes}, os.path.join(raw_dir, 'start_latents_attributes.pt'))\n",
    "\n"
   ]
  },
  {
   "cell_type": "code",
   "execution_count": 3,
   "metadata": {},
   "outputs": [],
   "source": [
    "# load from torch checkpoint\n",
    "#dict = torch.load('latents_glasses_2.pt')\n",
    "dict = torch.load('/mnt/g/data/latents/700/raw/smiling/start_latents_attributes.pt')\n",
    "latents = dict['latents']\n",
    "attribute_desc = dict['attributes']"
   ]
  },
  {
   "cell_type": "code",
   "execution_count": 4,
   "metadata": {},
   "outputs": [
    {
     "data": {
      "text/plain": [
       "torch.Size([2000, 3, 64, 64])"
      ]
     },
     "execution_count": 4,
     "metadata": {},
     "output_type": "execute_result"
    }
   ],
   "source": [
    "latents.shape"
   ]
  },
  {
   "cell_type": "code",
   "execution_count": 5,
   "metadata": {},
   "outputs": [
    {
     "data": {
      "text/plain": [
       "torch.Size([2000, 20])"
      ]
     },
     "execution_count": 5,
     "metadata": {},
     "output_type": "execute_result"
    }
   ],
   "source": [
    "attribute_desc.shape"
   ]
  },
  {
   "cell_type": "code",
   "execution_count": 6,
   "metadata": {},
   "outputs": [
    {
     "data": {
      "text/plain": [
       "tensor([0., 0., 0.,  ..., 1., 1., 1.])"
      ]
     },
     "execution_count": 6,
     "metadata": {},
     "output_type": "execute_result"
    }
   ],
   "source": [
    "attribute_desc[:, -1]"
   ]
  },
  {
   "cell_type": "code",
   "execution_count": null,
   "metadata": {},
   "outputs": [],
   "source": []
  },
  {
   "cell_type": "code",
   "execution_count": 7,
   "metadata": {},
   "outputs": [],
   "source": [
    "def flatten_latents(latents):\n",
    "    # get shape of latents\n",
    "    shape = latents.shape\n",
    "    \n",
    "    flattened_latents = torch.zeros(shape[0], shape[1] * shape[2] * shape[3])\n",
    "\n",
    "    for i in range(shape[0]):\n",
    "        flattened_latents[i] = latents[i].flatten()\n",
    "\n",
    "    return flattened_latents\n",
    "        "
   ]
  },
  {
   "cell_type": "code",
   "execution_count": 8,
   "metadata": {},
   "outputs": [],
   "source": [
    "def reverse_flatten_latents(flattened_latents, shape):\n",
    "    # get shape of latents\n",
    "    shape = shape\n",
    "\n",
    "    latents = torch.zeros(shape[0], shape[1], shape[2], shape[3])\n",
    "\n",
    "    for i in range(shape[0]):\n",
    "        latents[i] = flattened_latents[i].reshape(shape[1], shape[2], shape[3])\n",
    "\n",
    "    return latents"
   ]
  },
  {
   "cell_type": "code",
   "execution_count": 9,
   "metadata": {},
   "outputs": [
    {
     "name": "stderr",
     "output_type": "stream",
     "text": [
      "Clipping input data to the valid range for imshow with RGB data ([0..1] for floats or [0..255] for integers).\n"
     ]
    },
    {
     "data": {
      "image/png": "[encoded data removed]",
      "text/plain": [
       "<Figure size 640x480 with 1 Axes>"
      ]
     },
     "metadata": {},
     "output_type": "display_data"
    }
   ],
   "source": [
    "import matplotlib.pyplot as plt\n",
    "plt.imshow(latents[1].permute(1,2,0).cpu().numpy())\n",
    "plt.show()"
   ]
  },
  {
   "cell_type": "code",
   "execution_count": 10,
   "metadata": {},
   "outputs": [
    {
     "name": "stderr",
     "output_type": "stream",
     "text": [
      "Clipping input data to the valid range for imshow with RGB data ([0..1] for floats or [0..255] for integers).\n"
     ]
    },
    {
     "name": "stdout",
     "output_type": "stream",
     "text": [
      "torch.Size([1, 12288])\n"
     ]
    },
    {
     "data": {
      "image/png": "[encoded data removed]",
      "text/plain": [
       "<Figure size 640x480 with 1 Axes>"
      ]
     },
     "metadata": {},
     "output_type": "display_data"
    }
   ],
   "source": [
    "res_flat = flatten_latents(latents[1:2])\n",
    "print(res_flat.shape)\n",
    "# plot the results\n",
    "\n",
    "plt.imshow(reverse_flatten_latents(res_flat, (1,3,64,64))[0].permute(1,2,0).cpu().numpy())\n",
    "plt.show()\n",
    "\n"
   ]
  },
  {
   "cell_type": "code",
   "execution_count": 11,
   "metadata": {},
   "outputs": [
    {
     "name": "stdout",
     "output_type": "stream",
     "text": [
      "-3.6519556\n"
     ]
    }
   ],
   "source": [
    "print(min(res_flat[0].cpu().numpy()))"
   ]
  },
  {
   "cell_type": "code",
   "execution_count": 12,
   "metadata": {},
   "outputs": [],
   "source": [
    "flattened_latents = flatten_latents(latents)\n",
    "\n",
    "attribute_np = attribute_desc.cpu().numpy()\n"
   ]
  },
  {
   "cell_type": "code",
   "execution_count": 13,
   "metadata": {},
   "outputs": [],
   "source": [
    "feature_slope = find_feature_axis(flattened_latents, attribute_np, method='tanh')\n",
    "\n",
    "\"\"\" normalize the feature vectors \"\"\"\n",
    "yn_normalize_feature_direction = True\n",
    "if yn_normalize_feature_direction:\n",
    "    feature_direction = normalize_feature_axis(feature_slope)\n",
    "else:\n",
    "    feature_direction = feature_slope"
   ]
  },
  {
   "cell_type": "code",
   "execution_count": 14,
   "metadata": {},
   "outputs": [],
   "source": [
    "len_z, len_y = feature_direction.shape"
   ]
  },
  {
   "cell_type": "code",
   "execution_count": 15,
   "metadata": {},
   "outputs": [
    {
     "data": {
      "text/plain": [
       "(12288, 20)"
      ]
     },
     "execution_count": 15,
     "metadata": {},
     "output_type": "execute_result"
    }
   ],
   "source": [
    "len_z, len_y"
   ]
  },
  {
   "cell_type": "code",
   "execution_count": 16,
   "metadata": {},
   "outputs": [],
   "source": [
    "feature_direction_disentangled = disentangle_feature_axis_by_idx(\n",
    "    feature_direction, idx_base=range(len_y - 1), idx_target=None, yn_normalize=True)"
   ]
  },
  {
   "cell_type": "code",
   "execution_count": 17,
   "metadata": {},
   "outputs": [
    {
     "data": {
      "image/png": "[encoded data removed]",
      "text/plain": [
       "<Figure size 640x480 with 2 Axes>"
      ]
     },
     "metadata": {},
     "output_type": "display_data"
    },
    {
     "data": {
      "text/plain": [
       "array([[ 1.00000048e+00, -6.51925802e-09,  5.47152013e-09,\n",
       "        -1.21071935e-08, -1.22236088e-08, -5.58793545e-09,\n",
       "         1.55996531e-08,  6.51925802e-09, -1.15251169e-08,\n",
       "         1.30967237e-09,  2.93366611e-08,  5.82076609e-09,\n",
       "         6.05359674e-09, -2.08383426e-08, -3.95812094e-08,\n",
       "        -1.69966370e-08,  1.01281330e-08, -1.22818165e-08,\n",
       "        -4.54019755e-09,  1.33877620e-08],\n",
       "       [-6.51925802e-09,  1.00000000e+00,  3.05008143e-08,\n",
       "        -2.32830644e-09,  7.21774995e-09,  3.10246833e-08,\n",
       "        -4.88944352e-09,  1.35041773e-08, -1.72294676e-08,\n",
       "        -1.67638063e-08,  3.72529030e-09,  1.07102096e-08,\n",
       "        -2.09547579e-09, -6.28642738e-09,  1.35041773e-08,\n",
       "        -2.79396772e-09,  4.65661287e-10, -9.08039510e-09,\n",
       "         1.05064828e-08, -7.91624188e-09],\n",
       "       [ 5.47152013e-09,  3.05008143e-08,  1.00000083e+00,\n",
       "        -5.82076609e-10,  1.21071935e-08, -1.04191713e-08,\n",
       "         3.37604433e-09,  1.00117177e-08, -7.16681825e-09,\n",
       "        -1.11758709e-08, -1.43772922e-08,  1.16415322e-09,\n",
       "         7.56699592e-09,  1.18743628e-08, -4.88944352e-09,\n",
       "         1.16415322e-09, -5.47152013e-09,  7.10133463e-09,\n",
       "        -3.60887498e-09, -5.36965672e-09],\n",
       "       [-1.21071935e-08, -2.32830644e-09, -5.82076609e-10,\n",
       "         1.00000060e+00, -1.12340786e-08, -2.44472176e-08,\n",
       "        -1.21071935e-08, -9.54605639e-09, -1.01863407e-08,\n",
       "         1.28893589e-08,  2.15368345e-08,  3.56230885e-08,\n",
       "         2.04890966e-08, -2.03726813e-09, -4.65661287e-09,\n",
       "         7.55971996e-09, -7.21774995e-09,  5.00585884e-09,\n",
       "        -8.61473382e-09,  2.67755240e-09],\n",
       "       [-1.22236088e-08,  7.21774995e-09,  1.21071935e-08,\n",
       "        -1.12340786e-08,  9.99999940e-01, -5.50062396e-09,\n",
       "        -8.73114914e-10, -6.98491931e-09, -1.16415322e-10,\n",
       "        -1.39698386e-09, -1.62981451e-09,  6.05359674e-09,\n",
       "        -9.37143341e-09,  5.82076609e-09,  3.14321369e-09,\n",
       "        -3.31783667e-09, -3.49245965e-10, -1.16415322e-10,\n",
       "         5.93718141e-09,  9.31322575e-09],\n",
       "       [-5.58793545e-09,  3.10246833e-08, -1.04191713e-08,\n",
       "        -2.44472176e-08, -5.50062396e-09,  9.99999583e-01,\n",
       "         1.39698386e-09,  2.00234354e-08,  2.67755240e-09,\n",
       "         1.12922862e-08, -5.12227416e-09,  6.98491931e-10,\n",
       "         6.41011866e-09,  9.31322575e-10, -6.17001206e-09,\n",
       "         1.97906047e-09,  3.84170562e-09,  4.19095159e-09,\n",
       "         2.09547579e-09,  2.56113708e-09],\n",
       "       [ 1.55996531e-08, -4.88944352e-09,  3.37604433e-09,\n",
       "        -1.21071935e-08, -8.73114914e-10,  1.39698386e-09,\n",
       "         1.00000012e+00,  2.72411853e-08,  4.42378223e-09,\n",
       "         5.47152013e-09, -7.47968443e-09, -2.68919393e-08,\n",
       "        -9.34232958e-09,  7.27595761e-09, -9.89530236e-09,\n",
       "         2.56113708e-09, -9.77888703e-09,  4.65661287e-10,\n",
       "        -1.49011612e-08, -2.66009010e-08],\n",
       "       [ 6.51925802e-09,  1.35041773e-08,  1.00117177e-08,\n",
       "        -9.54605639e-09, -6.98491931e-09,  2.00234354e-08,\n",
       "         2.72411853e-08,  1.00000036e+00,  4.36557457e-09,\n",
       "         1.39698386e-09, -2.38651410e-08, -1.62981451e-09,\n",
       "        -4.42378223e-09, -4.94765118e-10,  3.05590220e-09,\n",
       "        -5.23868948e-10, -4.88944352e-09,  6.40284270e-10,\n",
       "         8.14907253e-09,  5.52972779e-09],\n",
       "       [-1.15251169e-08, -1.72294676e-08, -7.16681825e-09,\n",
       "        -1.01863407e-08, -1.16415322e-10,  2.67755240e-09,\n",
       "         4.42378223e-09,  4.36557457e-09,  1.00000024e+00,\n",
       "         1.16415322e-09,  1.20489858e-08,  1.32713467e-08,\n",
       "        -2.21189111e-08, -2.32830644e-10, -1.35041773e-08,\n",
       "         6.05359674e-09, -8.26548785e-09,  5.82076609e-09,\n",
       "         1.16415322e-10,  1.11231202e-08],\n",
       "       [ 1.30967237e-09, -1.67638063e-08, -1.11758709e-08,\n",
       "         1.28893589e-08, -1.39698386e-09,  1.12922862e-08,\n",
       "         5.47152013e-09,  1.39698386e-09,  1.16415322e-09,\n",
       "         9.99999762e-01, -5.76255843e-08, -7.68341124e-09,\n",
       "         8.49831849e-09,  4.88944352e-09, -2.57277861e-08,\n",
       "         1.16415322e-08, -8.14907253e-09, -1.37879397e-09,\n",
       "         1.77533366e-08, -2.56113708e-09],\n",
       "       [ 2.93366611e-08,  3.72529030e-09, -1.43772922e-08,\n",
       "         2.15368345e-08, -1.62981451e-09, -5.12227416e-09,\n",
       "        -7.47968443e-09, -2.38651410e-08,  1.20489858e-08,\n",
       "        -5.76255843e-08,  1.00000060e+00, -1.69966370e-08,\n",
       "        -6.05359674e-09,  2.09547579e-09, -1.65309757e-08,\n",
       "        -2.07801349e-08, -1.76078174e-09,  1.39698386e-09,\n",
       "        -1.01281330e-08,  8.73114914e-09],\n",
       "       [ 5.82076609e-09,  1.07102096e-08,  1.16415322e-09,\n",
       "         3.56230885e-08,  6.05359674e-09,  6.98491931e-10,\n",
       "        -2.68919393e-08, -1.62981451e-09,  1.32713467e-08,\n",
       "        -7.68341124e-09, -1.69966370e-08,  9.99999583e-01,\n",
       "        -4.79631126e-08,  9.27830115e-08, -7.68341124e-08,\n",
       "        -4.60750016e-09, -1.03318598e-09, -1.28056854e-09,\n",
       "         5.82076609e-11, -1.67638063e-08],\n",
       "       [ 6.05359674e-09, -2.09547579e-09,  7.56699592e-09,\n",
       "         2.04890966e-08, -9.37143341e-09,  6.41011866e-09,\n",
       "        -9.34232958e-09, -4.42378223e-09, -2.21189111e-08,\n",
       "         8.49831849e-09, -6.05359674e-09, -4.79631126e-08,\n",
       "         1.00000012e+00, -7.61356205e-08,  2.16532499e-08,\n",
       "         9.77888703e-09,  1.08266249e-08,  0.00000000e+00,\n",
       "        -8.38190317e-09, -2.73576006e-09],\n",
       "       [-2.08383426e-08, -6.28642738e-09,  1.18743628e-08,\n",
       "        -2.03726813e-09,  5.82076609e-09,  9.31322575e-10,\n",
       "         7.27595761e-09, -4.94765118e-10, -2.32830644e-10,\n",
       "         4.88944352e-09,  2.09547579e-09,  9.27830115e-08,\n",
       "        -7.61356205e-08,  9.99999642e-01, -1.88592821e-08,\n",
       "        -1.28056854e-09,  1.16415322e-10,  1.11176632e-08,\n",
       "         7.91624188e-09, -1.07102096e-08],\n",
       "       [-3.95812094e-08,  1.35041773e-08, -4.88944352e-09,\n",
       "        -4.65661287e-09,  3.14321369e-09, -6.17001206e-09,\n",
       "        -9.89530236e-09,  3.05590220e-09, -1.35041773e-08,\n",
       "        -2.57277861e-08, -1.65309757e-08, -7.68341124e-08,\n",
       "         2.16532499e-08, -1.88592821e-08,  9.99999762e-01,\n",
       "         5.47152013e-09,  5.52972779e-10, -4.48198989e-09,\n",
       "         2.42289389e-09,  2.32830644e-09],\n",
       "       [-1.69966370e-08, -2.79396772e-09,  1.16415322e-09,\n",
       "         7.55971996e-09, -3.31783667e-09,  1.97906047e-09,\n",
       "         2.56113708e-09, -5.23868948e-10,  6.05359674e-09,\n",
       "         1.16415322e-08, -2.07801349e-08, -4.60750016e-09,\n",
       "         9.77888703e-09, -1.28056854e-09,  5.47152013e-09,\n",
       "         9.99999940e-01,  8.31460056e-09,  7.10133463e-09,\n",
       "         2.61934474e-09, -1.85245881e-08],\n",
       "       [ 1.01281330e-08,  4.65661287e-10, -5.47152013e-09,\n",
       "        -7.21774995e-09, -3.49245965e-10,  3.84170562e-09,\n",
       "        -9.77888703e-09, -4.88944352e-09, -8.26548785e-09,\n",
       "        -8.14907253e-09, -1.76078174e-09, -1.03318598e-09,\n",
       "         1.08266249e-08,  1.16415322e-10,  5.52972779e-10,\n",
       "         8.31460056e-09,  1.00000012e+00,  1.22818165e-08,\n",
       "         3.37604433e-09,  2.15659384e-08],\n",
       "       [-1.22818165e-08, -9.08039510e-09,  7.10133463e-09,\n",
       "         5.00585884e-09, -1.16415322e-10,  4.19095159e-09,\n",
       "         4.65661287e-10,  6.40284270e-10,  5.82076609e-09,\n",
       "        -1.37879397e-09,  1.39698386e-09, -1.28056854e-09,\n",
       "         0.00000000e+00,  1.11176632e-08, -4.48198989e-09,\n",
       "         7.10133463e-09,  1.22818165e-08,  9.99999940e-01,\n",
       "         5.82076609e-09,  7.37964001e-09],\n",
       "       [-4.54019755e-09,  1.05064828e-08, -3.60887498e-09,\n",
       "        -8.61473382e-09,  5.93718141e-09,  2.09547579e-09,\n",
       "        -1.49011612e-08,  8.14907253e-09,  1.16415322e-10,\n",
       "         1.77533366e-08, -1.01281330e-08,  5.82076609e-11,\n",
       "        -8.38190317e-09,  7.91624188e-09,  2.42289389e-09,\n",
       "         2.61934474e-09,  3.37604433e-09,  5.82076609e-09,\n",
       "         9.99999225e-01, -3.14321369e-09],\n",
       "       [ 1.33877620e-08, -7.91624188e-09, -5.36965672e-09,\n",
       "         2.67755240e-09,  9.31322575e-09,  2.56113708e-09,\n",
       "        -2.66009010e-08,  5.52972779e-09,  1.11231202e-08,\n",
       "        -2.56113708e-09,  8.73114914e-09, -1.67638063e-08,\n",
       "        -2.73576006e-09, -1.07102096e-08,  2.32830644e-09,\n",
       "        -1.85245881e-08,  2.15659384e-08,  7.37964001e-09,\n",
       "        -3.14321369e-09,  9.99999821e-01]], dtype=float32)"
      ]
     },
     "execution_count": 17,
     "metadata": {},
     "output_type": "execute_result"
    }
   ],
   "source": [
    "plot_feature_cos_sim(feature_direction_disentangled)"
   ]
  },
  {
   "cell_type": "code",
   "execution_count": 18,
   "metadata": {},
   "outputs": [
    {
     "name": "stdout",
     "output_type": "stream",
     "text": [
      "(12288, 20)\n"
     ]
    }
   ],
   "source": [
    "print(feature_direction_disentangled.shape)"
   ]
  },
  {
   "cell_type": "code",
   "execution_count": 19,
   "metadata": {},
   "outputs": [],
   "source": [
    "# swap the axes\n",
    "feature_direction_disentangled = feature_direction_disentangled.T"
   ]
  },
  {
   "cell_type": "code",
   "execution_count": 20,
   "metadata": {},
   "outputs": [
    {
     "name": "stdout",
     "output_type": "stream",
     "text": [
      "(20, 12288)\n"
     ]
    }
   ],
   "source": [
    "print(feature_direction_disentangled.shape)"
   ]
  },
  {
   "cell_type": "code",
   "execution_count": 21,
   "metadata": {},
   "outputs": [
    {
     "data": {
      "text/plain": [
       "(20, torch.Size([3, 64, 64]))"
      ]
     },
     "execution_count": 21,
     "metadata": {},
     "output_type": "execute_result"
    }
   ],
   "source": [
    "(20, latents.shape[1:])"
   ]
  },
  {
   "cell_type": "code",
   "execution_count": 22,
   "metadata": {},
   "outputs": [],
   "source": [
    "# reshape the feature_direction_disentangled\n",
    "feature_direction_disentangled = reverse_flatten_latents(torch.tensor(feature_direction_disentangled).to(device), (20, 3, 64, 64))"
   ]
  },
  {
   "cell_type": "code",
   "execution_count": null,
   "metadata": {},
   "outputs": [],
   "source": []
  },
  {
   "cell_type": "code",
   "execution_count": 25,
   "metadata": {},
   "outputs": [
    {
     "name": "stderr",
     "output_type": "stream",
     "text": [
      "/tmp/ipykernel_612/3585322925.py:4: UserWarning: To copy construct from a tensor, it is recommended to use sourceTensor.clone().detach() or sourceTensor.clone().detach().requires_grad_(True), rather than torch.tensor(sourceTensor).\n",
      "  feature_direction_disentangled = torch.tensor(feature_direction_disentangled)[19]\n"
     ]
    },
    {
     "ename": "IndexError",
     "evalue": "index 19 is out of bounds for dimension 0 with size 3",
     "output_type": "error",
     "traceback": [
      "\u001b[0;31m---------------------------------------------------------------------------\u001b[0m",
      "\u001b[0;31mIndexError\u001b[0m                                Traceback (most recent call last)",
      "Cell \u001b[0;32mIn[25], line 4\u001b[0m\n\u001b[1;32m      1\u001b[0m \u001b[38;5;66;03m# plot the feature direction\u001b[39;00m\n\u001b[1;32m      2\u001b[0m \u001b[38;5;28;01mimport\u001b[39;00m \u001b[38;5;21;01mmatplotlib\u001b[39;00m\u001b[38;5;21;01m.\u001b[39;00m\u001b[38;5;21;01mpyplot\u001b[39;00m \u001b[38;5;28;01mas\u001b[39;00m \u001b[38;5;21;01mplt\u001b[39;00m\n\u001b[0;32m----> 4\u001b[0m feature_direction_disentangled \u001b[38;5;241m=\u001b[39m \u001b[43mtorch\u001b[49m\u001b[38;5;241;43m.\u001b[39;49m\u001b[43mtensor\u001b[49m\u001b[43m(\u001b[49m\u001b[43mfeature_direction_disentangled\u001b[49m\u001b[43m)\u001b[49m\u001b[43m[\u001b[49m\u001b[38;5;241;43m19\u001b[39;49m\u001b[43m]\u001b[49m\n\u001b[1;32m      6\u001b[0m plt\u001b[38;5;241m.\u001b[39mimshow(feature_direction_disentangled\u001b[38;5;241m.\u001b[39mpermute(\u001b[38;5;241m1\u001b[39m, \u001b[38;5;241m2\u001b[39m, \u001b[38;5;241m0\u001b[39m) \u001b[38;5;241m*\u001b[39m \u001b[38;5;241m1\u001b[39m)\n\u001b[1;32m      7\u001b[0m plt\u001b[38;5;241m.\u001b[39mshow()\n",
      "\u001b[0;31mIndexError\u001b[0m: index 19 is out of bounds for dimension 0 with size 3"
     ]
    }
   ],
   "source": [
    "# plot the feature direction\n",
    "import matplotlib.pyplot as plt\n",
    "\n",
    "feature_direction_disentangled = torch.tensor(feature_direction_disentangled)[19]\n",
    "\n"
   ]
  },
  {
   "cell_type": "code",
   "execution_count": 34,
   "metadata": {},
   "outputs": [
    {
     "name": "stdout",
     "output_type": "stream",
     "text": [
      "tensor(-0.0407) tensor(0.0386)\n"
     ]
    }
   ],
   "source": [
    "print(feature_direction_disentangled.min(), feature_direction_disentangled.max())"
   ]
  },
  {
   "cell_type": "code",
   "execution_count": 45,
   "metadata": {},
   "outputs": [
    {
     "name": "stdout",
     "output_type": "stream",
     "text": [
      "tensor(0.1296) tensor(1.)\n"
     ]
    }
   ],
   "source": [
    "tmp = feature_direction_disentangled.permute(1,2,0)\n",
    "\n",
    "# clip the values\n",
    "tmp = torch.clamp(tmp, 0.005, tmp.max())\n",
    "\n",
    "tmp = (tmp - 0) / (tmp.max() - 0)\n",
    "\n",
    "print(tmp.min(), tmp.max())\n"
   ]
  },
  {
   "cell_type": "code",
   "execution_count": 46,
   "metadata": {},
   "outputs": [
    {
     "data": {
      "image/png": "[encoded data removed]",
      "text/plain": [
       "<Figure size 640x480 with 1 Axes>"
      ]
     },
     "metadata": {},
     "output_type": "display_data"
    }
   ],
   "source": [
    "plt.imshow(tmp)\n",
    "plt.show()"
   ]
  },
  {
   "cell_type": "code",
   "execution_count": 50,
   "metadata": {},
   "outputs": [
    {
     "data": {
      "image/jpeg": "[encoded data removed]",
      "image/png": "[encoded data removed]",
      "text/plain": [
       "<PIL.Image.Image image mode=RGB size=64x64>"
      ]
     },
     "metadata": {},
     "output_type": "display_data"
    }
   ],
   "source": [
    "# show with pil\n",
    "img = torchvision.transforms.ToPILImage()(tmp.permute(2,0,1))\n",
    "img.show()"
   ]
  },
  {
   "cell_type": "code",
   "execution_count": 51,
   "metadata": {},
   "outputs": [
    {
     "data": {
      "image/jpeg": "[encoded data removed]",
      "image/png": "[encoded data removed]",
      "text/plain": [
       "<PIL.Image.Image image mode=RGB size=64x64>"
      ]
     },
     "metadata": {},
     "output_type": "display_data"
    }
   ],
   "source": [
    "tmp = feature_direction_disentangled.permute(1,2,0)\n",
    "\n",
    "tmp = (tmp - tmp.min()) / (tmp.max() - tmp.min())\n",
    "\n",
    "img = torchvision.transforms.ToPILImage()(tmp.permute(2,0,1))\n",
    "img.show()"
   ]
  },
  {
   "cell_type": "code",
   "execution_count": 27,
   "metadata": {},
   "outputs": [
    {
     "name": "stdout",
     "output_type": "stream",
     "text": [
      "tensor(-0.0407) tensor(0.0386)\n"
     ]
    }
   ],
   "source": [
    "print(min(feature_direction_disentangled.flatten()), max(feature_direction_disentangled.flatten()))"
   ]
  },
  {
   "cell_type": "code",
   "execution_count": 29,
   "metadata": {},
   "outputs": [],
   "source": [
    "im_size = dataset_config['im_size'] // 2 ** sum(autoencoder_model_config['down_sample'])\n",
    "\n",
    "torch.manual_seed(10)\n",
    "\n",
    "noise_input = torch.randn((train_config['num_samples'],\n",
    "                        autoencoder_model_config['z_channels'],\n",
    "                        im_size,\n",
    "                        im_size)).to(device)\n",
    "\n",
    "noise_input += feature_direction_disentangled.to(device) * 10"
   ]
  },
  {
   "cell_type": "code",
   "execution_count": 115,
   "metadata": {},
   "outputs": [
    {
     "name": "stderr",
     "output_type": "stream",
     "text": [
      "Clipping input data to the valid range for imshow with RGB data ([0..1] for floats or [0..255] for integers).\n"
     ]
    },
    {
     "name": "stdout",
     "output_type": "stream",
     "text": [
      "torch.Size([1, 3, 64, 64])\n"
     ]
    },
    {
     "data": {
      "image/png": "[encoded data removed]",
      "text/plain": [
       "<Figure size 640x480 with 1 Axes>"
      ]
     },
     "metadata": {},
     "output_type": "display_data"
    }
   ],
   "source": [
    "# load image x0_999.png\n",
    "image = torch.load('celebhq-1024-64-16k-komondor/cond_attr_samples/20241006-173428/20241006-173429/xt_900.pt')\n",
    "print(image.shape)\n",
    "\n",
    "\n",
    "\n",
    "# plot the image\n",
    "plt.imshow(image[0].permute(1, 2, 0).cpu().numpy())\n",
    "plt.show()\n"
   ]
  },
  {
   "cell_type": "code",
   "execution_count": 88,
   "metadata": {},
   "outputs": [
    {
     "name": "stdout",
     "output_type": "stream",
     "text": [
      "tensor(-3.6473, device='cuda:0') tensor(4.1163, device='cuda:0')\n"
     ]
    }
   ],
   "source": [
    "print(min(image.flatten()), max(image.flatten()))"
   ]
  },
  {
   "cell_type": "code",
   "execution_count": 116,
   "metadata": {},
   "outputs": [],
   "source": [
    "image_glasses = image + feature_direction_disentangled.to(device) * 10\n",
    "noise_input = image_glasses"
   ]
  },
  {
   "cell_type": "code",
   "execution_count": 90,
   "metadata": {},
   "outputs": [
    {
     "name": "stdout",
     "output_type": "stream",
     "text": [
      "tensor(-3.6452, device='cuda:0') tensor(4.0807, device='cuda:0')\n"
     ]
    }
   ],
   "source": [
    "print(min(image_glasses.flatten()), max(image_glasses.flatten()))"
   ]
  },
  {
   "cell_type": "code",
   "execution_count": 91,
   "metadata": {},
   "outputs": [
    {
     "name": "stderr",
     "output_type": "stream",
     "text": [
      "Clipping input data to the valid range for imshow with RGB data ([0..1] for floats or [0..255] for integers).\n"
     ]
    },
    {
     "data": {
      "image/png": "[encoded data removed]",
      "text/plain": [
       "<Figure size 640x480 with 1 Axes>"
      ]
     },
     "metadata": {},
     "output_type": "display_data"
    }
   ],
   "source": [
    "# plot the image\n",
    "plt.imshow(image_glasses[0].permute(1, 2, 0).cpu().numpy())\n",
    "plt.show()"
   ]
  },
  {
   "cell_type": "code",
   "execution_count": null,
   "metadata": {},
   "outputs": [],
   "source": []
  },
  {
   "cell_type": "code",
   "execution_count": null,
   "metadata": {},
   "outputs": [],
   "source": [
    "image_glasses"
   ]
  },
  {
   "cell_type": "code",
   "execution_count": 117,
   "metadata": {},
   "outputs": [],
   "source": []
  },
  {
   "cell_type": "code",
   "execution_count": 69,
   "metadata": {},
   "outputs": [
    {
     "name": "stdout",
     "output_type": "stream",
     "text": [
      "torch.Size([1, 3, 64, 64])\n"
     ]
    }
   ],
   "source": [
    "print(noise_input.shape)"
   ]
  },
  {
   "cell_type": "code",
   "execution_count": 30,
   "metadata": {},
   "outputs": [],
   "source": [
    "current_time = datetime.now().strftime(\"%Y%m%d-%H%M%S\")"
   ]
  },
  {
   "cell_type": "code",
   "execution_count": 31,
   "metadata": {},
   "outputs": [],
   "source": [
    "#  ['Male', 'Young', 'Bald', 'Bangs', 'Receding_Hairline', 'Black_Hair', 'Blond_Hair', 'Brown_Hair', 'Gray_Hair', 'Straight_Hair', 'Wavy_Hair', 'No_Beard', 'Goatee', 'Mustache', 'Sideburns', 'Narrow_Eyes', 'Oval_Face', 'Pale_Skin', 'Pointy_Nose']\n",
    "cond = torch.tensor([[1, # Male\n",
    "                      0, # Young\n",
    "                      0, # Bald\n",
    "                      1, # Bangs\n",
    "                      0, # Receding_Hairline\n",
    "                      0, # Black_Hair\n",
    "                      1, # Blond_Hair\n",
    "                      0, # Brown_Hair\n",
    "                      0, # Gray_Hair\n",
    "                      0, # Straight_Hair\n",
    "                      1, # Wavy_Hair\n",
    "                      1, # No_Beard\n",
    "                      0, # Goatee\n",
    "                      0, # Mustache\n",
    "                      0, # Sideburns\n",
    "                      0, # Narrow_Eyes\n",
    "                      0, # Oval_Face\n",
    "                      0, # Pale_Skin\n",
    "                      0  # Pointy_Nose\n",
    "                      ]]).to(device)"
   ]
  },
  {
   "cell_type": "code",
   "execution_count": null,
   "metadata": {},
   "outputs": [],
   "source": []
  },
  {
   "cell_type": "code",
   "execution_count": 32,
   "metadata": {},
   "outputs": [
    {
     "name": "stderr",
     "output_type": "stream",
     "text": [
      "100%|██████████| 1000/1000 [02:58<00:00,  5.60it/s]\n"
     ]
    }
   ],
   "source": [
    "with torch.no_grad():\n",
    "    for i in range(1):\n",
    "        ims, cond_trans = sample(model, cond, scheduler, train_config, diffusion_model_config,\n",
    "                    autoencoder_model_config, diffusion_config, dataset_config, vae, use_ddim=True, dir=current_time, noise_input=noise_input, num_steps=1000, start_step=0)\n",
    "\n",
    "    "
   ]
  },
  {
   "cell_type": "code",
   "execution_count": 128,
   "metadata": {},
   "outputs": [],
   "source": [
    "cond_trans = {}\n",
    "cond_trans['attribute']  = cond"
   ]
  },
  {
   "cell_type": "code",
   "execution_count": 149,
   "metadata": {},
   "outputs": [
    {
     "name": "stderr",
     "output_type": "stream",
     "text": [
      "  0%|          | 0/1000 [00:00<?, ?it/s]"
     ]
    },
    {
     "name": "stderr",
     "output_type": "stream",
     "text": [
      "100%|█████████▉| 999/1000 [02:05<00:00,  7.95it/s]\n"
     ]
    }
   ],
   "source": [
    "# ddim inversion\n",
    "with torch.no_grad():\n",
    "    intermediate_latents = ddim_inversion(scheduler, vae, ims, diffusion_config, cond_trans, model, train_config, 1000, dir=current_time)"
   ]
  },
  {
   "cell_type": "code",
   "execution_count": 181,
   "metadata": {},
   "outputs": [],
   "source": [
    "import copy\n",
    "# copy the intermediate latents\n",
    "intermediate_latents_copy = copy.deepcopy(intermediate_latents)"
   ]
  },
  {
   "cell_type": "code",
   "execution_count": 179,
   "metadata": {},
   "outputs": [],
   "source": [
    "start_latent = copy.deepcopy(intermediate_latents_copy[-1])\n",
    "start_latent += feature_direction_disentangled.to(device) * 10"
   ]
  },
  {
   "cell_type": "code",
   "execution_count": 167,
   "metadata": {},
   "outputs": [],
   "source": [
    "noise_input = noise_input + feature_direction_disentangled.to(device) * 20"
   ]
  },
  {
   "cell_type": "code",
   "execution_count": 168,
   "metadata": {},
   "outputs": [],
   "source": [
    "#  ['Male', 'Young', 'Bald', 'Bangs', 'Receding_Hairline', 'Black_Hair', 'Blond_Hair', 'Brown_Hair', 'Gray_Hair', 'Straight_Hair', 'Wavy_Hair', 'No_Beard', 'Goatee', 'Mustache', 'Sideburns', 'Narrow_Eyes', 'Oval_Face', 'Pale_Skin', 'Pointy_Nose']\n",
    "cond = torch.tensor([[0, # Male\n",
    "                      0, # Young\n",
    "                      0, # Bald\n",
    "                      1, # Bangs\n",
    "                      0, # Receding_Hairline\n",
    "                      0, # Black_Hair\n",
    "                      0, # Blond_Hair\n",
    "                      0, # Brown_Hair\n",
    "                      1, # Gray_Hair\n",
    "                      0, # Straight_Hair\n",
    "                      1, # Wavy_Hair\n",
    "                      1, # No_Beard\n",
    "                      0, # Goatee\n",
    "                      0, # Mustache\n",
    "                      0, # Sideburns\n",
    "                      0, # Narrow_Eyes\n",
    "                      0, # Oval_Face\n",
    "                      0, # Pale_Skin\n",
    "                      0  # Pointy_Nose\n",
    "                      ]]).to(device)"
   ]
  },
  {
   "cell_type": "code",
   "execution_count": 177,
   "metadata": {},
   "outputs": [
    {
     "name": "stderr",
     "output_type": "stream",
     "text": [
      "100%|██████████| 1000/1000 [02:14<00:00,  7.41it/s]\n"
     ]
    }
   ],
   "source": [
    "with torch.no_grad():\n",
    "    for i in range(1):\n",
    "        ims, _ = sample(model, cond, scheduler, train_config, diffusion_model_config,\n",
    "                    autoencoder_model_config, diffusion_config, dataset_config, vae, use_ddim=True, dir=current_time, noise_input=start_latent, num_steps=1000, start_step=0)"
   ]
  },
  {
   "cell_type": "code",
   "execution_count": null,
   "metadata": {},
   "outputs": [],
   "source": []
  },
  {
   "cell_type": "code",
   "execution_count": null,
   "metadata": {},
   "outputs": [],
   "source": []
  },
  {
   "cell_type": "code",
   "execution_count": 194,
   "metadata": {},
   "outputs": [
    {
     "name": "stdout",
     "output_type": "stream",
     "text": [
      "{'down_channels': [256, 384, 512, 768], 'mid_channels': [768, 512], 'down_sample': [True, True, True], 'attn_down': [True, True, True], 'time_emb_dim': 512, 'norm_channels': 32, 'num_heads': 16, 'conv_out_channels': 128, 'num_down_layers': 2, 'num_mid_layers': 2, 'num_up_layers': 2, 'condition_config': {'condition_types': ['attribute'], 'attribute_condition_config': {'attribute_condition_num': 19, 'attribute_condition_selected_attrs': ['Male', 'Young', 'Bald', 'Bangs', 'Receding_Hairline', 'Black_Hair', 'Blond_Hair', 'Brown_Hair', 'Gray_Hair', 'Straight_Hair', 'Wavy_Hair', 'No_Beard', 'Goatee', 'Mustache', 'Sideburns', 'Narrow_Eyes', 'Oval_Face', 'Pale_Skin', 'Pointy_Nose']}}}\n"
     ]
    }
   ],
   "source": [
    "from dataset.celeb_dataset import CelebDataset\n",
    "\n",
    "diffusion_model_config = config['ldm_params']\n",
    "print(diffusion_model_config)\n",
    "\n",
    "temp_conf = diffusion_model_config.copy()\n",
    "\n",
    "# add Eyeglasses to the condition\n",
    "temp_conf['condition_config']['attribute_condition_config']['attribute_condition_selected_attrs'].append('Eyeglasses')\n",
    "temp_conf['condition_config']['attribute_condition_config']['attribute_condition_num'] = len(temp_conf['condition_config']['attribute_condition_config']['attribute_condition_selected_attrs'])"
   ]
  },
  {
   "cell_type": "code",
   "execution_count": 197,
   "metadata": {},
   "outputs": [
    {
     "name": "stderr",
     "output_type": "stream",
     "text": [
      "100%|██████████| 30000/30000 [00:00<00:00, 39968.48it/s]"
     ]
    },
    {
     "name": "stdout",
     "output_type": "stream",
     "text": [
      "Found 30000 images\n",
      "Found 0 masks\n",
      "Found 0 captions\n",
      "Found 30000 attributes\n"
     ]
    },
    {
     "name": "stderr",
     "output_type": "stream",
     "text": [
      "\n"
     ]
    }
   ],
   "source": [
    "im_dataset_train = CelebDataset(split='train',\n",
    "                                im_path=dataset_config['im_path'],\n",
    "                                im_size=dataset_config['im_size'],\n",
    "                                im_channels=dataset_config['im_channels'],\n",
    "                                use_latents=False,\n",
    "                                latent_path=os.path.join(train_config['task_name'],\n",
    "                                                         train_config['vqvae_latent_dir_name']),\n",
    "                                condition_config=temp_conf['condition_config'],\n",
    "                                )"
   ]
  },
  {
   "cell_type": "code",
   "execution_count": 198,
   "metadata": {},
   "outputs": [
    {
     "name": "stderr",
     "output_type": "stream",
     "text": [
      "100%|██████████| 27000/27000 [07:20<00:00, 61.29it/s]"
     ]
    },
    {
     "name": "stdout",
     "output_type": "stream",
     "text": [
      "1369\n"
     ]
    },
    {
     "name": "stderr",
     "output_type": "stream",
     "text": [
      "\n"
     ]
    }
   ],
   "source": [
    "# go through the dataset find all image with 1 at position 19 in the condition\n",
    "indexes_with_eyeglasses = []\n",
    "indexes_without_eyeglasses = []\n",
    "for i in tqdm(range(len(im_dataset_train))):\n",
    "    _, cond = im_dataset_train[i]\n",
    "    if cond['attribute'][19] == 1:\n",
    "        indexes_with_eyeglasses.append(i)\n",
    "    else:\n",
    "        indexes_without_eyeglasses.append(i)\n",
    "\n",
    "\n",
    "print(len(indexes_with_eyeglasses))"
   ]
  },
  {
   "cell_type": "code",
   "execution_count": 199,
   "metadata": {},
   "outputs": [],
   "source": [
    "# save the indexes\n",
    "import pickle\n",
    "\n",
    "with open('indexes_with_eyeglasses_all_train.pkl', 'wb') as f:\n",
    "    pickle.dump(indexes_with_eyeglasses, f)\n",
    "\n",
    "with open('indexes_without_eyeglasses_all_train.pkl', 'wb') as f:\n",
    "    pickle.dump(indexes_without_eyeglasses, f)"
   ]
  },
  {
   "cell_type": "code",
   "execution_count": 201,
   "metadata": {},
   "outputs": [
    {
     "name": "stderr",
     "output_type": "stream",
     "text": [
      "100%|██████████| 30000/30000 [00:00<00:00, 78741.97it/s]"
     ]
    },
    {
     "name": "stdout",
     "output_type": "stream",
     "text": [
      "Found 30000 images\n",
      "Found 0 masks\n",
      "Found 0 captions\n",
      "Found 30000 attributes\n"
     ]
    },
    {
     "name": "stderr",
     "output_type": "stream",
     "text": [
      "\n"
     ]
    }
   ],
   "source": [
    "im_dataset_val = CelebDataset(split='val',\n",
    "                                im_path=dataset_config['im_path'],\n",
    "                                im_size=dataset_config['im_size'],\n",
    "                                im_channels=dataset_config['im_channels'],\n",
    "                                use_latents=False,\n",
    "                                latent_path=os.path.join(train_config['task_name'],\n",
    "                                                         train_config['vqvae_latent_dir_name']),\n",
    "                                condition_config=temp_conf['condition_config'],\n",
    "                                )"
   ]
  },
  {
   "cell_type": "code",
   "execution_count": 202,
   "metadata": {},
   "outputs": [
    {
     "name": "stderr",
     "output_type": "stream",
     "text": [
      "100%|██████████| 600/600 [00:09<00:00, 62.12it/s]"
     ]
    },
    {
     "name": "stdout",
     "output_type": "stream",
     "text": [
      "18\n"
     ]
    },
    {
     "name": "stderr",
     "output_type": "stream",
     "text": [
      "\n"
     ]
    }
   ],
   "source": [
    "# go through the dataset find all image with 1 at position 19 in the condition\n",
    "indexes_with_eyeglasses = []\n",
    "indexes_without_eyeglasses = []\n",
    "for i in tqdm(range(len(im_dataset_val))):\n",
    "    _, cond = im_dataset_val[i]\n",
    "    if cond['attribute'][19] == 1:\n",
    "        indexes_with_eyeglasses.append(i)\n",
    "    else:\n",
    "        indexes_without_eyeglasses.append(i)\n",
    "\n",
    "\n",
    "print(len(indexes_with_eyeglasses))"
   ]
  },
  {
   "cell_type": "code",
   "execution_count": 203,
   "metadata": {},
   "outputs": [],
   "source": [
    "# save the indexes\n",
    "import pickle\n",
    "\n",
    "with open('indexes_with_eyeglasses_all_val.pkl', 'wb') as f:\n",
    "    pickle.dump(indexes_with_eyeglasses, f)\n",
    "\n",
    "with open('indexes_without_eyeglasses_all_val.pkl', 'wb') as f:\n",
    "    pickle.dump(indexes_without_eyeglasses, f)"
   ]
  },
  {
   "cell_type": "code",
   "execution_count": null,
   "metadata": {},
   "outputs": [],
   "source": []
  }
 ],
 "metadata": {
  "kernelspec": {
   "display_name": "stable_diffusion",
   "language": "python",
   "name": "python3"
  },
  "language_info": {
   "codemirror_mode": {
    "name": "ipython",
    "version": 3
   },
   "file_extension": ".py",
   "mimetype": "text/x-python",
   "name": "python",
   "nbconvert_exporter": "python",
   "pygments_lexer": "ipython3",
   "version": "3.8.19"
  }
 },
 "nbformat": 4,
 "nbformat_minor": 2
}
