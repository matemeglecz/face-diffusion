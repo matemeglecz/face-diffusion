{
 "cells": [
  {
   "cell_type": "code",
   "execution_count": 6,
   "metadata": {},
   "outputs": [],
   "source": [
    "# wilcoxon signed rank test\n",
    "from numpy.random import seed\n",
    "from numpy.random import randn\n",
    "from scipy.stats import wilcoxon\n",
    "# seed the random number generator\n",
    "seed(1)\n"
   ]
  },
  {
   "cell_type": "code",
   "execution_count": 7,
   "metadata": {},
   "outputs": [],
   "source": [
    "real_accuracies = [\n",
    "    0.9862, 0.9096, 0.9942, 0.9517, 0.9387, 0.9233, 0.9442, \n",
    "    0.8812, 0.9908, 0.8588, 0.8512, 0.9750, 0.9733, 0.9704, 0.9792, \n",
    "    0.8938, 0.8671, 0.9675, 0.6950\n",
    "]\n",
    "\n",
    "real_precisions = [\n",
    "    0.9803, 0.9128, 0.8750, 0.8870, 0.6420, 0.7914, 0.8675, \n",
    "    0.8252, 0.8718, 0.7000, 0.8119, 0.9813, 0.7778, 0.8519, 0.8811, \n",
    "    0.5679, 0.8072, 0.8519, 0.5712\n",
    "]\n",
    "\n",
    "real_recalls = [\n",
    "    0.9764, 0.9795, 0.8400, 0.8425, 0.5389, 0.8661, 0.8200, \n",
    "    0.6277, 0.8500, 0.5706, 0.7914, 0.9891, 0.7778, 0.5391, 0.8534, \n",
    "    0.4792, 0.1811, 0.5111, 0.4348\n",
    "]\n"
   ]
  },
  {
   "cell_type": "code",
   "execution_count": 8,
   "metadata": {},
   "outputs": [],
   "source": [
    "syn_accuracies = [\n",
    "    0.9962, 0.9025, 0.9938, 0.9779, 0.9413, 0.9196, 0.9542, \n",
    "    0.8217, 0.9912, 0.8571, 0.8492, 0.9771, 0.9733, 0.9617, 0.9833, \n",
    "    0.9179, 0.8546, 0.9542, 0.7408\n",
    "]\n",
    "\n",
    "syn_precisions = [\n",
    "    0.9922, 0.8972, 0.8302, 0.9466, 0.6646, 0.8539, 0.8600, \n",
    "    0.5932, 0.9041, 0.6923, 0.7704, 0.9748, 0.8704, 0.9737, 0.9037, \n",
    "    0.8054, 0.5248, 0.5862, 0.6200\n",
    "]\n",
    "\n",
    "syn_recalls = [\n",
    "    0.9961, 0.9905, 0.8800, 0.9315, 0.5440, 0.7480, 0.8952, \n",
    "    0.7677, 0.8250, 0.5726, 0.8584, 0.9985, 0.6528, 0.2891, 0.8848, \n",
    "    0.4167, 0.6000, 0.6296, 0.6261\n",
    "]\n"
   ]
  },
  {
   "cell_type": "code",
   "execution_count": 9,
   "metadata": {},
   "outputs": [
    {
     "name": "stdout",
     "output_type": "stream",
     "text": [
      "Accuracy Statistics=79.500, p=0.794\n",
      "Same distribution (fail to reject H0)\n"
     ]
    },
    {
     "name": "stderr",
     "output_type": "stream",
     "text": [
      "/home/mate/miniconda3/envs/data_mining/lib/python3.11/site-packages/scipy/stats/_morestats.py:4088: UserWarning: Exact p-value calculation does not work if there are zeros. Switching to normal approximation.\n",
      "  warnings.warn(\"Exact p-value calculation does not work if there are \"\n"
     ]
    }
   ],
   "source": [
    "# do the wilcoxon signed rank test\n",
    "stat, p = wilcoxon(real_accuracies, syn_accuracies)\n",
    "print('Accuracy Statistics=%.3f, p=%.3f' % (stat, p))\n",
    "# interpret\n",
    "alpha = 0.05\n",
    "if p > alpha:\n",
    "    print('Same distribution (fail to reject H0)')\n",
    "else:   \n",
    "    print('Different distribution (reject H0)')"
   ]
  },
  {
   "cell_type": "code",
   "execution_count": 10,
   "metadata": {},
   "outputs": [
    {
     "name": "stdout",
     "output_type": "stream",
     "text": [
      "Precision Statistics=83.000, p=0.651\n",
      "Same distribution (fail to reject H0)\n"
     ]
    }
   ],
   "source": [
    "stat, p = wilcoxon(real_precisions, syn_precisions)\n",
    "print('Precision Statistics=%.3f, p=%.3f' % (stat, p))\n",
    "# interpret\n",
    "alpha = 0.05\n",
    "if p > alpha:\n",
    "    print('Same distribution (fail to reject H0)')\n",
    "else:\n",
    "    print('Different distribution (reject H0)')"
   ]
  },
  {
   "cell_type": "code",
   "execution_count": 11,
   "metadata": {},
   "outputs": [
    {
     "name": "stdout",
     "output_type": "stream",
     "text": [
      "Recall Statistics=61.000, p=0.182\n",
      "Same distribution (fail to reject H0)\n"
     ]
    }
   ],
   "source": [
    "stat, p = wilcoxon(real_recalls, syn_recalls)\n",
    "print('Recall Statistics=%.3f, p=%.3f' % (stat, p))\n",
    "# interpret\n",
    "alpha = 0.05\n",
    "if p > alpha:\n",
    "    print('Same distribution (fail to reject H0)')\n",
    "else:\n",
    "    print('Different distribution (reject H0)')"
   ]
  }
 ],
 "metadata": {
  "kernelspec": {
   "display_name": "data_mining",
   "language": "python",
   "name": "python3"
  },
  "language_info": {
   "codemirror_mode": {
    "name": "ipython",
    "version": 3
   },
   "file_extension": ".py",
   "mimetype": "text/x-python",
   "name": "python",
   "nbconvert_exporter": "python",
   "pygments_lexer": "ipython3",
   "version": "3.11.5"
  }
 },
 "nbformat": 4,
 "nbformat_minor": 2
}
