{
 "cells": [
  {
   "cell_type": "code",
   "execution_count": 1,
   "metadata": {},
   "outputs": [],
   "source": [
    "from dataset.latent_dataset import LatentDataset"
   ]
  },
  {
   "cell_type": "code",
   "execution_count": 2,
   "metadata": {},
   "outputs": [
    {
     "name": "stdout",
     "output_type": "stream",
     "text": [
      "Loading latent from ddim_inter_latents/ddim_250/latents_glasses_intermediates_1019.pt\n",
      "Loading latent from ddim_inter_latents/ddim_250/latents_glasses_intermediates_1039.pt\n",
      "Loading latent from ddim_inter_latents/ddim_250/latents_glasses_intermediates_1059.pt\n",
      "Loading latent from ddim_inter_latents/ddim_250/latents_glasses_intermediates_1079.pt\n",
      "Loading latent from ddim_inter_latents/ddim_250/latents_glasses_intermediates_1099.pt\n",
      "Loading latent from ddim_inter_latents/ddim_250/latents_glasses_intermediates_1119.pt\n",
      "Loading latent from ddim_inter_latents/ddim_250/latents_glasses_intermediates_1139.pt\n"
     ]
    },
    {
     "ename": "KeyboardInterrupt",
     "evalue": "",
     "output_type": "error",
     "traceback": [
      "\u001b[0;31m---------------------------------------------------------------------------\u001b[0m",
      "\u001b[0;31mKeyboardInterrupt\u001b[0m                         Traceback (most recent call last)",
      "Cell \u001b[0;32mIn[2], line 1\u001b[0m\n\u001b[0;32m----> 1\u001b[0m dataset \u001b[38;5;241m=\u001b[39m \u001b[43mLatentDataset\u001b[49m\u001b[43m(\u001b[49m\u001b[38;5;124;43m'\u001b[39;49m\u001b[38;5;124;43mddim_inter_latents/ddim_250\u001b[39;49m\u001b[38;5;124;43m'\u001b[39;49m\u001b[43m)\u001b[49m\n",
      "File \u001b[0;32m/mnt/d/projects/conditional_stable_diffusion/face-diffusion/dataset/latent_dataset.py:14\u001b[0m, in \u001b[0;36mLatentDataset.__init__\u001b[0;34m(self, latent_path, split, target_attribute_idx)\u001b[0m\n\u001b[1;32m     12\u001b[0m \u001b[38;5;28;01mdef\u001b[39;00m \u001b[38;5;21m__init__\u001b[39m(\u001b[38;5;28mself\u001b[39m, latent_path, split\u001b[38;5;241m=\u001b[39m\u001b[38;5;124m'\u001b[39m\u001b[38;5;124mall\u001b[39m\u001b[38;5;124m'\u001b[39m, target_attribute_idx\u001b[38;5;241m=\u001b[39m\u001b[38;5;28;01mNone\u001b[39;00m):\n\u001b[1;32m     13\u001b[0m     \u001b[38;5;28mself\u001b[39m\u001b[38;5;241m.\u001b[39mlatent_path \u001b[38;5;241m=\u001b[39m latent_path\n\u001b[0;32m---> 14\u001b[0m     \u001b[38;5;28mself\u001b[39m\u001b[38;5;241m.\u001b[39mlatents, \u001b[38;5;28mself\u001b[39m\u001b[38;5;241m.\u001b[39mattributes \u001b[38;5;241m=\u001b[39m \u001b[38;5;28;43mself\u001b[39;49m\u001b[38;5;241;43m.\u001b[39;49m\u001b[43mload_latents\u001b[49m\u001b[43m(\u001b[49m\u001b[43m)\u001b[49m\n\u001b[1;32m     16\u001b[0m     \u001b[38;5;66;03m# seed random\u001b[39;00m\n\u001b[1;32m     17\u001b[0m     torch\u001b[38;5;241m.\u001b[39mmanual_seed(\u001b[38;5;241m9\u001b[39m)\n",
      "File \u001b[0;32m/mnt/d/projects/conditional_stable_diffusion/face-diffusion/dataset/latent_dataset.py:54\u001b[0m, in \u001b[0;36mLatentDataset.load_latents\u001b[0;34m(self)\u001b[0m\n\u001b[1;32m     52\u001b[0m \u001b[38;5;28;01mfor\u001b[39;00m fname \u001b[38;5;129;01min\u001b[39;00m glob\u001b[38;5;241m.\u001b[39mglob(os\u001b[38;5;241m.\u001b[39mpath\u001b[38;5;241m.\u001b[39mjoin(\u001b[38;5;28mself\u001b[39m\u001b[38;5;241m.\u001b[39mlatent_path, \u001b[38;5;124m'\u001b[39m\u001b[38;5;124m*.pt\u001b[39m\u001b[38;5;124m'\u001b[39m)):\n\u001b[1;32m     53\u001b[0m     \u001b[38;5;28mprint\u001b[39m(\u001b[38;5;124m'\u001b[39m\u001b[38;5;124mLoading latent from \u001b[39m\u001b[38;5;132;01m{}\u001b[39;00m\u001b[38;5;124m'\u001b[39m\u001b[38;5;241m.\u001b[39mformat(fname))\n\u001b[0;32m---> 54\u001b[0m     s \u001b[38;5;241m=\u001b[39m \u001b[43mtorch\u001b[49m\u001b[38;5;241;43m.\u001b[39;49m\u001b[43mload\u001b[49m\u001b[43m(\u001b[49m\u001b[38;5;28;43mopen\u001b[39;49m\u001b[43m(\u001b[49m\u001b[43mfname\u001b[49m\u001b[43m,\u001b[49m\u001b[43m \u001b[49m\u001b[38;5;124;43m'\u001b[39;49m\u001b[38;5;124;43mrb\u001b[39;49m\u001b[38;5;124;43m'\u001b[39;49m\u001b[43m)\u001b[49m\u001b[43m)\u001b[49m\n\u001b[1;32m     55\u001b[0m     \u001b[38;5;28;01mfor\u001b[39;00m k, v \u001b[38;5;129;01min\u001b[39;00m s\u001b[38;5;241m.\u001b[39mitems():\n\u001b[1;32m     56\u001b[0m         \u001b[38;5;28;01mif\u001b[39;00m k \u001b[38;5;241m==\u001b[39m \u001b[38;5;124m'\u001b[39m\u001b[38;5;124mlatents\u001b[39m\u001b[38;5;124m'\u001b[39m:\n",
      "File \u001b[0;32m~/miniconda3/envs/stable_diffusion/lib/python3.8/site-packages/torch/serialization.py:712\u001b[0m, in \u001b[0;36mload\u001b[0;34m(f, map_location, pickle_module, **pickle_load_args)\u001b[0m\n\u001b[1;32m    710\u001b[0m             opened_file\u001b[38;5;241m.\u001b[39mseek(orig_position)\n\u001b[1;32m    711\u001b[0m             \u001b[38;5;28;01mreturn\u001b[39;00m torch\u001b[38;5;241m.\u001b[39mjit\u001b[38;5;241m.\u001b[39mload(opened_file)\n\u001b[0;32m--> 712\u001b[0m         \u001b[38;5;28;01mreturn\u001b[39;00m \u001b[43m_load\u001b[49m\u001b[43m(\u001b[49m\u001b[43mopened_zipfile\u001b[49m\u001b[43m,\u001b[49m\u001b[43m \u001b[49m\u001b[43mmap_location\u001b[49m\u001b[43m,\u001b[49m\u001b[43m \u001b[49m\u001b[43mpickle_module\u001b[49m\u001b[43m,\u001b[49m\u001b[43m \u001b[49m\u001b[38;5;241;43m*\u001b[39;49m\u001b[38;5;241;43m*\u001b[39;49m\u001b[43mpickle_load_args\u001b[49m\u001b[43m)\u001b[49m\n\u001b[1;32m    713\u001b[0m \u001b[38;5;28;01mreturn\u001b[39;00m _legacy_load(opened_file, map_location, pickle_module, \u001b[38;5;241m*\u001b[39m\u001b[38;5;241m*\u001b[39mpickle_load_args)\n",
      "File \u001b[0;32m~/miniconda3/envs/stable_diffusion/lib/python3.8/site-packages/torch/serialization.py:1049\u001b[0m, in \u001b[0;36m_load\u001b[0;34m(zip_file, map_location, pickle_module, pickle_file, **pickle_load_args)\u001b[0m\n\u001b[1;32m   1047\u001b[0m unpickler \u001b[38;5;241m=\u001b[39m UnpicklerWrapper(data_file, \u001b[38;5;241m*\u001b[39m\u001b[38;5;241m*\u001b[39mpickle_load_args)\n\u001b[1;32m   1048\u001b[0m unpickler\u001b[38;5;241m.\u001b[39mpersistent_load \u001b[38;5;241m=\u001b[39m persistent_load\n\u001b[0;32m-> 1049\u001b[0m result \u001b[38;5;241m=\u001b[39m \u001b[43munpickler\u001b[49m\u001b[38;5;241;43m.\u001b[39;49m\u001b[43mload\u001b[49m\u001b[43m(\u001b[49m\u001b[43m)\u001b[49m\n\u001b[1;32m   1051\u001b[0m torch\u001b[38;5;241m.\u001b[39m_utils\u001b[38;5;241m.\u001b[39m_validate_loaded_sparse_tensors()\n\u001b[1;32m   1053\u001b[0m \u001b[38;5;28;01mreturn\u001b[39;00m result\n",
      "File \u001b[0;32m~/miniconda3/envs/stable_diffusion/lib/python3.8/site-packages/torch/serialization.py:1019\u001b[0m, in \u001b[0;36m_load.<locals>.persistent_load\u001b[0;34m(saved_id)\u001b[0m\n\u001b[1;32m   1017\u001b[0m \u001b[38;5;28;01mif\u001b[39;00m key \u001b[38;5;129;01mnot\u001b[39;00m \u001b[38;5;129;01min\u001b[39;00m loaded_storages:\n\u001b[1;32m   1018\u001b[0m     nbytes \u001b[38;5;241m=\u001b[39m numel \u001b[38;5;241m*\u001b[39m torch\u001b[38;5;241m.\u001b[39m_utils\u001b[38;5;241m.\u001b[39m_element_size(dtype)\n\u001b[0;32m-> 1019\u001b[0m     \u001b[43mload_tensor\u001b[49m\u001b[43m(\u001b[49m\u001b[43mdtype\u001b[49m\u001b[43m,\u001b[49m\u001b[43m \u001b[49m\u001b[43mnbytes\u001b[49m\u001b[43m,\u001b[49m\u001b[43m \u001b[49m\u001b[43mkey\u001b[49m\u001b[43m,\u001b[49m\u001b[43m \u001b[49m\u001b[43m_maybe_decode_ascii\u001b[49m\u001b[43m(\u001b[49m\u001b[43mlocation\u001b[49m\u001b[43m)\u001b[49m\u001b[43m)\u001b[49m\n\u001b[1;32m   1021\u001b[0m \u001b[38;5;28;01mreturn\u001b[39;00m loaded_storages[key]\n",
      "File \u001b[0;32m~/miniconda3/envs/stable_diffusion/lib/python3.8/site-packages/torch/serialization.py:997\u001b[0m, in \u001b[0;36m_load.<locals>.load_tensor\u001b[0;34m(dtype, numel, key, location)\u001b[0m\n\u001b[1;32m    994\u001b[0m \u001b[38;5;28;01mdef\u001b[39;00m \u001b[38;5;21mload_tensor\u001b[39m(dtype, numel, key, location):\n\u001b[1;32m    995\u001b[0m     name \u001b[38;5;241m=\u001b[39m \u001b[38;5;124mf\u001b[39m\u001b[38;5;124m'\u001b[39m\u001b[38;5;124mdata/\u001b[39m\u001b[38;5;132;01m{\u001b[39;00mkey\u001b[38;5;132;01m}\u001b[39;00m\u001b[38;5;124m'\u001b[39m\n\u001b[0;32m--> 997\u001b[0m     storage \u001b[38;5;241m=\u001b[39m \u001b[43mzip_file\u001b[49m\u001b[38;5;241;43m.\u001b[39;49m\u001b[43mget_storage_from_record\u001b[49m\u001b[43m(\u001b[49m\u001b[43mname\u001b[49m\u001b[43m,\u001b[49m\u001b[43m \u001b[49m\u001b[43mnumel\u001b[49m\u001b[43m,\u001b[49m\u001b[43m \u001b[49m\u001b[43mtorch\u001b[49m\u001b[38;5;241;43m.\u001b[39;49m\u001b[43m_UntypedStorage\u001b[49m\u001b[43m)\u001b[49m\u001b[38;5;241m.\u001b[39mstorage()\u001b[38;5;241m.\u001b[39m_untyped()\n\u001b[1;32m    998\u001b[0m     \u001b[38;5;66;03m# TODO: Once we decide to break serialization FC, we can\u001b[39;00m\n\u001b[1;32m    999\u001b[0m     \u001b[38;5;66;03m# stop wrapping with _TypedStorage\u001b[39;00m\n\u001b[1;32m   1000\u001b[0m     loaded_storages[key] \u001b[38;5;241m=\u001b[39m torch\u001b[38;5;241m.\u001b[39mstorage\u001b[38;5;241m.\u001b[39m_TypedStorage(\n\u001b[1;32m   1001\u001b[0m         wrap_storage\u001b[38;5;241m=\u001b[39mrestore_location(storage, location),\n\u001b[1;32m   1002\u001b[0m         dtype\u001b[38;5;241m=\u001b[39mdtype)\n",
      "\u001b[0;31mKeyboardInterrupt\u001b[0m: "
     ]
    }
   ],
   "source": [
    "dataset = LatentDataset('ddim_inter_latents/all')"
   ]
  },
  {
   "cell_type": "code",
   "execution_count": 3,
   "metadata": {},
   "outputs": [
    {
     "name": "stdout",
     "output_type": "stream",
     "text": [
      "torch.Size([3, 64, 64])\n",
      "torch.Size([1, 22])\n"
     ]
    }
   ],
   "source": [
    "l, a = dataset[5000]\n",
    "print(l.shape)\n",
    "print(a.shape)"
   ]
  },
  {
   "cell_type": "code",
   "execution_count": 4,
   "metadata": {},
   "outputs": [
    {
     "name": "stdout",
     "output_type": "stream",
     "text": [
      "tensor(-3.2192) tensor(2.9032)\n"
     ]
    },
    {
     "data": {
      "image/png": "[encoded data removed]",
      "text/plain": [
       "<Figure size 640x480 with 1 Axes>"
      ]
     },
     "metadata": {},
     "output_type": "display_data"
    }
   ],
   "source": [
    "# print min and max values\n",
    "print(l.min(), l.max())\n",
    "\n",
    "# dist of l values\n",
    "import matplotlib.pyplot as plt\n",
    "plt.hist(l.flatten(), bins=100)\n",
    "plt.show()"
   ]
  },
  {
   "cell_type": "code",
   "execution_count": 5,
   "metadata": {},
   "outputs": [
    {
     "name": "stdout",
     "output_type": "stream",
     "text": [
      "tensor([[[-0.2721,  0.6548,  0.1649,  ...,  0.0665,  0.1616, -0.2910],\n",
      "         [-1.4060, -0.6354, -0.7909,  ..., -0.6529, -1.3082, -0.0237],\n",
      "         [-0.7392, -0.1941, -0.4653,  ..., -0.3069, -0.7867, -0.0861],\n",
      "         ...,\n",
      "         [-0.9678, -0.0982, -0.6707,  ..., -0.3066, -0.6456, -0.1812],\n",
      "         [-0.8957,  0.1639, -0.4613,  ..., -0.4162, -0.5799,  0.2901],\n",
      "         [-0.7288, -0.8623, -1.0188,  ..., -0.8638, -1.1204, -0.6591]],\n",
      "\n",
      "        [[ 0.2311, -0.1922, -0.1938,  ..., -0.1190, -0.3229, -0.5167],\n",
      "         [-0.2565, -0.3806, -0.3646,  ..., -0.0941, -0.3438, -0.2811],\n",
      "         [-0.0156, -0.2531, -0.2753,  ..., -0.1009, -0.1509, -0.0733],\n",
      "         ...,\n",
      "         [-0.0280, -0.3955, -0.5715,  ..., -0.1958, -0.2658, -0.3234],\n",
      "         [-0.2063, -0.5990, -0.7346,  ..., -0.1907, -0.4955, -0.5651],\n",
      "         [-0.3294, -0.0502,  0.0123,  ..., -0.0037, -0.1572, -0.0720]],\n",
      "\n",
      "        [[-0.1294,  0.3453,  0.2116,  ...,  0.1320,  0.2472,  0.3498],\n",
      "         [-0.1840,  0.0435,  0.0652,  ...,  0.0382,  0.0542,  0.1022],\n",
      "         [-0.1188,  0.2533,  0.1142,  ...,  0.2282,  0.0811,  0.1250],\n",
      "         ...,\n",
      "         [-0.1906,  0.2318,  0.2485,  ...,  0.1838,  0.1781,  0.1982],\n",
      "         [ 0.0869,  0.2215,  0.2609,  ...,  0.1094,  0.3252,  0.4041],\n",
      "         [ 0.0533,  0.0151, -0.0544,  ..., -0.0376, -0.0591, -0.0685]]])\n",
      "tensor([[[0.7251, 0.8927, 0.8048,  ..., 0.8032, 0.8119, 0.6409],\n",
      "         [1.5147, 1.1090, 1.0831,  ..., 1.0004, 1.8113, 0.9940],\n",
      "         [1.1512, 1.1023, 1.0213,  ..., 1.0674, 1.5314, 0.8707],\n",
      "         ...,\n",
      "         [1.2090, 1.0045, 1.1690,  ..., 1.0361, 1.2045, 0.8839],\n",
      "         [1.1237, 1.2719, 1.1432,  ..., 1.1819, 1.3346, 1.0269],\n",
      "         [1.0574, 1.0464, 1.1257,  ..., 1.0760, 1.1274, 0.8774]],\n",
      "\n",
      "        [[0.8588, 0.8987, 0.7482,  ..., 0.7772, 0.9022, 0.7569],\n",
      "         [0.6796, 0.9704, 0.9772,  ..., 0.8514, 0.8989, 0.7625],\n",
      "         [0.6810, 0.8275, 0.9599,  ..., 0.7980, 1.0140, 0.7209],\n",
      "         ...,\n",
      "         [0.7019, 0.9500, 1.0211,  ..., 0.9084, 1.0690, 0.7944],\n",
      "         [0.9458, 1.0201, 1.1096,  ..., 0.9283, 1.2491, 0.8497],\n",
      "         [0.6716, 0.8872, 0.7748,  ..., 0.7842, 0.7405, 0.9788]],\n",
      "\n",
      "        [[0.4795, 0.5931, 0.4354,  ..., 0.4741, 0.5717, 0.6024],\n",
      "         [0.4429, 0.6135, 0.7155,  ..., 0.7646, 0.8466, 0.4616],\n",
      "         [0.6073, 0.7568, 0.5970,  ..., 0.9572, 0.7727, 0.6185],\n",
      "         ...,\n",
      "         [0.4975, 0.5775, 0.6602,  ..., 0.7641, 0.7902, 0.5961],\n",
      "         [0.7794, 0.5919, 0.5976,  ..., 0.7004, 0.8133, 0.6950],\n",
      "         [0.5063, 0.6651, 0.7161,  ..., 0.6575, 0.5723, 0.5546]]])\n"
     ]
    }
   ],
   "source": [
    "# calculate whole dataset mean and std\n",
    "import torch\n",
    "\n",
    "l_mean = torch.zeros_like(l)\n",
    "l_std = torch.zeros_like(l)\n",
    "for i in range(len(dataset)):\n",
    "    l, a = dataset[i]\n",
    "    l_mean += l\n",
    "    l_std += l ** 2\n",
    "\n",
    "l_mean /= len(dataset)\n",
    "l_std /= len(dataset)\n",
    "\n",
    "l_std = torch.sqrt(l_std - l_mean ** 2)\n",
    "\n",
    "print(l_mean)\n",
    "print(l_std)"
   ]
  },
  {
   "cell_type": "code",
   "execution_count": 6,
   "metadata": {},
   "outputs": [
    {
     "name": "stdout",
     "output_type": "stream",
     "text": [
      "torch.Size([3, 64, 64])\n"
     ]
    }
   ],
   "source": [
    "print(l_mean.shape)"
   ]
  },
  {
   "cell_type": "code",
   "execution_count": 7,
   "metadata": {},
   "outputs": [],
   "source": [
    "del dataset"
   ]
  },
  {
   "cell_type": "code",
   "execution_count": 2,
   "metadata": {},
   "outputs": [
    {
     "name": "stdout",
     "output_type": "stream",
     "text": [
      "Loading latent from /mnt/g/data/latents/700/raw/big_nose/latents_nose_intermediates_104.pt\n",
      "torch.Size([50000, 3, 64, 64]) torch.Size([50000, 20])\n"
     ]
    },
    {
     "name": "stderr",
     "output_type": "stream",
     "text": [
      "100%|██████████| 50000/50000 [04:16<00:00, 195.04it/s]\n"
     ]
    },
    {
     "name": "stdout",
     "output_type": "stream",
     "text": [
      "Loading latent from /mnt/g/data/latents/700/raw/big_nose/latents_nose_intermediates_109.pt\n",
      "torch.Size([50000, 3, 64, 64]) torch.Size([50000, 20])\n"
     ]
    },
    {
     "name": "stderr",
     "output_type": "stream",
     "text": [
      "100%|██████████| 50000/50000 [04:11<00:00, 198.52it/s]\n"
     ]
    },
    {
     "name": "stdout",
     "output_type": "stream",
     "text": [
      "Loading latent from /mnt/g/data/latents/700/raw/big_nose/latents_nose_intermediates_114.pt\n",
      "torch.Size([50000, 3, 64, 64]) torch.Size([50000, 20])\n"
     ]
    },
    {
     "name": "stderr",
     "output_type": "stream",
     "text": [
      "100%|██████████| 50000/50000 [04:19<00:00, 192.70it/s]\n"
     ]
    },
    {
     "name": "stdout",
     "output_type": "stream",
     "text": [
      "Loading latent from /mnt/g/data/latents/700/raw/big_nose/latents_nose_intermediates_119.pt\n",
      "torch.Size([50000, 3, 64, 64]) torch.Size([50000, 20])\n"
     ]
    },
    {
     "name": "stderr",
     "output_type": "stream",
     "text": [
      "100%|██████████| 50000/50000 [03:57<00:00, 210.35it/s]\n"
     ]
    },
    {
     "name": "stdout",
     "output_type": "stream",
     "text": [
      "Loading latent from /mnt/g/data/latents/700/raw/big_nose/latents_nose_intermediates_124.pt\n",
      "torch.Size([50000, 3, 64, 64]) torch.Size([50000, 20])\n"
     ]
    },
    {
     "name": "stderr",
     "output_type": "stream",
     "text": [
      "100%|██████████| 50000/50000 [03:53<00:00, 213.88it/s]\n"
     ]
    },
    {
     "name": "stdout",
     "output_type": "stream",
     "text": [
      "Loading latent from /mnt/g/data/latents/700/raw/big_nose/latents_nose_intermediates_129.pt\n",
      "torch.Size([50000, 3, 64, 64]) torch.Size([50000, 20])\n"
     ]
    },
    {
     "name": "stderr",
     "output_type": "stream",
     "text": [
      "100%|██████████| 50000/50000 [04:00<00:00, 208.22it/s]\n"
     ]
    },
    {
     "name": "stdout",
     "output_type": "stream",
     "text": [
      "Loading latent from /mnt/g/data/latents/700/raw/big_nose/latents_nose_intermediates_134.pt\n",
      "torch.Size([50000, 3, 64, 64]) torch.Size([50000, 20])\n"
     ]
    },
    {
     "name": "stderr",
     "output_type": "stream",
     "text": [
      "100%|██████████| 50000/50000 [04:01<00:00, 206.63it/s]\n"
     ]
    },
    {
     "name": "stdout",
     "output_type": "stream",
     "text": [
      "Loading latent from /mnt/g/data/latents/700/raw/big_nose/latents_nose_intermediates_139.pt\n",
      "torch.Size([50000, 3, 64, 64]) torch.Size([50000, 20])\n"
     ]
    },
    {
     "name": "stderr",
     "output_type": "stream",
     "text": [
      "100%|██████████| 50000/50000 [03:55<00:00, 212.58it/s]\n"
     ]
    },
    {
     "name": "stdout",
     "output_type": "stream",
     "text": [
      "Loading latent from /mnt/g/data/latents/700/raw/big_nose/latents_nose_intermediates_14.pt\n",
      "torch.Size([50000, 3, 64, 64]) torch.Size([50000, 20])\n"
     ]
    },
    {
     "name": "stderr",
     "output_type": "stream",
     "text": [
      "100%|██████████| 50000/50000 [03:51<00:00, 215.59it/s]\n"
     ]
    },
    {
     "name": "stdout",
     "output_type": "stream",
     "text": [
      "Loading latent from /mnt/g/data/latents/700/raw/big_nose/latents_nose_intermediates_144.pt\n",
      "torch.Size([50000, 3, 64, 64]) torch.Size([50000, 20])\n"
     ]
    },
    {
     "name": "stderr",
     "output_type": "stream",
     "text": [
      "100%|██████████| 50000/50000 [04:00<00:00, 207.61it/s]\n"
     ]
    },
    {
     "name": "stdout",
     "output_type": "stream",
     "text": [
      "Loading latent from /mnt/g/data/latents/700/raw/big_nose/latents_nose_intermediates_149.pt\n",
      "torch.Size([50000, 3, 64, 64]) torch.Size([50000, 20])\n"
     ]
    },
    {
     "name": "stderr",
     "output_type": "stream",
     "text": [
      "100%|██████████| 50000/50000 [03:57<00:00, 210.56it/s]\n"
     ]
    },
    {
     "name": "stdout",
     "output_type": "stream",
     "text": [
      "Loading latent from /mnt/g/data/latents/700/raw/big_nose/latents_nose_intermediates_154.pt\n",
      "torch.Size([50000, 3, 64, 64]) torch.Size([50000, 20])\n"
     ]
    },
    {
     "name": "stderr",
     "output_type": "stream",
     "text": [
      "100%|██████████| 50000/50000 [03:56<00:00, 211.22it/s]\n"
     ]
    },
    {
     "name": "stdout",
     "output_type": "stream",
     "text": [
      "Loading latent from /mnt/g/data/latents/700/raw/big_nose/latents_nose_intermediates_159.pt\n",
      "torch.Size([50000, 3, 64, 64]) torch.Size([50000, 20])\n"
     ]
    },
    {
     "name": "stderr",
     "output_type": "stream",
     "text": [
      "100%|██████████| 50000/50000 [04:03<00:00, 205.29it/s]\n"
     ]
    },
    {
     "name": "stdout",
     "output_type": "stream",
     "text": [
      "Loading latent from /mnt/g/data/latents/700/raw/big_nose/latents_nose_intermediates_164.pt\n",
      "torch.Size([50000, 3, 64, 64]) torch.Size([50000, 20])\n"
     ]
    },
    {
     "name": "stderr",
     "output_type": "stream",
     "text": [
      "100%|██████████| 50000/50000 [03:54<00:00, 212.90it/s]\n"
     ]
    },
    {
     "name": "stdout",
     "output_type": "stream",
     "text": [
      "Loading latent from /mnt/g/data/latents/700/raw/big_nose/latents_nose_intermediates_169.pt\n",
      "torch.Size([50000, 3, 64, 64]) torch.Size([50000, 20])\n"
     ]
    },
    {
     "name": "stderr",
     "output_type": "stream",
     "text": [
      "100%|██████████| 50000/50000 [04:14<00:00, 196.60it/s]\n"
     ]
    },
    {
     "name": "stdout",
     "output_type": "stream",
     "text": [
      "Loading latent from /mnt/g/data/latents/700/raw/big_nose/latents_nose_intermediates_174.pt\n",
      "torch.Size([50000, 3, 64, 64]) torch.Size([50000, 20])\n"
     ]
    },
    {
     "name": "stderr",
     "output_type": "stream",
     "text": [
      "100%|██████████| 50000/50000 [04:28<00:00, 186.50it/s]\n"
     ]
    },
    {
     "name": "stdout",
     "output_type": "stream",
     "text": [
      "Loading latent from /mnt/g/data/latents/700/raw/big_nose/latents_nose_intermediates_179.pt\n",
      "torch.Size([50000, 3, 64, 64]) torch.Size([50000, 20])\n"
     ]
    },
    {
     "name": "stderr",
     "output_type": "stream",
     "text": [
      "100%|██████████| 50000/50000 [03:57<00:00, 210.24it/s]\n"
     ]
    },
    {
     "name": "stdout",
     "output_type": "stream",
     "text": [
      "Loading latent from /mnt/g/data/latents/700/raw/big_nose/latents_nose_intermediates_184.pt\n",
      "torch.Size([50000, 3, 64, 64]) torch.Size([50000, 20])\n"
     ]
    },
    {
     "name": "stderr",
     "output_type": "stream",
     "text": [
      "100%|██████████| 50000/50000 [03:51<00:00, 215.69it/s]\n"
     ]
    },
    {
     "name": "stdout",
     "output_type": "stream",
     "text": [
      "Loading latent from /mnt/g/data/latents/700/raw/big_nose/latents_nose_intermediates_189.pt\n",
      "torch.Size([50000, 3, 64, 64]) torch.Size([50000, 20])\n"
     ]
    },
    {
     "name": "stderr",
     "output_type": "stream",
     "text": [
      "100%|██████████| 50000/50000 [03:57<00:00, 210.67it/s]\n"
     ]
    },
    {
     "name": "stdout",
     "output_type": "stream",
     "text": [
      "Loading latent from /mnt/g/data/latents/700/raw/big_nose/latents_nose_intermediates_19.pt\n",
      "torch.Size([50000, 3, 64, 64]) torch.Size([50000, 20])\n"
     ]
    },
    {
     "name": "stderr",
     "output_type": "stream",
     "text": [
      "100%|██████████| 50000/50000 [03:58<00:00, 209.30it/s]\n"
     ]
    },
    {
     "name": "stdout",
     "output_type": "stream",
     "text": [
      "Loading latent from /mnt/g/data/latents/700/raw/big_nose/latents_nose_intermediates_194.pt\n",
      "torch.Size([50000, 3, 64, 64]) torch.Size([50000, 20])\n"
     ]
    },
    {
     "name": "stderr",
     "output_type": "stream",
     "text": [
      "100%|██████████| 50000/50000 [03:54<00:00, 212.95it/s]\n"
     ]
    },
    {
     "name": "stdout",
     "output_type": "stream",
     "text": [
      "Loading latent from /mnt/g/data/latents/700/raw/big_nose/latents_nose_intermediates_199.pt\n",
      "torch.Size([50000, 3, 64, 64]) torch.Size([50000, 20])\n"
     ]
    },
    {
     "name": "stderr",
     "output_type": "stream",
     "text": [
      "100%|██████████| 50000/50000 [04:01<00:00, 207.01it/s]\n"
     ]
    },
    {
     "name": "stdout",
     "output_type": "stream",
     "text": [
      "Loading latent from /mnt/g/data/latents/700/raw/big_nose/latents_nose_intermediates_24.pt\n",
      "torch.Size([50000, 3, 64, 64]) torch.Size([50000, 20])\n"
     ]
    },
    {
     "name": "stderr",
     "output_type": "stream",
     "text": [
      "100%|██████████| 50000/50000 [03:58<00:00, 209.97it/s]\n"
     ]
    },
    {
     "name": "stdout",
     "output_type": "stream",
     "text": [
      "Loading latent from /mnt/g/data/latents/700/raw/big_nose/latents_nose_intermediates_29.pt\n",
      "torch.Size([50000, 3, 64, 64]) torch.Size([50000, 20])\n"
     ]
    },
    {
     "name": "stderr",
     "output_type": "stream",
     "text": [
      "100%|██████████| 50000/50000 [04:02<00:00, 205.76it/s]\n"
     ]
    },
    {
     "name": "stdout",
     "output_type": "stream",
     "text": [
      "Loading latent from /mnt/g/data/latents/700/raw/big_nose/latents_nose_intermediates_34.pt\n",
      "torch.Size([50000, 3, 64, 64]) torch.Size([50000, 20])\n"
     ]
    },
    {
     "name": "stderr",
     "output_type": "stream",
     "text": [
      "100%|██████████| 50000/50000 [03:55<00:00, 212.36it/s]\n"
     ]
    },
    {
     "name": "stdout",
     "output_type": "stream",
     "text": [
      "Loading latent from /mnt/g/data/latents/700/raw/big_nose/latents_nose_intermediates_39.pt\n",
      "torch.Size([50000, 3, 64, 64]) torch.Size([50000, 20])\n"
     ]
    },
    {
     "name": "stderr",
     "output_type": "stream",
     "text": [
      "100%|██████████| 50000/50000 [04:00<00:00, 207.58it/s]\n"
     ]
    },
    {
     "name": "stdout",
     "output_type": "stream",
     "text": [
      "Loading latent from /mnt/g/data/latents/700/raw/big_nose/latents_nose_intermediates_4.pt\n",
      "torch.Size([50000, 3, 64, 64]) torch.Size([50000, 20])\n"
     ]
    },
    {
     "name": "stderr",
     "output_type": "stream",
     "text": [
      "100%|██████████| 50000/50000 [03:55<00:00, 212.64it/s]\n"
     ]
    },
    {
     "name": "stdout",
     "output_type": "stream",
     "text": [
      "Loading latent from /mnt/g/data/latents/700/raw/big_nose/latents_nose_intermediates_44.pt\n",
      "torch.Size([50000, 3, 64, 64]) torch.Size([50000, 20])\n"
     ]
    },
    {
     "name": "stderr",
     "output_type": "stream",
     "text": [
      "100%|██████████| 50000/50000 [04:04<00:00, 204.12it/s]\n"
     ]
    },
    {
     "name": "stdout",
     "output_type": "stream",
     "text": [
      "Loading latent from /mnt/g/data/latents/700/raw/big_nose/latents_nose_intermediates_49.pt\n",
      "torch.Size([50000, 3, 64, 64]) torch.Size([50000, 20])\n"
     ]
    },
    {
     "name": "stderr",
     "output_type": "stream",
     "text": [
      "100%|██████████| 50000/50000 [03:57<00:00, 210.89it/s]\n"
     ]
    },
    {
     "name": "stdout",
     "output_type": "stream",
     "text": [
      "Loading latent from /mnt/g/data/latents/700/raw/big_nose/latents_nose_intermediates_54.pt\n",
      "torch.Size([50000, 3, 64, 64]) torch.Size([50000, 20])\n"
     ]
    },
    {
     "name": "stderr",
     "output_type": "stream",
     "text": [
      "100%|██████████| 50000/50000 [03:54<00:00, 213.25it/s]\n"
     ]
    },
    {
     "name": "stdout",
     "output_type": "stream",
     "text": [
      "Loading latent from /mnt/g/data/latents/700/raw/big_nose/latents_nose_intermediates_59.pt\n",
      "torch.Size([50000, 3, 64, 64]) torch.Size([50000, 20])\n"
     ]
    },
    {
     "name": "stderr",
     "output_type": "stream",
     "text": [
      "100%|██████████| 50000/50000 [03:56<00:00, 211.18it/s]\n"
     ]
    },
    {
     "name": "stdout",
     "output_type": "stream",
     "text": [
      "Loading latent from /mnt/g/data/latents/700/raw/big_nose/latents_nose_intermediates_64.pt\n",
      "torch.Size([50000, 3, 64, 64]) torch.Size([50000, 20])\n"
     ]
    },
    {
     "name": "stderr",
     "output_type": "stream",
     "text": [
      "100%|██████████| 50000/50000 [03:54<00:00, 213.15it/s]\n"
     ]
    },
    {
     "name": "stdout",
     "output_type": "stream",
     "text": [
      "Loading latent from /mnt/g/data/latents/700/raw/big_nose/latents_nose_intermediates_69.pt\n",
      "torch.Size([50000, 3, 64, 64]) torch.Size([50000, 20])\n"
     ]
    },
    {
     "name": "stderr",
     "output_type": "stream",
     "text": [
      "100%|██████████| 50000/50000 [03:57<00:00, 210.50it/s]\n"
     ]
    },
    {
     "name": "stdout",
     "output_type": "stream",
     "text": [
      "Loading latent from /mnt/g/data/latents/700/raw/big_nose/latents_nose_intermediates_74.pt\n",
      "torch.Size([50000, 3, 64, 64]) torch.Size([50000, 20])\n"
     ]
    },
    {
     "name": "stderr",
     "output_type": "stream",
     "text": [
      "100%|██████████| 50000/50000 [03:58<00:00, 209.42it/s]\n"
     ]
    },
    {
     "name": "stdout",
     "output_type": "stream",
     "text": [
      "Loading latent from /mnt/g/data/latents/700/raw/big_nose/latents_nose_intermediates_79.pt\n",
      "torch.Size([50000, 3, 64, 64]) torch.Size([50000, 20])\n"
     ]
    },
    {
     "name": "stderr",
     "output_type": "stream",
     "text": [
      "100%|██████████| 50000/50000 [03:58<00:00, 209.90it/s]\n"
     ]
    },
    {
     "name": "stdout",
     "output_type": "stream",
     "text": [
      "Loading latent from /mnt/g/data/latents/700/raw/big_nose/latents_nose_intermediates_84.pt\n",
      "torch.Size([50000, 3, 64, 64]) torch.Size([50000, 20])\n"
     ]
    },
    {
     "name": "stderr",
     "output_type": "stream",
     "text": [
      "100%|██████████| 50000/50000 [03:54<00:00, 212.83it/s]\n"
     ]
    },
    {
     "name": "stdout",
     "output_type": "stream",
     "text": [
      "Loading latent from /mnt/g/data/latents/700/raw/big_nose/latents_nose_intermediates_89.pt\n",
      "torch.Size([50000, 3, 64, 64]) torch.Size([50000, 20])\n"
     ]
    },
    {
     "name": "stderr",
     "output_type": "stream",
     "text": [
      "100%|██████████| 50000/50000 [04:13<00:00, 197.57it/s]\n"
     ]
    },
    {
     "name": "stdout",
     "output_type": "stream",
     "text": [
      "Loading latent from /mnt/g/data/latents/700/raw/big_nose/latents_nose_intermediates_9.pt\n",
      "torch.Size([50000, 3, 64, 64]) torch.Size([50000, 20])\n"
     ]
    },
    {
     "name": "stderr",
     "output_type": "stream",
     "text": [
      "100%|██████████| 50000/50000 [04:35<00:00, 181.53it/s]\n"
     ]
    },
    {
     "name": "stdout",
     "output_type": "stream",
     "text": [
      "Loading latent from /mnt/g/data/latents/700/raw/big_nose/latents_nose_intermediates_94.pt\n",
      "torch.Size([50000, 3, 64, 64]) torch.Size([50000, 20])\n"
     ]
    },
    {
     "name": "stderr",
     "output_type": "stream",
     "text": [
      "100%|██████████| 50000/50000 [04:21<00:00, 191.13it/s]\n"
     ]
    },
    {
     "name": "stdout",
     "output_type": "stream",
     "text": [
      "Loading latent from /mnt/g/data/latents/700/raw/big_nose/latents_nose_intermediates_99.pt\n",
      "torch.Size([50000, 3, 64, 64]) torch.Size([50000, 20])\n"
     ]
    },
    {
     "name": "stderr",
     "output_type": "stream",
     "text": [
      "100%|██████████| 50000/50000 [04:23<00:00, 189.59it/s]\n"
     ]
    }
   ],
   "source": [
    "# standardize each image and save as image\n",
    "import os\n",
    "import numpy as np\n",
    "from tqdm import tqdm\n",
    "from PIL import Image \n",
    "\n",
    "import glob \n",
    "import os\n",
    "import pandas as pd\n",
    "\n",
    "#column_names = ['id', 'file_name', 'origin_name', 'Male', 'Young', 'Bald', 'Bangs', 'Receding_Hairline', 'Black_Hair', 'Blond_Hair', 'Brown_Hair', 'Gray_Hair', 'Straight_Hair', 'Wavy_Hair', 'No_Beard', 'Goatee', 'Mustache', 'Sideburns', 'Narrow_Eyes', 'Oval_Face', 'Pale_Skin', 'Pointy_Nose', 'Eyeglasses', 'Heavy_Makeup', 'Wearing_Lipstick']\n",
    "\n",
    "column_names = ['id', 'file_name', 'origin_name', 'Male', 'Young', 'Bald', 'Bangs', 'Receding_Hairline', 'Black_Hair', 'Blond_Hair', 'Brown_Hair', 'Gray_Hair', 'Straight_Hair', 'Wavy_Hair', 'No_Beard', 'Goatee', 'Mustache', 'Sideburns', 'Narrow_Eyes', 'Oval_Face', 'Pale_Skin', 'Pointy_Nose', 'Big_Nose']\n",
    "\n",
    "attribute_names = column_names[3:]\n",
    "\n",
    "img_index = 0\n",
    "\n",
    "for fname in glob.glob(os.path.join('/mnt/g/data/latents/700/raw/big_nose', '*.pt')):\n",
    "    print('Loading latent from {}'.format(fname))\n",
    "\n",
    "    attribute_df = pd.DataFrame(columns=column_names)\n",
    "\n",
    "    dataset = LatentDataset(fname)\n",
    "\n",
    "    os.makedirs('/mnt/g/data/latents/700/processed/big_nose', exist_ok=True)\n",
    "    for i in tqdm(range(len(dataset))):\n",
    "        l, a = dataset[i]\n",
    "        '''\n",
    "        l = (l - l_mean) / l_std\n",
    "        l = np.clip(l, -3, 3)\n",
    "        l = (l + 3) / 6 * 255\n",
    "        # convert to numpy array\n",
    "        l = l.cpu().numpy().astype(np.uint8)\n",
    "\n",
    "        l = l.transpose(1, 2, 0)\n",
    "\n",
    "        #print(l.min(), l.max())\n",
    "\n",
    "\n",
    "        l = Image.fromarray(l)\n",
    "        l.save(f'ddim_inter_latents/test_latents_standardized/{i}.png')\n",
    "        '''\n",
    "\n",
    "        # save l as a numpy array\n",
    "        l = l.cpu().numpy()\n",
    "        np.save(f'/mnt/g/data/latents/700/processed/big_nose/{img_index}.npy', l)\n",
    "       \n",
    "        # add attribute to dataframe\n",
    "        dict = {'id': img_index, 'origin_name': fname, 'file_name': f'{img_index}.npy'}\n",
    "\n",
    "        a = a[0]\n",
    "\n",
    "        for j in range(0, len(a)):\n",
    "            dict[attribute_names[j]] = a[j].item()\n",
    "\n",
    "        attribute_df.loc[img_index] = dict\n",
    "\n",
    "        img_index += 1\n",
    "\n",
    "    # save attribute\n",
    "    attribute_df.to_csv('/mnt/g/data/latents/700/processed/big_nose/attributes.csv', index=False, mode='a')\n",
    "\n"
   ]
  },
  {
   "cell_type": "code",
   "execution_count": 3,
   "metadata": {},
   "outputs": [
    {
     "name": "stdout",
     "output_type": "stream",
     "text": [
      "Loading latent from /mnt/g/data/latents/700/raw/mouth2/latents_mouth_intermediates_104.pt\n",
      "torch.Size([50000, 3, 64, 64]) torch.Size([50000, 20])\n"
     ]
    },
    {
     "name": "stderr",
     "output_type": "stream",
     "text": [
      "100%|██████████| 50000/50000 [05:14<00:00, 158.86it/s]\n"
     ]
    },
    {
     "name": "stdout",
     "output_type": "stream",
     "text": [
      "Loading latent from /mnt/g/data/latents/700/raw/mouth2/latents_mouth_intermediates_109.pt\n",
      "torch.Size([50000, 3, 64, 64]) torch.Size([50000, 20])\n"
     ]
    },
    {
     "name": "stderr",
     "output_type": "stream",
     "text": [
      "100%|██████████| 50000/50000 [05:15<00:00, 158.31it/s]\n"
     ]
    },
    {
     "name": "stdout",
     "output_type": "stream",
     "text": [
      "Loading latent from /mnt/g/data/latents/700/raw/mouth2/latents_mouth_intermediates_114.pt\n",
      "torch.Size([50000, 3, 64, 64]) torch.Size([50000, 20])\n"
     ]
    },
    {
     "name": "stderr",
     "output_type": "stream",
     "text": [
      "100%|██████████| 50000/50000 [05:01<00:00, 165.88it/s]\n"
     ]
    },
    {
     "name": "stdout",
     "output_type": "stream",
     "text": [
      "Loading latent from /mnt/g/data/latents/700/raw/mouth2/latents_mouth_intermediates_119.pt\n",
      "torch.Size([50000, 3, 64, 64]) torch.Size([50000, 20])\n"
     ]
    },
    {
     "name": "stderr",
     "output_type": "stream",
     "text": [
      "100%|██████████| 50000/50000 [05:11<00:00, 160.68it/s]\n"
     ]
    },
    {
     "name": "stdout",
     "output_type": "stream",
     "text": [
      "Loading latent from /mnt/g/data/latents/700/raw/mouth2/latents_mouth_intermediates_124.pt\n",
      "torch.Size([50000, 3, 64, 64]) torch.Size([50000, 20])\n"
     ]
    },
    {
     "name": "stderr",
     "output_type": "stream",
     "text": [
      "100%|██████████| 50000/50000 [05:05<00:00, 163.91it/s]\n"
     ]
    },
    {
     "name": "stdout",
     "output_type": "stream",
     "text": [
      "Loading latent from /mnt/g/data/latents/700/raw/mouth2/latents_mouth_intermediates_129.pt\n",
      "torch.Size([50000, 3, 64, 64]) torch.Size([50000, 20])\n"
     ]
    },
    {
     "name": "stderr",
     "output_type": "stream",
     "text": [
      "100%|██████████| 50000/50000 [05:06<00:00, 163.06it/s]\n"
     ]
    },
    {
     "name": "stdout",
     "output_type": "stream",
     "text": [
      "Loading latent from /mnt/g/data/latents/700/raw/mouth2/latents_mouth_intermediates_134.pt\n",
      "torch.Size([50000, 3, 64, 64]) torch.Size([50000, 20])\n"
     ]
    },
    {
     "name": "stderr",
     "output_type": "stream",
     "text": [
      "100%|██████████| 50000/50000 [05:12<00:00, 160.10it/s]\n"
     ]
    },
    {
     "name": "stdout",
     "output_type": "stream",
     "text": [
      "Loading latent from /mnt/g/data/latents/700/raw/mouth2/latents_mouth_intermediates_139.pt\n",
      "torch.Size([50000, 3, 64, 64]) torch.Size([50000, 20])\n"
     ]
    },
    {
     "name": "stderr",
     "output_type": "stream",
     "text": [
      "100%|██████████| 50000/50000 [05:05<00:00, 163.45it/s]\n"
     ]
    },
    {
     "name": "stdout",
     "output_type": "stream",
     "text": [
      "Loading latent from /mnt/g/data/latents/700/raw/mouth2/latents_mouth_intermediates_14.pt\n",
      "torch.Size([50000, 3, 64, 64]) torch.Size([50000, 20])\n"
     ]
    },
    {
     "name": "stderr",
     "output_type": "stream",
     "text": [
      "100%|██████████| 50000/50000 [05:16<00:00, 157.92it/s]\n"
     ]
    },
    {
     "name": "stdout",
     "output_type": "stream",
     "text": [
      "Loading latent from /mnt/g/data/latents/700/raw/mouth2/latents_mouth_intermediates_144.pt\n",
      "torch.Size([50000, 3, 64, 64]) torch.Size([50000, 20])\n"
     ]
    },
    {
     "name": "stderr",
     "output_type": "stream",
     "text": [
      "100%|██████████| 50000/50000 [05:14<00:00, 158.77it/s]\n"
     ]
    },
    {
     "name": "stdout",
     "output_type": "stream",
     "text": [
      "Loading latent from /mnt/g/data/latents/700/raw/mouth2/latents_mouth_intermediates_149.pt\n",
      "torch.Size([50000, 3, 64, 64]) torch.Size([50000, 20])\n"
     ]
    },
    {
     "name": "stderr",
     "output_type": "stream",
     "text": [
      "100%|██████████| 50000/50000 [05:06<00:00, 163.13it/s]\n"
     ]
    },
    {
     "name": "stdout",
     "output_type": "stream",
     "text": [
      "Loading latent from /mnt/g/data/latents/700/raw/mouth2/latents_mouth_intermediates_154.pt\n",
      "torch.Size([50000, 3, 64, 64]) torch.Size([50000, 20])\n"
     ]
    },
    {
     "name": "stderr",
     "output_type": "stream",
     "text": [
      "100%|██████████| 50000/50000 [05:11<00:00, 160.68it/s]\n"
     ]
    },
    {
     "name": "stdout",
     "output_type": "stream",
     "text": [
      "Loading latent from /mnt/g/data/latents/700/raw/mouth2/latents_mouth_intermediates_159.pt\n",
      "torch.Size([50000, 3, 64, 64]) torch.Size([50000, 20])\n"
     ]
    },
    {
     "name": "stderr",
     "output_type": "stream",
     "text": [
      "100%|██████████| 50000/50000 [05:09<00:00, 161.54it/s]\n"
     ]
    },
    {
     "name": "stdout",
     "output_type": "stream",
     "text": [
      "Loading latent from /mnt/g/data/latents/700/raw/mouth2/latents_mouth_intermediates_164.pt\n",
      "torch.Size([50000, 3, 64, 64]) torch.Size([50000, 20])\n"
     ]
    },
    {
     "name": "stderr",
     "output_type": "stream",
     "text": [
      "100%|██████████| 50000/50000 [05:02<00:00, 165.06it/s]\n"
     ]
    },
    {
     "name": "stdout",
     "output_type": "stream",
     "text": [
      "Loading latent from /mnt/g/data/latents/700/raw/mouth2/latents_mouth_intermediates_169.pt\n",
      "torch.Size([50000, 3, 64, 64]) torch.Size([50000, 20])\n"
     ]
    },
    {
     "name": "stderr",
     "output_type": "stream",
     "text": [
      "100%|██████████| 50000/50000 [05:10<00:00, 160.93it/s]\n"
     ]
    },
    {
     "name": "stdout",
     "output_type": "stream",
     "text": [
      "Loading latent from /mnt/g/data/latents/700/raw/mouth2/latents_mouth_intermediates_174.pt\n",
      "torch.Size([50000, 3, 64, 64]) torch.Size([50000, 20])\n"
     ]
    },
    {
     "name": "stderr",
     "output_type": "stream",
     "text": [
      "100%|██████████| 50000/50000 [05:14<00:00, 158.76it/s]\n"
     ]
    },
    {
     "name": "stdout",
     "output_type": "stream",
     "text": [
      "Loading latent from /mnt/g/data/latents/700/raw/mouth2/latents_mouth_intermediates_179.pt\n",
      "torch.Size([50000, 3, 64, 64]) torch.Size([50000, 20])\n"
     ]
    },
    {
     "name": "stderr",
     "output_type": "stream",
     "text": [
      "100%|██████████| 50000/50000 [05:04<00:00, 164.27it/s]\n"
     ]
    },
    {
     "name": "stdout",
     "output_type": "stream",
     "text": [
      "Loading latent from /mnt/g/data/latents/700/raw/mouth2/latents_mouth_intermediates_184.pt\n",
      "torch.Size([50000, 3, 64, 64]) torch.Size([50000, 20])\n"
     ]
    },
    {
     "name": "stderr",
     "output_type": "stream",
     "text": [
      "100%|██████████| 50000/50000 [05:10<00:00, 161.15it/s]\n"
     ]
    },
    {
     "name": "stdout",
     "output_type": "stream",
     "text": [
      "Loading latent from /mnt/g/data/latents/700/raw/mouth2/latents_mouth_intermediates_189.pt\n",
      "torch.Size([50000, 3, 64, 64]) torch.Size([50000, 20])\n"
     ]
    },
    {
     "name": "stderr",
     "output_type": "stream",
     "text": [
      "100%|██████████| 50000/50000 [05:06<00:00, 163.02it/s]\n"
     ]
    },
    {
     "name": "stdout",
     "output_type": "stream",
     "text": [
      "Loading latent from /mnt/g/data/latents/700/raw/mouth2/latents_mouth_intermediates_19.pt\n",
      "torch.Size([50000, 3, 64, 64]) torch.Size([50000, 20])\n"
     ]
    },
    {
     "name": "stderr",
     "output_type": "stream",
     "text": [
      "100%|██████████| 50000/50000 [05:02<00:00, 165.41it/s]\n"
     ]
    },
    {
     "name": "stdout",
     "output_type": "stream",
     "text": [
      "Loading latent from /mnt/g/data/latents/700/raw/mouth2/latents_mouth_intermediates_194.pt\n",
      "torch.Size([50000, 3, 64, 64]) torch.Size([50000, 20])\n"
     ]
    },
    {
     "name": "stderr",
     "output_type": "stream",
     "text": [
      "100%|██████████| 50000/50000 [05:09<00:00, 161.34it/s]\n"
     ]
    },
    {
     "name": "stdout",
     "output_type": "stream",
     "text": [
      "Loading latent from /mnt/g/data/latents/700/raw/mouth2/latents_mouth_intermediates_199.pt\n",
      "torch.Size([50000, 3, 64, 64]) torch.Size([50000, 20])\n"
     ]
    },
    {
     "name": "stderr",
     "output_type": "stream",
     "text": [
      "100%|██████████| 50000/50000 [05:04<00:00, 164.32it/s]\n"
     ]
    },
    {
     "name": "stdout",
     "output_type": "stream",
     "text": [
      "Loading latent from /mnt/g/data/latents/700/raw/mouth2/latents_mouth_intermediates_24.pt\n",
      "torch.Size([50000, 3, 64, 64]) torch.Size([50000, 20])\n"
     ]
    },
    {
     "name": "stderr",
     "output_type": "stream",
     "text": [
      "100%|██████████| 50000/50000 [05:04<00:00, 164.05it/s]\n"
     ]
    },
    {
     "name": "stdout",
     "output_type": "stream",
     "text": [
      "Loading latent from /mnt/g/data/latents/700/raw/mouth2/latents_mouth_intermediates_29.pt\n",
      "torch.Size([50000, 3, 64, 64]) torch.Size([50000, 20])\n"
     ]
    },
    {
     "name": "stderr",
     "output_type": "stream",
     "text": [
      "100%|██████████| 50000/50000 [05:11<00:00, 160.50it/s]\n"
     ]
    },
    {
     "name": "stdout",
     "output_type": "stream",
     "text": [
      "Loading latent from /mnt/g/data/latents/700/raw/mouth2/latents_mouth_intermediates_34.pt\n",
      "torch.Size([50000, 3, 64, 64]) torch.Size([50000, 20])\n"
     ]
    },
    {
     "name": "stderr",
     "output_type": "stream",
     "text": [
      "100%|██████████| 50000/50000 [05:12<00:00, 159.80it/s]\n"
     ]
    },
    {
     "name": "stdout",
     "output_type": "stream",
     "text": [
      "Loading latent from /mnt/g/data/latents/700/raw/mouth2/latents_mouth_intermediates_39.pt\n",
      "torch.Size([50000, 3, 64, 64]) torch.Size([50000, 20])\n"
     ]
    },
    {
     "name": "stderr",
     "output_type": "stream",
     "text": [
      "100%|██████████| 50000/50000 [05:04<00:00, 164.20it/s]\n"
     ]
    },
    {
     "name": "stdout",
     "output_type": "stream",
     "text": [
      "Loading latent from /mnt/g/data/latents/700/raw/mouth2/latents_mouth_intermediates_4.pt\n",
      "torch.Size([50000, 3, 64, 64]) torch.Size([50000, 20])\n"
     ]
    },
    {
     "name": "stderr",
     "output_type": "stream",
     "text": [
      "100%|██████████| 50000/50000 [05:07<00:00, 162.80it/s]\n"
     ]
    },
    {
     "name": "stdout",
     "output_type": "stream",
     "text": [
      "Loading latent from /mnt/g/data/latents/700/raw/mouth2/latents_mouth_intermediates_44.pt\n",
      "torch.Size([50000, 3, 64, 64]) torch.Size([50000, 20])\n"
     ]
    },
    {
     "name": "stderr",
     "output_type": "stream",
     "text": [
      "100%|██████████| 50000/50000 [05:17<00:00, 157.27it/s]\n"
     ]
    },
    {
     "name": "stdout",
     "output_type": "stream",
     "text": [
      "Loading latent from /mnt/g/data/latents/700/raw/mouth2/latents_mouth_intermediates_49.pt\n",
      "torch.Size([50000, 3, 64, 64]) torch.Size([50000, 20])\n"
     ]
    },
    {
     "name": "stderr",
     "output_type": "stream",
     "text": [
      "100%|██████████| 50000/50000 [05:02<00:00, 165.19it/s]\n"
     ]
    },
    {
     "name": "stdout",
     "output_type": "stream",
     "text": [
      "Loading latent from /mnt/g/data/latents/700/raw/mouth2/latents_mouth_intermediates_54.pt\n",
      "torch.Size([50000, 3, 64, 64]) torch.Size([50000, 20])\n"
     ]
    },
    {
     "name": "stderr",
     "output_type": "stream",
     "text": [
      "100%|██████████| 50000/50000 [05:11<00:00, 160.58it/s]\n"
     ]
    },
    {
     "name": "stdout",
     "output_type": "stream",
     "text": [
      "Loading latent from /mnt/g/data/latents/700/raw/mouth2/latents_mouth_intermediates_59.pt\n",
      "torch.Size([50000, 3, 64, 64]) torch.Size([50000, 20])\n"
     ]
    },
    {
     "name": "stderr",
     "output_type": "stream",
     "text": [
      "100%|██████████| 50000/50000 [05:01<00:00, 166.00it/s]\n"
     ]
    },
    {
     "name": "stdout",
     "output_type": "stream",
     "text": [
      "Loading latent from /mnt/g/data/latents/700/raw/mouth2/latents_mouth_intermediates_64.pt\n",
      "torch.Size([50000, 3, 64, 64]) torch.Size([50000, 20])\n"
     ]
    },
    {
     "name": "stderr",
     "output_type": "stream",
     "text": [
      "100%|██████████| 50000/50000 [05:03<00:00, 164.69it/s]\n"
     ]
    },
    {
     "name": "stdout",
     "output_type": "stream",
     "text": [
      "Loading latent from /mnt/g/data/latents/700/raw/mouth2/latents_mouth_intermediates_69.pt\n",
      "torch.Size([50000, 3, 64, 64]) torch.Size([50000, 20])\n"
     ]
    },
    {
     "name": "stderr",
     "output_type": "stream",
     "text": [
      "100%|██████████| 50000/50000 [05:13<00:00, 159.32it/s]\n"
     ]
    },
    {
     "name": "stdout",
     "output_type": "stream",
     "text": [
      "Loading latent from /mnt/g/data/latents/700/raw/mouth2/latents_mouth_intermediates_74.pt\n",
      "torch.Size([50000, 3, 64, 64]) torch.Size([50000, 20])\n"
     ]
    },
    {
     "name": "stderr",
     "output_type": "stream",
     "text": [
      "100%|██████████| 50000/50000 [05:00<00:00, 166.57it/s]\n"
     ]
    },
    {
     "name": "stdout",
     "output_type": "stream",
     "text": [
      "Loading latent from /mnt/g/data/latents/700/raw/mouth2/latents_mouth_intermediates_79.pt\n",
      "torch.Size([50000, 3, 64, 64]) torch.Size([50000, 20])\n"
     ]
    },
    {
     "name": "stderr",
     "output_type": "stream",
     "text": [
      "100%|██████████| 50000/50000 [05:03<00:00, 164.72it/s]\n"
     ]
    },
    {
     "name": "stdout",
     "output_type": "stream",
     "text": [
      "Loading latent from /mnt/g/data/latents/700/raw/mouth2/latents_mouth_intermediates_84.pt\n",
      "torch.Size([50000, 3, 64, 64]) torch.Size([50000, 20])\n"
     ]
    },
    {
     "name": "stderr",
     "output_type": "stream",
     "text": [
      "100%|██████████| 50000/50000 [05:10<00:00, 161.10it/s]\n"
     ]
    },
    {
     "name": "stdout",
     "output_type": "stream",
     "text": [
      "Loading latent from /mnt/g/data/latents/700/raw/mouth2/latents_mouth_intermediates_89.pt\n",
      "torch.Size([50000, 3, 64, 64]) torch.Size([50000, 20])\n"
     ]
    },
    {
     "name": "stderr",
     "output_type": "stream",
     "text": [
      "100%|██████████| 50000/50000 [05:01<00:00, 165.68it/s]\n"
     ]
    },
    {
     "name": "stdout",
     "output_type": "stream",
     "text": [
      "Loading latent from /mnt/g/data/latents/700/raw/mouth2/latents_mouth_intermediates_9.pt\n",
      "torch.Size([50000, 3, 64, 64]) torch.Size([50000, 20])\n"
     ]
    },
    {
     "name": "stderr",
     "output_type": "stream",
     "text": [
      "100%|██████████| 50000/50000 [05:03<00:00, 164.71it/s]\n"
     ]
    },
    {
     "name": "stdout",
     "output_type": "stream",
     "text": [
      "Loading latent from /mnt/g/data/latents/700/raw/mouth2/latents_mouth_intermediates_94.pt\n",
      "torch.Size([50000, 3, 64, 64]) torch.Size([50000, 20])\n"
     ]
    },
    {
     "name": "stderr",
     "output_type": "stream",
     "text": [
      "100%|██████████| 50000/50000 [04:59<00:00, 166.69it/s]\n"
     ]
    },
    {
     "name": "stdout",
     "output_type": "stream",
     "text": [
      "Loading latent from /mnt/g/data/latents/700/raw/mouth2/latents_mouth_intermediates_99.pt\n",
      "torch.Size([50000, 3, 64, 64]) torch.Size([50000, 20])\n"
     ]
    },
    {
     "name": "stderr",
     "output_type": "stream",
     "text": [
      "100%|██████████| 50000/50000 [05:10<00:00, 160.95it/s]\n"
     ]
    }
   ],
   "source": [
    "# standardize each image and save as image\n",
    "import os\n",
    "import numpy as np\n",
    "from tqdm import tqdm\n",
    "from PIL import Image \n",
    "\n",
    "import glob \n",
    "import os\n",
    "import pandas as pd\n",
    "\n",
    "#column_names = ['id', 'file_name', 'origin_name', 'Male', 'Young', 'Bald', 'Bangs', 'Receding_Hairline', 'Black_Hair', 'Blond_Hair', 'Brown_Hair', 'Gray_Hair', 'Straight_Hair', 'Wavy_Hair', 'No_Beard', 'Goatee', 'Mustache', 'Sideburns', 'Narrow_Eyes', 'Oval_Face', 'Pale_Skin', 'Pointy_Nose', 'Eyeglasses', 'Heavy_Makeup', 'Wearing_Lipstick']\n",
    "\n",
    "column_names = ['id', 'file_name', 'origin_name', 'Male', 'Young', 'Bald', 'Bangs', 'Receding_Hairline', 'Black_Hair', 'Blond_Hair', 'Brown_Hair', 'Gray_Hair', 'Straight_Hair', 'Wavy_Hair', 'No_Beard', 'Goatee', 'Mustache', 'Sideburns', 'Narrow_Eyes', 'Oval_Face', 'Pale_Skin', 'Pointy_Nose', 'Mouth_Slightly_Open']\n",
    "\n",
    "attribute_names = column_names[3:]\n",
    "\n",
    "img_index = 0\n",
    "\n",
    "for fname in glob.glob(os.path.join('/mnt/g/data/latents/700/raw/mouth2', '*.pt')):\n",
    "    print('Loading latent from {}'.format(fname))\n",
    "\n",
    "    attribute_df = pd.DataFrame(columns=column_names)\n",
    "\n",
    "    dataset = LatentDataset(fname)\n",
    "\n",
    "    os.makedirs('/mnt/g/data/latents/all', exist_ok=True)\n",
    "    for i in tqdm(range(len(dataset))):\n",
    "        l, a = dataset[i]\n",
    "        '''\n",
    "        l = (l - l_mean) / l_std\n",
    "        l = np.clip(l, -3, 3)\n",
    "        l = (l + 3) / 6 * 255\n",
    "        # convert to numpy array\n",
    "        l = l.cpu().numpy().astype(np.uint8)\n",
    "\n",
    "        l = l.transpose(1, 2, 0)\n",
    "\n",
    "        #print(l.min(), l.max())\n",
    "\n",
    "\n",
    "        l = Image.fromarray(l)\n",
    "        l.save(f'ddim_inter_latents/test_latents_standardized/{i}.png')\n",
    "        '''\n",
    "\n",
    "        # save l as a numpy array\n",
    "        l = l.cpu().numpy()\n",
    "        np.save(f'/mnt/g/data/latents/700/processed/mouth2/{img_index}.npy', l)\n",
    "       \n",
    "        # add attribute to dataframe\n",
    "        dict = {'id': img_index, 'origin_name': fname, 'file_name': f'{img_index}.npy'}\n",
    "\n",
    "        a = a[0]\n",
    "\n",
    "        for j in range(0, len(a)):\n",
    "            dict[attribute_names[j]] = a[j].item()\n",
    "\n",
    "        attribute_df.loc[img_index] = dict\n",
    "\n",
    "        img_index += 1\n",
    "\n",
    "    # save attribute\n",
    "    attribute_df.to_csv('/mnt/g/data/latents/700/processed/mouth2/attributes.csv', index=False, mode='a')\n",
    "\n"
   ]
  },
  {
   "cell_type": "code",
   "execution_count": 29,
   "metadata": {},
   "outputs": [
    {
     "name": "stdout",
     "output_type": "stream",
     "text": [
      "['Male', 'Young', 'Bald', 'Bangs', 'Receding_Hairline', 'Black_Hair', 'Blond_Hair', 'Brown_Hair', 'Gray_Hair', 'Straight_Hair', 'Wavy_Hair', 'No_Beard', 'Goatee', 'Mustache', 'Sideburns', 'Narrow_Eyes', 'Oval_Face', 'Pale_Skin', 'Pointy_Nose', 'Eyeglasses', 'Heavy_Makeup', 'Wearing_Lipstick']\n"
     ]
    }
   ],
   "source": [
    "print(attribute_names)"
   ]
  },
  {
   "cell_type": "code",
   "execution_count": 30,
   "metadata": {},
   "outputs": [
    {
     "name": "stdout",
     "output_type": "stream",
     "text": [
      "['file_name', 'origin_name', 'Male', 'Young', 'Bald', 'Bangs', 'Receding_Hairline', 'Black_Hair', 'Blond_Hair', 'Brown_Hair', 'Gray_Hair', 'Straight_Hair', 'Wavy_Hair', 'No_Beard', 'Goatee', 'Mustache', 'Sideburns', 'Narrow_Eyes', 'Oval_Face', 'Pale_Skin', 'Pointy_Nose', 'Eyeglasses', 'Heavy_Makeup', 'Wearing_Lipstick']\n"
     ]
    }
   ],
   "source": [
    "print(column_names)"
   ]
  },
  {
   "cell_type": "code",
   "execution_count": 31,
   "metadata": {},
   "outputs": [
    {
     "name": "stdout",
     "output_type": "stream",
     "text": [
      "Unexpected exception formatting exception. Falling back to standard exception\n"
     ]
    },
    {
     "name": "stderr",
     "output_type": "stream",
     "text": [
      "Traceback (most recent call last):\n",
      "  File \"/home/mate/.local/lib/python3.8/site-packages/IPython/core/interactiveshell.py\", line 3508, in run_code\n",
      "    exec(code_obj, self.user_global_ns, self.user_ns)\n",
      "  File \"/tmp/ipykernel_16719/673374644.py\", line 1, in <module>\n",
      "    print(attribute_df)\n",
      "  File \"/home/mate/.local/lib/python3.8/site-packages/pandas/core/frame.py\", line 1094, in __repr__\n",
      "  File \"/home/mate/.local/lib/python3.8/site-packages/pandas/core/frame.py\", line 1271, in to_string\n",
      "  File \"/home/mate/.local/lib/python3.8/site-packages/pandas/io/formats/format.py\", line 1131, in to_string\n",
      "ModuleNotFoundError: No module named 'pandas.io.formats.string'\n",
      "\n",
      "During handling of the above exception, another exception occurred:\n",
      "\n",
      "Traceback (most recent call last):\n",
      "  File \"/home/mate/.local/lib/python3.8/site-packages/pygments/styles/__init__.py\", line 45, in get_style_by_name\n",
      "ModuleNotFoundError: No module named 'pygments.styles.default'\n",
      "\n",
      "During handling of the above exception, another exception occurred:\n",
      "\n",
      "Traceback (most recent call last):\n",
      "  File \"/home/mate/.local/lib/python3.8/site-packages/IPython/core/interactiveshell.py\", line 2105, in showtraceback\n",
      "    stb = self.InteractiveTB.structured_traceback(\n",
      "  File \"/home/mate/.local/lib/python3.8/site-packages/IPython/core/ultratb.py\", line 1396, in structured_traceback\n",
      "    return FormattedTB.structured_traceback(\n",
      "  File \"/home/mate/.local/lib/python3.8/site-packages/IPython/core/ultratb.py\", line 1287, in structured_traceback\n",
      "    return VerboseTB.structured_traceback(\n",
      "  File \"/home/mate/.local/lib/python3.8/site-packages/IPython/core/ultratb.py\", line 1140, in structured_traceback\n",
      "    formatted_exception = self.format_exception_as_a_whole(etype, evalue, etb, number_of_lines_of_context,\n",
      "  File \"/home/mate/.local/lib/python3.8/site-packages/IPython/core/ultratb.py\", line 1030, in format_exception_as_a_whole\n",
      "    self.get_records(etb, number_of_lines_of_context, tb_offset) if etb else []\n",
      "  File \"/home/mate/.local/lib/python3.8/site-packages/IPython/core/ultratb.py\", line 1081, in get_records\n",
      "    style = get_style_by_name(\"default\")\n",
      "  File \"/home/mate/.local/lib/python3.8/site-packages/pygments/styles/__init__.py\", line 47, in get_style_by_name\n",
      "pygments.util.ClassNotFound: Could not find style module 'pygments.styles.default', though it should be builtin.\n"
     ]
    }
   ],
   "source": [
    "print(attribute_df)"
   ]
  },
  {
   "cell_type": "code",
   "execution_count": 8,
   "metadata": {},
   "outputs": [
    {
     "name": "stderr",
     "output_type": "stream",
     "text": [
      "Clipping input data to the valid range for imshow with RGB data ([0..1] for floats or [0..255] for integers).\n"
     ]
    },
    {
     "data": {
      "text/plain": [
       "<matplotlib.image.AxesImage at 0x7fae794058e0>"
      ]
     },
     "execution_count": 8,
     "metadata": {},
     "output_type": "execute_result"
    },
    {
     "data": {
      "image/png": "[encoded data removed]",
      "text/plain": [
       "<Figure size 640x480 with 1 Axes>"
      ]
     },
     "metadata": {},
     "output_type": "display_data"
    }
   ],
   "source": [
    "# open 998.npy from /mnt/g/data/latents/all\n",
    "l = np.load('/mnt/g/data/latents/all/998.npy')\n",
    "\n",
    "import matplotlib.pyplot as plt\n",
    "\n",
    "l = l * 2 - 1\n",
    "\n",
    "# permute to (3, 64, 64)\n",
    "l = l.transpose(1, 2, 0)\n",
    "\n",
    "plt.imshow(l)"
   ]
  },
  {
   "cell_type": "code",
   "execution_count": 1,
   "metadata": {},
   "outputs": [],
   "source": [
    "from dataset.latent_image_dataset import LatentImageDataset"
   ]
  },
  {
   "cell_type": "code",
   "execution_count": 2,
   "metadata": {},
   "outputs": [
    {
     "name": "stderr",
     "output_type": "stream",
     "text": [
      "/mnt/d/projects/conditional_stable_diffusion/face-diffusion/dataset/latent_image_dataset.py:36: DtypeWarning: Columns (2,3,4,5,6,7,8,9,10,11,12,13,14,15,16,17,18,19,20,21,22,23) have mixed types. Specify dtype option on import or set low_memory=False.\n",
      "  attributes_df = pd.read_csv(os.path.join(self.latent_path, 'attributes.csv'))\n"
     ]
    }
   ],
   "source": [
    "im_dataset = LatentImageDataset('/mnt/c/latents/ddim_250', split='val', target_attributes=['Eyeglasses'])"
   ]
  },
  {
   "cell_type": "code",
   "execution_count": 3,
   "metadata": {},
   "outputs": [
    {
     "name": "stdout",
     "output_type": "stream",
     "text": [
      "39920\n"
     ]
    }
   ],
   "source": [
    "print(len(im_dataset))"
   ]
  },
  {
   "cell_type": "code",
   "execution_count": 4,
   "metadata": {},
   "outputs": [
    {
     "data": {
      "text/plain": [
       "(tensor([[[-1.8368, -0.9898, -1.3912,  ..., -0.6554, -1.2945, -0.1841],\n",
       "          [-2.7461, -1.6730, -1.9973,  ..., -1.0218, -0.8115, -0.6513],\n",
       "          [-2.1932, -1.3609, -1.7245,  ..., -2.2034, -0.6507, -0.6160],\n",
       "          ...,\n",
       "          [-2.5290, -1.7140, -1.8653,  ..., -1.9337, -1.9300, -1.2450],\n",
       "          [-2.1921, -1.6509, -2.0105,  ..., -1.1771, -2.0275, -1.2554],\n",
       "          [-2.8260, -2.3177, -2.5368,  ..., -2.3687, -2.5303, -1.5309]],\n",
       " \n",
       "         [[-1.7568, -1.1814, -0.7073,  ..., -0.2980, -0.7626, -0.3605],\n",
       "          [-1.7510, -1.0399, -1.1341,  ..., -0.0544, -0.1977,  0.0357],\n",
       "          [-1.5450, -0.5794, -1.3625,  ..., -1.5450, -0.8618,  0.4438],\n",
       "          ...,\n",
       "          [-1.2487, -2.0847, -1.2474,  ..., -0.9457, -1.4755, -1.4772],\n",
       "          [-1.5364, -1.8509, -1.9987,  ..., -1.8321, -1.6882, -1.6573],\n",
       "          [-1.3825, -1.3506, -1.6045,  ..., -1.0347, -1.2519, -0.9979]],\n",
       " \n",
       "         [[ 0.7269,  0.5281,  0.1621,  ...,  0.0431,  0.2129,  0.1680],\n",
       "          [ 0.8638,  0.3152,  0.3142,  ..., -0.1747, -0.0468, -0.1596],\n",
       "          [ 0.5326,  0.0899,  0.5051,  ...,  0.5308,  0.3897, -0.4019],\n",
       "          ...,\n",
       "          [ 0.2889,  0.9512,  0.4076,  ...,  0.2101,  0.5369,  0.6644],\n",
       "          [ 0.5285,  0.8162,  0.8433,  ...,  0.8897,  0.6509,  0.7707],\n",
       "          [ 0.3253,  0.3928,  0.5106,  ...,  0.1862,  0.2933,  0.3173]]]),\n",
       " tensor([[[0.]]]))"
      ]
     },
     "execution_count": 4,
     "metadata": {},
     "output_type": "execute_result"
    }
   ],
   "source": [
    "im_dataset[0]"
   ]
  },
  {
   "cell_type": "code",
   "execution_count": 11,
   "metadata": {},
   "outputs": [],
   "source": [
    "from torch.utils.data import DataLoader\n",
    "\n",
    "im_loader = DataLoader(im_dataset, batch_size=1024, shuffle=False)"
   ]
  },
  {
   "cell_type": "code",
   "execution_count": 13,
   "metadata": {},
   "outputs": [
    {
     "name": "stdout",
     "output_type": "stream",
     "text": [
      "tensor([[[[1.]]],\n",
      "\n",
      "\n",
      "        [[[1.]]],\n",
      "\n",
      "\n",
      "        [[[0.]]],\n",
      "\n",
      "\n",
      "        ...,\n",
      "\n",
      "\n",
      "        [[[1.]]],\n",
      "\n",
      "\n",
      "        [[[0.]]],\n",
      "\n",
      "\n",
      "        [[[1.]]]])\n"
     ]
    },
    {
     "ename": "KeyboardInterrupt",
     "evalue": "",
     "output_type": "error",
     "traceback": [
      "\u001b[0;31m---------------------------------------------------------------------------\u001b[0m",
      "\u001b[0;31mKeyboardInterrupt\u001b[0m                         Traceback (most recent call last)",
      "Cell \u001b[0;32mIn[13], line 4\u001b[0m\n\u001b[1;32m      1\u001b[0m eyeglasses \u001b[38;5;241m=\u001b[39m \u001b[38;5;28;01mFalse\u001b[39;00m\n\u001b[1;32m      2\u001b[0m no_eyeglasses \u001b[38;5;241m=\u001b[39m \u001b[38;5;28;01mFalse\u001b[39;00m\n\u001b[0;32m----> 4\u001b[0m \u001b[38;5;28;01mfor\u001b[39;00m l, a \u001b[38;5;129;01min\u001b[39;00m im_loader:\n\u001b[1;32m      5\u001b[0m     \u001b[38;5;66;03m# if eyeglasses is present\u001b[39;00m\n\u001b[1;32m      6\u001b[0m     \u001b[38;5;28mprint\u001b[39m(a)\n\u001b[1;32m      9\u001b[0m \u001b[38;5;28mprint\u001b[39m(eyeglasses, no_eyeglasses)\n",
      "File \u001b[0;32m~/miniconda3/envs/stable_diffusion/lib/python3.8/site-packages/torch/utils/data/dataloader.py:652\u001b[0m, in \u001b[0;36m_BaseDataLoaderIter.__next__\u001b[0;34m(self)\u001b[0m\n\u001b[1;32m    649\u001b[0m \u001b[38;5;28;01mif\u001b[39;00m \u001b[38;5;28mself\u001b[39m\u001b[38;5;241m.\u001b[39m_sampler_iter \u001b[38;5;129;01mis\u001b[39;00m \u001b[38;5;28;01mNone\u001b[39;00m:\n\u001b[1;32m    650\u001b[0m     \u001b[38;5;66;03m# TODO(https://github.com/pytorch/pytorch/issues/76750)\u001b[39;00m\n\u001b[1;32m    651\u001b[0m     \u001b[38;5;28mself\u001b[39m\u001b[38;5;241m.\u001b[39m_reset()  \u001b[38;5;66;03m# type: ignore[call-arg]\u001b[39;00m\n\u001b[0;32m--> 652\u001b[0m data \u001b[38;5;241m=\u001b[39m \u001b[38;5;28;43mself\u001b[39;49m\u001b[38;5;241;43m.\u001b[39;49m\u001b[43m_next_data\u001b[49m\u001b[43m(\u001b[49m\u001b[43m)\u001b[49m\n\u001b[1;32m    653\u001b[0m \u001b[38;5;28mself\u001b[39m\u001b[38;5;241m.\u001b[39m_num_yielded \u001b[38;5;241m+\u001b[39m\u001b[38;5;241m=\u001b[39m \u001b[38;5;241m1\u001b[39m\n\u001b[1;32m    654\u001b[0m \u001b[38;5;28;01mif\u001b[39;00m \u001b[38;5;28mself\u001b[39m\u001b[38;5;241m.\u001b[39m_dataset_kind \u001b[38;5;241m==\u001b[39m _DatasetKind\u001b[38;5;241m.\u001b[39mIterable \u001b[38;5;129;01mand\u001b[39;00m \\\n\u001b[1;32m    655\u001b[0m         \u001b[38;5;28mself\u001b[39m\u001b[38;5;241m.\u001b[39m_IterableDataset_len_called \u001b[38;5;129;01mis\u001b[39;00m \u001b[38;5;129;01mnot\u001b[39;00m \u001b[38;5;28;01mNone\u001b[39;00m \u001b[38;5;129;01mand\u001b[39;00m \\\n\u001b[1;32m    656\u001b[0m         \u001b[38;5;28mself\u001b[39m\u001b[38;5;241m.\u001b[39m_num_yielded \u001b[38;5;241m>\u001b[39m \u001b[38;5;28mself\u001b[39m\u001b[38;5;241m.\u001b[39m_IterableDataset_len_called:\n",
      "File \u001b[0;32m~/miniconda3/envs/stable_diffusion/lib/python3.8/site-packages/torch/utils/data/dataloader.py:692\u001b[0m, in \u001b[0;36m_SingleProcessDataLoaderIter._next_data\u001b[0;34m(self)\u001b[0m\n\u001b[1;32m    690\u001b[0m \u001b[38;5;28;01mdef\u001b[39;00m \u001b[38;5;21m_next_data\u001b[39m(\u001b[38;5;28mself\u001b[39m):\n\u001b[1;32m    691\u001b[0m     index \u001b[38;5;241m=\u001b[39m \u001b[38;5;28mself\u001b[39m\u001b[38;5;241m.\u001b[39m_next_index()  \u001b[38;5;66;03m# may raise StopIteration\u001b[39;00m\n\u001b[0;32m--> 692\u001b[0m     data \u001b[38;5;241m=\u001b[39m \u001b[38;5;28;43mself\u001b[39;49m\u001b[38;5;241;43m.\u001b[39;49m\u001b[43m_dataset_fetcher\u001b[49m\u001b[38;5;241;43m.\u001b[39;49m\u001b[43mfetch\u001b[49m\u001b[43m(\u001b[49m\u001b[43mindex\u001b[49m\u001b[43m)\u001b[49m  \u001b[38;5;66;03m# may raise StopIteration\u001b[39;00m\n\u001b[1;32m    693\u001b[0m     \u001b[38;5;28;01mif\u001b[39;00m \u001b[38;5;28mself\u001b[39m\u001b[38;5;241m.\u001b[39m_pin_memory:\n\u001b[1;32m    694\u001b[0m         data \u001b[38;5;241m=\u001b[39m _utils\u001b[38;5;241m.\u001b[39mpin_memory\u001b[38;5;241m.\u001b[39mpin_memory(data, \u001b[38;5;28mself\u001b[39m\u001b[38;5;241m.\u001b[39m_pin_memory_device)\n",
      "File \u001b[0;32m~/miniconda3/envs/stable_diffusion/lib/python3.8/site-packages/torch/utils/data/_utils/fetch.py:49\u001b[0m, in \u001b[0;36m_MapDatasetFetcher.fetch\u001b[0;34m(self, possibly_batched_index)\u001b[0m\n\u001b[1;32m     47\u001b[0m \u001b[38;5;28;01mdef\u001b[39;00m \u001b[38;5;21mfetch\u001b[39m(\u001b[38;5;28mself\u001b[39m, possibly_batched_index):\n\u001b[1;32m     48\u001b[0m     \u001b[38;5;28;01mif\u001b[39;00m \u001b[38;5;28mself\u001b[39m\u001b[38;5;241m.\u001b[39mauto_collation:\n\u001b[0;32m---> 49\u001b[0m         data \u001b[38;5;241m=\u001b[39m [\u001b[38;5;28mself\u001b[39m\u001b[38;5;241m.\u001b[39mdataset[idx] \u001b[38;5;28;01mfor\u001b[39;00m idx \u001b[38;5;129;01min\u001b[39;00m possibly_batched_index]\n\u001b[1;32m     50\u001b[0m     \u001b[38;5;28;01melse\u001b[39;00m:\n\u001b[1;32m     51\u001b[0m         data \u001b[38;5;241m=\u001b[39m \u001b[38;5;28mself\u001b[39m\u001b[38;5;241m.\u001b[39mdataset[possibly_batched_index]\n",
      "File \u001b[0;32m~/miniconda3/envs/stable_diffusion/lib/python3.8/site-packages/torch/utils/data/_utils/fetch.py:49\u001b[0m, in \u001b[0;36m<listcomp>\u001b[0;34m(.0)\u001b[0m\n\u001b[1;32m     47\u001b[0m \u001b[38;5;28;01mdef\u001b[39;00m \u001b[38;5;21mfetch\u001b[39m(\u001b[38;5;28mself\u001b[39m, possibly_batched_index):\n\u001b[1;32m     48\u001b[0m     \u001b[38;5;28;01mif\u001b[39;00m \u001b[38;5;28mself\u001b[39m\u001b[38;5;241m.\u001b[39mauto_collation:\n\u001b[0;32m---> 49\u001b[0m         data \u001b[38;5;241m=\u001b[39m [\u001b[38;5;28;43mself\u001b[39;49m\u001b[38;5;241;43m.\u001b[39;49m\u001b[43mdataset\u001b[49m\u001b[43m[\u001b[49m\u001b[43midx\u001b[49m\u001b[43m]\u001b[49m \u001b[38;5;28;01mfor\u001b[39;00m idx \u001b[38;5;129;01min\u001b[39;00m possibly_batched_index]\n\u001b[1;32m     50\u001b[0m     \u001b[38;5;28;01melse\u001b[39;00m:\n\u001b[1;32m     51\u001b[0m         data \u001b[38;5;241m=\u001b[39m \u001b[38;5;28mself\u001b[39m\u001b[38;5;241m.\u001b[39mdataset[possibly_batched_index]\n",
      "File \u001b[0;32m/mnt/d/projects/conditional_stable_diffusion/face-diffusion/dataset/latent_image_dataset.py:67\u001b[0m, in \u001b[0;36mLatentImageDataset.__getitem__\u001b[0;34m(self, index)\u001b[0m\n\u001b[1;32m     64\u001b[0m attribute \u001b[38;5;241m=\u001b[39m \u001b[38;5;28mself\u001b[39m\u001b[38;5;241m.\u001b[39mattributes[\u001b[38;5;28mself\u001b[39m\u001b[38;5;241m.\u001b[39mattributes[\u001b[38;5;124m'\u001b[39m\u001b[38;5;124mfile_name\u001b[39m\u001b[38;5;124m'\u001b[39m] \u001b[38;5;241m==\u001b[39m latent]\n\u001b[1;32m     66\u001b[0m \u001b[38;5;66;03m# load the image\u001b[39;00m\n\u001b[0;32m---> 67\u001b[0m latent \u001b[38;5;241m=\u001b[39m \u001b[43mnp\u001b[49m\u001b[38;5;241;43m.\u001b[39;49m\u001b[43mload\u001b[49m\u001b[43m(\u001b[49m\u001b[43mos\u001b[49m\u001b[38;5;241;43m.\u001b[39;49m\u001b[43mpath\u001b[49m\u001b[38;5;241;43m.\u001b[39;49m\u001b[43mjoin\u001b[49m\u001b[43m(\u001b[49m\u001b[38;5;28;43mself\u001b[39;49m\u001b[38;5;241;43m.\u001b[39;49m\u001b[43mlatent_path\u001b[49m\u001b[43m,\u001b[49m\u001b[43m \u001b[49m\u001b[43mlatent\u001b[49m\u001b[43m)\u001b[49m\u001b[43m)\u001b[49m\n\u001b[1;32m     69\u001b[0m attribute \u001b[38;5;241m=\u001b[39m attribute\u001b[38;5;241m.\u001b[39mdrop(columns\u001b[38;5;241m=\u001b[39m[\u001b[38;5;124m'\u001b[39m\u001b[38;5;124mfile_name\u001b[39m\u001b[38;5;124m'\u001b[39m])\u001b[38;5;241m.\u001b[39mvalues\n\u001b[1;32m     71\u001b[0m \u001b[38;5;66;03m# change the type to float\u001b[39;00m\n",
      "File \u001b[0;32m~/miniconda3/envs/stable_diffusion/lib/python3.8/site-packages/numpy/lib/npyio.py:432\u001b[0m, in \u001b[0;36mload\u001b[0;34m(file, mmap_mode, allow_pickle, fix_imports, encoding, max_header_size)\u001b[0m\n\u001b[1;32m    429\u001b[0m         \u001b[38;5;28;01mreturn\u001b[39;00m \u001b[38;5;28mformat\u001b[39m\u001b[38;5;241m.\u001b[39mopen_memmap(file, mode\u001b[38;5;241m=\u001b[39mmmap_mode,\n\u001b[1;32m    430\u001b[0m                                   max_header_size\u001b[38;5;241m=\u001b[39mmax_header_size)\n\u001b[1;32m    431\u001b[0m     \u001b[38;5;28;01melse\u001b[39;00m:\n\u001b[0;32m--> 432\u001b[0m         \u001b[38;5;28;01mreturn\u001b[39;00m \u001b[38;5;28;43mformat\u001b[39;49m\u001b[38;5;241;43m.\u001b[39;49m\u001b[43mread_array\u001b[49m\u001b[43m(\u001b[49m\u001b[43mfid\u001b[49m\u001b[43m,\u001b[49m\u001b[43m \u001b[49m\u001b[43mallow_pickle\u001b[49m\u001b[38;5;241;43m=\u001b[39;49m\u001b[43mallow_pickle\u001b[49m\u001b[43m,\u001b[49m\n\u001b[1;32m    433\u001b[0m \u001b[43m                                 \u001b[49m\u001b[43mpickle_kwargs\u001b[49m\u001b[38;5;241;43m=\u001b[39;49m\u001b[43mpickle_kwargs\u001b[49m\u001b[43m,\u001b[49m\n\u001b[1;32m    434\u001b[0m \u001b[43m                                 \u001b[49m\u001b[43mmax_header_size\u001b[49m\u001b[38;5;241;43m=\u001b[39;49m\u001b[43mmax_header_size\u001b[49m\u001b[43m)\u001b[49m\n\u001b[1;32m    435\u001b[0m \u001b[38;5;28;01melse\u001b[39;00m:\n\u001b[1;32m    436\u001b[0m     \u001b[38;5;66;03m# Try a pickle\u001b[39;00m\n\u001b[1;32m    437\u001b[0m     \u001b[38;5;28;01mif\u001b[39;00m \u001b[38;5;129;01mnot\u001b[39;00m allow_pickle:\n",
      "File \u001b[0;32m~/miniconda3/envs/stable_diffusion/lib/python3.8/site-packages/numpy/lib/format.py:790\u001b[0m, in \u001b[0;36mread_array\u001b[0;34m(fp, allow_pickle, pickle_kwargs, max_header_size)\u001b[0m\n\u001b[1;32m    787\u001b[0m \u001b[38;5;28;01melse\u001b[39;00m:\n\u001b[1;32m    788\u001b[0m     \u001b[38;5;28;01mif\u001b[39;00m isfileobj(fp):\n\u001b[1;32m    789\u001b[0m         \u001b[38;5;66;03m# We can use the fast fromfile() function.\u001b[39;00m\n\u001b[0;32m--> 790\u001b[0m         array \u001b[38;5;241m=\u001b[39m \u001b[43mnumpy\u001b[49m\u001b[38;5;241;43m.\u001b[39;49m\u001b[43mfromfile\u001b[49m\u001b[43m(\u001b[49m\u001b[43mfp\u001b[49m\u001b[43m,\u001b[49m\u001b[43m \u001b[49m\u001b[43mdtype\u001b[49m\u001b[38;5;241;43m=\u001b[39;49m\u001b[43mdtype\u001b[49m\u001b[43m,\u001b[49m\u001b[43m \u001b[49m\u001b[43mcount\u001b[49m\u001b[38;5;241;43m=\u001b[39;49m\u001b[43mcount\u001b[49m\u001b[43m)\u001b[49m\n\u001b[1;32m    791\u001b[0m     \u001b[38;5;28;01melse\u001b[39;00m:\n\u001b[1;32m    792\u001b[0m         \u001b[38;5;66;03m# This is not a real file. We have to read it the\u001b[39;00m\n\u001b[1;32m    793\u001b[0m         \u001b[38;5;66;03m# memory-intensive way.\u001b[39;00m\n\u001b[0;32m   (...)\u001b[0m\n\u001b[1;32m    801\u001b[0m         \u001b[38;5;66;03m# not correctly instantiate zero-width string dtypes; see\u001b[39;00m\n\u001b[1;32m    802\u001b[0m         \u001b[38;5;66;03m# https://github.com/numpy/numpy/pull/6430\u001b[39;00m\n\u001b[1;32m    803\u001b[0m         array \u001b[38;5;241m=\u001b[39m numpy\u001b[38;5;241m.\u001b[39mndarray(count, dtype\u001b[38;5;241m=\u001b[39mdtype)\n",
      "\u001b[0;31mKeyboardInterrupt\u001b[0m: "
     ]
    }
   ],
   "source": [
    "eyeglasses = False\n",
    "no_eyeglasses = False\n",
    "\n",
    "for l, a in im_loader:\n",
    "    # if eyeglasses is present\n",
    "    print(a)\n",
    "    \n",
    "\n",
    "print(eyeglasses, no_eyeglasses)"
   ]
  },
  {
   "cell_type": "code",
   "execution_count": 1,
   "metadata": {},
   "outputs": [
    {
     "name": "stderr",
     "output_type": "stream",
     "text": [
      "/tmp/ipykernel_592/3593556655.py:3: DtypeWarning: Columns (0,3,4,5,6,7,8,9,10,11,12,13,14,15,16,17,18,19,20,21,22,23,24) have mixed types. Specify dtype option on import or set low_memory=False.\n",
      "  df = pd.read_csv('/mnt/g/data/latents/all/attributes.csv')\n"
     ]
    }
   ],
   "source": [
    "import pandas as pd\n",
    "\n",
    "df = pd.read_csv('/mnt/g/data/latents/all/attributes.csv')\n",
    "\n"
   ]
  },
  {
   "cell_type": "code",
   "execution_count": 2,
   "metadata": {},
   "outputs": [
    {
     "data": {
      "text/plain": [
       "2000039"
      ]
     },
     "execution_count": 2,
     "metadata": {},
     "output_type": "execute_result"
    }
   ],
   "source": [
    "len(df)"
   ]
  },
  {
   "cell_type": "code",
   "execution_count": 3,
   "metadata": {},
   "outputs": [],
   "source": [
    "df = df[df['file_name'] != 'file_name']"
   ]
  },
  {
   "cell_type": "code",
   "execution_count": 4,
   "metadata": {},
   "outputs": [
    {
     "data": {
      "text/plain": [
       "2000000"
      ]
     },
     "execution_count": 4,
     "metadata": {},
     "output_type": "execute_result"
    }
   ],
   "source": [
    "len(df)"
   ]
  },
  {
   "cell_type": "code",
   "execution_count": 5,
   "metadata": {},
   "outputs": [],
   "source": [
    "# add a column for id\n",
    "df['id'] = df['file_name'].apply(lambda x: int(x.split('.')[0]))"
   ]
  },
  {
   "cell_type": "code",
   "execution_count": 6,
   "metadata": {},
   "outputs": [
    {
     "data": {
      "text/html": [
       "<div>\n",
       "<style scoped>\n",
       "    .dataframe tbody tr th:only-of-type {\n",
       "        vertical-align: middle;\n",
       "    }\n",
       "\n",
       "    .dataframe tbody tr th {\n",
       "        vertical-align: top;\n",
       "    }\n",
       "\n",
       "    .dataframe thead th {\n",
       "        text-align: right;\n",
       "    }\n",
       "</style>\n",
       "<table border=\"1\" class=\"dataframe\">\n",
       "  <thead>\n",
       "    <tr style=\"text-align: right;\">\n",
       "      <th></th>\n",
       "      <th>id</th>\n",
       "      <th>file_name</th>\n",
       "      <th>origin_name</th>\n",
       "      <th>Male</th>\n",
       "      <th>Young</th>\n",
       "      <th>Bald</th>\n",
       "      <th>Bangs</th>\n",
       "      <th>Receding_Hairline</th>\n",
       "      <th>Black_Hair</th>\n",
       "      <th>Blond_Hair</th>\n",
       "      <th>...</th>\n",
       "      <th>Goatee</th>\n",
       "      <th>Mustache</th>\n",
       "      <th>Sideburns</th>\n",
       "      <th>Narrow_Eyes</th>\n",
       "      <th>Oval_Face</th>\n",
       "      <th>Pale_Skin</th>\n",
       "      <th>Pointy_Nose</th>\n",
       "      <th>Eyeglasses</th>\n",
       "      <th>Heavy_Makeup</th>\n",
       "      <th>Wearing_Lipstick</th>\n",
       "    </tr>\n",
       "  </thead>\n",
       "  <tbody>\n",
       "    <tr>\n",
       "      <th>0</th>\n",
       "      <td>0</td>\n",
       "      <td>0.npy</td>\n",
       "      <td>ddim_inter_latents/all/latents_glasses_interme...</td>\n",
       "      <td>1.0</td>\n",
       "      <td>0.0</td>\n",
       "      <td>1.0</td>\n",
       "      <td>0.0</td>\n",
       "      <td>0.0</td>\n",
       "      <td>0.0</td>\n",
       "      <td>0.0</td>\n",
       "      <td>...</td>\n",
       "      <td>0.0</td>\n",
       "      <td>0.0</td>\n",
       "      <td>0.0</td>\n",
       "      <td>0.0</td>\n",
       "      <td>1.0</td>\n",
       "      <td>0.0</td>\n",
       "      <td>1.0</td>\n",
       "      <td>0.0</td>\n",
       "      <td>0.0</td>\n",
       "      <td>0.0</td>\n",
       "    </tr>\n",
       "    <tr>\n",
       "      <th>1</th>\n",
       "      <td>1</td>\n",
       "      <td>1.npy</td>\n",
       "      <td>ddim_inter_latents/all/latents_glasses_interme...</td>\n",
       "      <td>1.0</td>\n",
       "      <td>0.0</td>\n",
       "      <td>1.0</td>\n",
       "      <td>0.0</td>\n",
       "      <td>0.0</td>\n",
       "      <td>0.0</td>\n",
       "      <td>0.0</td>\n",
       "      <td>...</td>\n",
       "      <td>0.0</td>\n",
       "      <td>0.0</td>\n",
       "      <td>0.0</td>\n",
       "      <td>0.0</td>\n",
       "      <td>1.0</td>\n",
       "      <td>0.0</td>\n",
       "      <td>1.0</td>\n",
       "      <td>0.0</td>\n",
       "      <td>0.0</td>\n",
       "      <td>0.0</td>\n",
       "    </tr>\n",
       "    <tr>\n",
       "      <th>2</th>\n",
       "      <td>2</td>\n",
       "      <td>2.npy</td>\n",
       "      <td>ddim_inter_latents/all/latents_glasses_interme...</td>\n",
       "      <td>1.0</td>\n",
       "      <td>0.0</td>\n",
       "      <td>1.0</td>\n",
       "      <td>0.0</td>\n",
       "      <td>0.0</td>\n",
       "      <td>0.0</td>\n",
       "      <td>0.0</td>\n",
       "      <td>...</td>\n",
       "      <td>0.0</td>\n",
       "      <td>0.0</td>\n",
       "      <td>0.0</td>\n",
       "      <td>0.0</td>\n",
       "      <td>1.0</td>\n",
       "      <td>0.0</td>\n",
       "      <td>1.0</td>\n",
       "      <td>0.0</td>\n",
       "      <td>0.0</td>\n",
       "      <td>0.0</td>\n",
       "    </tr>\n",
       "    <tr>\n",
       "      <th>3</th>\n",
       "      <td>3</td>\n",
       "      <td>3.npy</td>\n",
       "      <td>ddim_inter_latents/all/latents_glasses_interme...</td>\n",
       "      <td>1.0</td>\n",
       "      <td>0.0</td>\n",
       "      <td>1.0</td>\n",
       "      <td>0.0</td>\n",
       "      <td>0.0</td>\n",
       "      <td>0.0</td>\n",
       "      <td>0.0</td>\n",
       "      <td>...</td>\n",
       "      <td>0.0</td>\n",
       "      <td>0.0</td>\n",
       "      <td>0.0</td>\n",
       "      <td>0.0</td>\n",
       "      <td>1.0</td>\n",
       "      <td>0.0</td>\n",
       "      <td>1.0</td>\n",
       "      <td>0.0</td>\n",
       "      <td>0.0</td>\n",
       "      <td>0.0</td>\n",
       "    </tr>\n",
       "    <tr>\n",
       "      <th>4</th>\n",
       "      <td>4</td>\n",
       "      <td>4.npy</td>\n",
       "      <td>ddim_inter_latents/all/latents_glasses_interme...</td>\n",
       "      <td>1.0</td>\n",
       "      <td>0.0</td>\n",
       "      <td>1.0</td>\n",
       "      <td>0.0</td>\n",
       "      <td>0.0</td>\n",
       "      <td>0.0</td>\n",
       "      <td>0.0</td>\n",
       "      <td>...</td>\n",
       "      <td>0.0</td>\n",
       "      <td>0.0</td>\n",
       "      <td>0.0</td>\n",
       "      <td>0.0</td>\n",
       "      <td>1.0</td>\n",
       "      <td>0.0</td>\n",
       "      <td>1.0</td>\n",
       "      <td>0.0</td>\n",
       "      <td>0.0</td>\n",
       "      <td>0.0</td>\n",
       "    </tr>\n",
       "  </tbody>\n",
       "</table>\n",
       "<p>5 rows × 25 columns</p>\n",
       "</div>"
      ],
      "text/plain": [
       "   id file_name                                        origin_name Male Young  \\\n",
       "0   0     0.npy  ddim_inter_latents/all/latents_glasses_interme...  1.0   0.0   \n",
       "1   1     1.npy  ddim_inter_latents/all/latents_glasses_interme...  1.0   0.0   \n",
       "2   2     2.npy  ddim_inter_latents/all/latents_glasses_interme...  1.0   0.0   \n",
       "3   3     3.npy  ddim_inter_latents/all/latents_glasses_interme...  1.0   0.0   \n",
       "4   4     4.npy  ddim_inter_latents/all/latents_glasses_interme...  1.0   0.0   \n",
       "\n",
       "  Bald Bangs Receding_Hairline Black_Hair Blond_Hair  ... Goatee Mustache  \\\n",
       "0  1.0   0.0               0.0        0.0        0.0  ...    0.0      0.0   \n",
       "1  1.0   0.0               0.0        0.0        0.0  ...    0.0      0.0   \n",
       "2  1.0   0.0               0.0        0.0        0.0  ...    0.0      0.0   \n",
       "3  1.0   0.0               0.0        0.0        0.0  ...    0.0      0.0   \n",
       "4  1.0   0.0               0.0        0.0        0.0  ...    0.0      0.0   \n",
       "\n",
       "  Sideburns Narrow_Eyes Oval_Face Pale_Skin Pointy_Nose Eyeglasses  \\\n",
       "0       0.0         0.0       1.0       0.0         1.0        0.0   \n",
       "1       0.0         0.0       1.0       0.0         1.0        0.0   \n",
       "2       0.0         0.0       1.0       0.0         1.0        0.0   \n",
       "3       0.0         0.0       1.0       0.0         1.0        0.0   \n",
       "4       0.0         0.0       1.0       0.0         1.0        0.0   \n",
       "\n",
       "  Heavy_Makeup Wearing_Lipstick  \n",
       "0          0.0              0.0  \n",
       "1          0.0              0.0  \n",
       "2          0.0              0.0  \n",
       "3          0.0              0.0  \n",
       "4          0.0              0.0  \n",
       "\n",
       "[5 rows x 25 columns]"
      ]
     },
     "execution_count": 6,
     "metadata": {},
     "output_type": "execute_result"
    }
   ],
   "source": [
    "df.head()"
   ]
  },
  {
   "cell_type": "code",
   "execution_count": 7,
   "metadata": {},
   "outputs": [],
   "source": [
    "# check if index is equal to id in every row\n",
    "df['id'].equals(df.index)\n",
    "\n",
    "# correct index\n",
    "df.set_index('id', inplace=True)\n"
   ]
  },
  {
   "cell_type": "code",
   "execution_count": 12,
   "metadata": {},
   "outputs": [
    {
     "ename": "KeyError",
     "evalue": "'id'",
     "output_type": "error",
     "traceback": [
      "\u001b[0;31m---------------------------------------------------------------------------\u001b[0m",
      "\u001b[0;31mKeyError\u001b[0m                                  Traceback (most recent call last)",
      "File \u001b[0;32m~/miniconda3/envs/stable_diffusion/lib/python3.8/site-packages/pandas/core/indexes/base.py:3653\u001b[0m, in \u001b[0;36mIndex.get_loc\u001b[0;34m(self, key)\u001b[0m\n\u001b[1;32m   3652\u001b[0m \u001b[38;5;28;01mtry\u001b[39;00m:\n\u001b[0;32m-> 3653\u001b[0m     \u001b[38;5;28;01mreturn\u001b[39;00m \u001b[38;5;28;43mself\u001b[39;49m\u001b[38;5;241;43m.\u001b[39;49m\u001b[43m_engine\u001b[49m\u001b[38;5;241;43m.\u001b[39;49m\u001b[43mget_loc\u001b[49m\u001b[43m(\u001b[49m\u001b[43mcasted_key\u001b[49m\u001b[43m)\u001b[49m\n\u001b[1;32m   3654\u001b[0m \u001b[38;5;28;01mexcept\u001b[39;00m \u001b[38;5;167;01mKeyError\u001b[39;00m \u001b[38;5;28;01mas\u001b[39;00m err:\n",
      "File \u001b[0;32m~/miniconda3/envs/stable_diffusion/lib/python3.8/site-packages/pandas/_libs/index.pyx:147\u001b[0m, in \u001b[0;36mpandas._libs.index.IndexEngine.get_loc\u001b[0;34m()\u001b[0m\n",
      "File \u001b[0;32m~/miniconda3/envs/stable_diffusion/lib/python3.8/site-packages/pandas/_libs/index.pyx:176\u001b[0m, in \u001b[0;36mpandas._libs.index.IndexEngine.get_loc\u001b[0;34m()\u001b[0m\n",
      "File \u001b[0;32mpandas/_libs/hashtable_class_helper.pxi:7080\u001b[0m, in \u001b[0;36mpandas._libs.hashtable.PyObjectHashTable.get_item\u001b[0;34m()\u001b[0m\n",
      "File \u001b[0;32mpandas/_libs/hashtable_class_helper.pxi:7088\u001b[0m, in \u001b[0;36mpandas._libs.hashtable.PyObjectHashTable.get_item\u001b[0;34m()\u001b[0m\n",
      "\u001b[0;31mKeyError\u001b[0m: 'id'",
      "\nThe above exception was the direct cause of the following exception:\n",
      "\u001b[0;31mKeyError\u001b[0m                                  Traceback (most recent call last)",
      "Cell \u001b[0;32mIn[12], line 1\u001b[0m\n\u001b[0;32m----> 1\u001b[0m \u001b[43mdf\u001b[49m\u001b[43m[\u001b[49m\u001b[38;5;124;43m'\u001b[39;49m\u001b[38;5;124;43mid\u001b[39;49m\u001b[38;5;124;43m'\u001b[39;49m\u001b[43m]\u001b[49m\u001b[38;5;241m.\u001b[39mequals(df\u001b[38;5;241m.\u001b[39mindex)\n",
      "File \u001b[0;32m~/miniconda3/envs/stable_diffusion/lib/python3.8/site-packages/pandas/core/frame.py:3761\u001b[0m, in \u001b[0;36mDataFrame.__getitem__\u001b[0;34m(self, key)\u001b[0m\n\u001b[1;32m   3759\u001b[0m \u001b[38;5;28;01mif\u001b[39;00m \u001b[38;5;28mself\u001b[39m\u001b[38;5;241m.\u001b[39mcolumns\u001b[38;5;241m.\u001b[39mnlevels \u001b[38;5;241m>\u001b[39m \u001b[38;5;241m1\u001b[39m:\n\u001b[1;32m   3760\u001b[0m     \u001b[38;5;28;01mreturn\u001b[39;00m \u001b[38;5;28mself\u001b[39m\u001b[38;5;241m.\u001b[39m_getitem_multilevel(key)\n\u001b[0;32m-> 3761\u001b[0m indexer \u001b[38;5;241m=\u001b[39m \u001b[38;5;28;43mself\u001b[39;49m\u001b[38;5;241;43m.\u001b[39;49m\u001b[43mcolumns\u001b[49m\u001b[38;5;241;43m.\u001b[39;49m\u001b[43mget_loc\u001b[49m\u001b[43m(\u001b[49m\u001b[43mkey\u001b[49m\u001b[43m)\u001b[49m\n\u001b[1;32m   3762\u001b[0m \u001b[38;5;28;01mif\u001b[39;00m is_integer(indexer):\n\u001b[1;32m   3763\u001b[0m     indexer \u001b[38;5;241m=\u001b[39m [indexer]\n",
      "File \u001b[0;32m~/miniconda3/envs/stable_diffusion/lib/python3.8/site-packages/pandas/core/indexes/base.py:3655\u001b[0m, in \u001b[0;36mIndex.get_loc\u001b[0;34m(self, key)\u001b[0m\n\u001b[1;32m   3653\u001b[0m     \u001b[38;5;28;01mreturn\u001b[39;00m \u001b[38;5;28mself\u001b[39m\u001b[38;5;241m.\u001b[39m_engine\u001b[38;5;241m.\u001b[39mget_loc(casted_key)\n\u001b[1;32m   3654\u001b[0m \u001b[38;5;28;01mexcept\u001b[39;00m \u001b[38;5;167;01mKeyError\u001b[39;00m \u001b[38;5;28;01mas\u001b[39;00m err:\n\u001b[0;32m-> 3655\u001b[0m     \u001b[38;5;28;01mraise\u001b[39;00m \u001b[38;5;167;01mKeyError\u001b[39;00m(key) \u001b[38;5;28;01mfrom\u001b[39;00m \u001b[38;5;21;01merr\u001b[39;00m\n\u001b[1;32m   3656\u001b[0m \u001b[38;5;28;01mexcept\u001b[39;00m \u001b[38;5;167;01mTypeError\u001b[39;00m:\n\u001b[1;32m   3657\u001b[0m     \u001b[38;5;66;03m# If we have a listlike key, _check_indexing_error will raise\u001b[39;00m\n\u001b[1;32m   3658\u001b[0m     \u001b[38;5;66;03m#  InvalidIndexError. Otherwise we fall through and re-raise\u001b[39;00m\n\u001b[1;32m   3659\u001b[0m     \u001b[38;5;66;03m#  the TypeError.\u001b[39;00m\n\u001b[1;32m   3660\u001b[0m     \u001b[38;5;28mself\u001b[39m\u001b[38;5;241m.\u001b[39m_check_indexing_error(key)\n",
      "\u001b[0;31mKeyError\u001b[0m: 'id'"
     ]
    }
   ],
   "source": [
    "df['id'].equals(df.index)"
   ]
  },
  {
   "cell_type": "code",
   "execution_count": 8,
   "metadata": {},
   "outputs": [],
   "source": [
    "# save corrected csv\n",
    "df.to_csv('/mnt/g/data/latents/all/attributes.csv')"
   ]
  },
  {
   "cell_type": "code",
   "execution_count": 1,
   "metadata": {},
   "outputs": [
    {
     "name": "stderr",
     "output_type": "stream",
     "text": [
      "/mnt/g/projects/face-diffusion/dataset/latent_image_dataset.py:77: DtypeWarning: Columns (0,3,4,5,6,7,8,9,10,11,12,13,14,15,16,17,18,19,20,21,22) have mixed types. Specify dtype option on import or set low_memory=False.\n",
      "  attributes_df = pd.read_csv(os.path.join(self.latent_path, 'attributes.csv'))\n"
     ]
    }
   ],
   "source": [
    "from dataset.latent_image_dataset import LatentImageDataset\n",
    "\n",
    "im_dataset = LatentImageDataset('/mnt/g/data/latents/700/processed/big_nose', split='train', target_attributes=['Big_Nose'])"
   ]
  },
  {
   "cell_type": "code",
   "execution_count": 2,
   "metadata": {},
   "outputs": [
    {
     "name": "stderr",
     "output_type": "stream",
     "text": [
      "  0%|          | 0/450000 [00:00<?, ?it/s]"
     ]
    },
    {
     "name": "stderr",
     "output_type": "stream",
     "text": [
      "100%|██████████| 450000/450000 [1:07:45<00:00, 110.69it/s]\n"
     ]
    }
   ],
   "source": [
    "# calculate mean and std of images\n",
    "import torch\n",
    "from tqdm import tqdm\n",
    "\n",
    "mean = torch.zeros(3)\n",
    "std = torch.zeros(3)\n",
    "n = 0\n",
    "\n",
    "glasses = 0\n",
    "no_glasses = 0\n",
    "\n",
    "for l, a in tqdm(im_dataset, total=len(im_dataset)):\n",
    "\n",
    "    if a[0] == 1 and glasses < 1000000:\n",
    "        glasses += 1\n",
    "        mean += l.mean(dim=(1, 2))\n",
    "        std += l.std(dim=(1, 2))\n",
    "        n += 1\n",
    "    elif a[0] == 0 and no_glasses < 1000000:\n",
    "        no_glasses += 1\n",
    "        mean += l.mean(dim=(1, 2))\n",
    "        std += l.std(dim=(1, 2))\n",
    "        n += 1\n",
    "\n",
    "    \n",
    "\n",
    "\n",
    "\n",
    "mean /= n\n",
    "std /= n"
   ]
  },
  {
   "cell_type": "code",
   "execution_count": 3,
   "metadata": {},
   "outputs": [
    {
     "name": "stdout",
     "output_type": "stream",
     "text": [
      "tensor([-0.5027,  0.0582,  0.0977]) tensor([0.4988, 0.4093, 0.4814])\n"
     ]
    }
   ],
   "source": [
    "print(mean, std)"
   ]
  },
  {
   "cell_type": "markdown",
   "metadata": {},
   "source": [
    "300epoch - 200000k elemből\n",
    "\n",
    "tensor([-0.5047, -0.2201,  0.0777]) tensor([1.0066, 0.8887, 0.6669])\n"
   ]
  },
  {
   "cell_type": "markdown",
   "metadata": {},
   "source": [
    "700epoch - minden elemből - glasses\n",
    "\n",
    "tensor([0.0138, 0.3183, 0.0351]) tensor([0.5042, 0.4622, 0.7206])\n",
    "\n",
    "tensor([-0.4908,  0.0627,  0.1011]) tensor([0.5076, 0.4108, 0.4806])"
   ]
  },
  {
   "cell_type": "markdown",
   "metadata": {},
   "source": [
    "smiling\n",
    "\n",
    "tensor([-0.5099,  0.0534,  0.0902]) tensor([0.4977, 0.4097, 0.4811])"
   ]
  },
  {
   "cell_type": "markdown",
   "metadata": {},
   "source": [
    "chubby\n",
    "\n",
    "tensor([-0.4932,  0.0717,  0.0965]) tensor([0.5124, 0.4079, 0.4835])"
   ]
  },
  {
   "cell_type": "markdown",
   "metadata": {},
   "source": [
    "big nose\n",
    "tensor([-0.5027,  0.0582,  0.0977]) tensor([0.4988, 0.4093, 0.4814])"
   ]
  }
 ],
 "metadata": {
  "kernelspec": {
   "display_name": "stable_diffusion",
   "language": "python",
   "name": "python3"
  },
  "language_info": {
   "codemirror_mode": {
    "name": "ipython",
    "version": 3
   },
   "file_extension": ".py",
   "mimetype": "text/x-python",
   "name": "python",
   "nbconvert_exporter": "python",
   "pygments_lexer": "ipython3",
   "version": "3.8.19"
  }
 },
 "nbformat": 4,
 "nbformat_minor": 2
}
