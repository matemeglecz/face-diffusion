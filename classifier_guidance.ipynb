{
 "cells": [
  {
   "cell_type": "code",
   "execution_count": 1,
   "metadata": {},
   "outputs": [],
   "source": [
    "import torch\n",
    "import torchvision\n",
    "import argparse\n",
    "import yaml\n",
    "import os\n",
    "from torchvision.utils import make_grid\n",
    "from PIL import Image\n",
    "from tqdm import tqdm\n",
    "from models.unet_cond_base import Unet\n",
    "from models.vqvae import VQVAE\n",
    "from scheduler.linear_noise_scheduler import LinearNoiseScheduler\n",
    "from scheduler.linear_noise_scheduler_ddim import LinearNoiseSchedulerDDIM\n",
    "from utils.config_utils import *\n",
    "from collections import OrderedDict\n",
    "from datetime import datetime\n",
    "from tools.sample_ddpm_attr_cond import ddim_inversion\n",
    "from torchvision.transforms import Compose, Normalize\n",
    "\n",
    "device = torch.device('cuda' if torch.cuda.is_available() else 'cpu')\n",
    "\n",
    "# free gpu memory\n",
    "torch.cuda.empty_cache()"
   ]
  },
  {
   "cell_type": "code",
   "execution_count": 2,
   "metadata": {},
   "outputs": [],
   "source": [
    "def color_loss(images, target_color=(0.1, 0.9, 0.5)):\n",
    "    \"\"\"Given a target color (R, G, B) return a loss for how far away on average\n",
    "    the images' pixels are from that color. Defaults to a light teal: (0.1, 0.9, 0.5)\"\"\"\n",
    "    target = torch.tensor(target_color).to(images.device) * 2 - 1  # Map target color to (-1, 1)\n",
    "    target = target[None, :, None, None]  # Get shape right to work with the images (b, c, h, w)\n",
    "    error = torch.abs(images - target).mean()  # Mean absolute difference between the image pixels and the target color\n",
    "    return error"
   ]
  },
  {
   "cell_type": "code",
   "execution_count": 10,
   "metadata": {},
   "outputs": [],
   "source": [
    "def glasses_loss(x, classifier_model, device='cuda'):\n",
    "    # Create a resnet-18 model\n",
    "    \n",
    "    classifier_model.train()  # Ensure the model is in training mode\n",
    "\n",
    "    # Move the input tensor `x` to the correct device\n",
    "    x = x.to(device)\n",
    "\n",
    "    transforms = Compose([\n",
    "            #Normalize(mean=[-0.5047, -0.2201,  0.0777], std=[1.0066, 0.8887, 0.6669])\n",
    "            Normalize(mean=[-0.4908,  0.0627,  0.1011], std=[0.5076, 0.4108, 0.4806])\n",
    "        ])\n",
    "    x = transforms(x)\n",
    "\n",
    "    # Predict the glasses attribute\n",
    "    pred = classifier_model(x)\n",
    "\n",
    "    # Generate a target tensor with the same batch size as the input (assuming a binary classification task)\n",
    "    target = torch.ones(pred.size(0), 1).to(device)  # Assuming all targets are 1 (glasses present)\n",
    "\n",
    "    # Calculate the loss using Binary Cross Entropy\n",
    "    loss_fn = torch.nn.BCEWithLogitsLoss()\n",
    "    loss = loss_fn(pred, target)\n",
    "\n",
    "    # Return the loss with gradients enabled\n",
    "    return loss"
   ]
  },
  {
   "cell_type": "code",
   "execution_count": 27,
   "metadata": {},
   "outputs": [],
   "source": [
    "def sample(model, classifier_model, cond, scheduler, train_config, diffusion_model_config,\n",
    "           autoencoder_model_config, diffusion_config, dataset_config, vae, use_ddim=False, start_step=0, num_steps=1000, noise_input=None, dir=''):\n",
    "    r\"\"\"\n",
    "    Sample stepwise by going backward one timestep at a time.\n",
    "    We save the x0 predictions\n",
    "    \"\"\"    \n",
    "\n",
    "    # seed random for reproducibility\n",
    "    #torch.manual_seed(9)\n",
    "\n",
    "    im_size = dataset_config['im_size'] // 2 ** sum(autoencoder_model_config['down_sample'])\n",
    "    \n",
    "    ########### Sample random noise latent ##########\n",
    "    if noise_input is not None:\n",
    "        xt = noise_input.to(device)\n",
    "    else:\n",
    "        xt = torch.randn((train_config['num_samples'],\n",
    "                        autoencoder_model_config['z_channels'],\n",
    "                        im_size,\n",
    "                        im_size)).to(device)\n",
    "    ###############################################\n",
    "\n",
    "\n",
    "    ############# Validate the config #################\n",
    "    condition_config = get_config_value(diffusion_model_config, key='condition_config', default_value=None)\n",
    "    assert condition_config is not None, (\"This sampling script is for class conditional \"\n",
    "                                          \"but no conditioning config found\")\n",
    "    condition_types = get_config_value(condition_config, 'condition_types', [])\n",
    "    assert 'attribute' in condition_types, (\"This sampling script is for attribute conditional \"\n",
    "                                          \"but no class condition found in config\")\n",
    "    #validate_class_config(condition_config)\n",
    "    ###############################################\n",
    "    \n",
    "    ############ Create Conditional input ###############\n",
    "    num_classes = condition_config['attribute_condition_config']['attribute_condition_num']\n",
    "    #sample_classes = torch.randint(0, num_classes, (train_config['num_samples'], ))\n",
    "    #print('Generating images for {}'.format(list(sample_classes.numpy())))\n",
    "    cond_input = {\n",
    "        # 'class': torch.nn.functional.one_hot(sample_classes, num_classes).to(device)\n",
    "        #  ['Male', 'Young', 'Bald', 'Bangs', 'Receding_Hairline', 'Black_Hair', 'Blond_Hair', 'Brown_Hair', 'Gray_Hair', 'Straight_Hair', 'Wavy_Hair', 'No_Beard', 'Goatee', 'Mustache', 'Sideburns', 'Narrow_Eyes', 'Oval_Face', 'Pale_Skin', 'Pointy_Nose']\n",
    "        'attribute': cond\n",
    "\n",
    "    }\n",
    "    # Unconditional input for classifier free guidance\n",
    "    uncond_input = {\n",
    "        'attribute': cond_input['attribute'] * 0\n",
    "    }\n",
    "    ###############################################\n",
    "    \n",
    "    # By default classifier free guidance is disabled\n",
    "    # Change value in config or change default value here to enable it\n",
    "    cf_guidance_scale = get_config_value(train_config, 'cf_guidance_scale', 1.0)\n",
    "    \n",
    "    current_time = datetime.now().strftime(\"%Y%m%d-%H%M%S\")\n",
    "\n",
    "    if not use_ddim:\n",
    "        num_steps = diffusion_config['num_timesteps']\n",
    "    \n",
    "    ################# Sampling Loop ########################\n",
    "    for i in tqdm(reversed(range(num_steps - start_step)), total=num_steps):\n",
    "        torch.set_grad_enabled(True)\n",
    "        xt_in = xt.clone()\n",
    "\n",
    "        # activate gradient for xt\n",
    "        xt.requires_grad_(True)\n",
    "        \n",
    "        timestep = ((i-1) * (1000 // num_steps)) + 1\n",
    "        #print(timestep)\n",
    "        \n",
    "        # Get prediction of noise\n",
    "        t = (torch.ones((xt.shape[0],))*timestep).long().to(device)\n",
    "        \n",
    "        with torch.no_grad():\n",
    "            noise_pred_cond = model(xt_in, t, cond_input)\n",
    "        \n",
    "        if cf_guidance_scale > 1:\n",
    "            noise_pred_uncond = model(xt, t, uncond_input)\n",
    "            noise_pred = noise_pred_uncond + cf_guidance_scale*(noise_pred_cond - noise_pred_uncond)\n",
    "        else:\n",
    "            noise_pred = noise_pred_cond\n",
    "        \n",
    "        # If DDIM is enabled, we need to also compute t_prev for the DDIM reverse process\n",
    "        \n",
    "        if use_ddim:\n",
    "            t_prev = (torch.ones((xt.shape[0],)).to(device) * max(t - (1000 // num_steps), 1)).long().to(device)\n",
    "            xt_new, x0_pred = scheduler.sample_prev_timestep(xt, noise_pred, t, t_prev)  # Use DDIM sampling\n",
    "        else:\n",
    "            xt_new, x0_pred = scheduler.sample_prev_timestep(xt, noise_pred, torch.as_tensor(i).to(device))  # Use DDPM sampling\n",
    "        \n",
    "\n",
    "        #loss = color_loss(x0_pred) * 2\n",
    "        # if not first step, use glasses loss\n",
    "\n",
    "        loss = glasses_loss(x0_pred, classifier_model) * 0.01\n",
    "\n",
    "        # set the loss to require grad\n",
    "        \n",
    "        if i % 10 == 0:\n",
    "            print(i, \"loss:\", loss.item())\n",
    "\n",
    "        cond_grad = -torch.autograd.grad(loss, xt, retain_graph=True)[0] \n",
    "\n",
    "        # momentum\n",
    "        if i < 999:\n",
    "            cond_grad = cond_grad + 0.9 * cond_grad_prev\n",
    "\n",
    "        # apply gradient clipping\n",
    "        cond_grad = torch.clamp(cond_grad, -0.05, 0.05)\n",
    "\n",
    "        cond_grad_prev = cond_grad\n",
    "\n",
    "        #if i > 750:\n",
    "        xt = xt + cond_grad\n",
    "        print(cond_grad.max(), cond_grad.min())\n",
    "\n",
    "        if use_ddim:\n",
    "            t_prev = (torch.ones((xt.shape[0],)).to(device) * max(t - (1000 // num_steps), 1)).long().to(device)\n",
    "            xt, x0_pred = scheduler.sample_prev_timestep(xt, noise_pred, t, t_prev)  # Use DDIM sampling\n",
    "        else:\n",
    "            xt, x0_pred = scheduler.sample_prev_timestep(xt, noise_pred, torch.as_tensor(i).to(device))  # Use DDPM sampling\n",
    "\n",
    "        if i == 0:\n",
    "            # Decode ONLY the final image to save time\n",
    "            ims = vae.decode(xt)\n",
    "        else:\n",
    "            ims = x0_pred\n",
    "        \n",
    "        ims = torch.clamp(ims, -1., 1.).detach().cpu()\n",
    "        ims = (ims + 1) / 2\n",
    "        grid = make_grid(ims, nrow=1)\n",
    "        img = torchvision.transforms.ToPILImage()(grid)\n",
    "\n",
    "        if not os.path.exists(os.path.join(train_config['task_name'], 'cond_attr_samples', dir, current_time)):\n",
    "            os.makedirs(os.path.join(train_config['task_name'], 'cond_attr_samples', dir, current_time), exist_ok=True)\n",
    "        img.save(os.path.join(train_config['task_name'], 'cond_attr_samples', dir, current_time, 'x0_{}.png'.format(i)))\n",
    "        img.close()\n",
    "\n",
    "        # save latent to pt        \n",
    "        torch.save(xt, os.path.join(train_config['task_name'], 'cond_attr_samples', dir, current_time, 'xt_{}.pt'.format(i)))\n",
    "    ##############################################################\n",
    "\n",
    "    return ims, cond_input"
   ]
  },
  {
   "cell_type": "code",
   "execution_count": 5,
   "metadata": {},
   "outputs": [
    {
     "name": "stdout",
     "output_type": "stream",
     "text": [
      "{'task_name': 'celebhq-512-64-train-komondor_b', 'continue': True, 'last_step': 0, 'last_epoch': 199, 'dataset_params': {'im_path': 'data/CelebAMask-HQ', 'im_channels': 3, 'im_size': 512, 'name': 'celebhq'}, 'diffusion_params': {'num_timesteps': 1000, 'beta_start': 0.0015, 'beta_end': 0.0195}, 'ldm_params': {'down_channels': [512, 768, 768, 1024], 'mid_channels': [1024, 768], 'down_sample': [True, True, True], 'attn_down': [True, True, True], 'time_emb_dim': 512, 'norm_channels': 32, 'num_heads': 16, 'conv_out_channels': 128, 'num_down_layers': 2, 'num_mid_layers': 2, 'num_up_layers': 2, 'condition_config': {'condition_types': ['attribute'], 'attribute_condition_config': {'attribute_condition_num': 19, 'attribute_condition_selected_attrs': ['Male', 'Young', 'Bald', 'Bangs', 'Receding_Hairline', 'Black_Hair', 'Blond_Hair', 'Brown_Hair', 'Gray_Hair', 'Straight_Hair', 'Wavy_Hair', 'No_Beard', 'Goatee', 'Mustache', 'Sideburns', 'Narrow_Eyes', 'Oval_Face', 'Pale_Skin', 'Pointy_Nose']}}}, 'autoencoder_params': {'z_channels': 3, 'codebook_size': 8192, 'down_channels': [128, 256, 512, 512], 'mid_channels': [512, 512], 'down_sample': [True, True, True], 'attn_down': [False, False, False], 'norm_channels': 32, 'num_heads': 4, 'num_down_layers': 2, 'num_mid_layers': 2, 'num_up_layers': 2}, 'train_params': {'seed': 1111, 'task_name': 'celebhq-512-64-train-komondor_b', 'ldm_batch_size': 1, 'autoencoder_batch_size': 1, 'disc_start': 15000, 'disc_weight': 0.5, 'codebook_weight': 1, 'commitment_beta': 0.2, 'perceptual_weight': 1, 'kl_weight': 5e-06, 'ldm_epochs': 300, 'autoencoder_epochs': 80, 'num_samples': 1, 'num_grid_rows': 1, 'ldm_lr': 1e-06, 'autoencoder_lr': 1e-05, 'autoencoder_acc_steps': 4, 'autoencoder_img_save_steps': 64, 'autoencoder_img_save_steps_wandb': 500, 'autoencoder_log_step_steps_wandb': 500, 'save_latents': True, 'vae_latent_dir_name': 'vae_latents', 'vqvae_latent_dir_name': 'vqvae_latents', 'ldm_ckpt_name': 'ddpm_ckpt.pth', 'vqvae_autoencoder_ckpt_name': 'vqvae_autoencoder_ckpt.pth', 'vae_autoencoder_ckpt_name': 'vae_autoencoder_ckpt.pth', 'vqvae_discriminator_ckpt_name': 'vqvae_discriminator_ckpt.pth', 'vae_discriminator_ckpt_name': 'vae_discriminator_ckpt.pth', 'distributed_data_paralell': True, 'ddpm_log_step_steps_wandb': 500, 'ddpm_img_save_steps_wandb': 1500}, 'sample_params': {'use_ddim': True}}\n",
      "Using DDIM\n",
      "Loaded unet checkpoint\n",
      "Loaded vae checkpoint\n"
     ]
    },
    {
     "data": {
      "text/plain": [
       "SimpleCNN(\n",
       "  (conv1): Conv2d(3, 16, kernel_size=(3, 3), stride=(1, 1), padding=(1, 1))\n",
       "  (conv2): Conv2d(16, 32, kernel_size=(3, 3), stride=(1, 1), padding=(1, 1))\n",
       "  (conv3): Conv2d(32, 64, kernel_size=(3, 3), stride=(1, 1), padding=(1, 1))\n",
       "  (pool): MaxPool2d(kernel_size=2, stride=2, padding=0, dilation=1, ceil_mode=False)\n",
       "  (fc1): Linear(in_features=4096, out_features=256, bias=True)\n",
       "  (fc2): Linear(in_features=256, out_features=1, bias=True)\n",
       ")"
      ]
     },
     "execution_count": 5,
     "metadata": {},
     "output_type": "execute_result"
    }
   ],
   "source": [
    "# Read the config file #\n",
    "with open('celebhq-512-64-train-komondor_b/celeba_komondor_512_b.yaml', 'r') as file:\n",
    "#with open('celebhq-1024-64-16k-komondor/celeba_komondor_16k.yaml', 'r') as file:\n",
    "#with open('celebhq-512-64/celeba_komondor_512.yaml', 'r') as file:\n",
    "    try:\n",
    "        config = yaml.safe_load(file)\n",
    "    except yaml.YAMLError as exc:\n",
    "        print(exc)\n",
    "print(config)\n",
    "########################\n",
    "\n",
    "diffusion_config = config['diffusion_params']\n",
    "dataset_config = config['dataset_params']\n",
    "diffusion_model_config = config['ldm_params']\n",
    "autoencoder_model_config = config['autoencoder_params']\n",
    "train_config = config['train_params']\n",
    "sample_config = config['sample_params']\n",
    "\n",
    "########## Create the noise scheduler #############\n",
    "\n",
    "if sample_config['use_ddim']:\n",
    "    print('Using DDIM')\n",
    "    scheduler = LinearNoiseSchedulerDDIM(num_timesteps=diffusion_config['num_timesteps'],\n",
    "                                            beta_start=diffusion_config['beta_start'],\n",
    "                                            beta_end=diffusion_config['beta_end'])\n",
    "else:\n",
    "    scheduler = LinearNoiseScheduler(num_timesteps=diffusion_config['num_timesteps'],\n",
    "                                    beta_start=diffusion_config['beta_start'],\n",
    "                                    beta_end=diffusion_config['beta_end'])\n",
    "###############################################\n",
    "\n",
    "########## Load Unet #############\n",
    "model = Unet(im_channels=autoencoder_model_config['z_channels'],\n",
    "                model_config=diffusion_model_config).to(device)\n",
    "\n",
    "if os.path.exists(os.path.join(train_config['task_name'],\n",
    "                                train_config['ldm_ckpt_name'])):\n",
    "    \n",
    "\n",
    "    ddp_state_dict = torch.load(os.path.join(train_config['task_name'],\n",
    "                                                    train_config['ldm_ckpt_name']),\n",
    "                                        map_location=device)\n",
    "    new_state_dict = OrderedDict()\n",
    "    for k, v in ddp_state_dict.items():\n",
    "        if k.startswith('module.'):\n",
    "            name = k[7:] # remove `module.`\n",
    "        new_state_dict[name] = v\n",
    "    \n",
    "    ddp_state_dict = new_state_dict\n",
    "    print('Loaded unet checkpoint')\n",
    "    model.load_state_dict(ddp_state_dict)\n",
    "else:\n",
    "    raise Exception('Model checkpoint {} not found'.format(os.path.join(train_config['task_name'],\n",
    "                                                                        train_config['ldm_ckpt_name'])))\n",
    "\n",
    "model.train()\n",
    "#####################################\n",
    "\n",
    "# Create output directories\n",
    "if not os.path.exists(train_config['task_name']):\n",
    "    os.mkdir(train_config['task_name'])\n",
    "\n",
    "########## Load VQVAE #############\n",
    "vae = VQVAE(im_channels=dataset_config['im_channels'],\n",
    "            model_config=autoencoder_model_config).to(device)\n",
    "vae.eval()\n",
    "\n",
    "# Load vae if found\n",
    "if os.path.exists(os.path.join(train_config['task_name'],\n",
    "                                train_config['vqvae_autoencoder_ckpt_name'])):\n",
    "    print('Loaded vae checkpoint')\n",
    "\n",
    "    vae_state_dict = torch.load(os.path.join(train_config['task_name'],\n",
    "                                                train_config['vqvae_autoencoder_ckpt_name']),\n",
    "                                    map_location=device)\n",
    "    \n",
    "    \n",
    "    new_state_dict = OrderedDict()\n",
    "\n",
    "    for k, v in vae_state_dict.items():\n",
    "        if k.startswith('module.'):\n",
    "            name = k[7:]\n",
    "        new_state_dict[name] = v   \n",
    "\n",
    "    #new_state_dict = vae_state_dict     \n",
    "    \n",
    "    vae.load_state_dict(new_state_dict, strict=True)\n",
    "else:\n",
    "    raise Exception('VAE checkpoint {} not found'.format(os.path.join(train_config['task_name'],\n",
    "                                                train_config['vqvae_autoencoder_ckpt_name'])))\n",
    "#####################################\n",
    "'''\n",
    "classifier_model = torchvision.models.resnet18(pretrained=False)\n",
    "\n",
    "num_ftrs = classifier_model.fc.in_features\n",
    "\n",
    "# Modify the last fully connected layer for binary classification (1 output)\n",
    "classifier_model.fc = torch.nn.Linear(num_ftrs, 1)\n",
    "\n",
    "# Load weights from 'celeba_resnet18_latent_glasses_classifier_1.pth'\n",
    "state = torch.load('celeba_resnet18_latent_glasses_classifier_1.pth', map_location=device)\n",
    "\n",
    "new_state_dict = OrderedDict()\n",
    "for k, v in state.items():\n",
    "    name = k[7:]  # remove `module.`\n",
    "    new_state_dict[name] = v\n",
    "\n",
    "classifier_model.load_state_dict(new_state_dict)\n",
    "'''\n",
    "from models.simple_cnn import SimpleCNN\n",
    "\n",
    "classifier_model = SimpleCNN()\n",
    "#classifier_model.load_state_dict(torch.load('celeba_cnn_latent_glasses_classifier_0.pth', map_location=device))\n",
    "classifier_model.load_state_dict(torch.load('celeba_cnn_latent_glasses_classifier_0_700_ddpm.pth', map_location=device))\n",
    "\n",
    "\n",
    "\n",
    "classifier_model.to(device)\n",
    "\n"
   ]
  },
  {
   "cell_type": "code",
   "execution_count": 15,
   "metadata": {},
   "outputs": [],
   "source": [
    "im_size = dataset_config['im_size'] // 2 ** sum(autoencoder_model_config['down_sample'])\n",
    "\n",
    "torch.manual_seed(2)\n",
    "\n",
    "noise_input = torch.randn((train_config['num_samples'],\n",
    "                        autoencoder_model_config['z_channels'],\n",
    "                        im_size,\n",
    "                        im_size)).to(device)\n",
    "\n",
    "#noise_input += feature_direction_disentangled.to(device) * 1"
   ]
  },
  {
   "cell_type": "code",
   "execution_count": 7,
   "metadata": {},
   "outputs": [],
   "source": [
    "current_time = datetime.now().strftime(\"%Y%m%d-%H%M%S\")"
   ]
  },
  {
   "cell_type": "code",
   "execution_count": 16,
   "metadata": {},
   "outputs": [],
   "source": [
    "#  ['Male', 'Young', 'Bald', 'Bangs', 'Receding_Hairline', 'Black_Hair', 'Blond_Hair', 'Brown_Hair', 'Gray_Hair', 'Straight_Hair', 'Wavy_Hair', 'No_Beard', 'Goatee', 'Mustache', 'Sideburns', 'Narrow_Eyes', 'Oval_Face', 'Pale_Skin', 'Pointy_Nose']\n",
    "cond = torch.tensor([[1, # Male\n",
    "                      1, # Young\n",
    "                      0, # Bald\n",
    "                      0, # Bangs\n",
    "                      0, # Receding_Hairline\n",
    "                      0, # Black_Hair\n",
    "                      1, # Blond_Hair\n",
    "                      0, # Brown_Hair\n",
    "                      0, # Gray_Hair\n",
    "                      1, # Straight_Hair\n",
    "                      0, # Wavy_Hair\n",
    "                      1, # No_Beard\n",
    "                      0, # Goatee\n",
    "                      0, # Mustache\n",
    "                      0, # Sideburns\n",
    "                      0, # Narrow_Eyes\n",
    "                      0, # Oval_Face\n",
    "                      0, # Pale_Skin\n",
    "                      0  # Pointy_Nose\n",
    "                      ]]).to(device)"
   ]
  },
  {
   "cell_type": "code",
   "execution_count": null,
   "metadata": {},
   "outputs": [],
   "source": []
  },
  {
   "cell_type": "code",
   "execution_count": 28,
   "metadata": {},
   "outputs": [
    {
     "name": "stderr",
     "output_type": "stream",
     "text": [
      "  0%|          | 2/1000 [00:00<05:02,  3.30it/s]"
     ]
    },
    {
     "name": "stdout",
     "output_type": "stream",
     "text": [
      "tensor(1.1394e-10, device='cuda:0') tensor(-8.1416e-11, device='cuda:0')\n",
      "tensor(4.1729e-10, device='cuda:0') tensor(-2.9406e-10, device='cuda:0')\n"
     ]
    },
    {
     "name": "stderr",
     "output_type": "stream",
     "text": [
      "  0%|          | 4/1000 [00:01<03:42,  4.47it/s]"
     ]
    },
    {
     "name": "stdout",
     "output_type": "stream",
     "text": [
      "tensor(7.3508e-10, device='cuda:0') tensor(-5.0451e-10, device='cuda:0')\n",
      "tensor(1.6554e-09, device='cuda:0') tensor(-1.0905e-09, device='cuda:0')\n"
     ]
    },
    {
     "name": "stderr",
     "output_type": "stream",
     "text": [
      "  1%|          | 6/1000 [00:01<03:18,  5.02it/s]"
     ]
    },
    {
     "name": "stdout",
     "output_type": "stream",
     "text": [
      "tensor(3.0513e-09, device='cuda:0') tensor(-2.0475e-09, device='cuda:0')\n",
      "tensor(4.5069e-09, device='cuda:0') tensor(-3.0404e-09, device='cuda:0')\n"
     ]
    },
    {
     "name": "stderr",
     "output_type": "stream",
     "text": [
      "  1%|          | 8/1000 [00:01<03:09,  5.24it/s]"
     ]
    },
    {
     "name": "stdout",
     "output_type": "stream",
     "text": [
      "tensor(7.0564e-09, device='cuda:0') tensor(-5.5041e-09, device='cuda:0')\n",
      "tensor(1.1490e-08, device='cuda:0') tensor(-8.7659e-09, device='cuda:0')\n"
     ]
    },
    {
     "name": "stderr",
     "output_type": "stream",
     "text": [
      "  1%|          | 10/1000 [00:02<03:03,  5.41it/s]"
     ]
    },
    {
     "name": "stdout",
     "output_type": "stream",
     "text": [
      "tensor(1.3873e-08, device='cuda:0') tensor(-1.1166e-08, device='cuda:0')\n",
      "990 loss: 0.006931471638381481\n",
      "tensor(1.5932e-08, device='cuda:0') tensor(-1.2383e-08, device='cuda:0')\n"
     ]
    },
    {
     "name": "stderr",
     "output_type": "stream",
     "text": [
      "  1%|          | 12/1000 [00:02<03:00,  5.48it/s]"
     ]
    },
    {
     "name": "stdout",
     "output_type": "stream",
     "text": [
      "tensor(1.8207e-08, device='cuda:0') tensor(-1.3593e-08, device='cuda:0')\n",
      "tensor(1.9995e-08, device='cuda:0') tensor(-1.4451e-08, device='cuda:0')\n"
     ]
    },
    {
     "name": "stderr",
     "output_type": "stream",
     "text": [
      "  1%|▏         | 14/1000 [00:02<02:58,  5.52it/s]"
     ]
    },
    {
     "name": "stdout",
     "output_type": "stream",
     "text": [
      "tensor(3.1226e-08, device='cuda:0') tensor(-2.1343e-08, device='cuda:0')\n",
      "tensor(3.1918e-08, device='cuda:0') tensor(-2.2552e-08, device='cuda:0')\n"
     ]
    },
    {
     "name": "stderr",
     "output_type": "stream",
     "text": [
      "  2%|▏         | 16/1000 [00:03<03:00,  5.46it/s]"
     ]
    },
    {
     "name": "stdout",
     "output_type": "stream",
     "text": [
      "tensor(4.2091e-08, device='cuda:0') tensor(-3.1095e-08, device='cuda:0')\n",
      "tensor(4.6366e-08, device='cuda:0') tensor(-3.3979e-08, device='cuda:0')\n"
     ]
    },
    {
     "name": "stderr",
     "output_type": "stream",
     "text": [
      "  2%|▏         | 17/1000 [00:03<02:58,  5.52it/s]"
     ]
    },
    {
     "name": "stdout",
     "output_type": "stream",
     "text": [
      "tensor(4.4499e-08, device='cuda:0') tensor(-3.2599e-08, device='cuda:0')\n",
      "tensor(4.2155e-08, device='cuda:0') tensor(-3.1254e-08, device='cuda:0')\n"
     ]
    },
    {
     "name": "stderr",
     "output_type": "stream",
     "text": [
      "  2%|▏         | 20/1000 [00:03<02:58,  5.49it/s]"
     ]
    },
    {
     "name": "stdout",
     "output_type": "stream",
     "text": [
      "tensor(4.0095e-08, device='cuda:0') tensor(-3.0357e-08, device='cuda:0')\n",
      "980 loss: 0.006931471638381481\n",
      "tensor(4.3882e-08, device='cuda:0') tensor(-3.4720e-08, device='cuda:0')\n"
     ]
    },
    {
     "name": "stderr",
     "output_type": "stream",
     "text": [
      "  2%|▏         | 22/1000 [00:04<02:58,  5.47it/s]"
     ]
    },
    {
     "name": "stdout",
     "output_type": "stream",
     "text": [
      "tensor(7.2574e-08, device='cuda:0') tensor(-5.5251e-08, device='cuda:0')\n",
      "tensor(1.2534e-07, device='cuda:0') tensor(-9.5228e-08, device='cuda:0')\n"
     ]
    },
    {
     "name": "stderr",
     "output_type": "stream",
     "text": [
      "  2%|▏         | 24/1000 [00:04<02:57,  5.50it/s]"
     ]
    },
    {
     "name": "stdout",
     "output_type": "stream",
     "text": [
      "tensor(2.2442e-07, device='cuda:0') tensor(-1.7377e-07, device='cuda:0')\n",
      "tensor(3.4824e-07, device='cuda:0') tensor(-2.6857e-07, device='cuda:0')\n"
     ]
    },
    {
     "name": "stderr",
     "output_type": "stream",
     "text": [
      "  3%|▎         | 26/1000 [00:05<02:56,  5.51it/s]"
     ]
    },
    {
     "name": "stdout",
     "output_type": "stream",
     "text": [
      "tensor(3.6333e-07, device='cuda:0') tensor(-2.7123e-07, device='cuda:0')\n",
      "tensor(4.2083e-07, device='cuda:0') tensor(-3.0253e-07, device='cuda:0')\n"
     ]
    },
    {
     "name": "stderr",
     "output_type": "stream",
     "text": [
      "  3%|▎         | 28/1000 [00:05<02:54,  5.57it/s]"
     ]
    },
    {
     "name": "stdout",
     "output_type": "stream",
     "text": [
      "tensor(4.9295e-07, device='cuda:0') tensor(-3.3504e-07, device='cuda:0')\n",
      "tensor(7.5432e-07, device='cuda:0') tensor(-5.0911e-07, device='cuda:0')\n"
     ]
    },
    {
     "name": "stderr",
     "output_type": "stream",
     "text": [
      "  3%|▎         | 30/1000 [00:05<02:56,  5.51it/s]"
     ]
    },
    {
     "name": "stdout",
     "output_type": "stream",
     "text": [
      "tensor(1.1432e-06, device='cuda:0') tensor(-7.2633e-07, device='cuda:0')\n",
      "970 loss: 0.0069314707070589066\n",
      "tensor(1.3073e-06, device='cuda:0') tensor(-8.1321e-07, device='cuda:0')\n"
     ]
    },
    {
     "name": "stderr",
     "output_type": "stream",
     "text": [
      "  3%|▎         | 32/1000 [00:06<02:54,  5.55it/s]"
     ]
    },
    {
     "name": "stdout",
     "output_type": "stream",
     "text": [
      "tensor(1.3177e-06, device='cuda:0') tensor(-8.2107e-07, device='cuda:0')\n",
      "tensor(1.5223e-06, device='cuda:0') tensor(-9.5143e-07, device='cuda:0')\n"
     ]
    },
    {
     "name": "stderr",
     "output_type": "stream",
     "text": [
      "  3%|▎         | 34/1000 [00:06<02:54,  5.54it/s]"
     ]
    },
    {
     "name": "stdout",
     "output_type": "stream",
     "text": [
      "tensor(1.4830e-06, device='cuda:0') tensor(-9.2723e-07, device='cuda:0')\n",
      "tensor(1.6171e-06, device='cuda:0') tensor(-1.0232e-06, device='cuda:0')\n"
     ]
    },
    {
     "name": "stderr",
     "output_type": "stream",
     "text": [
      "  4%|▎         | 36/1000 [00:06<02:53,  5.55it/s]"
     ]
    },
    {
     "name": "stdout",
     "output_type": "stream",
     "text": [
      "tensor(1.5795e-06, device='cuda:0') tensor(-1.0042e-06, device='cuda:0')\n",
      "tensor(1.6087e-06, device='cuda:0') tensor(-1.0247e-06, device='cuda:0')\n"
     ]
    },
    {
     "name": "stderr",
     "output_type": "stream",
     "text": [
      "  4%|▍         | 38/1000 [00:07<02:54,  5.52it/s]"
     ]
    },
    {
     "name": "stdout",
     "output_type": "stream",
     "text": [
      "tensor(1.5992e-06, device='cuda:0') tensor(-1.0255e-06, device='cuda:0')\n",
      "tensor(1.6078e-06, device='cuda:0') tensor(-1.0340e-06, device='cuda:0')\n"
     ]
    },
    {
     "name": "stderr",
     "output_type": "stream",
     "text": [
      "  4%|▍         | 40/1000 [00:07<02:54,  5.51it/s]"
     ]
    },
    {
     "name": "stdout",
     "output_type": "stream",
     "text": [
      "tensor(1.6403e-06, device='cuda:0') tensor(-1.0813e-06, device='cuda:0')\n",
      "960 loss: 0.006931469310075045\n",
      "tensor(1.9274e-06, device='cuda:0') tensor(-1.3060e-06, device='cuda:0')\n"
     ]
    },
    {
     "name": "stderr",
     "output_type": "stream",
     "text": [
      "  4%|▍         | 42/1000 [00:07<02:52,  5.54it/s]"
     ]
    },
    {
     "name": "stdout",
     "output_type": "stream",
     "text": [
      "tensor(2.0588e-06, device='cuda:0') tensor(-1.4054e-06, device='cuda:0')\n",
      "tensor(2.0848e-06, device='cuda:0') tensor(-1.4422e-06, device='cuda:0')\n"
     ]
    },
    {
     "name": "stderr",
     "output_type": "stream",
     "text": [
      "  4%|▍         | 44/1000 [00:08<02:51,  5.57it/s]"
     ]
    },
    {
     "name": "stdout",
     "output_type": "stream",
     "text": [
      "tensor(1.9628e-06, device='cuda:0') tensor(-1.3647e-06, device='cuda:0')\n",
      "tensor(1.8254e-06, device='cuda:0') tensor(-1.2641e-06, device='cuda:0')\n"
     ]
    },
    {
     "name": "stderr",
     "output_type": "stream",
     "text": [
      "  5%|▍         | 46/1000 [00:08<02:50,  5.59it/s]"
     ]
    },
    {
     "name": "stdout",
     "output_type": "stream",
     "text": [
      "tensor(1.6948e-06, device='cuda:0') tensor(-1.1671e-06, device='cuda:0')\n",
      "tensor(1.5676e-06, device='cuda:0') tensor(-1.0780e-06, device='cuda:0')\n"
     ]
    },
    {
     "name": "stderr",
     "output_type": "stream",
     "text": [
      "  5%|▍         | 48/1000 [00:08<02:49,  5.61it/s]"
     ]
    },
    {
     "name": "stdout",
     "output_type": "stream",
     "text": [
      "tensor(1.4397e-06, device='cuda:0') tensor(-9.9264e-07, device='cuda:0')\n",
      "tensor(1.3639e-06, device='cuda:0') tensor(-9.4980e-07, device='cuda:0')\n"
     ]
    },
    {
     "name": "stderr",
     "output_type": "stream",
     "text": [
      "  5%|▌         | 50/1000 [00:09<02:50,  5.58it/s]"
     ]
    },
    {
     "name": "stdout",
     "output_type": "stream",
     "text": [
      "tensor(1.3232e-06, device='cuda:0') tensor(-9.4244e-07, device='cuda:0')\n",
      "950 loss: 0.006931471638381481\n",
      "tensor(1.2263e-06, device='cuda:0') tensor(-8.8707e-07, device='cuda:0')\n"
     ]
    },
    {
     "name": "stderr",
     "output_type": "stream",
     "text": [
      "  5%|▌         | 52/1000 [00:09<02:52,  5.50it/s]"
     ]
    },
    {
     "name": "stdout",
     "output_type": "stream",
     "text": [
      "tensor(1.1558e-06, device='cuda:0') tensor(-8.4836e-07, device='cuda:0')\n",
      "tensor(1.0876e-06, device='cuda:0') tensor(-8.0410e-07, device='cuda:0')\n"
     ]
    },
    {
     "name": "stderr",
     "output_type": "stream",
     "text": [
      "  5%|▌         | 54/1000 [00:10<02:50,  5.56it/s]"
     ]
    },
    {
     "name": "stdout",
     "output_type": "stream",
     "text": [
      "tensor(1.1234e-06, device='cuda:0') tensor(-8.5271e-07, device='cuda:0')\n",
      "tensor(1.2697e-06, device='cuda:0') tensor(-9.9559e-07, device='cuda:0')\n"
     ]
    },
    {
     "name": "stderr",
     "output_type": "stream",
     "text": [
      "  6%|▌         | 56/1000 [00:10<02:48,  5.59it/s]"
     ]
    },
    {
     "name": "stdout",
     "output_type": "stream",
     "text": [
      "tensor(1.4333e-06, device='cuda:0') tensor(-1.1406e-06, device='cuda:0')\n",
      "tensor(1.9837e-06, device='cuda:0') tensor(-1.5746e-06, device='cuda:0')\n"
     ]
    },
    {
     "name": "stderr",
     "output_type": "stream",
     "text": [
      "  6%|▌         | 58/1000 [00:10<02:48,  5.60it/s]"
     ]
    },
    {
     "name": "stdout",
     "output_type": "stream",
     "text": [
      "tensor(2.4752e-06, device='cuda:0') tensor(-1.9172e-06, device='cuda:0')\n",
      "tensor(3.1771e-06, device='cuda:0') tensor(-2.4517e-06, device='cuda:0')\n"
     ]
    },
    {
     "name": "stderr",
     "output_type": "stream",
     "text": [
      "  6%|▌         | 60/1000 [00:11<02:47,  5.61it/s]"
     ]
    },
    {
     "name": "stdout",
     "output_type": "stream",
     "text": [
      "tensor(3.4165e-06, device='cuda:0') tensor(-2.6384e-06, device='cuda:0')\n",
      "940 loss: 0.006931462325155735\n",
      "tensor(4.3836e-06, device='cuda:0') tensor(-3.3857e-06, device='cuda:0')\n"
     ]
    },
    {
     "name": "stderr",
     "output_type": "stream",
     "text": [
      "  6%|▌         | 62/1000 [00:11<02:46,  5.62it/s]"
     ]
    },
    {
     "name": "stdout",
     "output_type": "stream",
     "text": [
      "tensor(4.8935e-06, device='cuda:0') tensor(-3.7541e-06, device='cuda:0')\n",
      "tensor(5.9288e-06, device='cuda:0') tensor(-4.4262e-06, device='cuda:0')\n"
     ]
    },
    {
     "name": "stderr",
     "output_type": "stream",
     "text": [
      "  6%|▋         | 64/1000 [00:11<02:47,  5.59it/s]"
     ]
    },
    {
     "name": "stdout",
     "output_type": "stream",
     "text": [
      "tensor(6.3512e-06, device='cuda:0') tensor(-4.8049e-06, device='cuda:0')\n",
      "tensor(6.8178e-06, device='cuda:0') tensor(-5.2466e-06, device='cuda:0')\n"
     ]
    },
    {
     "name": "stderr",
     "output_type": "stream",
     "text": [
      "  7%|▋         | 66/1000 [00:12<02:46,  5.60it/s]"
     ]
    },
    {
     "name": "stdout",
     "output_type": "stream",
     "text": [
      "tensor(7.6497e-06, device='cuda:0') tensor(-5.8088e-06, device='cuda:0')\n",
      "tensor(8.6901e-06, device='cuda:0') tensor(-6.4419e-06, device='cuda:0')\n"
     ]
    },
    {
     "name": "stderr",
     "output_type": "stream",
     "text": [
      "  7%|▋         | 68/1000 [00:12<02:48,  5.54it/s]"
     ]
    },
    {
     "name": "stdout",
     "output_type": "stream",
     "text": [
      "tensor(9.8346e-06, device='cuda:0') tensor(-7.1784e-06, device='cuda:0')\n",
      "tensor(9.7242e-06, device='cuda:0') tensor(-7.1277e-06, device='cuda:0')\n"
     ]
    },
    {
     "name": "stderr",
     "output_type": "stream",
     "text": [
      "  7%|▋         | 70/1000 [00:12<02:46,  5.57it/s]"
     ]
    },
    {
     "name": "stdout",
     "output_type": "stream",
     "text": [
      "tensor(9.5287e-06, device='cuda:0') tensor(-6.9636e-06, device='cuda:0')\n",
      "930 loss: 0.006931467913091183\n",
      "tensor(9.0371e-06, device='cuda:0') tensor(-6.6145e-06, device='cuda:0')\n"
     ]
    },
    {
     "name": "stderr",
     "output_type": "stream",
     "text": [
      "  7%|▋         | 72/1000 [00:13<02:45,  5.60it/s]"
     ]
    },
    {
     "name": "stdout",
     "output_type": "stream",
     "text": [
      "tensor(8.6510e-06, device='cuda:0') tensor(-6.3552e-06, device='cuda:0')\n",
      "tensor(8.5052e-06, device='cuda:0') tensor(-6.2709e-06, device='cuda:0')\n"
     ]
    },
    {
     "name": "stderr",
     "output_type": "stream",
     "text": [
      "  7%|▋         | 74/1000 [00:13<02:44,  5.62it/s]"
     ]
    },
    {
     "name": "stdout",
     "output_type": "stream",
     "text": [
      "tensor(8.7132e-06, device='cuda:0') tensor(-6.5067e-06, device='cuda:0')\n",
      "tensor(1.0607e-05, device='cuda:0') tensor(-8.1949e-06, device='cuda:0')\n"
     ]
    },
    {
     "name": "stderr",
     "output_type": "stream",
     "text": [
      "  8%|▊         | 76/1000 [00:14<02:45,  5.59it/s]"
     ]
    },
    {
     "name": "stdout",
     "output_type": "stream",
     "text": [
      "tensor(1.1043e-05, device='cuda:0') tensor(-8.8609e-06, device='cuda:0')\n",
      "tensor(1.1584e-05, device='cuda:0') tensor(-9.2454e-06, device='cuda:0')\n"
     ]
    },
    {
     "name": "stderr",
     "output_type": "stream",
     "text": [
      "  8%|▊         | 78/1000 [00:14<02:44,  5.62it/s]"
     ]
    },
    {
     "name": "stdout",
     "output_type": "stream",
     "text": [
      "tensor(1.2222e-05, device='cuda:0') tensor(-9.6830e-06, device='cuda:0')\n",
      "tensor(1.1928e-05, device='cuda:0') tensor(-9.7936e-06, device='cuda:0')\n"
     ]
    },
    {
     "name": "stderr",
     "output_type": "stream",
     "text": [
      "  8%|▊         | 80/1000 [00:14<02:43,  5.64it/s]"
     ]
    },
    {
     "name": "stdout",
     "output_type": "stream",
     "text": [
      "tensor(1.1932e-05, device='cuda:0') tensor(-9.8454e-06, device='cuda:0')\n",
      "920 loss: 0.006931459065526724\n",
      "tensor(1.1865e-05, device='cuda:0') tensor(-9.8318e-06, device='cuda:0')\n"
     ]
    },
    {
     "name": "stderr",
     "output_type": "stream",
     "text": [
      "  8%|▊         | 81/1000 [00:14<02:47,  5.50it/s]"
     ]
    },
    {
     "name": "stdout",
     "output_type": "stream",
     "text": [
      "tensor(1.3820e-05, device='cuda:0') tensor(-1.1372e-05, device='cuda:0')\n",
      "tensor(1.8016e-05, device='cuda:0') tensor(-1.5167e-05, device='cuda:0')\n"
     ]
    },
    {
     "name": "stderr",
     "output_type": "stream",
     "text": [
      "  8%|▊         | 84/1000 [00:15<02:46,  5.51it/s]"
     ]
    },
    {
     "name": "stdout",
     "output_type": "stream",
     "text": [
      "tensor(2.4607e-05, device='cuda:0') tensor(-2.0421e-05, device='cuda:0')\n",
      "tensor(3.3124e-05, device='cuda:0') tensor(-2.8463e-05, device='cuda:0')\n"
     ]
    },
    {
     "name": "stderr",
     "output_type": "stream",
     "text": [
      "  9%|▊         | 86/1000 [00:15<02:45,  5.53it/s]"
     ]
    },
    {
     "name": "stdout",
     "output_type": "stream",
     "text": [
      "tensor(5.4441e-05, device='cuda:0') tensor(-4.0580e-05, device='cuda:0')\n",
      "tensor(6.0564e-05, device='cuda:0') tensor(-4.6678e-05, device='cuda:0')\n"
     ]
    },
    {
     "name": "stderr",
     "output_type": "stream",
     "text": [
      "  9%|▉         | 88/1000 [00:16<02:44,  5.55it/s]"
     ]
    },
    {
     "name": "stdout",
     "output_type": "stream",
     "text": [
      "tensor(7.4490e-05, device='cuda:0') tensor(-6.0593e-05, device='cuda:0')\n",
      "tensor(9.4717e-05, device='cuda:0') tensor(-7.8422e-05, device='cuda:0')\n"
     ]
    },
    {
     "name": "stderr",
     "output_type": "stream",
     "text": [
      "  9%|▉         | 90/1000 [00:16<02:43,  5.58it/s]"
     ]
    },
    {
     "name": "stdout",
     "output_type": "stream",
     "text": [
      "tensor(0.0001, device='cuda:0') tensor(-9.4106e-05, device='cuda:0')\n",
      "910 loss: 0.00693113449960947\n",
      "tensor(0.0001, device='cuda:0') tensor(-0.0001, device='cuda:0')\n"
     ]
    },
    {
     "name": "stderr",
     "output_type": "stream",
     "text": [
      "  9%|▉         | 92/1000 [00:16<02:42,  5.58it/s]"
     ]
    },
    {
     "name": "stdout",
     "output_type": "stream",
     "text": [
      "tensor(0.0002, device='cuda:0') tensor(-0.0001, device='cuda:0')\n",
      "tensor(0.0003, device='cuda:0') tensor(-0.0002, device='cuda:0')\n"
     ]
    },
    {
     "name": "stderr",
     "output_type": "stream",
     "text": [
      "  9%|▉         | 94/1000 [00:17<02:41,  5.59it/s]"
     ]
    },
    {
     "name": "stdout",
     "output_type": "stream",
     "text": [
      "tensor(0.0003, device='cuda:0') tensor(-0.0002, device='cuda:0')\n",
      "tensor(0.0003, device='cuda:0') tensor(-0.0003, device='cuda:0')\n"
     ]
    },
    {
     "name": "stderr",
     "output_type": "stream",
     "text": [
      " 10%|▉         | 96/1000 [00:17<02:41,  5.61it/s]"
     ]
    },
    {
     "name": "stdout",
     "output_type": "stream",
     "text": [
      "tensor(0.0003, device='cuda:0') tensor(-0.0003, device='cuda:0')\n",
      "tensor(0.0004, device='cuda:0') tensor(-0.0003, device='cuda:0')\n"
     ]
    },
    {
     "name": "stderr",
     "output_type": "stream",
     "text": [
      " 10%|▉         | 98/1000 [00:17<02:40,  5.61it/s]"
     ]
    },
    {
     "name": "stdout",
     "output_type": "stream",
     "text": [
      "tensor(0.0004, device='cuda:0') tensor(-0.0003, device='cuda:0')\n",
      "tensor(0.0005, device='cuda:0') tensor(-0.0004, device='cuda:0')\n"
     ]
    },
    {
     "name": "stderr",
     "output_type": "stream",
     "text": [
      " 10%|█         | 100/1000 [00:18<02:41,  5.59it/s]"
     ]
    },
    {
     "name": "stdout",
     "output_type": "stream",
     "text": [
      "tensor(0.0007, device='cuda:0') tensor(-0.0006, device='cuda:0')\n",
      "900 loss: 0.006927561014890671\n",
      "tensor(0.0010, device='cuda:0') tensor(-0.0008, device='cuda:0')\n"
     ]
    },
    {
     "name": "stderr",
     "output_type": "stream",
     "text": [
      " 10%|█         | 102/1000 [00:18<02:42,  5.54it/s]"
     ]
    },
    {
     "name": "stdout",
     "output_type": "stream",
     "text": [
      "tensor(0.0013, device='cuda:0') tensor(-0.0011, device='cuda:0')\n",
      "tensor(0.0014, device='cuda:0') tensor(-0.0011, device='cuda:0')\n"
     ]
    },
    {
     "name": "stderr",
     "output_type": "stream",
     "text": [
      " 10%|█         | 103/1000 [00:18<02:42,  5.51it/s]"
     ]
    },
    {
     "name": "stdout",
     "output_type": "stream",
     "text": [
      "tensor(0.0015, device='cuda:0') tensor(-0.0012, device='cuda:0')\n",
      "tensor(0.0016, device='cuda:0') tensor(-0.0013, device='cuda:0')\n"
     ]
    },
    {
     "name": "stderr",
     "output_type": "stream",
     "text": [
      " 11%|█         | 106/1000 [00:19<02:45,  5.39it/s]"
     ]
    },
    {
     "name": "stdout",
     "output_type": "stream",
     "text": [
      "tensor(0.0017, device='cuda:0') tensor(-0.0013, device='cuda:0')\n",
      "tensor(0.0019, device='cuda:0') tensor(-0.0015, device='cuda:0')\n"
     ]
    },
    {
     "name": "stderr",
     "output_type": "stream",
     "text": [
      " 11%|█         | 108/1000 [00:19<02:45,  5.39it/s]"
     ]
    },
    {
     "name": "stdout",
     "output_type": "stream",
     "text": [
      "tensor(0.0020, device='cuda:0') tensor(-0.0017, device='cuda:0')\n",
      "tensor(0.0023, device='cuda:0') tensor(-0.0020, device='cuda:0')\n"
     ]
    },
    {
     "name": "stderr",
     "output_type": "stream",
     "text": [
      " 11%|█         | 110/1000 [00:20<02:43,  5.44it/s]"
     ]
    },
    {
     "name": "stdout",
     "output_type": "stream",
     "text": [
      "tensor(0.0027, device='cuda:0') tensor(-0.0023, device='cuda:0')\n",
      "890 loss: 0.006920183077454567\n",
      "tensor(0.0035, device='cuda:0') tensor(-0.0029, device='cuda:0')\n"
     ]
    },
    {
     "name": "stderr",
     "output_type": "stream",
     "text": [
      " 11%|█         | 112/1000 [00:20<02:40,  5.53it/s]"
     ]
    },
    {
     "name": "stdout",
     "output_type": "stream",
     "text": [
      "tensor(0.0053, device='cuda:0') tensor(-0.0044, device='cuda:0')\n",
      "tensor(0.0117, device='cuda:0') tensor(-0.0088, device='cuda:0')\n"
     ]
    },
    {
     "name": "stderr",
     "output_type": "stream",
     "text": [
      " 11%|█▏        | 114/1000 [00:20<02:38,  5.59it/s]"
     ]
    },
    {
     "name": "stdout",
     "output_type": "stream",
     "text": [
      "tensor(0.0155, device='cuda:0') tensor(-0.0112, device='cuda:0')\n",
      "tensor(0.0159, device='cuda:0') tensor(-0.0116, device='cuda:0')\n"
     ]
    },
    {
     "name": "stderr",
     "output_type": "stream",
     "text": [
      " 12%|█▏        | 116/1000 [00:21<02:37,  5.60it/s]"
     ]
    },
    {
     "name": "stdout",
     "output_type": "stream",
     "text": [
      "tensor(0.0152, device='cuda:0') tensor(-0.0116, device='cuda:0')\n",
      "tensor(0.0144, device='cuda:0') tensor(-0.0111, device='cuda:0')\n"
     ]
    },
    {
     "name": "stderr",
     "output_type": "stream",
     "text": [
      " 12%|█▏        | 118/1000 [00:21<02:37,  5.62it/s]"
     ]
    },
    {
     "name": "stdout",
     "output_type": "stream",
     "text": [
      "tensor(0.0132, device='cuda:0') tensor(-0.0104, device='cuda:0')\n",
      "tensor(0.0124, device='cuda:0') tensor(-0.0100, device='cuda:0')\n"
     ]
    },
    {
     "name": "stderr",
     "output_type": "stream",
     "text": [
      " 12%|█▏        | 120/1000 [00:21<02:36,  5.62it/s]"
     ]
    },
    {
     "name": "stdout",
     "output_type": "stream",
     "text": [
      "tensor(0.0115, device='cuda:0') tensor(-0.0094, device='cuda:0')\n",
      "880 loss: 0.006926969159394503\n",
      "tensor(0.0107, device='cuda:0') tensor(-0.0088, device='cuda:0')\n"
     ]
    },
    {
     "name": "stderr",
     "output_type": "stream",
     "text": [
      " 12%|█▏        | 122/1000 [00:22<02:36,  5.60it/s]"
     ]
    },
    {
     "name": "stdout",
     "output_type": "stream",
     "text": [
      "tensor(0.0098, device='cuda:0') tensor(-0.0082, device='cuda:0')\n",
      "tensor(0.0090, device='cuda:0') tensor(-0.0076, device='cuda:0')\n"
     ]
    },
    {
     "name": "stderr",
     "output_type": "stream",
     "text": [
      " 12%|█▏        | 124/1000 [00:22<02:36,  5.59it/s]"
     ]
    },
    {
     "name": "stdout",
     "output_type": "stream",
     "text": [
      "tensor(0.0085, device='cuda:0') tensor(-0.0073, device='cuda:0')\n",
      "tensor(0.0081, device='cuda:0') tensor(-0.0072, device='cuda:0')\n"
     ]
    },
    {
     "name": "stderr",
     "output_type": "stream",
     "text": [
      " 13%|█▎        | 126/1000 [00:23<02:36,  5.57it/s]"
     ]
    },
    {
     "name": "stdout",
     "output_type": "stream",
     "text": [
      "tensor(0.0079, device='cuda:0') tensor(-0.0073, device='cuda:0')\n",
      "tensor(0.0080, device='cuda:0') tensor(-0.0076, device='cuda:0')\n"
     ]
    },
    {
     "name": "stderr",
     "output_type": "stream",
     "text": [
      " 13%|█▎        | 128/1000 [00:23<02:37,  5.54it/s]"
     ]
    },
    {
     "name": "stdout",
     "output_type": "stream",
     "text": [
      "tensor(0.0080, device='cuda:0') tensor(-0.0078, device='cuda:0')\n",
      "tensor(0.0077, device='cuda:0') tensor(-0.0077, device='cuda:0')\n"
     ]
    },
    {
     "name": "stderr",
     "output_type": "stream",
     "text": [
      " 13%|█▎        | 130/1000 [00:23<02:37,  5.54it/s]"
     ]
    },
    {
     "name": "stdout",
     "output_type": "stream",
     "text": [
      "tensor(0.0073, device='cuda:0') tensor(-0.0074, device='cuda:0')\n",
      "870 loss: 0.0069251456297934055\n",
      "tensor(0.0070, device='cuda:0') tensor(-0.0072, device='cuda:0')\n"
     ]
    },
    {
     "name": "stderr",
     "output_type": "stream",
     "text": [
      " 13%|█▎        | 132/1000 [00:24<02:35,  5.59it/s]"
     ]
    },
    {
     "name": "stdout",
     "output_type": "stream",
     "text": [
      "tensor(0.0069, device='cuda:0') tensor(-0.0072, device='cuda:0')\n",
      "tensor(0.0067, device='cuda:0') tensor(-0.0071, device='cuda:0')\n"
     ]
    },
    {
     "name": "stderr",
     "output_type": "stream",
     "text": [
      " 13%|█▎        | 134/1000 [00:24<02:35,  5.58it/s]"
     ]
    },
    {
     "name": "stdout",
     "output_type": "stream",
     "text": [
      "tensor(0.0069, device='cuda:0') tensor(-0.0073, device='cuda:0')\n",
      "tensor(0.0066, device='cuda:0') tensor(-0.0071, device='cuda:0')\n"
     ]
    },
    {
     "name": "stderr",
     "output_type": "stream",
     "text": [
      " 14%|█▎        | 136/1000 [00:24<02:34,  5.60it/s]"
     ]
    },
    {
     "name": "stdout",
     "output_type": "stream",
     "text": [
      "tensor(0.0062, device='cuda:0') tensor(-0.0068, device='cuda:0')\n",
      "tensor(0.0058, device='cuda:0') tensor(-0.0063, device='cuda:0')\n"
     ]
    },
    {
     "name": "stderr",
     "output_type": "stream",
     "text": [
      " 14%|█▍        | 138/1000 [00:25<02:33,  5.61it/s]"
     ]
    },
    {
     "name": "stdout",
     "output_type": "stream",
     "text": [
      "tensor(0.0054, device='cuda:0') tensor(-0.0060, device='cuda:0')\n",
      "tensor(0.0050, device='cuda:0') tensor(-0.0056, device='cuda:0')\n"
     ]
    },
    {
     "name": "stderr",
     "output_type": "stream",
     "text": [
      " 14%|█▍        | 140/1000 [00:25<02:34,  5.58it/s]"
     ]
    },
    {
     "name": "stdout",
     "output_type": "stream",
     "text": [
      "tensor(0.0047, device='cuda:0') tensor(-0.0052, device='cuda:0')\n",
      "860 loss: 0.006926591042429209\n",
      "tensor(0.0045, device='cuda:0') tensor(-0.0050, device='cuda:0')\n"
     ]
    },
    {
     "name": "stderr",
     "output_type": "stream",
     "text": [
      " 14%|█▍        | 142/1000 [00:25<02:33,  5.60it/s]"
     ]
    },
    {
     "name": "stdout",
     "output_type": "stream",
     "text": [
      "tensor(0.0045, device='cuda:0') tensor(-0.0050, device='cuda:0')\n",
      "tensor(0.0043, device='cuda:0') tensor(-0.0048, device='cuda:0')\n"
     ]
    },
    {
     "name": "stderr",
     "output_type": "stream",
     "text": [
      " 14%|█▍        | 144/1000 [00:26<02:33,  5.59it/s]"
     ]
    },
    {
     "name": "stdout",
     "output_type": "stream",
     "text": [
      "tensor(0.0042, device='cuda:0') tensor(-0.0046, device='cuda:0')\n",
      "tensor(0.0041, device='cuda:0') tensor(-0.0044, device='cuda:0')\n"
     ]
    },
    {
     "name": "stderr",
     "output_type": "stream",
     "text": [
      " 15%|█▍        | 146/1000 [00:26<02:32,  5.60it/s]"
     ]
    },
    {
     "name": "stdout",
     "output_type": "stream",
     "text": [
      "tensor(0.0038, device='cuda:0') tensor(-0.0041, device='cuda:0')\n",
      "tensor(0.0036, device='cuda:0') tensor(-0.0038, device='cuda:0')\n"
     ]
    },
    {
     "name": "stderr",
     "output_type": "stream",
     "text": [
      " 15%|█▍        | 148/1000 [00:26<02:32,  5.59it/s]"
     ]
    },
    {
     "name": "stdout",
     "output_type": "stream",
     "text": [
      "tensor(0.0034, device='cuda:0') tensor(-0.0036, device='cuda:0')\n",
      "tensor(0.0033, device='cuda:0') tensor(-0.0033, device='cuda:0')\n"
     ]
    },
    {
     "name": "stderr",
     "output_type": "stream",
     "text": [
      " 15%|█▌        | 150/1000 [00:27<02:32,  5.59it/s]"
     ]
    },
    {
     "name": "stdout",
     "output_type": "stream",
     "text": [
      "tensor(0.0032, device='cuda:0') tensor(-0.0033, device='cuda:0')\n",
      "850 loss: 0.006924599874764681\n",
      "tensor(0.0034, device='cuda:0') tensor(-0.0033, device='cuda:0')\n"
     ]
    },
    {
     "name": "stderr",
     "output_type": "stream",
     "text": [
      " 15%|█▌        | 152/1000 [00:27<02:32,  5.57it/s]"
     ]
    },
    {
     "name": "stdout",
     "output_type": "stream",
     "text": [
      "tensor(0.0036, device='cuda:0') tensor(-0.0035, device='cuda:0')\n",
      "tensor(0.0039, device='cuda:0') tensor(-0.0036, device='cuda:0')\n"
     ]
    },
    {
     "name": "stderr",
     "output_type": "stream",
     "text": [
      " 15%|█▌        | 154/1000 [00:28<02:30,  5.63it/s]"
     ]
    },
    {
     "name": "stdout",
     "output_type": "stream",
     "text": [
      "tensor(0.0045, device='cuda:0') tensor(-0.0039, device='cuda:0')\n",
      "tensor(0.0054, device='cuda:0') tensor(-0.0045, device='cuda:0')\n"
     ]
    },
    {
     "name": "stderr",
     "output_type": "stream",
     "text": [
      " 16%|█▌        | 156/1000 [00:28<02:30,  5.60it/s]"
     ]
    },
    {
     "name": "stdout",
     "output_type": "stream",
     "text": [
      "tensor(0.0061, device='cuda:0') tensor(-0.0049, device='cuda:0')\n",
      "tensor(0.0067, device='cuda:0') tensor(-0.0051, device='cuda:0')\n"
     ]
    },
    {
     "name": "stderr",
     "output_type": "stream",
     "text": [
      " 16%|█▌        | 158/1000 [00:28<02:30,  5.61it/s]"
     ]
    },
    {
     "name": "stdout",
     "output_type": "stream",
     "text": [
      "tensor(0.0070, device='cuda:0') tensor(-0.0052, device='cuda:0')\n",
      "tensor(0.0073, device='cuda:0') tensor(-0.0054, device='cuda:0')\n"
     ]
    },
    {
     "name": "stderr",
     "output_type": "stream",
     "text": [
      " 16%|█▌        | 160/1000 [00:29<02:30,  5.57it/s]"
     ]
    },
    {
     "name": "stdout",
     "output_type": "stream",
     "text": [
      "tensor(0.0081, device='cuda:0') tensor(-0.0059, device='cuda:0')\n",
      "840 loss: 0.00689404783770442\n",
      "tensor(0.0105, device='cuda:0') tensor(-0.0073, device='cuda:0')\n"
     ]
    },
    {
     "name": "stderr",
     "output_type": "stream",
     "text": [
      " 16%|█▌        | 162/1000 [00:29<02:29,  5.61it/s]"
     ]
    },
    {
     "name": "stdout",
     "output_type": "stream",
     "text": [
      "tensor(0.0128, device='cuda:0') tensor(-0.0084, device='cuda:0')\n",
      "tensor(0.0159, device='cuda:0') tensor(-0.0099, device='cuda:0')\n"
     ]
    },
    {
     "name": "stderr",
     "output_type": "stream",
     "text": [
      " 16%|█▋        | 164/1000 [00:29<02:29,  5.60it/s]"
     ]
    },
    {
     "name": "stdout",
     "output_type": "stream",
     "text": [
      "tensor(0.0176, device='cuda:0') tensor(-0.0108, device='cuda:0')\n",
      "tensor(0.0181, device='cuda:0') tensor(-0.0111, device='cuda:0')\n"
     ]
    },
    {
     "name": "stderr",
     "output_type": "stream",
     "text": [
      " 17%|█▋        | 166/1000 [00:30<02:28,  5.61it/s]"
     ]
    },
    {
     "name": "stdout",
     "output_type": "stream",
     "text": [
      "tensor(0.0179, device='cuda:0') tensor(-0.0111, device='cuda:0')\n",
      "tensor(0.0174, device='cuda:0') tensor(-0.0107, device='cuda:0')\n"
     ]
    },
    {
     "name": "stderr",
     "output_type": "stream",
     "text": [
      " 17%|█▋        | 168/1000 [00:30<02:27,  5.63it/s]"
     ]
    },
    {
     "name": "stdout",
     "output_type": "stream",
     "text": [
      "tensor(0.0167, device='cuda:0') tensor(-0.0102, device='cuda:0')\n",
      "tensor(0.0170, device='cuda:0') tensor(-0.0101, device='cuda:0')\n"
     ]
    },
    {
     "name": "stderr",
     "output_type": "stream",
     "text": [
      " 17%|█▋        | 170/1000 [00:30<02:27,  5.63it/s]"
     ]
    },
    {
     "name": "stdout",
     "output_type": "stream",
     "text": [
      "tensor(0.0197, device='cuda:0') tensor(-0.0123, device='cuda:0')\n",
      "830 loss: 0.0067695071920752525\n",
      "tensor(0.0301, device='cuda:0') tensor(-0.0202, device='cuda:0')\n"
     ]
    },
    {
     "name": "stderr",
     "output_type": "stream",
     "text": [
      " 17%|█▋        | 172/1000 [00:31<02:26,  5.64it/s]"
     ]
    },
    {
     "name": "stdout",
     "output_type": "stream",
     "text": [
      "tensor(0.0450, device='cuda:0') tensor(-0.0317, device='cuda:0')\n",
      "tensor(0.0500, device='cuda:0') tensor(-0.0500, device='cuda:0')\n"
     ]
    },
    {
     "name": "stderr",
     "output_type": "stream",
     "text": [
      " 17%|█▋        | 173/1000 [00:31<02:26,  5.63it/s]"
     ]
    },
    {
     "name": "stdout",
     "output_type": "stream",
     "text": [
      "tensor(0.0500, device='cuda:0') tensor(-0.0500, device='cuda:0')\n",
      "tensor(0.0500, device='cuda:0') tensor(-0.0500, device='cuda:0')\n"
     ]
    },
    {
     "name": "stderr",
     "output_type": "stream",
     "text": [
      " 18%|█▊        | 176/1000 [00:31<02:29,  5.50it/s]"
     ]
    },
    {
     "name": "stdout",
     "output_type": "stream",
     "text": [
      "tensor(0.0500, device='cuda:0') tensor(-0.0500, device='cuda:0')\n",
      "tensor(0.0500, device='cuda:0') tensor(-0.0500, device='cuda:0')\n"
     ]
    },
    {
     "name": "stderr",
     "output_type": "stream",
     "text": [
      " 18%|█▊        | 178/1000 [00:32<02:27,  5.58it/s]"
     ]
    },
    {
     "name": "stdout",
     "output_type": "stream",
     "text": [
      "tensor(0.0452, device='cuda:0') tensor(-0.0452, device='cuda:0')\n",
      "tensor(0.0406, device='cuda:0') tensor(-0.0407, device='cuda:0')\n"
     ]
    },
    {
     "name": "stderr",
     "output_type": "stream",
     "text": [
      " 18%|█▊        | 180/1000 [00:32<02:26,  5.60it/s]"
     ]
    },
    {
     "name": "stdout",
     "output_type": "stream",
     "text": [
      "tensor(0.0366, device='cuda:0') tensor(-0.0366, device='cuda:0')\n",
      "820 loss: 0.0031326173339039087\n",
      "tensor(0.0329, device='cuda:0') tensor(-0.0329, device='cuda:0')\n"
     ]
    },
    {
     "name": "stderr",
     "output_type": "stream",
     "text": [
      " 18%|█▊        | 182/1000 [00:33<02:25,  5.63it/s]"
     ]
    },
    {
     "name": "stdout",
     "output_type": "stream",
     "text": [
      "tensor(0.0296, device='cuda:0') tensor(-0.0296, device='cuda:0')\n",
      "tensor(0.0267, device='cuda:0') tensor(-0.0267, device='cuda:0')\n"
     ]
    },
    {
     "name": "stderr",
     "output_type": "stream",
     "text": [
      " 18%|█▊        | 184/1000 [00:33<02:25,  5.60it/s]"
     ]
    },
    {
     "name": "stdout",
     "output_type": "stream",
     "text": [
      "tensor(0.0240, device='cuda:0') tensor(-0.0240, device='cuda:0')\n",
      "tensor(0.0216, device='cuda:0') tensor(-0.0216, device='cuda:0')\n"
     ]
    },
    {
     "name": "stderr",
     "output_type": "stream",
     "text": [
      " 19%|█▊        | 186/1000 [00:33<02:25,  5.60it/s]"
     ]
    },
    {
     "name": "stdout",
     "output_type": "stream",
     "text": [
      "tensor(0.0194, device='cuda:0') tensor(-0.0194, device='cuda:0')\n",
      "tensor(0.0175, device='cuda:0') tensor(-0.0175, device='cuda:0')\n"
     ]
    },
    {
     "name": "stderr",
     "output_type": "stream",
     "text": [
      " 19%|█▉        | 188/1000 [00:34<02:24,  5.60it/s]"
     ]
    },
    {
     "name": "stdout",
     "output_type": "stream",
     "text": [
      "tensor(0.0157, device='cuda:0') tensor(-0.0158, device='cuda:0')\n",
      "tensor(0.0142, device='cuda:0') tensor(-0.0142, device='cuda:0')\n"
     ]
    },
    {
     "name": "stderr",
     "output_type": "stream",
     "text": [
      " 19%|█▉        | 190/1000 [00:34<02:24,  5.61it/s]"
     ]
    },
    {
     "name": "stdout",
     "output_type": "stream",
     "text": [
      "tensor(0.0128, device='cuda:0') tensor(-0.0128, device='cuda:0')\n",
      "810 loss: 0.0031326173339039087\n",
      "tensor(0.0115, device='cuda:0') tensor(-0.0115, device='cuda:0')\n"
     ]
    },
    {
     "name": "stderr",
     "output_type": "stream",
     "text": [
      " 19%|█▉        | 192/1000 [00:34<02:23,  5.61it/s]"
     ]
    },
    {
     "name": "stdout",
     "output_type": "stream",
     "text": [
      "tensor(0.0103, device='cuda:0') tensor(-0.0103, device='cuda:0')\n",
      "tensor(0.0093, device='cuda:0') tensor(-0.0093, device='cuda:0')\n"
     ]
    },
    {
     "name": "stderr",
     "output_type": "stream",
     "text": [
      " 19%|█▉        | 194/1000 [00:35<02:24,  5.59it/s]"
     ]
    },
    {
     "name": "stdout",
     "output_type": "stream",
     "text": [
      "tensor(0.0084, device='cuda:0') tensor(-0.0084, device='cuda:0')\n",
      "tensor(0.0075, device='cuda:0') tensor(-0.0075, device='cuda:0')\n"
     ]
    },
    {
     "name": "stderr",
     "output_type": "stream",
     "text": [
      " 20%|█▉        | 196/1000 [00:35<02:23,  5.59it/s]"
     ]
    },
    {
     "name": "stdout",
     "output_type": "stream",
     "text": [
      "tensor(0.0068, device='cuda:0') tensor(-0.0068, device='cuda:0')\n",
      "tensor(0.0061, device='cuda:0') tensor(-0.0061, device='cuda:0')\n"
     ]
    },
    {
     "name": "stderr",
     "output_type": "stream",
     "text": [
      " 20%|█▉        | 198/1000 [00:35<02:23,  5.60it/s]"
     ]
    },
    {
     "name": "stdout",
     "output_type": "stream",
     "text": [
      "tensor(0.0055, device='cuda:0') tensor(-0.0055, device='cuda:0')\n",
      "tensor(0.0049, device='cuda:0') tensor(-0.0049, device='cuda:0')\n"
     ]
    },
    {
     "name": "stderr",
     "output_type": "stream",
     "text": [
      " 20%|██        | 200/1000 [00:36<02:23,  5.59it/s]"
     ]
    },
    {
     "name": "stdout",
     "output_type": "stream",
     "text": [
      "tensor(0.0044, device='cuda:0') tensor(-0.0044, device='cuda:0')\n",
      "800 loss: 0.0031326173339039087\n",
      "tensor(0.0040, device='cuda:0') tensor(-0.0040, device='cuda:0')\n"
     ]
    },
    {
     "name": "stderr",
     "output_type": "stream",
     "text": [
      " 20%|██        | 202/1000 [00:36<02:22,  5.58it/s]"
     ]
    },
    {
     "name": "stdout",
     "output_type": "stream",
     "text": [
      "tensor(0.0036, device='cuda:0') tensor(-0.0036, device='cuda:0')\n",
      "tensor(0.0032, device='cuda:0') tensor(-0.0032, device='cuda:0')\n"
     ]
    },
    {
     "name": "stderr",
     "output_type": "stream",
     "text": [
      " 20%|██        | 204/1000 [00:36<02:22,  5.59it/s]"
     ]
    },
    {
     "name": "stdout",
     "output_type": "stream",
     "text": [
      "tensor(0.0029, device='cuda:0') tensor(-0.0029, device='cuda:0')\n",
      "tensor(0.0026, device='cuda:0') tensor(-0.0026, device='cuda:0')\n"
     ]
    },
    {
     "name": "stderr",
     "output_type": "stream",
     "text": [
      " 21%|██        | 206/1000 [00:37<02:22,  5.57it/s]"
     ]
    },
    {
     "name": "stdout",
     "output_type": "stream",
     "text": [
      "tensor(0.0024, device='cuda:0') tensor(-0.0024, device='cuda:0')\n",
      "tensor(0.0021, device='cuda:0') tensor(-0.0021, device='cuda:0')\n"
     ]
    },
    {
     "name": "stderr",
     "output_type": "stream",
     "text": [
      " 21%|██        | 208/1000 [00:37<02:21,  5.58it/s]"
     ]
    },
    {
     "name": "stdout",
     "output_type": "stream",
     "text": [
      "tensor(0.0019, device='cuda:0') tensor(-0.0019, device='cuda:0')\n",
      "tensor(0.0017, device='cuda:0') tensor(-0.0017, device='cuda:0')\n"
     ]
    },
    {
     "name": "stderr",
     "output_type": "stream",
     "text": [
      " 21%|██        | 210/1000 [00:38<02:21,  5.60it/s]"
     ]
    },
    {
     "name": "stdout",
     "output_type": "stream",
     "text": [
      "tensor(0.0016, device='cuda:0') tensor(-0.0016, device='cuda:0')\n",
      "790 loss: 0.0031326173339039087\n",
      "tensor(0.0014, device='cuda:0') tensor(-0.0014, device='cuda:0')\n"
     ]
    },
    {
     "name": "stderr",
     "output_type": "stream",
     "text": [
      " 21%|██        | 212/1000 [00:38<02:20,  5.59it/s]"
     ]
    },
    {
     "name": "stdout",
     "output_type": "stream",
     "text": [
      "tensor(0.0013, device='cuda:0') tensor(-0.0013, device='cuda:0')\n",
      "tensor(0.0011, device='cuda:0') tensor(-0.0011, device='cuda:0')\n"
     ]
    },
    {
     "name": "stderr",
     "output_type": "stream",
     "text": [
      " 21%|██▏       | 214/1000 [00:38<02:20,  5.60it/s]"
     ]
    },
    {
     "name": "stdout",
     "output_type": "stream",
     "text": [
      "tensor(0.0010, device='cuda:0') tensor(-0.0010, device='cuda:0')\n",
      "tensor(0.0009, device='cuda:0') tensor(-0.0009, device='cuda:0')\n"
     ]
    },
    {
     "name": "stderr",
     "output_type": "stream",
     "text": [
      " 22%|██▏       | 216/1000 [00:39<02:19,  5.62it/s]"
     ]
    },
    {
     "name": "stdout",
     "output_type": "stream",
     "text": [
      "tensor(0.0008, device='cuda:0') tensor(-0.0008, device='cuda:0')\n",
      "tensor(0.0007, device='cuda:0') tensor(-0.0007, device='cuda:0')\n"
     ]
    },
    {
     "name": "stderr",
     "output_type": "stream",
     "text": [
      " 22%|██▏       | 218/1000 [00:39<02:19,  5.59it/s]"
     ]
    },
    {
     "name": "stdout",
     "output_type": "stream",
     "text": [
      "tensor(0.0007, device='cuda:0') tensor(-0.0007, device='cuda:0')\n",
      "tensor(0.0006, device='cuda:0') tensor(-0.0006, device='cuda:0')\n"
     ]
    },
    {
     "name": "stderr",
     "output_type": "stream",
     "text": [
      " 22%|██▏       | 220/1000 [00:39<02:19,  5.59it/s]"
     ]
    },
    {
     "name": "stdout",
     "output_type": "stream",
     "text": [
      "tensor(0.0005, device='cuda:0') tensor(-0.0005, device='cuda:0')\n",
      "780 loss: 0.0031326173339039087\n",
      "tensor(0.0005, device='cuda:0') tensor(-0.0005, device='cuda:0')\n"
     ]
    },
    {
     "name": "stderr",
     "output_type": "stream",
     "text": [
      " 22%|██▏       | 222/1000 [00:40<02:17,  5.65it/s]"
     ]
    },
    {
     "name": "stdout",
     "output_type": "stream",
     "text": [
      "tensor(0.0004, device='cuda:0') tensor(-0.0004, device='cuda:0')\n",
      "tensor(0.0004, device='cuda:0') tensor(-0.0004, device='cuda:0')\n"
     ]
    },
    {
     "name": "stderr",
     "output_type": "stream",
     "text": [
      " 22%|██▏       | 224/1000 [00:40<02:18,  5.62it/s]"
     ]
    },
    {
     "name": "stdout",
     "output_type": "stream",
     "text": [
      "tensor(0.0004, device='cuda:0') tensor(-0.0004, device='cuda:0')\n",
      "tensor(0.0003, device='cuda:0') tensor(-0.0003, device='cuda:0')\n"
     ]
    },
    {
     "name": "stderr",
     "output_type": "stream",
     "text": [
      " 23%|██▎       | 226/1000 [00:40<02:18,  5.60it/s]"
     ]
    },
    {
     "name": "stdout",
     "output_type": "stream",
     "text": [
      "tensor(0.0003, device='cuda:0') tensor(-0.0003, device='cuda:0')\n",
      "tensor(0.0003, device='cuda:0') tensor(-0.0003, device='cuda:0')\n"
     ]
    },
    {
     "name": "stderr",
     "output_type": "stream",
     "text": [
      " 23%|██▎       | 228/1000 [00:41<02:18,  5.56it/s]"
     ]
    },
    {
     "name": "stdout",
     "output_type": "stream",
     "text": [
      "tensor(0.0002, device='cuda:0') tensor(-0.0002, device='cuda:0')\n",
      "tensor(0.0002, device='cuda:0') tensor(-0.0002, device='cuda:0')\n"
     ]
    },
    {
     "name": "stderr",
     "output_type": "stream",
     "text": [
      " 23%|██▎       | 230/1000 [00:41<02:17,  5.58it/s]"
     ]
    },
    {
     "name": "stdout",
     "output_type": "stream",
     "text": [
      "tensor(0.0002, device='cuda:0') tensor(-0.0002, device='cuda:0')\n",
      "770 loss: 0.0031326173339039087\n",
      "tensor(0.0002, device='cuda:0') tensor(-0.0002, device='cuda:0')\n"
     ]
    },
    {
     "name": "stderr",
     "output_type": "stream",
     "text": [
      " 23%|██▎       | 232/1000 [00:41<02:19,  5.50it/s]"
     ]
    },
    {
     "name": "stdout",
     "output_type": "stream",
     "text": [
      "tensor(0.0002, device='cuda:0') tensor(-0.0002, device='cuda:0')\n",
      "tensor(0.0001, device='cuda:0') tensor(-0.0001, device='cuda:0')\n"
     ]
    },
    {
     "name": "stderr",
     "output_type": "stream",
     "text": [
      " 23%|██▎       | 234/1000 [00:42<02:19,  5.51it/s]"
     ]
    },
    {
     "name": "stdout",
     "output_type": "stream",
     "text": [
      "tensor(0.0001, device='cuda:0') tensor(-0.0001, device='cuda:0')\n",
      "tensor(0.0001, device='cuda:0') tensor(-0.0001, device='cuda:0')\n"
     ]
    },
    {
     "name": "stderr",
     "output_type": "stream",
     "text": [
      " 24%|██▎       | 236/1000 [00:42<02:17,  5.56it/s]"
     ]
    },
    {
     "name": "stdout",
     "output_type": "stream",
     "text": [
      "tensor(0.0001, device='cuda:0') tensor(-0.0001, device='cuda:0')\n",
      "tensor(9.0173e-05, device='cuda:0') tensor(-9.0204e-05, device='cuda:0')\n"
     ]
    },
    {
     "name": "stderr",
     "output_type": "stream",
     "text": [
      " 24%|██▍       | 238/1000 [00:43<02:16,  5.59it/s]"
     ]
    },
    {
     "name": "stdout",
     "output_type": "stream",
     "text": [
      "tensor(8.1156e-05, device='cuda:0') tensor(-8.1183e-05, device='cuda:0')\n",
      "tensor(7.3040e-05, device='cuda:0') tensor(-7.3065e-05, device='cuda:0')\n"
     ]
    },
    {
     "name": "stderr",
     "output_type": "stream",
     "text": [
      " 24%|██▍       | 240/1000 [00:43<02:15,  5.62it/s]"
     ]
    },
    {
     "name": "stdout",
     "output_type": "stream",
     "text": [
      "tensor(6.5736e-05, device='cuda:0') tensor(-6.5758e-05, device='cuda:0')\n",
      "760 loss: 0.0031326173339039087\n",
      "tensor(5.9162e-05, device='cuda:0') tensor(-5.9183e-05, device='cuda:0')\n"
     ]
    },
    {
     "name": "stderr",
     "output_type": "stream",
     "text": [
      " 24%|██▍       | 242/1000 [00:43<02:15,  5.61it/s]"
     ]
    },
    {
     "name": "stdout",
     "output_type": "stream",
     "text": [
      "tensor(5.3246e-05, device='cuda:0') tensor(-5.3264e-05, device='cuda:0')\n",
      "tensor(4.7922e-05, device='cuda:0') tensor(-4.7938e-05, device='cuda:0')\n"
     ]
    },
    {
     "name": "stderr",
     "output_type": "stream",
     "text": [
      " 24%|██▍       | 244/1000 [00:44<02:15,  5.58it/s]"
     ]
    },
    {
     "name": "stdout",
     "output_type": "stream",
     "text": [
      "tensor(4.3129e-05, device='cuda:0') tensor(-4.3144e-05, device='cuda:0')\n",
      "tensor(3.8816e-05, device='cuda:0') tensor(-3.8830e-05, device='cuda:0')\n"
     ]
    },
    {
     "name": "stderr",
     "output_type": "stream",
     "text": [
      " 25%|██▍       | 246/1000 [00:44<02:15,  5.55it/s]"
     ]
    },
    {
     "name": "stdout",
     "output_type": "stream",
     "text": [
      "tensor(3.4935e-05, device='cuda:0') tensor(-3.4947e-05, device='cuda:0')\n",
      "tensor(3.1441e-05, device='cuda:0') tensor(-3.1452e-05, device='cuda:0')\n"
     ]
    },
    {
     "name": "stderr",
     "output_type": "stream",
     "text": [
      " 25%|██▍       | 248/1000 [00:44<02:15,  5.56it/s]"
     ]
    },
    {
     "name": "stdout",
     "output_type": "stream",
     "text": [
      "tensor(2.8297e-05, device='cuda:0') tensor(-2.8307e-05, device='cuda:0')\n",
      "tensor(2.5467e-05, device='cuda:0') tensor(-2.5476e-05, device='cuda:0')\n"
     ]
    },
    {
     "name": "stderr",
     "output_type": "stream",
     "text": [
      " 25%|██▌       | 250/1000 [00:45<02:14,  5.57it/s]"
     ]
    },
    {
     "name": "stdout",
     "output_type": "stream",
     "text": [
      "tensor(2.2921e-05, device='cuda:0') tensor(-2.2929e-05, device='cuda:0')\n",
      "750 loss: 0.0031326173339039087\n",
      "tensor(2.0629e-05, device='cuda:0') tensor(-2.0636e-05, device='cuda:0')\n"
     ]
    },
    {
     "name": "stderr",
     "output_type": "stream",
     "text": [
      " 25%|██▌       | 252/1000 [00:45<02:14,  5.56it/s]"
     ]
    },
    {
     "name": "stdout",
     "output_type": "stream",
     "text": [
      "tensor(1.8566e-05, device='cuda:0') tensor(-1.8572e-05, device='cuda:0')\n",
      "tensor(1.6709e-05, device='cuda:0') tensor(-1.6715e-05, device='cuda:0')\n"
     ]
    },
    {
     "name": "stderr",
     "output_type": "stream",
     "text": [
      " 25%|██▌       | 254/1000 [00:45<02:13,  5.59it/s]"
     ]
    },
    {
     "name": "stdout",
     "output_type": "stream",
     "text": [
      "tensor(1.5038e-05, device='cuda:0') tensor(-1.5043e-05, device='cuda:0')\n",
      "tensor(1.3534e-05, device='cuda:0') tensor(-1.3539e-05, device='cuda:0')\n"
     ]
    },
    {
     "name": "stderr",
     "output_type": "stream",
     "text": [
      " 26%|██▌       | 256/1000 [00:46<02:13,  5.59it/s]"
     ]
    },
    {
     "name": "stdout",
     "output_type": "stream",
     "text": [
      "tensor(1.2181e-05, device='cuda:0') tensor(-1.2185e-05, device='cuda:0')\n",
      "tensor(1.0963e-05, device='cuda:0') tensor(-1.0967e-05, device='cuda:0')\n"
     ]
    },
    {
     "name": "stderr",
     "output_type": "stream",
     "text": [
      " 26%|██▌       | 258/1000 [00:46<02:12,  5.61it/s]"
     ]
    },
    {
     "name": "stdout",
     "output_type": "stream",
     "text": [
      "tensor(9.8666e-06, device='cuda:0') tensor(-9.8700e-06, device='cuda:0')\n",
      "tensor(8.8800e-06, device='cuda:0') tensor(-8.8830e-06, device='cuda:0')\n"
     ]
    },
    {
     "name": "stderr",
     "output_type": "stream",
     "text": [
      " 26%|██▌       | 260/1000 [00:47<02:12,  5.59it/s]"
     ]
    },
    {
     "name": "stdout",
     "output_type": "stream",
     "text": [
      "tensor(7.9920e-06, device='cuda:0') tensor(-7.9947e-06, device='cuda:0')\n",
      "740 loss: 0.0031326173339039087\n",
      "tensor(7.1928e-06, device='cuda:0') tensor(-7.1952e-06, device='cuda:0')\n"
     ]
    },
    {
     "name": "stderr",
     "output_type": "stream",
     "text": [
      " 26%|██▌       | 262/1000 [00:47<02:12,  5.59it/s]"
     ]
    },
    {
     "name": "stdout",
     "output_type": "stream",
     "text": [
      "tensor(6.4735e-06, device='cuda:0') tensor(-6.4757e-06, device='cuda:0')\n",
      "tensor(5.8261e-06, device='cuda:0') tensor(-5.8281e-06, device='cuda:0')\n"
     ]
    },
    {
     "name": "stderr",
     "output_type": "stream",
     "text": [
      " 26%|██▋       | 264/1000 [00:47<02:11,  5.59it/s]"
     ]
    },
    {
     "name": "stdout",
     "output_type": "stream",
     "text": [
      "tensor(5.2435e-06, device='cuda:0') tensor(-5.2453e-06, device='cuda:0')\n",
      "tensor(4.7192e-06, device='cuda:0') tensor(-4.7208e-06, device='cuda:0')\n"
     ]
    },
    {
     "name": "stderr",
     "output_type": "stream",
     "text": [
      " 27%|██▋       | 266/1000 [00:48<02:10,  5.61it/s]"
     ]
    },
    {
     "name": "stdout",
     "output_type": "stream",
     "text": [
      "tensor(4.2473e-06, device='cuda:0') tensor(-4.2487e-06, device='cuda:0')\n",
      "tensor(3.8225e-06, device='cuda:0') tensor(-3.8238e-06, device='cuda:0')\n"
     ]
    },
    {
     "name": "stderr",
     "output_type": "stream",
     "text": [
      " 27%|██▋       | 268/1000 [00:48<02:11,  5.58it/s]"
     ]
    },
    {
     "name": "stdout",
     "output_type": "stream",
     "text": [
      "tensor(3.4403e-06, device='cuda:0') tensor(-3.4414e-06, device='cuda:0')\n",
      "tensor(3.0963e-06, device='cuda:0') tensor(-3.0973e-06, device='cuda:0')\n"
     ]
    },
    {
     "name": "stderr",
     "output_type": "stream",
     "text": [
      " 27%|██▋       | 270/1000 [00:48<02:10,  5.59it/s]"
     ]
    },
    {
     "name": "stdout",
     "output_type": "stream",
     "text": [
      "tensor(2.7866e-06, device='cuda:0') tensor(-2.7876e-06, device='cuda:0')\n",
      "730 loss: 0.0031326173339039087\n",
      "tensor(2.5080e-06, device='cuda:0') tensor(-2.5088e-06, device='cuda:0')\n"
     ]
    },
    {
     "name": "stderr",
     "output_type": "stream",
     "text": [
      " 27%|██▋       | 272/1000 [00:49<02:10,  5.60it/s]"
     ]
    },
    {
     "name": "stdout",
     "output_type": "stream",
     "text": [
      "tensor(2.2572e-06, device='cuda:0') tensor(-2.2579e-06, device='cuda:0')\n",
      "tensor(2.0314e-06, device='cuda:0') tensor(-2.0321e-06, device='cuda:0')\n"
     ]
    },
    {
     "name": "stderr",
     "output_type": "stream",
     "text": [
      " 27%|██▋       | 274/1000 [00:49<02:10,  5.57it/s]"
     ]
    },
    {
     "name": "stdout",
     "output_type": "stream",
     "text": [
      "tensor(1.8283e-06, device='cuda:0') tensor(-1.8289e-06, device='cuda:0')\n",
      "tensor(1.6455e-06, device='cuda:0') tensor(-1.6460e-06, device='cuda:0')\n"
     ]
    },
    {
     "name": "stderr",
     "output_type": "stream",
     "text": [
      " 28%|██▊       | 276/1000 [00:49<02:09,  5.58it/s]"
     ]
    },
    {
     "name": "stdout",
     "output_type": "stream",
     "text": [
      "tensor(1.4809e-06, device='cuda:0') tensor(-1.4814e-06, device='cuda:0')\n",
      "tensor(1.3328e-06, device='cuda:0') tensor(-1.3333e-06, device='cuda:0')\n"
     ]
    },
    {
     "name": "stderr",
     "output_type": "stream",
     "text": [
      " 28%|██▊       | 278/1000 [00:50<02:09,  5.58it/s]"
     ]
    },
    {
     "name": "stdout",
     "output_type": "stream",
     "text": [
      "tensor(1.1996e-06, device='cuda:0') tensor(-1.2000e-06, device='cuda:0')\n",
      "tensor(1.0796e-06, device='cuda:0') tensor(-1.0800e-06, device='cuda:0')\n"
     ]
    },
    {
     "name": "stderr",
     "output_type": "stream",
     "text": [
      " 28%|██▊       | 280/1000 [00:50<02:09,  5.56it/s]"
     ]
    },
    {
     "name": "stdout",
     "output_type": "stream",
     "text": [
      "tensor(9.7164e-07, device='cuda:0') tensor(-9.7197e-07, device='cuda:0')\n",
      "720 loss: 0.0031326173339039087\n",
      "tensor(8.7447e-07, device='cuda:0') tensor(-8.7477e-07, device='cuda:0')\n"
     ]
    },
    {
     "name": "stderr",
     "output_type": "stream",
     "text": [
      " 28%|██▊       | 282/1000 [00:50<02:09,  5.55it/s]"
     ]
    },
    {
     "name": "stdout",
     "output_type": "stream",
     "text": [
      "tensor(7.8702e-07, device='cuda:0') tensor(-7.8729e-07, device='cuda:0')\n",
      "tensor(7.0832e-07, device='cuda:0') tensor(-7.0856e-07, device='cuda:0')\n"
     ]
    },
    {
     "name": "stderr",
     "output_type": "stream",
     "text": [
      " 28%|██▊       | 284/1000 [00:51<02:08,  5.58it/s]"
     ]
    },
    {
     "name": "stdout",
     "output_type": "stream",
     "text": [
      "tensor(6.3749e-07, device='cuda:0') tensor(-6.3771e-07, device='cuda:0')\n",
      "tensor(5.7374e-07, device='cuda:0') tensor(-5.7394e-07, device='cuda:0')\n"
     ]
    },
    {
     "name": "stderr",
     "output_type": "stream",
     "text": [
      " 29%|██▊       | 286/1000 [00:51<02:07,  5.59it/s]"
     ]
    },
    {
     "name": "stdout",
     "output_type": "stream",
     "text": [
      "tensor(5.1637e-07, device='cuda:0') tensor(-5.1654e-07, device='cuda:0')\n",
      "tensor(4.6473e-07, device='cuda:0') tensor(-4.6489e-07, device='cuda:0')\n"
     ]
    },
    {
     "name": "stderr",
     "output_type": "stream",
     "text": [
      " 29%|██▉       | 288/1000 [00:52<02:07,  5.60it/s]"
     ]
    },
    {
     "name": "stdout",
     "output_type": "stream",
     "text": [
      "tensor(4.1826e-07, device='cuda:0') tensor(-4.1840e-07, device='cuda:0')\n",
      "tensor(3.7643e-07, device='cuda:0') tensor(-3.7656e-07, device='cuda:0')\n"
     ]
    },
    {
     "name": "stderr",
     "output_type": "stream",
     "text": [
      " 29%|██▉       | 290/1000 [00:52<02:09,  5.49it/s]"
     ]
    },
    {
     "name": "stdout",
     "output_type": "stream",
     "text": [
      "tensor(3.3879e-07, device='cuda:0') tensor(-3.3890e-07, device='cuda:0')\n",
      "710 loss: 0.0031326173339039087\n",
      "tensor(3.0491e-07, device='cuda:0') tensor(-3.0501e-07, device='cuda:0')\n"
     ]
    },
    {
     "name": "stderr",
     "output_type": "stream",
     "text": [
      " 29%|██▉       | 292/1000 [00:52<02:07,  5.53it/s]"
     ]
    },
    {
     "name": "stdout",
     "output_type": "stream",
     "text": [
      "tensor(2.7442e-07, device='cuda:0') tensor(-2.7451e-07, device='cuda:0')\n",
      "tensor(2.4698e-07, device='cuda:0') tensor(-2.4706e-07, device='cuda:0')\n"
     ]
    },
    {
     "name": "stderr",
     "output_type": "stream",
     "text": [
      " 29%|██▉       | 293/1000 [00:52<02:08,  5.52it/s]"
     ]
    },
    {
     "name": "stdout",
     "output_type": "stream",
     "text": [
      "tensor(2.2228e-07, device='cuda:0') tensor(-2.2235e-07, device='cuda:0')\n",
      "tensor(2.0005e-07, device='cuda:0') tensor(-2.0012e-07, device='cuda:0')\n"
     ]
    },
    {
     "name": "stderr",
     "output_type": "stream",
     "text": [
      " 30%|██▉       | 296/1000 [00:53<02:09,  5.45it/s]"
     ]
    },
    {
     "name": "stdout",
     "output_type": "stream",
     "text": [
      "tensor(1.8005e-07, device='cuda:0') tensor(-1.8011e-07, device='cuda:0')\n",
      "tensor(1.6204e-07, device='cuda:0') tensor(-1.6210e-07, device='cuda:0')\n"
     ]
    },
    {
     "name": "stderr",
     "output_type": "stream",
     "text": [
      " 30%|██▉       | 298/1000 [00:53<02:06,  5.54it/s]"
     ]
    },
    {
     "name": "stdout",
     "output_type": "stream",
     "text": [
      "tensor(1.4584e-07, device='cuda:0') tensor(-1.4589e-07, device='cuda:0')\n",
      "tensor(1.3125e-07, device='cuda:0') tensor(-1.3130e-07, device='cuda:0')\n"
     ]
    },
    {
     "name": "stderr",
     "output_type": "stream",
     "text": [
      " 30%|███       | 300/1000 [00:54<02:04,  5.63it/s]"
     ]
    },
    {
     "name": "stdout",
     "output_type": "stream",
     "text": [
      "tensor(1.1813e-07, device='cuda:0') tensor(-1.1817e-07, device='cuda:0')\n",
      "700 loss: 0.0031326173339039087\n",
      "tensor(1.0632e-07, device='cuda:0') tensor(-1.0635e-07, device='cuda:0')\n"
     ]
    },
    {
     "name": "stderr",
     "output_type": "stream",
     "text": [
      " 30%|███       | 302/1000 [00:54<02:05,  5.56it/s]"
     ]
    },
    {
     "name": "stdout",
     "output_type": "stream",
     "text": [
      "tensor(9.5684e-08, device='cuda:0') tensor(-9.5716e-08, device='cuda:0')\n",
      "tensor(8.6115e-08, device='cuda:0') tensor(-8.6145e-08, device='cuda:0')\n"
     ]
    },
    {
     "name": "stderr",
     "output_type": "stream",
     "text": [
      " 30%|███       | 304/1000 [00:54<02:06,  5.52it/s]"
     ]
    },
    {
     "name": "stdout",
     "output_type": "stream",
     "text": [
      "tensor(7.7504e-08, device='cuda:0') tensor(-7.7530e-08, device='cuda:0')\n",
      "tensor(6.9754e-08, device='cuda:0') tensor(-6.9777e-08, device='cuda:0')\n"
     ]
    },
    {
     "name": "stderr",
     "output_type": "stream",
     "text": [
      " 31%|███       | 306/1000 [00:55<02:06,  5.48it/s]"
     ]
    },
    {
     "name": "stdout",
     "output_type": "stream",
     "text": [
      "tensor(6.2778e-08, device='cuda:0') tensor(-6.2800e-08, device='cuda:0')\n",
      "tensor(5.6500e-08, device='cuda:0') tensor(-5.6520e-08, device='cuda:0')\n"
     ]
    },
    {
     "name": "stderr",
     "output_type": "stream",
     "text": [
      " 31%|███       | 308/1000 [00:55<02:05,  5.49it/s]"
     ]
    },
    {
     "name": "stdout",
     "output_type": "stream",
     "text": [
      "tensor(5.0850e-08, device='cuda:0') tensor(-5.0868e-08, device='cuda:0')\n",
      "tensor(4.5765e-08, device='cuda:0') tensor(-4.5781e-08, device='cuda:0')\n"
     ]
    },
    {
     "name": "stderr",
     "output_type": "stream",
     "text": [
      " 31%|███       | 310/1000 [00:56<02:03,  5.59it/s]"
     ]
    },
    {
     "name": "stdout",
     "output_type": "stream",
     "text": [
      "tensor(4.1189e-08, device='cuda:0') tensor(-4.1203e-08, device='cuda:0')\n",
      "690 loss: 0.0031326173339039087\n",
      "tensor(3.7070e-08, device='cuda:0') tensor(-3.7082e-08, device='cuda:0')\n"
     ]
    },
    {
     "name": "stderr",
     "output_type": "stream",
     "text": [
      " 31%|███       | 311/1000 [00:56<02:09,  5.34it/s]"
     ]
    },
    {
     "name": "stdout",
     "output_type": "stream",
     "text": [
      "tensor(3.3363e-08, device='cuda:0') tensor(-3.3374e-08, device='cuda:0')\n"
     ]
    },
    {
     "name": "stderr",
     "output_type": "stream",
     "text": [
      " 31%|███▏      | 313/1000 [00:56<02:04,  5.50it/s]"
     ]
    },
    {
     "name": "stdout",
     "output_type": "stream",
     "text": [
      "tensor(3.0027e-08, device='cuda:0') tensor(-3.0037e-08, device='cuda:0')\n",
      "tensor(2.7024e-08, device='cuda:0') tensor(-2.7033e-08, device='cuda:0')\n"
     ]
    },
    {
     "name": "stderr",
     "output_type": "stream",
     "text": [
      " 32%|███▏      | 315/1000 [00:56<02:03,  5.55it/s]"
     ]
    },
    {
     "name": "stdout",
     "output_type": "stream",
     "text": [
      "tensor(2.4322e-08, device='cuda:0') tensor(-2.4330e-08, device='cuda:0')\n",
      "tensor(2.1889e-08, device='cuda:0') tensor(-2.1897e-08, device='cuda:0')\n"
     ]
    },
    {
     "name": "stderr",
     "output_type": "stream",
     "text": [
      " 32%|███▏      | 317/1000 [00:57<02:02,  5.58it/s]"
     ]
    },
    {
     "name": "stdout",
     "output_type": "stream",
     "text": [
      "tensor(1.9700e-08, device='cuda:0') tensor(-1.9707e-08, device='cuda:0')\n",
      "tensor(1.7730e-08, device='cuda:0') tensor(-1.7736e-08, device='cuda:0')\n"
     ]
    },
    {
     "name": "stderr",
     "output_type": "stream",
     "text": [
      " 32%|███▏      | 319/1000 [00:57<02:00,  5.65it/s]"
     ]
    },
    {
     "name": "stdout",
     "output_type": "stream",
     "text": [
      "tensor(1.5957e-08, device='cuda:0') tensor(-1.5963e-08, device='cuda:0')\n",
      "tensor(1.4362e-08, device='cuda:0') tensor(-1.4367e-08, device='cuda:0')\n"
     ]
    },
    {
     "name": "stderr",
     "output_type": "stream",
     "text": [
      " 32%|███▏      | 321/1000 [00:57<01:58,  5.72it/s]"
     ]
    },
    {
     "name": "stdout",
     "output_type": "stream",
     "text": [
      "680 loss: 0.0031326173339039087\n",
      "tensor(1.2925e-08, device='cuda:0') tensor(-1.2930e-08, device='cuda:0')\n",
      "tensor(1.1633e-08, device='cuda:0') tensor(-1.1637e-08, device='cuda:0')\n"
     ]
    },
    {
     "name": "stderr",
     "output_type": "stream",
     "text": [
      " 32%|███▏      | 322/1000 [00:58<02:02,  5.54it/s]"
     ]
    },
    {
     "name": "stdout",
     "output_type": "stream",
     "text": [
      "tensor(1.0470e-08, device='cuda:0') tensor(-1.0473e-08, device='cuda:0')\n",
      "tensor(9.4227e-09, device='cuda:0') tensor(-9.4259e-09, device='cuda:0')\n"
     ]
    },
    {
     "name": "stderr",
     "output_type": "stream",
     "text": [
      " 32%|███▎      | 325/1000 [00:58<01:58,  5.68it/s]"
     ]
    },
    {
     "name": "stdout",
     "output_type": "stream",
     "text": [
      "tensor(8.4804e-09, device='cuda:0') tensor(-8.4833e-09, device='cuda:0')\n",
      "tensor(7.6324e-09, device='cuda:0') tensor(-7.6349e-09, device='cuda:0')\n"
     ]
    },
    {
     "name": "stderr",
     "output_type": "stream",
     "text": [
      " 33%|███▎      | 327/1000 [00:59<01:59,  5.61it/s]"
     ]
    },
    {
     "name": "stdout",
     "output_type": "stream",
     "text": [
      "tensor(6.8691e-09, device='cuda:0') tensor(-6.8715e-09, device='cuda:0')\n",
      "tensor(6.1822e-09, device='cuda:0') tensor(-6.1843e-09, device='cuda:0')\n"
     ]
    },
    {
     "name": "stderr",
     "output_type": "stream",
     "text": [
      " 33%|███▎      | 328/1000 [00:59<01:58,  5.68it/s]"
     ]
    },
    {
     "name": "stdout",
     "output_type": "stream",
     "text": [
      "tensor(5.5640e-09, device='cuda:0') tensor(-5.5659e-09, device='cuda:0')\n",
      "tensor(5.0076e-09, device='cuda:0') tensor(-5.0093e-09, device='cuda:0')\n"
     ]
    },
    {
     "name": "stderr",
     "output_type": "stream",
     "text": [
      " 33%|███▎      | 331/1000 [00:59<02:01,  5.51it/s]"
     ]
    },
    {
     "name": "stdout",
     "output_type": "stream",
     "text": [
      "670 loss: 0.0031326173339039087\n",
      "tensor(4.5068e-09, device='cuda:0') tensor(-4.5084e-09, device='cuda:0')\n",
      "tensor(4.0561e-09, device='cuda:0') tensor(-4.0575e-09, device='cuda:0')\n"
     ]
    },
    {
     "name": "stderr",
     "output_type": "stream",
     "text": [
      " 33%|███▎      | 333/1000 [01:00<01:59,  5.59it/s]"
     ]
    },
    {
     "name": "stdout",
     "output_type": "stream",
     "text": [
      "tensor(3.6505e-09, device='cuda:0') tensor(-3.6518e-09, device='cuda:0')\n",
      "tensor(3.2855e-09, device='cuda:0') tensor(-3.2866e-09, device='cuda:0')\n"
     ]
    },
    {
     "name": "stderr",
     "output_type": "stream",
     "text": [
      " 34%|███▎      | 335/1000 [01:00<01:59,  5.58it/s]"
     ]
    },
    {
     "name": "stdout",
     "output_type": "stream",
     "text": [
      "tensor(2.9569e-09, device='cuda:0') tensor(-2.9579e-09, device='cuda:0')\n",
      "tensor(2.6612e-09, device='cuda:0') tensor(-2.6621e-09, device='cuda:0')\n"
     ]
    },
    {
     "name": "stderr",
     "output_type": "stream",
     "text": [
      " 34%|███▎      | 337/1000 [01:00<01:58,  5.60it/s]"
     ]
    },
    {
     "name": "stdout",
     "output_type": "stream",
     "text": [
      "tensor(2.3951e-09, device='cuda:0') tensor(-2.3959e-09, device='cuda:0')\n",
      "tensor(2.1556e-09, device='cuda:0') tensor(-2.1563e-09, device='cuda:0')\n"
     ]
    },
    {
     "name": "stderr",
     "output_type": "stream",
     "text": [
      " 34%|███▍      | 339/1000 [01:01<01:57,  5.64it/s]"
     ]
    },
    {
     "name": "stdout",
     "output_type": "stream",
     "text": [
      "tensor(1.9400e-09, device='cuda:0') tensor(-1.9407e-09, device='cuda:0')\n",
      "tensor(1.7460e-09, device='cuda:0') tensor(-1.7466e-09, device='cuda:0')\n"
     ]
    },
    {
     "name": "stderr",
     "output_type": "stream",
     "text": [
      " 34%|███▍      | 341/1000 [01:01<01:58,  5.56it/s]"
     ]
    },
    {
     "name": "stdout",
     "output_type": "stream",
     "text": [
      "660 loss: 0.0031326173339039087\n",
      "tensor(1.5714e-09, device='cuda:0') tensor(-1.5720e-09, device='cuda:0')\n",
      "tensor(1.4143e-09, device='cuda:0') tensor(-1.4148e-09, device='cuda:0')\n"
     ]
    },
    {
     "name": "stderr",
     "output_type": "stream",
     "text": [
      " 34%|███▍      | 343/1000 [01:01<01:57,  5.57it/s]"
     ]
    },
    {
     "name": "stdout",
     "output_type": "stream",
     "text": [
      "tensor(1.2729e-09, device='cuda:0') tensor(-1.2733e-09, device='cuda:0')\n",
      "tensor(1.1456e-09, device='cuda:0') tensor(-1.1460e-09, device='cuda:0')\n"
     ]
    },
    {
     "name": "stderr",
     "output_type": "stream",
     "text": [
      " 34%|███▍      | 345/1000 [01:02<01:55,  5.66it/s]"
     ]
    },
    {
     "name": "stdout",
     "output_type": "stream",
     "text": [
      "tensor(1.0310e-09, device='cuda:0') tensor(-1.0314e-09, device='cuda:0')\n",
      "tensor(9.2792e-10, device='cuda:0') tensor(-9.2823e-10, device='cuda:0')\n"
     ]
    },
    {
     "name": "stderr",
     "output_type": "stream",
     "text": [
      " 35%|███▍      | 346/1000 [01:02<02:02,  5.34it/s]"
     ]
    },
    {
     "name": "stdout",
     "output_type": "stream",
     "text": [
      "tensor(8.3512e-10, device='cuda:0') tensor(-8.3541e-10, device='cuda:0')\n"
     ]
    },
    {
     "name": "stderr",
     "output_type": "stream",
     "text": [
      " 35%|███▍      | 348/1000 [01:02<01:58,  5.49it/s]"
     ]
    },
    {
     "name": "stdout",
     "output_type": "stream",
     "text": [
      "tensor(7.5161e-10, device='cuda:0') tensor(-7.5187e-10, device='cuda:0')\n",
      "tensor(6.7645e-10, device='cuda:0') tensor(-6.7668e-10, device='cuda:0')\n"
     ]
    },
    {
     "name": "stderr",
     "output_type": "stream",
     "text": [
      " 35%|███▌      | 350/1000 [01:03<01:56,  5.60it/s]"
     ]
    },
    {
     "name": "stdout",
     "output_type": "stream",
     "text": [
      "tensor(6.0881e-10, device='cuda:0') tensor(-6.0901e-10, device='cuda:0')\n",
      "650 loss: 0.0031326173339039087\n",
      "tensor(5.4792e-10, device='cuda:0') tensor(-5.4811e-10, device='cuda:0')\n"
     ]
    },
    {
     "name": "stderr",
     "output_type": "stream",
     "text": [
      " 35%|███▌      | 352/1000 [01:03<01:53,  5.71it/s]"
     ]
    },
    {
     "name": "stdout",
     "output_type": "stream",
     "text": [
      "tensor(4.9313e-10, device='cuda:0') tensor(-4.9330e-10, device='cuda:0')\n",
      "tensor(4.4382e-10, device='cuda:0') tensor(-4.4397e-10, device='cuda:0')\n"
     ]
    },
    {
     "name": "stderr",
     "output_type": "stream",
     "text": [
      " 35%|███▌      | 354/1000 [01:03<01:51,  5.77it/s]"
     ]
    },
    {
     "name": "stdout",
     "output_type": "stream",
     "text": [
      "tensor(3.9944e-10, device='cuda:0') tensor(-3.9957e-10, device='cuda:0')\n",
      "tensor(3.5949e-10, device='cuda:0') tensor(-3.5962e-10, device='cuda:0')\n"
     ]
    },
    {
     "name": "stderr",
     "output_type": "stream",
     "text": [
      " 36%|███▌      | 355/1000 [01:04<01:54,  5.61it/s]"
     ]
    },
    {
     "name": "stdout",
     "output_type": "stream",
     "text": [
      "tensor(3.2354e-10, device='cuda:0') tensor(-3.2365e-10, device='cuda:0')\n",
      "tensor(2.9119e-10, device='cuda:0') tensor(-2.9129e-10, device='cuda:0')\n"
     ]
    },
    {
     "name": "stderr",
     "output_type": "stream",
     "text": [
      " 36%|███▌      | 358/1000 [01:04<01:54,  5.62it/s]"
     ]
    },
    {
     "name": "stdout",
     "output_type": "stream",
     "text": [
      "tensor(2.6207e-10, device='cuda:0') tensor(-2.6216e-10, device='cuda:0')\n",
      "tensor(2.3586e-10, device='cuda:0') tensor(-2.3594e-10, device='cuda:0')\n"
     ]
    },
    {
     "name": "stderr",
     "output_type": "stream",
     "text": [
      " 36%|███▌      | 360/1000 [01:04<01:52,  5.71it/s]"
     ]
    },
    {
     "name": "stdout",
     "output_type": "stream",
     "text": [
      "tensor(2.1228e-10, device='cuda:0') tensor(-2.1235e-10, device='cuda:0')\n",
      "640 loss: 0.0031326173339039087\n",
      "tensor(1.9105e-10, device='cuda:0') tensor(-1.9111e-10, device='cuda:0')\n"
     ]
    },
    {
     "name": "stderr",
     "output_type": "stream",
     "text": [
      " 36%|███▌      | 362/1000 [01:05<01:51,  5.72it/s]"
     ]
    },
    {
     "name": "stdout",
     "output_type": "stream",
     "text": [
      "tensor(1.7194e-10, device='cuda:0') tensor(-1.7200e-10, device='cuda:0')\n",
      "tensor(1.5475e-10, device='cuda:0') tensor(-1.5480e-10, device='cuda:0')\n"
     ]
    },
    {
     "name": "stderr",
     "output_type": "stream",
     "text": [
      " 36%|███▋      | 364/1000 [01:05<01:51,  5.70it/s]"
     ]
    },
    {
     "name": "stdout",
     "output_type": "stream",
     "text": [
      "tensor(1.3928e-10, device='cuda:0') tensor(-1.3932e-10, device='cuda:0')\n",
      "tensor(1.2535e-10, device='cuda:0') tensor(-1.2539e-10, device='cuda:0')\n"
     ]
    },
    {
     "name": "stderr",
     "output_type": "stream",
     "text": [
      " 37%|███▋      | 366/1000 [01:06<01:51,  5.66it/s]"
     ]
    },
    {
     "name": "stdout",
     "output_type": "stream",
     "text": [
      "tensor(1.1281e-10, device='cuda:0') tensor(-1.1285e-10, device='cuda:0')\n",
      "tensor(1.0153e-10, device='cuda:0') tensor(-1.0157e-10, device='cuda:0')\n"
     ]
    },
    {
     "name": "stderr",
     "output_type": "stream",
     "text": [
      " 37%|███▋      | 368/1000 [01:06<01:52,  5.60it/s]"
     ]
    },
    {
     "name": "stdout",
     "output_type": "stream",
     "text": [
      "tensor(9.1378e-11, device='cuda:0') tensor(-9.1409e-11, device='cuda:0')\n",
      "tensor(8.2241e-11, device='cuda:0') tensor(-8.2269e-11, device='cuda:0')\n"
     ]
    },
    {
     "name": "stderr",
     "output_type": "stream",
     "text": [
      " 37%|███▋      | 369/1000 [01:06<01:53,  5.58it/s]"
     ]
    },
    {
     "name": "stdout",
     "output_type": "stream",
     "text": [
      "tensor(7.4016e-11, device='cuda:0') tensor(-7.4042e-11, device='cuda:0')\n",
      "630 loss: 0.0031326173339039087\n",
      "tensor(6.6615e-11, device='cuda:0') tensor(-6.6637e-11, device='cuda:0')\n"
     ]
    },
    {
     "name": "stderr",
     "output_type": "stream",
     "text": [
      " 37%|███▋      | 372/1000 [01:07<01:56,  5.40it/s]"
     ]
    },
    {
     "name": "stdout",
     "output_type": "stream",
     "text": [
      "tensor(5.9953e-11, device='cuda:0') tensor(-5.9974e-11, device='cuda:0')\n",
      "tensor(5.3958e-11, device='cuda:0') tensor(-5.3976e-11, device='cuda:0')\n"
     ]
    },
    {
     "name": "stderr",
     "output_type": "stream",
     "text": [
      " 37%|███▋      | 374/1000 [01:07<01:52,  5.55it/s]"
     ]
    },
    {
     "name": "stdout",
     "output_type": "stream",
     "text": [
      "tensor(4.8562e-11, device='cuda:0') tensor(-4.8579e-11, device='cuda:0')\n",
      "tensor(4.3706e-11, device='cuda:0') tensor(-4.3721e-11, device='cuda:0')\n"
     ]
    },
    {
     "name": "stderr",
     "output_type": "stream",
     "text": [
      " 38%|███▊      | 376/1000 [01:07<01:51,  5.61it/s]"
     ]
    },
    {
     "name": "stdout",
     "output_type": "stream",
     "text": [
      "tensor(3.9335e-11, device='cuda:0') tensor(-3.9349e-11, device='cuda:0')\n",
      "tensor(3.5402e-11, device='cuda:0') tensor(-3.5414e-11, device='cuda:0')\n"
     ]
    },
    {
     "name": "stderr",
     "output_type": "stream",
     "text": [
      " 38%|███▊      | 378/1000 [01:08<01:51,  5.59it/s]"
     ]
    },
    {
     "name": "stdout",
     "output_type": "stream",
     "text": [
      "tensor(3.1862e-11, device='cuda:0') tensor(-3.1873e-11, device='cuda:0')\n",
      "tensor(2.8675e-11, device='cuda:0') tensor(-2.8685e-11, device='cuda:0')\n"
     ]
    },
    {
     "name": "stderr",
     "output_type": "stream",
     "text": [
      " 38%|███▊      | 380/1000 [01:08<01:51,  5.54it/s]"
     ]
    },
    {
     "name": "stdout",
     "output_type": "stream",
     "text": [
      "tensor(2.5808e-11, device='cuda:0') tensor(-2.5817e-11, device='cuda:0')\n",
      "620 loss: 0.0031326173339039087\n",
      "tensor(2.3227e-11, device='cuda:0') tensor(-2.3235e-11, device='cuda:0')\n"
     ]
    },
    {
     "name": "stderr",
     "output_type": "stream",
     "text": [
      " 38%|███▊      | 381/1000 [01:08<01:49,  5.63it/s]"
     ]
    },
    {
     "name": "stdout",
     "output_type": "stream",
     "text": [
      "tensor(2.0904e-11, device='cuda:0') tensor(-2.0912e-11, device='cuda:0')\n",
      "tensor(1.8814e-11, device='cuda:0') tensor(-1.8820e-11, device='cuda:0')\n"
     ]
    },
    {
     "name": "stderr",
     "output_type": "stream",
     "text": [
      " 38%|███▊      | 384/1000 [01:09<01:50,  5.56it/s]"
     ]
    },
    {
     "name": "stdout",
     "output_type": "stream",
     "text": [
      "tensor(1.6933e-11, device='cuda:0') tensor(-1.6938e-11, device='cuda:0')\n",
      "tensor(1.5239e-11, device='cuda:0') tensor(-1.5245e-11, device='cuda:0')\n"
     ]
    },
    {
     "name": "stderr",
     "output_type": "stream",
     "text": [
      " 39%|███▊      | 386/1000 [01:09<01:48,  5.65it/s]"
     ]
    },
    {
     "name": "stdout",
     "output_type": "stream",
     "text": [
      "tensor(1.3715e-11, device='cuda:0') tensor(-1.3720e-11, device='cuda:0')\n",
      "tensor(1.2344e-11, device='cuda:0') tensor(-1.2348e-11, device='cuda:0')\n"
     ]
    },
    {
     "name": "stderr",
     "output_type": "stream",
     "text": [
      " 39%|███▉      | 388/1000 [01:09<01:47,  5.67it/s]"
     ]
    },
    {
     "name": "stdout",
     "output_type": "stream",
     "text": [
      "tensor(1.1109e-11, device='cuda:0') tensor(-1.1113e-11, device='cuda:0')\n",
      "tensor(9.9985e-12, device='cuda:0') tensor(-1.0002e-11, device='cuda:0')\n"
     ]
    },
    {
     "name": "stderr",
     "output_type": "stream",
     "text": [
      " 39%|███▉      | 390/1000 [01:10<01:46,  5.71it/s]"
     ]
    },
    {
     "name": "stdout",
     "output_type": "stream",
     "text": [
      "tensor(8.9987e-12, device='cuda:0') tensor(-9.0017e-12, device='cuda:0')\n",
      "610 loss: 0.0031326173339039087\n",
      "tensor(8.0988e-12, device='cuda:0') tensor(-8.1016e-12, device='cuda:0')\n"
     ]
    },
    {
     "name": "stderr",
     "output_type": "stream",
     "text": [
      " 39%|███▉      | 392/1000 [01:10<01:46,  5.73it/s]"
     ]
    },
    {
     "name": "stdout",
     "output_type": "stream",
     "text": [
      "tensor(7.2889e-12, device='cuda:0') tensor(-7.2914e-12, device='cuda:0')\n",
      "tensor(6.5600e-12, device='cuda:0') tensor(-6.5623e-12, device='cuda:0')\n"
     ]
    },
    {
     "name": "stderr",
     "output_type": "stream",
     "text": [
      " 39%|███▉      | 394/1000 [01:11<01:45,  5.76it/s]"
     ]
    },
    {
     "name": "stdout",
     "output_type": "stream",
     "text": [
      "tensor(5.9040e-12, device='cuda:0') tensor(-5.9060e-12, device='cuda:0')\n",
      "tensor(5.3136e-12, device='cuda:0') tensor(-5.3154e-12, device='cuda:0')\n"
     ]
    },
    {
     "name": "stderr",
     "output_type": "stream",
     "text": [
      " 40%|███▉      | 396/1000 [01:11<01:45,  5.75it/s]"
     ]
    },
    {
     "name": "stdout",
     "output_type": "stream",
     "text": [
      "tensor(4.7823e-12, device='cuda:0') tensor(-4.7839e-12, device='cuda:0')\n",
      "tensor(4.3040e-12, device='cuda:0') tensor(-4.3055e-12, device='cuda:0')\n"
     ]
    },
    {
     "name": "stderr",
     "output_type": "stream",
     "text": [
      " 40%|███▉      | 398/1000 [01:11<01:46,  5.67it/s]"
     ]
    },
    {
     "name": "stdout",
     "output_type": "stream",
     "text": [
      "tensor(3.8736e-12, device='cuda:0') tensor(-3.8749e-12, device='cuda:0')\n",
      "tensor(3.4863e-12, device='cuda:0') tensor(-3.4875e-12, device='cuda:0')\n"
     ]
    },
    {
     "name": "stderr",
     "output_type": "stream",
     "text": [
      " 40%|████      | 400/1000 [01:12<01:45,  5.68it/s]"
     ]
    },
    {
     "name": "stdout",
     "output_type": "stream",
     "text": [
      "tensor(3.1376e-12, device='cuda:0') tensor(-3.1387e-12, device='cuda:0')\n",
      "600 loss: 0.0031326173339039087\n",
      "tensor(2.8239e-12, device='cuda:0') tensor(-2.8248e-12, device='cuda:0')\n"
     ]
    },
    {
     "name": "stderr",
     "output_type": "stream",
     "text": [
      " 40%|████      | 402/1000 [01:12<01:47,  5.58it/s]"
     ]
    },
    {
     "name": "stdout",
     "output_type": "stream",
     "text": [
      "tensor(2.5415e-12, device='cuda:0') tensor(-2.5424e-12, device='cuda:0')\n",
      "tensor(2.2873e-12, device='cuda:0') tensor(-2.2881e-12, device='cuda:0')\n"
     ]
    },
    {
     "name": "stderr",
     "output_type": "stream",
     "text": [
      " 40%|████      | 404/1000 [01:12<01:44,  5.68it/s]"
     ]
    },
    {
     "name": "stdout",
     "output_type": "stream",
     "text": [
      "tensor(2.0586e-12, device='cuda:0') tensor(-2.0593e-12, device='cuda:0')\n",
      "tensor(1.8527e-12, device='cuda:0') tensor(-1.8534e-12, device='cuda:0')\n"
     ]
    },
    {
     "name": "stderr",
     "output_type": "stream",
     "text": [
      " 41%|████      | 406/1000 [01:13<01:44,  5.68it/s]"
     ]
    },
    {
     "name": "stdout",
     "output_type": "stream",
     "text": [
      "tensor(1.6675e-12, device='cuda:0') tensor(-1.6680e-12, device='cuda:0')\n",
      "tensor(1.5007e-12, device='cuda:0') tensor(-1.5012e-12, device='cuda:0')\n"
     ]
    },
    {
     "name": "stderr",
     "output_type": "stream",
     "text": [
      " 41%|████      | 408/1000 [01:13<01:44,  5.69it/s]"
     ]
    },
    {
     "name": "stdout",
     "output_type": "stream",
     "text": [
      "tensor(1.3507e-12, device='cuda:0') tensor(-1.3511e-12, device='cuda:0')\n",
      "tensor(1.2156e-12, device='cuda:0') tensor(-1.2160e-12, device='cuda:0')\n"
     ]
    },
    {
     "name": "stderr",
     "output_type": "stream",
     "text": [
      " 41%|████      | 410/1000 [01:13<01:43,  5.70it/s]"
     ]
    },
    {
     "name": "stdout",
     "output_type": "stream",
     "text": [
      "tensor(1.0940e-12, device='cuda:0') tensor(-1.0944e-12, device='cuda:0')\n",
      "590 loss: 0.0031326173339039087\n",
      "tensor(9.8463e-13, device='cuda:0') tensor(-9.8496e-13, device='cuda:0')\n"
     ]
    },
    {
     "name": "stderr",
     "output_type": "stream",
     "text": [
      " 41%|████      | 412/1000 [01:14<01:42,  5.71it/s]"
     ]
    },
    {
     "name": "stdout",
     "output_type": "stream",
     "text": [
      "tensor(8.8616e-13, device='cuda:0') tensor(-8.8646e-13, device='cuda:0')\n",
      "tensor(7.9755e-13, device='cuda:0') tensor(-7.9782e-13, device='cuda:0')\n"
     ]
    },
    {
     "name": "stderr",
     "output_type": "stream",
     "text": [
      " 41%|████▏     | 414/1000 [01:14<01:42,  5.69it/s]"
     ]
    },
    {
     "name": "stdout",
     "output_type": "stream",
     "text": [
      "tensor(7.1779e-13, device='cuda:0') tensor(-7.1804e-13, device='cuda:0')\n",
      "tensor(6.4601e-13, device='cuda:0') tensor(-6.4623e-13, device='cuda:0')\n"
     ]
    },
    {
     "name": "stderr",
     "output_type": "stream",
     "text": [
      " 42%|████▏     | 416/1000 [01:14<01:43,  5.64it/s]"
     ]
    },
    {
     "name": "stdout",
     "output_type": "stream",
     "text": [
      "tensor(5.8141e-13, device='cuda:0') tensor(-5.8161e-13, device='cuda:0')\n",
      "tensor(5.2327e-13, device='cuda:0') tensor(-5.2345e-13, device='cuda:0')\n"
     ]
    },
    {
     "name": "stderr",
     "output_type": "stream",
     "text": [
      " 42%|████▏     | 418/1000 [01:15<01:43,  5.60it/s]"
     ]
    },
    {
     "name": "stdout",
     "output_type": "stream",
     "text": [
      "tensor(4.7094e-13, device='cuda:0') tensor(-4.7110e-13, device='cuda:0')\n",
      "tensor(4.2385e-13, device='cuda:0') tensor(-4.2399e-13, device='cuda:0')\n"
     ]
    },
    {
     "name": "stderr",
     "output_type": "stream",
     "text": [
      " 42%|████▏     | 420/1000 [01:15<01:44,  5.57it/s]"
     ]
    },
    {
     "name": "stdout",
     "output_type": "stream",
     "text": [
      "tensor(3.8146e-13, device='cuda:0') tensor(-3.8159e-13, device='cuda:0')\n",
      "580 loss: 0.0031326173339039087\n",
      "tensor(3.4332e-13, device='cuda:0') tensor(-3.4343e-13, device='cuda:0')\n"
     ]
    },
    {
     "name": "stderr",
     "output_type": "stream",
     "text": [
      " 42%|████▏     | 422/1000 [01:15<01:43,  5.60it/s]"
     ]
    },
    {
     "name": "stdout",
     "output_type": "stream",
     "text": [
      "tensor(3.0899e-13, device='cuda:0') tensor(-3.0909e-13, device='cuda:0')\n",
      "tensor(2.7809e-13, device='cuda:0') tensor(-2.7818e-13, device='cuda:0')\n"
     ]
    },
    {
     "name": "stderr",
     "output_type": "stream",
     "text": [
      " 42%|████▏     | 424/1000 [01:16<01:41,  5.68it/s]"
     ]
    },
    {
     "name": "stdout",
     "output_type": "stream",
     "text": [
      "tensor(2.5028e-13, device='cuda:0') tensor(-2.5036e-13, device='cuda:0')\n",
      "tensor(2.2525e-13, device='cuda:0') tensor(-2.2533e-13, device='cuda:0')\n"
     ]
    },
    {
     "name": "stderr",
     "output_type": "stream",
     "text": [
      " 43%|████▎     | 426/1000 [01:16<01:39,  5.74it/s]"
     ]
    },
    {
     "name": "stdout",
     "output_type": "stream",
     "text": [
      "tensor(2.0273e-13, device='cuda:0') tensor(-2.0279e-13, device='cuda:0')\n",
      "tensor(1.8245e-13, device='cuda:0') tensor(-1.8252e-13, device='cuda:0')\n"
     ]
    },
    {
     "name": "stderr",
     "output_type": "stream",
     "text": [
      " 43%|████▎     | 428/1000 [01:17<01:39,  5.78it/s]"
     ]
    },
    {
     "name": "stdout",
     "output_type": "stream",
     "text": [
      "tensor(1.6421e-13, device='cuda:0') tensor(-1.6426e-13, device='cuda:0')\n",
      "tensor(1.4779e-13, device='cuda:0') tensor(-1.4784e-13, device='cuda:0')\n"
     ]
    },
    {
     "name": "stderr",
     "output_type": "stream",
     "text": [
      " 43%|████▎     | 430/1000 [01:17<01:39,  5.71it/s]"
     ]
    },
    {
     "name": "stdout",
     "output_type": "stream",
     "text": [
      "tensor(1.3301e-13, device='cuda:0') tensor(-1.3305e-13, device='cuda:0')\n",
      "570 loss: 0.0031326173339039087\n",
      "tensor(1.1971e-13, device='cuda:0') tensor(-1.1975e-13, device='cuda:0')\n"
     ]
    },
    {
     "name": "stderr",
     "output_type": "stream",
     "text": [
      " 43%|████▎     | 432/1000 [01:17<01:40,  5.68it/s]"
     ]
    },
    {
     "name": "stdout",
     "output_type": "stream",
     "text": [
      "tensor(1.0774e-13, device='cuda:0') tensor(-1.0777e-13, device='cuda:0')\n",
      "tensor(9.6963e-14, device='cuda:0') tensor(-9.6996e-14, device='cuda:0')\n"
     ]
    },
    {
     "name": "stderr",
     "output_type": "stream",
     "text": [
      " 43%|████▎     | 434/1000 [01:18<01:39,  5.71it/s]"
     ]
    },
    {
     "name": "stdout",
     "output_type": "stream",
     "text": [
      "tensor(8.7267e-14, device='cuda:0') tensor(-8.7296e-14, device='cuda:0')\n",
      "tensor(7.8540e-14, device='cuda:0') tensor(-7.8567e-14, device='cuda:0')\n"
     ]
    },
    {
     "name": "stderr",
     "output_type": "stream",
     "text": [
      " 44%|████▎     | 436/1000 [01:18<01:41,  5.56it/s]"
     ]
    },
    {
     "name": "stdout",
     "output_type": "stream",
     "text": [
      "tensor(7.0686e-14, device='cuda:0') tensor(-7.0710e-14, device='cuda:0')\n",
      "tensor(6.3617e-14, device='cuda:0') tensor(-6.3639e-14, device='cuda:0')\n"
     ]
    },
    {
     "name": "stderr",
     "output_type": "stream",
     "text": [
      " 44%|████▍     | 438/1000 [01:18<01:41,  5.56it/s]"
     ]
    },
    {
     "name": "stdout",
     "output_type": "stream",
     "text": [
      "tensor(5.7256e-14, device='cuda:0') tensor(-5.7275e-14, device='cuda:0')\n",
      "tensor(5.1530e-14, device='cuda:0') tensor(-5.1548e-14, device='cuda:0')\n"
     ]
    },
    {
     "name": "stderr",
     "output_type": "stream",
     "text": [
      " 44%|████▍     | 440/1000 [01:19<01:40,  5.58it/s]"
     ]
    },
    {
     "name": "stdout",
     "output_type": "stream",
     "text": [
      "tensor(4.6377e-14, device='cuda:0') tensor(-4.6393e-14, device='cuda:0')\n",
      "560 loss: 0.0031326173339039087\n",
      "tensor(4.1739e-14, device='cuda:0') tensor(-4.1754e-14, device='cuda:0')\n"
     ]
    },
    {
     "name": "stderr",
     "output_type": "stream",
     "text": [
      " 44%|████▍     | 442/1000 [01:19<01:39,  5.63it/s]"
     ]
    },
    {
     "name": "stdout",
     "output_type": "stream",
     "text": [
      "tensor(3.7565e-14, device='cuda:0') tensor(-3.7578e-14, device='cuda:0')\n",
      "tensor(3.3809e-14, device='cuda:0') tensor(-3.3820e-14, device='cuda:0')\n"
     ]
    },
    {
     "name": "stderr",
     "output_type": "stream",
     "text": [
      " 44%|████▍     | 443/1000 [01:19<01:38,  5.64it/s]"
     ]
    },
    {
     "name": "stdout",
     "output_type": "stream",
     "text": [
      "tensor(3.0428e-14, device='cuda:0') tensor(-3.0438e-14, device='cuda:0')\n",
      "tensor(2.7385e-14, device='cuda:0') tensor(-2.7395e-14, device='cuda:0')\n"
     ]
    },
    {
     "name": "stderr",
     "output_type": "stream",
     "text": [
      " 45%|████▍     | 446/1000 [01:20<01:40,  5.50it/s]"
     ]
    },
    {
     "name": "stdout",
     "output_type": "stream",
     "text": [
      "tensor(2.4647e-14, device='cuda:0') tensor(-2.4655e-14, device='cuda:0')\n",
      "tensor(2.2182e-14, device='cuda:0') tensor(-2.2190e-14, device='cuda:0')\n"
     ]
    },
    {
     "name": "stderr",
     "output_type": "stream",
     "text": [
      " 45%|████▍     | 448/1000 [01:20<01:39,  5.54it/s]"
     ]
    },
    {
     "name": "stdout",
     "output_type": "stream",
     "text": [
      "tensor(1.9964e-14, device='cuda:0') tensor(-1.9971e-14, device='cuda:0')\n",
      "tensor(1.7967e-14, device='cuda:0') tensor(-1.7974e-14, device='cuda:0')\n"
     ]
    },
    {
     "name": "stderr",
     "output_type": "stream",
     "text": [
      " 45%|████▌     | 450/1000 [01:20<01:38,  5.61it/s]"
     ]
    },
    {
     "name": "stdout",
     "output_type": "stream",
     "text": [
      "tensor(1.6171e-14, device='cuda:0') tensor(-1.6176e-14, device='cuda:0')\n",
      "550 loss: 0.0031326173339039087\n",
      "tensor(1.4554e-14, device='cuda:0') tensor(-1.4559e-14, device='cuda:0')\n"
     ]
    },
    {
     "name": "stderr",
     "output_type": "stream",
     "text": [
      " 45%|████▌     | 452/1000 [01:21<01:36,  5.65it/s]"
     ]
    },
    {
     "name": "stdout",
     "output_type": "stream",
     "text": [
      "tensor(1.3098e-14, device='cuda:0') tensor(-1.3103e-14, device='cuda:0')\n",
      "tensor(1.1788e-14, device='cuda:0') tensor(-1.1792e-14, device='cuda:0')\n"
     ]
    },
    {
     "name": "stderr",
     "output_type": "stream",
     "text": [
      " 45%|████▌     | 454/1000 [01:21<01:35,  5.74it/s]"
     ]
    },
    {
     "name": "stdout",
     "output_type": "stream",
     "text": [
      "tensor(1.0610e-14, device='cuda:0') tensor(-1.0613e-14, device='cuda:0')\n",
      "tensor(9.5486e-15, device='cuda:0') tensor(-9.5519e-15, device='cuda:0')\n"
     ]
    },
    {
     "name": "stderr",
     "output_type": "stream",
     "text": [
      " 46%|████▌     | 456/1000 [01:22<01:35,  5.72it/s]"
     ]
    },
    {
     "name": "stdout",
     "output_type": "stream",
     "text": [
      "tensor(8.5938e-15, device='cuda:0') tensor(-8.5967e-15, device='cuda:0')\n",
      "tensor(7.7344e-15, device='cuda:0') tensor(-7.7370e-15, device='cuda:0')\n"
     ]
    },
    {
     "name": "stderr",
     "output_type": "stream",
     "text": [
      " 46%|████▌     | 458/1000 [01:22<01:34,  5.71it/s]"
     ]
    },
    {
     "name": "stdout",
     "output_type": "stream",
     "text": [
      "tensor(6.9609e-15, device='cuda:0') tensor(-6.9633e-15, device='cuda:0')\n",
      "tensor(6.2649e-15, device='cuda:0') tensor(-6.2670e-15, device='cuda:0')\n"
     ]
    },
    {
     "name": "stderr",
     "output_type": "stream",
     "text": [
      " 46%|████▌     | 460/1000 [01:22<01:35,  5.64it/s]"
     ]
    },
    {
     "name": "stdout",
     "output_type": "stream",
     "text": [
      "tensor(5.6384e-15, device='cuda:0') tensor(-5.6403e-15, device='cuda:0')\n",
      "540 loss: 0.0031326173339039087\n",
      "tensor(5.0745e-15, device='cuda:0') tensor(-5.0763e-15, device='cuda:0')\n"
     ]
    },
    {
     "name": "stderr",
     "output_type": "stream",
     "text": [
      " 46%|████▌     | 462/1000 [01:23<01:34,  5.68it/s]"
     ]
    },
    {
     "name": "stdout",
     "output_type": "stream",
     "text": [
      "tensor(4.5671e-15, device='cuda:0') tensor(-4.5686e-15, device='cuda:0')\n",
      "tensor(4.1104e-15, device='cuda:0') tensor(-4.1118e-15, device='cuda:0')\n"
     ]
    },
    {
     "name": "stderr",
     "output_type": "stream",
     "text": [
      " 46%|████▋     | 464/1000 [01:23<01:34,  5.69it/s]"
     ]
    },
    {
     "name": "stdout",
     "output_type": "stream",
     "text": [
      "tensor(3.6993e-15, device='cuda:0') tensor(-3.7006e-15, device='cuda:0')\n",
      "tensor(3.3294e-15, device='cuda:0') tensor(-3.3305e-15, device='cuda:0')\n"
     ]
    },
    {
     "name": "stderr",
     "output_type": "stream",
     "text": [
      " 47%|████▋     | 466/1000 [01:23<01:35,  5.59it/s]"
     ]
    },
    {
     "name": "stdout",
     "output_type": "stream",
     "text": [
      "tensor(2.9965e-15, device='cuda:0') tensor(-2.9975e-15, device='cuda:0')\n",
      "tensor(2.6968e-15, device='cuda:0') tensor(-2.6977e-15, device='cuda:0')\n"
     ]
    },
    {
     "name": "stderr",
     "output_type": "stream",
     "text": [
      " 47%|████▋     | 467/1000 [01:23<01:34,  5.66it/s]"
     ]
    },
    {
     "name": "stdout",
     "output_type": "stream",
     "text": [
      "tensor(2.4271e-15, device='cuda:0') tensor(-2.4280e-15, device='cuda:0')\n",
      "tensor(2.1844e-15, device='cuda:0') tensor(-2.1852e-15, device='cuda:0')\n"
     ]
    },
    {
     "name": "stderr",
     "output_type": "stream",
     "text": [
      " 47%|████▋     | 470/1000 [01:24<01:35,  5.57it/s]"
     ]
    },
    {
     "name": "stdout",
     "output_type": "stream",
     "text": [
      "tensor(1.9660e-15, device='cuda:0') tensor(-1.9666e-15, device='cuda:0')\n",
      "530 loss: 0.0031326173339039087\n",
      "tensor(1.7694e-15, device='cuda:0') tensor(-1.7700e-15, device='cuda:0')\n"
     ]
    },
    {
     "name": "stderr",
     "output_type": "stream",
     "text": [
      " 47%|████▋     | 472/1000 [01:24<01:34,  5.56it/s]"
     ]
    },
    {
     "name": "stdout",
     "output_type": "stream",
     "text": [
      "tensor(1.5924e-15, device='cuda:0') tensor(-1.5930e-15, device='cuda:0')\n",
      "tensor(1.4332e-15, device='cuda:0') tensor(-1.4337e-15, device='cuda:0')\n"
     ]
    },
    {
     "name": "stderr",
     "output_type": "stream",
     "text": [
      " 47%|████▋     | 474/1000 [01:25<01:32,  5.66it/s]"
     ]
    },
    {
     "name": "stdout",
     "output_type": "stream",
     "text": [
      "tensor(1.2899e-15, device='cuda:0') tensor(-1.2903e-15, device='cuda:0')\n",
      "tensor(1.1609e-15, device='cuda:0') tensor(-1.1613e-15, device='cuda:0')\n"
     ]
    },
    {
     "name": "stderr",
     "output_type": "stream",
     "text": [
      " 48%|████▊     | 476/1000 [01:25<01:31,  5.72it/s]"
     ]
    },
    {
     "name": "stdout",
     "output_type": "stream",
     "text": [
      "tensor(1.0448e-15, device='cuda:0') tensor(-1.0452e-15, device='cuda:0')\n",
      "tensor(9.4032e-16, device='cuda:0') tensor(-9.4064e-16, device='cuda:0')\n"
     ]
    },
    {
     "name": "stderr",
     "output_type": "stream",
     "text": [
      " 48%|████▊     | 478/1000 [01:25<01:31,  5.72it/s]"
     ]
    },
    {
     "name": "stdout",
     "output_type": "stream",
     "text": [
      "tensor(8.4629e-16, device='cuda:0') tensor(-8.4658e-16, device='cuda:0')\n",
      "tensor(7.6166e-16, device='cuda:0') tensor(-7.6192e-16, device='cuda:0')\n"
     ]
    },
    {
     "name": "stderr",
     "output_type": "stream",
     "text": [
      " 48%|████▊     | 480/1000 [01:26<01:30,  5.73it/s]"
     ]
    },
    {
     "name": "stdout",
     "output_type": "stream",
     "text": [
      "tensor(6.8549e-16, device='cuda:0') tensor(-6.8573e-16, device='cuda:0')\n",
      "520 loss: 0.0031326173339039087\n",
      "tensor(6.1694e-16, device='cuda:0') tensor(-6.1715e-16, device='cuda:0')\n"
     ]
    },
    {
     "name": "stderr",
     "output_type": "stream",
     "text": [
      " 48%|████▊     | 482/1000 [01:26<01:31,  5.68it/s]"
     ]
    },
    {
     "name": "stdout",
     "output_type": "stream",
     "text": [
      "tensor(5.5525e-16, device='cuda:0') tensor(-5.5544e-16, device='cuda:0')\n",
      "tensor(4.9972e-16, device='cuda:0') tensor(-4.9989e-16, device='cuda:0')\n"
     ]
    },
    {
     "name": "stderr",
     "output_type": "stream",
     "text": [
      " 48%|████▊     | 484/1000 [01:26<01:31,  5.65it/s]"
     ]
    },
    {
     "name": "stdout",
     "output_type": "stream",
     "text": [
      "tensor(4.4975e-16, device='cuda:0') tensor(-4.4991e-16, device='cuda:0')\n",
      "tensor(4.0478e-16, device='cuda:0') tensor(-4.0491e-16, device='cuda:0')\n"
     ]
    },
    {
     "name": "stderr",
     "output_type": "stream",
     "text": [
      " 49%|████▊     | 486/1000 [01:27<01:30,  5.67it/s]"
     ]
    },
    {
     "name": "stdout",
     "output_type": "stream",
     "text": [
      "tensor(3.6430e-16, device='cuda:0') tensor(-3.6442e-16, device='cuda:0')\n",
      "tensor(3.2787e-16, device='cuda:0') tensor(-3.2798e-16, device='cuda:0')\n"
     ]
    },
    {
     "name": "stderr",
     "output_type": "stream",
     "text": [
      " 49%|████▉     | 488/1000 [01:27<01:29,  5.69it/s]"
     ]
    },
    {
     "name": "stdout",
     "output_type": "stream",
     "text": [
      "tensor(2.9508e-16, device='cuda:0') tensor(-2.9518e-16, device='cuda:0')\n",
      "tensor(2.6557e-16, device='cuda:0') tensor(-2.6566e-16, device='cuda:0')\n"
     ]
    },
    {
     "name": "stderr",
     "output_type": "stream",
     "text": [
      " 49%|████▉     | 489/1000 [01:27<01:35,  5.34it/s]"
     ]
    },
    {
     "name": "stdout",
     "output_type": "stream",
     "text": [
      "tensor(2.3902e-16, device='cuda:0') tensor(-2.3910e-16, device='cuda:0')\n"
     ]
    },
    {
     "name": "stderr",
     "output_type": "stream",
     "text": [
      " 49%|████▉     | 491/1000 [01:28<01:33,  5.44it/s]"
     ]
    },
    {
     "name": "stdout",
     "output_type": "stream",
     "text": [
      "510 loss: 0.0031326173339039087\n",
      "tensor(2.1512e-16, device='cuda:0') tensor(-2.1519e-16, device='cuda:0')\n",
      "tensor(1.9360e-16, device='cuda:0') tensor(-1.9367e-16, device='cuda:0')\n"
     ]
    },
    {
     "name": "stderr",
     "output_type": "stream",
     "text": [
      " 49%|████▉     | 493/1000 [01:28<01:30,  5.61it/s]"
     ]
    },
    {
     "name": "stdout",
     "output_type": "stream",
     "text": [
      "tensor(1.7424e-16, device='cuda:0') tensor(-1.7430e-16, device='cuda:0')\n",
      "tensor(1.5682e-16, device='cuda:0') tensor(-1.5687e-16, device='cuda:0')\n"
     ]
    },
    {
     "name": "stderr",
     "output_type": "stream",
     "text": [
      " 49%|████▉     | 494/1000 [01:28<01:34,  5.35it/s]"
     ]
    },
    {
     "name": "stdout",
     "output_type": "stream",
     "text": [
      "tensor(1.4114e-16, device='cuda:0') tensor(-1.4118e-16, device='cuda:0')\n"
     ]
    },
    {
     "name": "stderr",
     "output_type": "stream",
     "text": [
      " 50%|████▉     | 496/1000 [01:29<01:32,  5.47it/s]"
     ]
    },
    {
     "name": "stdout",
     "output_type": "stream",
     "text": [
      "tensor(1.2702e-16, device='cuda:0') tensor(-1.2707e-16, device='cuda:0')\n",
      "tensor(1.1432e-16, device='cuda:0') tensor(-1.1436e-16, device='cuda:0')\n"
     ]
    },
    {
     "name": "stderr",
     "output_type": "stream",
     "text": [
      " 50%|████▉     | 498/1000 [01:29<01:29,  5.59it/s]"
     ]
    },
    {
     "name": "stdout",
     "output_type": "stream",
     "text": [
      "tensor(1.0289e-16, device='cuda:0') tensor(-1.0292e-16, device='cuda:0')\n",
      "tensor(9.2600e-17, device='cuda:0') tensor(-9.2631e-17, device='cuda:0')\n"
     ]
    },
    {
     "name": "stderr",
     "output_type": "stream",
     "text": [
      " 50%|█████     | 500/1000 [01:29<01:27,  5.70it/s]"
     ]
    },
    {
     "name": "stdout",
     "output_type": "stream",
     "text": [
      "tensor(8.3340e-17, device='cuda:0') tensor(-8.3368e-17, device='cuda:0')\n",
      "500 loss: 0.0031326173339039087\n",
      "tensor(7.5006e-17, device='cuda:0') tensor(-7.5031e-17, device='cuda:0')\n"
     ]
    },
    {
     "name": "stderr",
     "output_type": "stream",
     "text": [
      " 50%|█████     | 502/1000 [01:30<01:26,  5.73it/s]"
     ]
    },
    {
     "name": "stdout",
     "output_type": "stream",
     "text": [
      "tensor(6.7505e-17, device='cuda:0') tensor(-6.7528e-17, device='cuda:0')\n",
      "tensor(6.0755e-17, device='cuda:0') tensor(-6.0775e-17, device='cuda:0')\n"
     ]
    },
    {
     "name": "stderr",
     "output_type": "stream",
     "text": [
      " 50%|█████     | 504/1000 [01:30<01:26,  5.75it/s]"
     ]
    },
    {
     "name": "stdout",
     "output_type": "stream",
     "text": [
      "tensor(5.4679e-17, device='cuda:0') tensor(-5.4698e-17, device='cuda:0')\n",
      "tensor(4.9211e-17, device='cuda:0') tensor(-4.9228e-17, device='cuda:0')\n"
     ]
    },
    {
     "name": "stderr",
     "output_type": "stream",
     "text": [
      " 51%|█████     | 506/1000 [01:30<01:25,  5.75it/s]"
     ]
    },
    {
     "name": "stdout",
     "output_type": "stream",
     "text": [
      "tensor(4.4290e-17, device='cuda:0') tensor(-4.4305e-17, device='cuda:0')\n",
      "tensor(3.9861e-17, device='cuda:0') tensor(-3.9875e-17, device='cuda:0')\n"
     ]
    },
    {
     "name": "stderr",
     "output_type": "stream",
     "text": [
      " 51%|█████     | 508/1000 [01:31<01:26,  5.72it/s]"
     ]
    },
    {
     "name": "stdout",
     "output_type": "stream",
     "text": [
      "tensor(3.5875e-17, device='cuda:0') tensor(-3.5887e-17, device='cuda:0')\n",
      "tensor(3.2288e-17, device='cuda:0') tensor(-3.2299e-17, device='cuda:0')\n"
     ]
    },
    {
     "name": "stderr",
     "output_type": "stream",
     "text": [
      " 51%|█████     | 510/1000 [01:31<01:25,  5.74it/s]"
     ]
    },
    {
     "name": "stdout",
     "output_type": "stream",
     "text": [
      "tensor(2.9059e-17, device='cuda:0') tensor(-2.9069e-17, device='cuda:0')\n",
      "490 loss: 0.0031326173339039087\n",
      "tensor(2.6153e-17, device='cuda:0') tensor(-2.6162e-17, device='cuda:0')\n"
     ]
    },
    {
     "name": "stderr",
     "output_type": "stream",
     "text": [
      " 51%|█████     | 511/1000 [01:31<01:25,  5.73it/s]"
     ]
    },
    {
     "name": "stdout",
     "output_type": "stream",
     "text": [
      "tensor(2.3538e-17, device='cuda:0') tensor(-2.3546e-17, device='cuda:0')\n",
      "tensor(2.1184e-17, device='cuda:0') tensor(-2.1191e-17, device='cuda:0')\n"
     ]
    },
    {
     "name": "stderr",
     "output_type": "stream",
     "text": [
      " 51%|█████▏    | 514/1000 [01:32<01:25,  5.67it/s]"
     ]
    },
    {
     "name": "stdout",
     "output_type": "stream",
     "text": [
      "tensor(1.9066e-17, device='cuda:0') tensor(-1.9072e-17, device='cuda:0')\n",
      "tensor(1.7159e-17, device='cuda:0') tensor(-1.7165e-17, device='cuda:0')\n"
     ]
    },
    {
     "name": "stderr",
     "output_type": "stream",
     "text": [
      " 52%|█████▏    | 516/1000 [01:32<01:25,  5.67it/s]"
     ]
    },
    {
     "name": "stdout",
     "output_type": "stream",
     "text": [
      "tensor(1.5443e-17, device='cuda:0') tensor(-1.5448e-17, device='cuda:0')\n",
      "tensor(1.3899e-17, device='cuda:0') tensor(-1.3903e-17, device='cuda:0')\n"
     ]
    },
    {
     "name": "stderr",
     "output_type": "stream",
     "text": [
      " 52%|█████▏    | 518/1000 [01:33<01:24,  5.72it/s]"
     ]
    },
    {
     "name": "stdout",
     "output_type": "stream",
     "text": [
      "tensor(1.2509e-17, device='cuda:0') tensor(-1.2513e-17, device='cuda:0')\n",
      "tensor(1.1258e-17, device='cuda:0') tensor(-1.1262e-17, device='cuda:0')\n"
     ]
    },
    {
     "name": "stderr",
     "output_type": "stream",
     "text": [
      " 52%|█████▏    | 520/1000 [01:33<01:23,  5.75it/s]"
     ]
    },
    {
     "name": "stdout",
     "output_type": "stream",
     "text": [
      "tensor(1.0132e-17, device='cuda:0') tensor(-1.0136e-17, device='cuda:0')\n",
      "480 loss: 0.0031326173339039087\n",
      "tensor(9.1190e-18, device='cuda:0') tensor(-9.1221e-18, device='cuda:0')\n"
     ]
    },
    {
     "name": "stderr",
     "output_type": "stream",
     "text": [
      " 52%|█████▏    | 522/1000 [01:33<01:22,  5.77it/s]"
     ]
    },
    {
     "name": "stdout",
     "output_type": "stream",
     "text": [
      "tensor(8.2071e-18, device='cuda:0') tensor(-8.2099e-18, device='cuda:0')\n",
      "tensor(7.3864e-18, device='cuda:0') tensor(-7.3889e-18, device='cuda:0')\n"
     ]
    },
    {
     "name": "stderr",
     "output_type": "stream",
     "text": [
      " 52%|█████▏    | 524/1000 [01:34<01:23,  5.72it/s]"
     ]
    },
    {
     "name": "stdout",
     "output_type": "stream",
     "text": [
      "tensor(6.6477e-18, device='cuda:0') tensor(-6.6500e-18, device='cuda:0')\n",
      "tensor(5.9830e-18, device='cuda:0') tensor(-5.9850e-18, device='cuda:0')\n"
     ]
    },
    {
     "name": "stderr",
     "output_type": "stream",
     "text": [
      " 53%|█████▎    | 526/1000 [01:34<01:23,  5.65it/s]"
     ]
    },
    {
     "name": "stdout",
     "output_type": "stream",
     "text": [
      "tensor(5.3847e-18, device='cuda:0') tensor(-5.3865e-18, device='cuda:0')\n",
      "tensor(4.8462e-18, device='cuda:0') tensor(-4.8478e-18, device='cuda:0')\n"
     ]
    },
    {
     "name": "stderr",
     "output_type": "stream",
     "text": [
      " 53%|█████▎    | 528/1000 [01:34<01:22,  5.72it/s]"
     ]
    },
    {
     "name": "stdout",
     "output_type": "stream",
     "text": [
      "tensor(4.3616e-18, device='cuda:0') tensor(-4.3631e-18, device='cuda:0')\n",
      "tensor(3.9254e-18, device='cuda:0') tensor(-3.9268e-18, device='cuda:0')\n"
     ]
    },
    {
     "name": "stderr",
     "output_type": "stream",
     "text": [
      " 53%|█████▎    | 530/1000 [01:35<01:21,  5.73it/s]"
     ]
    },
    {
     "name": "stdout",
     "output_type": "stream",
     "text": [
      "tensor(3.5329e-18, device='cuda:0') tensor(-3.5341e-18, device='cuda:0')\n",
      "470 loss: 0.0031326173339039087\n",
      "tensor(3.1796e-18, device='cuda:0') tensor(-3.1807e-18, device='cuda:0')\n"
     ]
    },
    {
     "name": "stderr",
     "output_type": "stream",
     "text": [
      " 53%|█████▎    | 532/1000 [01:35<01:21,  5.72it/s]"
     ]
    },
    {
     "name": "stdout",
     "output_type": "stream",
     "text": [
      "tensor(2.8616e-18, device='cuda:0') tensor(-2.8626e-18, device='cuda:0')\n",
      "tensor(2.5755e-18, device='cuda:0') tensor(-2.5763e-18, device='cuda:0')\n"
     ]
    },
    {
     "name": "stderr",
     "output_type": "stream",
     "text": [
      " 53%|█████▎    | 534/1000 [01:35<01:22,  5.63it/s]"
     ]
    },
    {
     "name": "stdout",
     "output_type": "stream",
     "text": [
      "tensor(2.3179e-18, device='cuda:0') tensor(-2.3187e-18, device='cuda:0')\n",
      "tensor(2.0861e-18, device='cuda:0') tensor(-2.0868e-18, device='cuda:0')\n"
     ]
    },
    {
     "name": "stderr",
     "output_type": "stream",
     "text": [
      " 54%|█████▎    | 536/1000 [01:36<01:22,  5.63it/s]"
     ]
    },
    {
     "name": "stdout",
     "output_type": "stream",
     "text": [
      "tensor(1.8775e-18, device='cuda:0') tensor(-1.8782e-18, device='cuda:0')\n",
      "tensor(1.6898e-18, device='cuda:0') tensor(-1.6903e-18, device='cuda:0')\n"
     ]
    },
    {
     "name": "stderr",
     "output_type": "stream",
     "text": [
      " 54%|█████▍    | 538/1000 [01:36<01:21,  5.63it/s]"
     ]
    },
    {
     "name": "stdout",
     "output_type": "stream",
     "text": [
      "tensor(1.5208e-18, device='cuda:0') tensor(-1.5213e-18, device='cuda:0')\n",
      "tensor(1.3687e-18, device='cuda:0') tensor(-1.3692e-18, device='cuda:0')\n"
     ]
    },
    {
     "name": "stderr",
     "output_type": "stream",
     "text": [
      " 54%|█████▍    | 540/1000 [01:36<01:21,  5.66it/s]"
     ]
    },
    {
     "name": "stdout",
     "output_type": "stream",
     "text": [
      "tensor(1.2318e-18, device='cuda:0') tensor(-1.2323e-18, device='cuda:0')\n",
      "460 loss: 0.0031326173339039087\n",
      "tensor(1.1087e-18, device='cuda:0') tensor(-1.1090e-18, device='cuda:0')\n"
     ]
    },
    {
     "name": "stderr",
     "output_type": "stream",
     "text": [
      " 54%|█████▍    | 542/1000 [01:37<01:20,  5.68it/s]"
     ]
    },
    {
     "name": "stdout",
     "output_type": "stream",
     "text": [
      "tensor(9.9779e-19, device='cuda:0') tensor(-9.9813e-19, device='cuda:0')\n",
      "tensor(8.9801e-19, device='cuda:0') tensor(-8.9831e-19, device='cuda:0')\n"
     ]
    },
    {
     "name": "stderr",
     "output_type": "stream",
     "text": [
      " 54%|█████▍    | 543/1000 [01:37<01:20,  5.69it/s]"
     ]
    },
    {
     "name": "stdout",
     "output_type": "stream",
     "text": [
      "tensor(8.0821e-19, device='cuda:0') tensor(-8.0848e-19, device='cuda:0')\n",
      "tensor(7.2739e-19, device='cuda:0') tensor(-7.2763e-19, device='cuda:0')\n"
     ]
    },
    {
     "name": "stderr",
     "output_type": "stream",
     "text": [
      " 55%|█████▍    | 546/1000 [01:37<01:20,  5.67it/s]"
     ]
    },
    {
     "name": "stdout",
     "output_type": "stream",
     "text": [
      "tensor(6.5465e-19, device='cuda:0') tensor(-6.5487e-19, device='cuda:0')\n",
      "tensor(5.8918e-19, device='cuda:0') tensor(-5.8938e-19, device='cuda:0')\n"
     ]
    },
    {
     "name": "stderr",
     "output_type": "stream",
     "text": [
      " 55%|█████▍    | 548/1000 [01:38<01:19,  5.70it/s]"
     ]
    },
    {
     "name": "stdout",
     "output_type": "stream",
     "text": [
      "tensor(5.3027e-19, device='cuda:0') tensor(-5.3045e-19, device='cuda:0')\n",
      "tensor(4.7724e-19, device='cuda:0') tensor(-4.7740e-19, device='cuda:0')\n"
     ]
    },
    {
     "name": "stderr",
     "output_type": "stream",
     "text": [
      " 55%|█████▌    | 550/1000 [01:38<01:20,  5.62it/s]"
     ]
    },
    {
     "name": "stdout",
     "output_type": "stream",
     "text": [
      "tensor(4.2951e-19, device='cuda:0') tensor(-4.2966e-19, device='cuda:0')\n",
      "450 loss: 0.0031326173339039087\n",
      "tensor(3.8656e-19, device='cuda:0') tensor(-3.8669e-19, device='cuda:0')\n"
     ]
    },
    {
     "name": "stderr",
     "output_type": "stream",
     "text": [
      " 55%|█████▌    | 552/1000 [01:39<01:19,  5.67it/s]"
     ]
    },
    {
     "name": "stdout",
     "output_type": "stream",
     "text": [
      "tensor(3.4791e-19, device='cuda:0') tensor(-3.4803e-19, device='cuda:0')\n",
      "tensor(3.1312e-19, device='cuda:0') tensor(-3.1322e-19, device='cuda:0')\n"
     ]
    },
    {
     "name": "stderr",
     "output_type": "stream",
     "text": [
      " 55%|█████▌    | 554/1000 [01:39<01:18,  5.66it/s]"
     ]
    },
    {
     "name": "stdout",
     "output_type": "stream",
     "text": [
      "tensor(2.8180e-19, device='cuda:0') tensor(-2.8190e-19, device='cuda:0')\n",
      "tensor(2.5362e-19, device='cuda:0') tensor(-2.5371e-19, device='cuda:0')\n"
     ]
    },
    {
     "name": "stderr",
     "output_type": "stream",
     "text": [
      " 56%|█████▌    | 556/1000 [01:39<01:19,  5.59it/s]"
     ]
    },
    {
     "name": "stdout",
     "output_type": "stream",
     "text": [
      "tensor(2.2826e-19, device='cuda:0') tensor(-2.2834e-19, device='cuda:0')\n",
      "tensor(2.0544e-19, device='cuda:0') tensor(-2.0551e-19, device='cuda:0')\n"
     ]
    },
    {
     "name": "stderr",
     "output_type": "stream",
     "text": [
      " 56%|█████▌    | 558/1000 [01:40<01:17,  5.69it/s]"
     ]
    },
    {
     "name": "stdout",
     "output_type": "stream",
     "text": [
      "tensor(1.8489e-19, device='cuda:0') tensor(-1.8495e-19, device='cuda:0')\n",
      "tensor(1.6640e-19, device='cuda:0') tensor(-1.6646e-19, device='cuda:0')\n"
     ]
    },
    {
     "name": "stderr",
     "output_type": "stream",
     "text": [
      " 56%|█████▌    | 560/1000 [01:40<01:18,  5.64it/s]"
     ]
    },
    {
     "name": "stdout",
     "output_type": "stream",
     "text": [
      "tensor(1.4976e-19, device='cuda:0') tensor(-1.4981e-19, device='cuda:0')\n",
      "440 loss: 0.0031326173339039087\n",
      "tensor(1.3479e-19, device='cuda:0') tensor(-1.3483e-19, device='cuda:0')\n"
     ]
    },
    {
     "name": "stderr",
     "output_type": "stream",
     "text": [
      " 56%|█████▌    | 562/1000 [01:40<01:18,  5.55it/s]"
     ]
    },
    {
     "name": "stdout",
     "output_type": "stream",
     "text": [
      "tensor(1.2131e-19, device='cuda:0') tensor(-1.2135e-19, device='cuda:0')\n",
      "tensor(1.0918e-19, device='cuda:0') tensor(-1.0921e-19, device='cuda:0')\n"
     ]
    },
    {
     "name": "stderr",
     "output_type": "stream",
     "text": [
      " 56%|█████▋    | 564/1000 [01:41<01:19,  5.45it/s]"
     ]
    },
    {
     "name": "stdout",
     "output_type": "stream",
     "text": [
      "tensor(9.8259e-20, device='cuda:0') tensor(-9.8293e-20, device='cuda:0')\n",
      "tensor(8.8433e-20, device='cuda:0') tensor(-8.8463e-20, device='cuda:0')\n"
     ]
    },
    {
     "name": "stderr",
     "output_type": "stream",
     "text": [
      " 57%|█████▋    | 566/1000 [01:41<01:19,  5.49it/s]"
     ]
    },
    {
     "name": "stdout",
     "output_type": "stream",
     "text": [
      "tensor(7.9590e-20, device='cuda:0') tensor(-7.9617e-20, device='cuda:0')\n",
      "tensor(7.1631e-20, device='cuda:0') tensor(-7.1655e-20, device='cuda:0')\n"
     ]
    },
    {
     "name": "stderr",
     "output_type": "stream",
     "text": [
      " 57%|█████▋    | 568/1000 [01:41<01:19,  5.46it/s]"
     ]
    },
    {
     "name": "stdout",
     "output_type": "stream",
     "text": [
      "tensor(6.4468e-20, device='cuda:0') tensor(-6.4490e-20, device='cuda:0')\n",
      "tensor(5.8021e-20, device='cuda:0') tensor(-5.8041e-20, device='cuda:0')\n"
     ]
    },
    {
     "name": "stderr",
     "output_type": "stream",
     "text": [
      " 57%|█████▋    | 570/1000 [01:42<01:18,  5.47it/s]"
     ]
    },
    {
     "name": "stdout",
     "output_type": "stream",
     "text": [
      "tensor(5.2219e-20, device='cuda:0') tensor(-5.2237e-20, device='cuda:0')\n",
      "430 loss: 0.0031326173339039087\n",
      "tensor(4.6997e-20, device='cuda:0') tensor(-4.7013e-20, device='cuda:0')\n"
     ]
    },
    {
     "name": "stderr",
     "output_type": "stream",
     "text": [
      " 57%|█████▋    | 572/1000 [01:42<01:17,  5.50it/s]"
     ]
    },
    {
     "name": "stdout",
     "output_type": "stream",
     "text": [
      "tensor(4.2297e-20, device='cuda:0') tensor(-4.2312e-20, device='cuda:0')\n",
      "tensor(3.8068e-20, device='cuda:0') tensor(-3.8081e-20, device='cuda:0')\n"
     ]
    },
    {
     "name": "stderr",
     "output_type": "stream",
     "text": [
      " 57%|█████▋    | 574/1000 [01:42<01:16,  5.53it/s]"
     ]
    },
    {
     "name": "stdout",
     "output_type": "stream",
     "text": [
      "tensor(3.4261e-20, device='cuda:0') tensor(-3.4272e-20, device='cuda:0')\n",
      "tensor(3.0835e-20, device='cuda:0') tensor(-3.0845e-20, device='cuda:0')\n"
     ]
    },
    {
     "name": "stderr",
     "output_type": "stream",
     "text": [
      " 58%|█████▊    | 576/1000 [01:43<01:17,  5.51it/s]"
     ]
    },
    {
     "name": "stdout",
     "output_type": "stream",
     "text": [
      "tensor(2.7751e-20, device='cuda:0') tensor(-2.7761e-20, device='cuda:0')\n",
      "tensor(2.4976e-20, device='cuda:0') tensor(-2.4985e-20, device='cuda:0')\n"
     ]
    },
    {
     "name": "stderr",
     "output_type": "stream",
     "text": [
      " 58%|█████▊    | 578/1000 [01:43<01:17,  5.46it/s]"
     ]
    },
    {
     "name": "stdout",
     "output_type": "stream",
     "text": [
      "tensor(2.2479e-20, device='cuda:0') tensor(-2.2486e-20, device='cuda:0')\n",
      "tensor(2.0231e-20, device='cuda:0') tensor(-2.0238e-20, device='cuda:0')\n"
     ]
    },
    {
     "name": "stderr",
     "output_type": "stream",
     "text": [
      " 58%|█████▊    | 580/1000 [01:44<01:15,  5.54it/s]"
     ]
    },
    {
     "name": "stdout",
     "output_type": "stream",
     "text": [
      "tensor(1.8208e-20, device='cuda:0') tensor(-1.8214e-20, device='cuda:0')\n",
      "420 loss: 0.0031326173339039087\n",
      "tensor(1.6387e-20, device='cuda:0') tensor(-1.6392e-20, device='cuda:0')\n"
     ]
    },
    {
     "name": "stderr",
     "output_type": "stream",
     "text": [
      " 58%|█████▊    | 582/1000 [01:44<01:16,  5.48it/s]"
     ]
    },
    {
     "name": "stdout",
     "output_type": "stream",
     "text": [
      "tensor(1.4748e-20, device='cuda:0') tensor(-1.4753e-20, device='cuda:0')\n",
      "tensor(1.3273e-20, device='cuda:0') tensor(-1.3278e-20, device='cuda:0')\n"
     ]
    },
    {
     "name": "stderr",
     "output_type": "stream",
     "text": [
      " 58%|█████▊    | 584/1000 [01:44<01:16,  5.47it/s]"
     ]
    },
    {
     "name": "stdout",
     "output_type": "stream",
     "text": [
      "tensor(1.1946e-20, device='cuda:0') tensor(-1.1950e-20, device='cuda:0')\n",
      "tensor(1.0751e-20, device='cuda:0') tensor(-1.0755e-20, device='cuda:0')\n"
     ]
    },
    {
     "name": "stderr",
     "output_type": "stream",
     "text": [
      " 59%|█████▊    | 586/1000 [01:45<01:15,  5.45it/s]"
     ]
    },
    {
     "name": "stdout",
     "output_type": "stream",
     "text": [
      "tensor(9.6763e-21, device='cuda:0') tensor(-9.6796e-21, device='cuda:0')\n",
      "tensor(8.7086e-21, device='cuda:0') tensor(-8.7116e-21, device='cuda:0')\n"
     ]
    },
    {
     "name": "stderr",
     "output_type": "stream",
     "text": [
      " 59%|█████▉    | 588/1000 [01:45<01:13,  5.59it/s]"
     ]
    },
    {
     "name": "stdout",
     "output_type": "stream",
     "text": [
      "tensor(7.8378e-21, device='cuda:0') tensor(-7.8404e-21, device='cuda:0')\n",
      "tensor(7.0540e-21, device='cuda:0') tensor(-7.0564e-21, device='cuda:0')\n"
     ]
    },
    {
     "name": "stderr",
     "output_type": "stream",
     "text": [
      " 59%|█████▉    | 590/1000 [01:45<01:12,  5.64it/s]"
     ]
    },
    {
     "name": "stdout",
     "output_type": "stream",
     "text": [
      "tensor(6.3486e-21, device='cuda:0') tensor(-6.3508e-21, device='cuda:0')\n",
      "410 loss: 0.0031326173339039087\n",
      "tensor(5.7137e-21, device='cuda:0') tensor(-5.7157e-21, device='cuda:0')\n"
     ]
    },
    {
     "name": "stderr",
     "output_type": "stream",
     "text": [
      " 59%|█████▉    | 592/1000 [01:46<01:11,  5.69it/s]"
     ]
    },
    {
     "name": "stdout",
     "output_type": "stream",
     "text": [
      "tensor(5.1424e-21, device='cuda:0') tensor(-5.1441e-21, device='cuda:0')\n",
      "tensor(4.6281e-21, device='cuda:0') tensor(-4.6297e-21, device='cuda:0')\n"
     ]
    },
    {
     "name": "stderr",
     "output_type": "stream",
     "text": [
      " 59%|█████▉    | 594/1000 [01:46<01:10,  5.73it/s]"
     ]
    },
    {
     "name": "stdout",
     "output_type": "stream",
     "text": [
      "tensor(4.1653e-21, device='cuda:0') tensor(-4.1667e-21, device='cuda:0')\n",
      "tensor(3.7488e-21, device='cuda:0') tensor(-3.7501e-21, device='cuda:0')\n"
     ]
    },
    {
     "name": "stderr",
     "output_type": "stream",
     "text": [
      " 60%|█████▉    | 596/1000 [01:46<01:10,  5.76it/s]"
     ]
    },
    {
     "name": "stdout",
     "output_type": "stream",
     "text": [
      "tensor(3.3739e-21, device='cuda:0') tensor(-3.3751e-21, device='cuda:0')\n",
      "tensor(3.0365e-21, device='cuda:0') tensor(-3.0375e-21, device='cuda:0')\n"
     ]
    },
    {
     "name": "stderr",
     "output_type": "stream",
     "text": [
      " 60%|█████▉    | 598/1000 [01:47<01:10,  5.67it/s]"
     ]
    },
    {
     "name": "stdout",
     "output_type": "stream",
     "text": [
      "tensor(2.7329e-21, device='cuda:0') tensor(-2.7338e-21, device='cuda:0')\n",
      "tensor(2.4596e-21, device='cuda:0') tensor(-2.4604e-21, device='cuda:0')\n"
     ]
    },
    {
     "name": "stderr",
     "output_type": "stream",
     "text": [
      " 60%|██████    | 600/1000 [01:47<01:11,  5.60it/s]"
     ]
    },
    {
     "name": "stdout",
     "output_type": "stream",
     "text": [
      "tensor(2.2136e-21, device='cuda:0') tensor(-2.2144e-21, device='cuda:0')\n",
      "400 loss: 0.0031326173339039087\n",
      "tensor(1.9923e-21, device='cuda:0') tensor(-1.9929e-21, device='cuda:0')\n"
     ]
    },
    {
     "name": "stderr",
     "output_type": "stream",
     "text": [
      " 60%|██████    | 602/1000 [01:47<01:11,  5.60it/s]"
     ]
    },
    {
     "name": "stdout",
     "output_type": "stream",
     "text": [
      "tensor(1.7930e-21, device='cuda:0') tensor(-1.7936e-21, device='cuda:0')\n",
      "tensor(1.6137e-21, device='cuda:0') tensor(-1.6143e-21, device='cuda:0')\n"
     ]
    },
    {
     "name": "stderr",
     "output_type": "stream",
     "text": [
      " 60%|██████    | 604/1000 [01:48<01:10,  5.65it/s]"
     ]
    },
    {
     "name": "stdout",
     "output_type": "stream",
     "text": [
      "tensor(1.4524e-21, device='cuda:0') tensor(-1.4528e-21, device='cuda:0')\n",
      "tensor(1.3071e-21, device='cuda:0') tensor(-1.3076e-21, device='cuda:0')\n"
     ]
    },
    {
     "name": "stderr",
     "output_type": "stream",
     "text": [
      " 61%|██████    | 606/1000 [01:48<01:08,  5.74it/s]"
     ]
    },
    {
     "name": "stdout",
     "output_type": "stream",
     "text": [
      "tensor(1.1764e-21, device='cuda:0') tensor(-1.1768e-21, device='cuda:0')\n",
      "tensor(1.0588e-21, device='cuda:0') tensor(-1.0591e-21, device='cuda:0')\n"
     ]
    },
    {
     "name": "stderr",
     "output_type": "stream",
     "text": [
      " 61%|██████    | 608/1000 [01:49<01:08,  5.73it/s]"
     ]
    },
    {
     "name": "stdout",
     "output_type": "stream",
     "text": [
      "tensor(9.5289e-22, device='cuda:0') tensor(-9.5321e-22, device='cuda:0')\n",
      "tensor(8.5760e-22, device='cuda:0') tensor(-8.5789e-22, device='cuda:0')\n"
     ]
    },
    {
     "name": "stderr",
     "output_type": "stream",
     "text": [
      " 61%|██████    | 610/1000 [01:49<01:07,  5.75it/s]"
     ]
    },
    {
     "name": "stdout",
     "output_type": "stream",
     "text": [
      "tensor(7.7184e-22, device='cuda:0') tensor(-7.7210e-22, device='cuda:0')\n",
      "390 loss: 0.0031326173339039087\n",
      "tensor(6.9466e-22, device='cuda:0') tensor(-6.9489e-22, device='cuda:0')\n"
     ]
    },
    {
     "name": "stderr",
     "output_type": "stream",
     "text": [
      " 61%|██████    | 612/1000 [01:49<01:07,  5.71it/s]"
     ]
    },
    {
     "name": "stdout",
     "output_type": "stream",
     "text": [
      "tensor(6.2519e-22, device='cuda:0') tensor(-6.2540e-22, device='cuda:0')\n",
      "tensor(5.6267e-22, device='cuda:0') tensor(-5.6286e-22, device='cuda:0')\n"
     ]
    },
    {
     "name": "stderr",
     "output_type": "stream",
     "text": [
      " 61%|██████▏   | 614/1000 [01:50<01:06,  5.76it/s]"
     ]
    },
    {
     "name": "stdout",
     "output_type": "stream",
     "text": [
      "tensor(5.0641e-22, device='cuda:0') tensor(-5.0658e-22, device='cuda:0')\n",
      "tensor(4.5576e-22, device='cuda:0') tensor(-4.5592e-22, device='cuda:0')\n"
     ]
    },
    {
     "name": "stderr",
     "output_type": "stream",
     "text": [
      " 62%|██████▏   | 616/1000 [01:50<01:07,  5.67it/s]"
     ]
    },
    {
     "name": "stdout",
     "output_type": "stream",
     "text": [
      "tensor(4.1019e-22, device='cuda:0') tensor(-4.1033e-22, device='cuda:0')\n",
      "tensor(3.6917e-22, device='cuda:0') tensor(-3.6929e-22, device='cuda:0')\n"
     ]
    },
    {
     "name": "stderr",
     "output_type": "stream",
     "text": [
      " 62%|██████▏   | 618/1000 [01:50<01:07,  5.70it/s]"
     ]
    },
    {
     "name": "stdout",
     "output_type": "stream",
     "text": [
      "tensor(3.3225e-22, device='cuda:0') tensor(-3.3237e-22, device='cuda:0')\n",
      "tensor(2.9903e-22, device='cuda:0') tensor(-2.9913e-22, device='cuda:0')\n"
     ]
    },
    {
     "name": "stderr",
     "output_type": "stream",
     "text": [
      " 62%|██████▏   | 620/1000 [01:51<01:08,  5.58it/s]"
     ]
    },
    {
     "name": "stdout",
     "output_type": "stream",
     "text": [
      "tensor(2.6912e-22, device='cuda:0') tensor(-2.6922e-22, device='cuda:0')\n",
      "380 loss: 0.0031326173339039087\n",
      "tensor(2.4221e-22, device='cuda:0') tensor(-2.4229e-22, device='cuda:0')\n"
     ]
    },
    {
     "name": "stderr",
     "output_type": "stream",
     "text": [
      " 62%|██████▏   | 622/1000 [01:51<01:08,  5.56it/s]"
     ]
    },
    {
     "name": "stdout",
     "output_type": "stream",
     "text": [
      "tensor(2.1799e-22, device='cuda:0') tensor(-2.1806e-22, device='cuda:0')\n",
      "tensor(1.9619e-22, device='cuda:0') tensor(-1.9626e-22, device='cuda:0')\n"
     ]
    },
    {
     "name": "stderr",
     "output_type": "stream",
     "text": [
      " 62%|██████▏   | 624/1000 [01:51<01:07,  5.59it/s]"
     ]
    },
    {
     "name": "stdout",
     "output_type": "stream",
     "text": [
      "tensor(1.7657e-22, device='cuda:0') tensor(-1.7663e-22, device='cuda:0')\n",
      "tensor(1.5892e-22, device='cuda:0') tensor(-1.5897e-22, device='cuda:0')\n"
     ]
    },
    {
     "name": "stderr",
     "output_type": "stream",
     "text": [
      " 63%|██████▎   | 626/1000 [01:52<01:05,  5.68it/s]"
     ]
    },
    {
     "name": "stdout",
     "output_type": "stream",
     "text": [
      "tensor(1.4302e-22, device='cuda:0') tensor(-1.4307e-22, device='cuda:0')\n",
      "tensor(1.2872e-22, device='cuda:0') tensor(-1.2877e-22, device='cuda:0')\n"
     ]
    },
    {
     "name": "stderr",
     "output_type": "stream",
     "text": [
      " 63%|██████▎   | 627/1000 [01:52<01:07,  5.52it/s]"
     ]
    },
    {
     "name": "stdout",
     "output_type": "stream",
     "text": [
      "tensor(1.1585e-22, device='cuda:0') tensor(-1.1589e-22, device='cuda:0')\n",
      "tensor(1.0426e-22, device='cuda:0') tensor(-1.0430e-22, device='cuda:0')\n"
     ]
    },
    {
     "name": "stderr",
     "output_type": "stream",
     "text": [
      " 63%|██████▎   | 630/1000 [01:52<01:06,  5.56it/s]"
     ]
    },
    {
     "name": "stdout",
     "output_type": "stream",
     "text": [
      "tensor(9.3838e-23, device='cuda:0') tensor(-9.3870e-23, device='cuda:0')\n",
      "370 loss: 0.0031326173339039087\n",
      "tensor(8.4454e-23, device='cuda:0') tensor(-8.4483e-23, device='cuda:0')\n"
     ]
    },
    {
     "name": "stderr",
     "output_type": "stream",
     "text": [
      " 63%|██████▎   | 632/1000 [01:53<01:06,  5.54it/s]"
     ]
    },
    {
     "name": "stdout",
     "output_type": "stream",
     "text": [
      "tensor(7.6009e-23, device='cuda:0') tensor(-7.6034e-23, device='cuda:0')\n",
      "tensor(6.8408e-23, device='cuda:0') tensor(-6.8431e-23, device='cuda:0')\n"
     ]
    },
    {
     "name": "stderr",
     "output_type": "stream",
     "text": [
      " 63%|██████▎   | 634/1000 [01:53<01:05,  5.61it/s]"
     ]
    },
    {
     "name": "stdout",
     "output_type": "stream",
     "text": [
      "tensor(6.1567e-23, device='cuda:0') tensor(-6.1588e-23, device='cuda:0')\n",
      "tensor(5.5410e-23, device='cuda:0') tensor(-5.5429e-23, device='cuda:0')\n"
     ]
    },
    {
     "name": "stderr",
     "output_type": "stream",
     "text": [
      " 64%|██████▎   | 636/1000 [01:54<01:04,  5.62it/s]"
     ]
    },
    {
     "name": "stdout",
     "output_type": "stream",
     "text": [
      "tensor(4.9869e-23, device='cuda:0') tensor(-4.9886e-23, device='cuda:0')\n",
      "tensor(4.4882e-23, device='cuda:0') tensor(-4.4898e-23, device='cuda:0')\n"
     ]
    },
    {
     "name": "stderr",
     "output_type": "stream",
     "text": [
      " 64%|██████▍   | 638/1000 [01:54<01:03,  5.69it/s]"
     ]
    },
    {
     "name": "stdout",
     "output_type": "stream",
     "text": [
      "tensor(4.0394e-23, device='cuda:0') tensor(-4.0408e-23, device='cuda:0')\n",
      "tensor(3.6355e-23, device='cuda:0') tensor(-3.6367e-23, device='cuda:0')\n"
     ]
    },
    {
     "name": "stderr",
     "output_type": "stream",
     "text": [
      " 64%|██████▍   | 640/1000 [01:54<01:03,  5.66it/s]"
     ]
    },
    {
     "name": "stdout",
     "output_type": "stream",
     "text": [
      "tensor(3.2719e-23, device='cuda:0') tensor(-3.2730e-23, device='cuda:0')\n",
      "360 loss: 0.0031326173339039087\n",
      "tensor(2.9447e-23, device='cuda:0') tensor(-2.9457e-23, device='cuda:0')\n"
     ]
    },
    {
     "name": "stderr",
     "output_type": "stream",
     "text": [
      " 64%|██████▍   | 642/1000 [01:55<01:02,  5.73it/s]"
     ]
    },
    {
     "name": "stdout",
     "output_type": "stream",
     "text": [
      "tensor(2.6503e-23, device='cuda:0') tensor(-2.6512e-23, device='cuda:0')\n",
      "tensor(2.3852e-23, device='cuda:0') tensor(-2.3860e-23, device='cuda:0')\n"
     ]
    },
    {
     "name": "stderr",
     "output_type": "stream",
     "text": [
      " 64%|██████▍   | 644/1000 [01:55<01:03,  5.62it/s]"
     ]
    },
    {
     "name": "stdout",
     "output_type": "stream",
     "text": [
      "tensor(2.1467e-23, device='cuda:0') tensor(-2.1474e-23, device='cuda:0')\n",
      "tensor(1.9320e-23, device='cuda:0') tensor(-1.9327e-23, device='cuda:0')\n"
     ]
    },
    {
     "name": "stderr",
     "output_type": "stream",
     "text": [
      " 65%|██████▍   | 646/1000 [01:55<01:03,  5.57it/s]"
     ]
    },
    {
     "name": "stdout",
     "output_type": "stream",
     "text": [
      "tensor(1.7388e-23, device='cuda:0') tensor(-1.7394e-23, device='cuda:0')\n",
      "tensor(1.5649e-23, device='cuda:0') tensor(-1.5655e-23, device='cuda:0')\n"
     ]
    },
    {
     "name": "stderr",
     "output_type": "stream",
     "text": [
      " 65%|██████▍   | 648/1000 [01:56<01:02,  5.61it/s]"
     ]
    },
    {
     "name": "stdout",
     "output_type": "stream",
     "text": [
      "tensor(1.4085e-23, device='cuda:0') tensor(-1.4089e-23, device='cuda:0')\n",
      "tensor(1.2676e-23, device='cuda:0') tensor(-1.2680e-23, device='cuda:0')\n"
     ]
    },
    {
     "name": "stderr",
     "output_type": "stream",
     "text": [
      " 65%|██████▌   | 650/1000 [01:56<01:02,  5.61it/s]"
     ]
    },
    {
     "name": "stdout",
     "output_type": "stream",
     "text": [
      "tensor(1.1408e-23, device='cuda:0') tensor(-1.1412e-23, device='cuda:0')\n",
      "350 loss: 0.0031326173339039087\n",
      "tensor(1.0268e-23, device='cuda:0') tensor(-1.0271e-23, device='cuda:0')\n"
     ]
    },
    {
     "name": "stderr",
     "output_type": "stream",
     "text": [
      " 65%|██████▌   | 651/1000 [01:56<01:02,  5.59it/s]"
     ]
    },
    {
     "name": "stdout",
     "output_type": "stream",
     "text": [
      "tensor(9.2409e-24, device='cuda:0') tensor(-9.2440e-24, device='cuda:0')\n",
      "tensor(8.3168e-24, device='cuda:0') tensor(-8.3196e-24, device='cuda:0')\n"
     ]
    },
    {
     "name": "stderr",
     "output_type": "stream",
     "text": [
      " 65%|██████▌   | 654/1000 [01:57<01:03,  5.46it/s]"
     ]
    },
    {
     "name": "stdout",
     "output_type": "stream",
     "text": [
      "tensor(7.4851e-24, device='cuda:0') tensor(-7.4877e-24, device='cuda:0')\n",
      "tensor(6.7366e-24, device='cuda:0') tensor(-6.7389e-24, device='cuda:0')\n"
     ]
    },
    {
     "name": "stderr",
     "output_type": "stream",
     "text": [
      " 66%|██████▌   | 656/1000 [01:57<01:02,  5.50it/s]"
     ]
    },
    {
     "name": "stdout",
     "output_type": "stream",
     "text": [
      "tensor(6.0629e-24, device='cuda:0') tensor(-6.0650e-24, device='cuda:0')\n",
      "tensor(5.4566e-24, device='cuda:0') tensor(-5.4585e-24, device='cuda:0')\n"
     ]
    },
    {
     "name": "stderr",
     "output_type": "stream",
     "text": [
      " 66%|██████▌   | 658/1000 [01:57<01:02,  5.50it/s]"
     ]
    },
    {
     "name": "stdout",
     "output_type": "stream",
     "text": [
      "tensor(4.9110e-24, device='cuda:0') tensor(-4.9126e-24, device='cuda:0')\n",
      "tensor(4.4199e-24, device='cuda:0') tensor(-4.4214e-24, device='cuda:0')\n"
     ]
    },
    {
     "name": "stderr",
     "output_type": "stream",
     "text": [
      " 66%|██████▌   | 660/1000 [01:58<01:00,  5.62it/s]"
     ]
    },
    {
     "name": "stdout",
     "output_type": "stream",
     "text": [
      "tensor(3.9779e-24, device='cuda:0') tensor(-3.9792e-24, device='cuda:0')\n",
      "340 loss: 0.0031326173339039087\n",
      "tensor(3.5801e-24, device='cuda:0') tensor(-3.5813e-24, device='cuda:0')\n"
     ]
    },
    {
     "name": "stderr",
     "output_type": "stream",
     "text": [
      " 66%|██████▌   | 662/1000 [01:58<00:59,  5.70it/s]"
     ]
    },
    {
     "name": "stdout",
     "output_type": "stream",
     "text": [
      "tensor(3.2221e-24, device='cuda:0') tensor(-3.2232e-24, device='cuda:0')\n",
      "tensor(2.8999e-24, device='cuda:0') tensor(-2.9009e-24, device='cuda:0')\n"
     ]
    },
    {
     "name": "stderr",
     "output_type": "stream",
     "text": [
      " 66%|██████▋   | 664/1000 [01:59<00:58,  5.72it/s]"
     ]
    },
    {
     "name": "stdout",
     "output_type": "stream",
     "text": [
      "tensor(2.6099e-24, device='cuda:0') tensor(-2.6108e-24, device='cuda:0')\n",
      "tensor(2.3489e-24, device='cuda:0') tensor(-2.3497e-24, device='cuda:0')\n"
     ]
    },
    {
     "name": "stderr",
     "output_type": "stream",
     "text": [
      " 67%|██████▋   | 666/1000 [01:59<00:58,  5.75it/s]"
     ]
    },
    {
     "name": "stdout",
     "output_type": "stream",
     "text": [
      "tensor(2.1140e-24, device='cuda:0') tensor(-2.1147e-24, device='cuda:0')\n",
      "tensor(1.9026e-24, device='cuda:0') tensor(-1.9033e-24, device='cuda:0')\n"
     ]
    },
    {
     "name": "stderr",
     "output_type": "stream",
     "text": [
      " 67%|██████▋   | 668/1000 [01:59<00:58,  5.67it/s]"
     ]
    },
    {
     "name": "stdout",
     "output_type": "stream",
     "text": [
      "tensor(1.7124e-24, device='cuda:0') tensor(-1.7129e-24, device='cuda:0')\n",
      "tensor(1.5411e-24, device='cuda:0') tensor(-1.5416e-24, device='cuda:0')\n"
     ]
    },
    {
     "name": "stderr",
     "output_type": "stream",
     "text": [
      " 67%|██████▋   | 670/1000 [02:00<00:58,  5.63it/s]"
     ]
    },
    {
     "name": "stdout",
     "output_type": "stream",
     "text": [
      "tensor(1.3870e-24, device='cuda:0') tensor(-1.3875e-24, device='cuda:0')\n",
      "330 loss: 0.0031326173339039087\n",
      "tensor(1.2483e-24, device='cuda:0') tensor(-1.2487e-24, device='cuda:0')\n"
     ]
    },
    {
     "name": "stderr",
     "output_type": "stream",
     "text": [
      " 67%|██████▋   | 672/1000 [02:00<00:58,  5.64it/s]"
     ]
    },
    {
     "name": "stdout",
     "output_type": "stream",
     "text": [
      "tensor(1.1235e-24, device='cuda:0') tensor(-1.1239e-24, device='cuda:0')\n",
      "tensor(1.0111e-24, device='cuda:0') tensor(-1.0115e-24, device='cuda:0')\n"
     ]
    },
    {
     "name": "stderr",
     "output_type": "stream",
     "text": [
      " 67%|██████▋   | 674/1000 [02:00<00:58,  5.57it/s]"
     ]
    },
    {
     "name": "stdout",
     "output_type": "stream",
     "text": [
      "tensor(9.1001e-25, device='cuda:0') tensor(-9.1032e-25, device='cuda:0')\n",
      "tensor(8.1901e-25, device='cuda:0') tensor(-8.1929e-25, device='cuda:0')\n"
     ]
    },
    {
     "name": "stderr",
     "output_type": "stream",
     "text": [
      " 68%|██████▊   | 675/1000 [02:00<00:59,  5.45it/s]"
     ]
    },
    {
     "name": "stdout",
     "output_type": "stream",
     "text": [
      "tensor(7.3711e-25, device='cuda:0') tensor(-7.3736e-25, device='cuda:0')\n",
      "tensor(6.6340e-25, device='cuda:0') tensor(-6.6363e-25, device='cuda:0')\n"
     ]
    },
    {
     "name": "stderr",
     "output_type": "stream",
     "text": [
      " 68%|██████▊   | 678/1000 [02:01<00:57,  5.57it/s]"
     ]
    },
    {
     "name": "stdout",
     "output_type": "stream",
     "text": [
      "tensor(5.9706e-25, device='cuda:0') tensor(-5.9726e-25, device='cuda:0')\n",
      "tensor(5.3735e-25, device='cuda:0') tensor(-5.3754e-25, device='cuda:0')\n"
     ]
    },
    {
     "name": "stderr",
     "output_type": "stream",
     "text": [
      " 68%|██████▊   | 680/1000 [02:01<00:56,  5.65it/s]"
     ]
    },
    {
     "name": "stdout",
     "output_type": "stream",
     "text": [
      "tensor(4.8362e-25, device='cuda:0') tensor(-4.8378e-25, device='cuda:0')\n",
      "320 loss: 0.0031326173339039087\n",
      "tensor(4.3526e-25, device='cuda:0') tensor(-4.3540e-25, device='cuda:0')\n"
     ]
    },
    {
     "name": "stderr",
     "output_type": "stream",
     "text": [
      " 68%|██████▊   | 682/1000 [02:02<00:56,  5.66it/s]"
     ]
    },
    {
     "name": "stdout",
     "output_type": "stream",
     "text": [
      "tensor(3.9173e-25, device='cuda:0') tensor(-3.9186e-25, device='cuda:0')\n",
      "tensor(3.5256e-25, device='cuda:0') tensor(-3.5268e-25, device='cuda:0')\n"
     ]
    },
    {
     "name": "stderr",
     "output_type": "stream",
     "text": [
      " 68%|██████▊   | 684/1000 [02:02<00:55,  5.65it/s]"
     ]
    },
    {
     "name": "stdout",
     "output_type": "stream",
     "text": [
      "tensor(3.1730e-25, device='cuda:0') tensor(-3.1741e-25, device='cuda:0')\n",
      "tensor(2.8557e-25, device='cuda:0') tensor(-2.8567e-25, device='cuda:0')\n"
     ]
    },
    {
     "name": "stderr",
     "output_type": "stream",
     "text": [
      " 69%|██████▊   | 686/1000 [02:02<00:55,  5.62it/s]"
     ]
    },
    {
     "name": "stdout",
     "output_type": "stream",
     "text": [
      "tensor(2.5701e-25, device='cuda:0') tensor(-2.5710e-25, device='cuda:0')\n",
      "tensor(2.3131e-25, device='cuda:0') tensor(-2.3139e-25, device='cuda:0')\n"
     ]
    },
    {
     "name": "stderr",
     "output_type": "stream",
     "text": [
      " 69%|██████▉   | 688/1000 [02:03<00:54,  5.72it/s]"
     ]
    },
    {
     "name": "stdout",
     "output_type": "stream",
     "text": [
      "tensor(2.0818e-25, device='cuda:0') tensor(-2.0825e-25, device='cuda:0')\n",
      "tensor(1.8736e-25, device='cuda:0') tensor(-1.8743e-25, device='cuda:0')\n"
     ]
    },
    {
     "name": "stderr",
     "output_type": "stream",
     "text": [
      " 69%|██████▉   | 690/1000 [02:03<00:54,  5.67it/s]"
     ]
    },
    {
     "name": "stdout",
     "output_type": "stream",
     "text": [
      "tensor(1.6863e-25, device='cuda:0') tensor(-1.6868e-25, device='cuda:0')\n",
      "310 loss: 0.0031326173339039087\n",
      "tensor(1.5176e-25, device='cuda:0') tensor(-1.5182e-25, device='cuda:0')\n"
     ]
    },
    {
     "name": "stderr",
     "output_type": "stream",
     "text": [
      " 69%|██████▉   | 692/1000 [02:03<00:54,  5.62it/s]"
     ]
    },
    {
     "name": "stdout",
     "output_type": "stream",
     "text": [
      "tensor(1.3659e-25, device='cuda:0') tensor(-1.3663e-25, device='cuda:0')\n",
      "tensor(1.2293e-25, device='cuda:0') tensor(-1.2297e-25, device='cuda:0')\n"
     ]
    },
    {
     "name": "stderr",
     "output_type": "stream",
     "text": [
      " 69%|██████▉   | 694/1000 [02:04<00:54,  5.62it/s]"
     ]
    },
    {
     "name": "stdout",
     "output_type": "stream",
     "text": [
      "tensor(1.1064e-25, device='cuda:0') tensor(-1.1067e-25, device='cuda:0')\n",
      "tensor(9.9573e-26, device='cuda:0') tensor(-9.9607e-26, device='cuda:0')\n"
     ]
    },
    {
     "name": "stderr",
     "output_type": "stream",
     "text": [
      " 70%|██████▉   | 696/1000 [02:04<00:53,  5.69it/s]"
     ]
    },
    {
     "name": "stdout",
     "output_type": "stream",
     "text": [
      "tensor(8.9615e-26, device='cuda:0') tensor(-8.9646e-26, device='cuda:0')\n",
      "tensor(8.0654e-26, device='cuda:0') tensor(-8.0681e-26, device='cuda:0')\n"
     ]
    },
    {
     "name": "stderr",
     "output_type": "stream",
     "text": [
      " 70%|██████▉   | 698/1000 [02:05<00:52,  5.70it/s]"
     ]
    },
    {
     "name": "stdout",
     "output_type": "stream",
     "text": [
      "tensor(7.2588e-26, device='cuda:0') tensor(-7.2613e-26, device='cuda:0')\n",
      "tensor(6.5330e-26, device='cuda:0') tensor(-6.5352e-26, device='cuda:0')\n"
     ]
    },
    {
     "name": "stderr",
     "output_type": "stream",
     "text": [
      " 70%|███████   | 700/1000 [02:05<00:53,  5.59it/s]"
     ]
    },
    {
     "name": "stdout",
     "output_type": "stream",
     "text": [
      "tensor(5.8797e-26, device='cuda:0') tensor(-5.8817e-26, device='cuda:0')\n",
      "300 loss: 0.0031326173339039087\n",
      "tensor(5.2917e-26, device='cuda:0') tensor(-5.2935e-26, device='cuda:0')\n"
     ]
    },
    {
     "name": "stderr",
     "output_type": "stream",
     "text": [
      " 70%|███████   | 701/1000 [02:05<00:53,  5.60it/s]"
     ]
    },
    {
     "name": "stdout",
     "output_type": "stream",
     "text": [
      "tensor(4.7625e-26, device='cuda:0') tensor(-4.7642e-26, device='cuda:0')\n",
      "tensor(4.2863e-26, device='cuda:0') tensor(-4.2877e-26, device='cuda:0')\n"
     ]
    },
    {
     "name": "stderr",
     "output_type": "stream",
     "text": [
      " 70%|███████   | 704/1000 [02:06<00:53,  5.55it/s]"
     ]
    },
    {
     "name": "stdout",
     "output_type": "stream",
     "text": [
      "tensor(3.8576e-26, device='cuda:0') tensor(-3.8590e-26, device='cuda:0')\n",
      "tensor(3.4719e-26, device='cuda:0') tensor(-3.4731e-26, device='cuda:0')\n"
     ]
    },
    {
     "name": "stderr",
     "output_type": "stream",
     "text": [
      " 71%|███████   | 706/1000 [02:06<00:52,  5.59it/s]"
     ]
    },
    {
     "name": "stdout",
     "output_type": "stream",
     "text": [
      "tensor(3.1247e-26, device='cuda:0') tensor(-3.1258e-26, device='cuda:0')\n",
      "tensor(2.8122e-26, device='cuda:0') tensor(-2.8132e-26, device='cuda:0')\n"
     ]
    },
    {
     "name": "stderr",
     "output_type": "stream",
     "text": [
      " 71%|███████   | 708/1000 [02:06<00:52,  5.58it/s]"
     ]
    },
    {
     "name": "stdout",
     "output_type": "stream",
     "text": [
      "tensor(2.5310e-26, device='cuda:0') tensor(-2.5319e-26, device='cuda:0')\n",
      "tensor(2.2779e-26, device='cuda:0') tensor(-2.2787e-26, device='cuda:0')\n"
     ]
    },
    {
     "name": "stderr",
     "output_type": "stream",
     "text": [
      " 71%|███████   | 710/1000 [02:07<00:52,  5.57it/s]"
     ]
    },
    {
     "name": "stdout",
     "output_type": "stream",
     "text": [
      "tensor(2.0501e-26, device='cuda:0') tensor(-2.0508e-26, device='cuda:0')\n",
      "290 loss: 0.0031326173339039087\n",
      "tensor(1.8451e-26, device='cuda:0') tensor(-1.8457e-26, device='cuda:0')\n"
     ]
    },
    {
     "name": "stderr",
     "output_type": "stream",
     "text": [
      " 71%|███████   | 711/1000 [02:07<00:52,  5.50it/s]"
     ]
    },
    {
     "name": "stdout",
     "output_type": "stream",
     "text": [
      "tensor(1.6606e-26, device='cuda:0') tensor(-1.6612e-26, device='cuda:0')\n",
      "tensor(1.4945e-26, device='cuda:0') tensor(-1.4950e-26, device='cuda:0')\n"
     ]
    },
    {
     "name": "stderr",
     "output_type": "stream",
     "text": [
      " 71%|███████▏  | 714/1000 [02:07<00:51,  5.58it/s]"
     ]
    },
    {
     "name": "stdout",
     "output_type": "stream",
     "text": [
      "tensor(1.3451e-26, device='cuda:0') tensor(-1.3455e-26, device='cuda:0')\n",
      "tensor(1.2106e-26, device='cuda:0') tensor(-1.2110e-26, device='cuda:0')\n"
     ]
    },
    {
     "name": "stderr",
     "output_type": "stream",
     "text": [
      " 72%|███████▏  | 716/1000 [02:08<00:51,  5.56it/s]"
     ]
    },
    {
     "name": "stdout",
     "output_type": "stream",
     "text": [
      "tensor(1.0895e-26, device='cuda:0') tensor(-1.0899e-26, device='cuda:0')\n",
      "tensor(9.8056e-27, device='cuda:0') tensor(-9.8090e-27, device='cuda:0')\n"
     ]
    },
    {
     "name": "stderr",
     "output_type": "stream",
     "text": [
      " 72%|███████▏  | 718/1000 [02:08<00:51,  5.51it/s]"
     ]
    },
    {
     "name": "stdout",
     "output_type": "stream",
     "text": [
      "tensor(8.8251e-27, device='cuda:0') tensor(-8.8281e-27, device='cuda:0')\n",
      "tensor(7.9426e-27, device='cuda:0') tensor(-7.9453e-27, device='cuda:0')\n"
     ]
    },
    {
     "name": "stderr",
     "output_type": "stream",
     "text": [
      " 72%|███████▏  | 720/1000 [02:09<00:51,  5.45it/s]"
     ]
    },
    {
     "name": "stdout",
     "output_type": "stream",
     "text": [
      "tensor(7.1483e-27, device='cuda:0') tensor(-7.1507e-27, device='cuda:0')\n",
      "280 loss: 0.0031326173339039087\n",
      "tensor(6.4335e-27, device='cuda:0') tensor(-6.4357e-27, device='cuda:0')\n"
     ]
    },
    {
     "name": "stderr",
     "output_type": "stream",
     "text": [
      " 72%|███████▏  | 722/1000 [02:09<00:50,  5.54it/s]"
     ]
    },
    {
     "name": "stdout",
     "output_type": "stream",
     "text": [
      "tensor(5.7901e-27, device='cuda:0') tensor(-5.7921e-27, device='cuda:0')\n",
      "tensor(5.2111e-27, device='cuda:0') tensor(-5.2129e-27, device='cuda:0')\n"
     ]
    },
    {
     "name": "stderr",
     "output_type": "stream",
     "text": [
      " 72%|███████▏  | 724/1000 [02:09<00:49,  5.62it/s]"
     ]
    },
    {
     "name": "stdout",
     "output_type": "stream",
     "text": [
      "tensor(4.6900e-27, device='cuda:0') tensor(-4.6916e-27, device='cuda:0')\n",
      "tensor(4.2210e-27, device='cuda:0') tensor(-4.2224e-27, device='cuda:0')\n"
     ]
    },
    {
     "name": "stderr",
     "output_type": "stream",
     "text": [
      " 73%|███████▎  | 726/1000 [02:10<00:48,  5.69it/s]"
     ]
    },
    {
     "name": "stdout",
     "output_type": "stream",
     "text": [
      "tensor(3.7989e-27, device='cuda:0') tensor(-3.8002e-27, device='cuda:0')\n",
      "tensor(3.4190e-27, device='cuda:0') tensor(-3.4202e-27, device='cuda:0')\n"
     ]
    },
    {
     "name": "stderr",
     "output_type": "stream",
     "text": [
      " 73%|███████▎  | 728/1000 [02:10<00:48,  5.63it/s]"
     ]
    },
    {
     "name": "stdout",
     "output_type": "stream",
     "text": [
      "tensor(3.0771e-27, device='cuda:0') tensor(-3.0782e-27, device='cuda:0')\n",
      "tensor(2.7694e-27, device='cuda:0') tensor(-2.7703e-27, device='cuda:0')\n"
     ]
    },
    {
     "name": "stderr",
     "output_type": "stream",
     "text": [
      " 73%|███████▎  | 730/1000 [02:10<00:47,  5.67it/s]"
     ]
    },
    {
     "name": "stdout",
     "output_type": "stream",
     "text": [
      "tensor(2.4925e-27, device='cuda:0') tensor(-2.4933e-27, device='cuda:0')\n",
      "270 loss: 0.0031326173339039087\n",
      "tensor(2.2432e-27, device='cuda:0') tensor(-2.2440e-27, device='cuda:0')\n"
     ]
    },
    {
     "name": "stderr",
     "output_type": "stream",
     "text": [
      " 73%|███████▎  | 732/1000 [02:11<00:46,  5.73it/s]"
     ]
    },
    {
     "name": "stdout",
     "output_type": "stream",
     "text": [
      "tensor(2.0189e-27, device='cuda:0') tensor(-2.0196e-27, device='cuda:0')\n",
      "tensor(1.8170e-27, device='cuda:0') tensor(-1.8176e-27, device='cuda:0')\n"
     ]
    },
    {
     "name": "stderr",
     "output_type": "stream",
     "text": [
      " 73%|███████▎  | 734/1000 [02:11<00:46,  5.73it/s]"
     ]
    },
    {
     "name": "stdout",
     "output_type": "stream",
     "text": [
      "tensor(1.6353e-27, device='cuda:0') tensor(-1.6359e-27, device='cuda:0')\n",
      "tensor(1.4718e-27, device='cuda:0') tensor(-1.4723e-27, device='cuda:0')\n"
     ]
    },
    {
     "name": "stderr",
     "output_type": "stream",
     "text": [
      " 74%|███████▎  | 736/1000 [02:11<00:45,  5.79it/s]"
     ]
    },
    {
     "name": "stdout",
     "output_type": "stream",
     "text": [
      "tensor(1.3246e-27, device='cuda:0') tensor(-1.3250e-27, device='cuda:0')\n",
      "tensor(1.1921e-27, device='cuda:0') tensor(-1.1925e-27, device='cuda:0')\n"
     ]
    },
    {
     "name": "stderr",
     "output_type": "stream",
     "text": [
      " 74%|███████▍  | 738/1000 [02:12<00:45,  5.72it/s]"
     ]
    },
    {
     "name": "stdout",
     "output_type": "stream",
     "text": [
      "tensor(1.0729e-27, device='cuda:0') tensor(-1.0733e-27, device='cuda:0')\n",
      "tensor(9.6563e-28, device='cuda:0') tensor(-9.6596e-28, device='cuda:0')\n"
     ]
    },
    {
     "name": "stderr",
     "output_type": "stream",
     "text": [
      " 74%|███████▍  | 739/1000 [02:12<00:49,  5.24it/s]"
     ]
    },
    {
     "name": "stdout",
     "output_type": "stream",
     "text": [
      "tensor(8.6907e-28, device='cuda:0') tensor(-8.6936e-28, device='cuda:0')\n"
     ]
    },
    {
     "name": "stderr",
     "output_type": "stream",
     "text": [
      " 74%|███████▍  | 741/1000 [02:12<00:47,  5.51it/s]"
     ]
    },
    {
     "name": "stdout",
     "output_type": "stream",
     "text": [
      "260 loss: 0.0031326173339039087\n",
      "tensor(7.8216e-28, device='cuda:0') tensor(-7.8243e-28, device='cuda:0')\n",
      "tensor(7.0394e-28, device='cuda:0') tensor(-7.0418e-28, device='cuda:0')\n"
     ]
    },
    {
     "name": "stderr",
     "output_type": "stream",
     "text": [
      " 74%|███████▍  | 743/1000 [02:13<00:45,  5.62it/s]"
     ]
    },
    {
     "name": "stdout",
     "output_type": "stream",
     "text": [
      "tensor(6.3355e-28, device='cuda:0') tensor(-6.3376e-28, device='cuda:0')\n",
      "tensor(5.7019e-28, device='cuda:0') tensor(-5.7039e-28, device='cuda:0')\n"
     ]
    },
    {
     "name": "stderr",
     "output_type": "stream",
     "text": [
      " 74%|███████▍  | 745/1000 [02:13<00:44,  5.70it/s]"
     ]
    },
    {
     "name": "stdout",
     "output_type": "stream",
     "text": [
      "tensor(5.1317e-28, device='cuda:0') tensor(-5.1335e-28, device='cuda:0')\n",
      "tensor(4.6186e-28, device='cuda:0') tensor(-4.6201e-28, device='cuda:0')\n"
     ]
    },
    {
     "name": "stderr",
     "output_type": "stream",
     "text": [
      " 75%|███████▍  | 747/1000 [02:13<00:45,  5.58it/s]"
     ]
    },
    {
     "name": "stdout",
     "output_type": "stream",
     "text": [
      "tensor(4.1567e-28, device='cuda:0') tensor(-4.1581e-28, device='cuda:0')\n",
      "tensor(3.7410e-28, device='cuda:0') tensor(-3.7423e-28, device='cuda:0')\n"
     ]
    },
    {
     "name": "stderr",
     "output_type": "stream",
     "text": [
      " 75%|███████▍  | 749/1000 [02:14<00:44,  5.58it/s]"
     ]
    },
    {
     "name": "stdout",
     "output_type": "stream",
     "text": [
      "tensor(3.3669e-28, device='cuda:0') tensor(-3.3681e-28, device='cuda:0')\n",
      "tensor(3.0302e-28, device='cuda:0') tensor(-3.0313e-28, device='cuda:0')\n"
     ]
    },
    {
     "name": "stderr",
     "output_type": "stream",
     "text": [
      " 75%|███████▌  | 751/1000 [02:14<00:44,  5.62it/s]"
     ]
    },
    {
     "name": "stdout",
     "output_type": "stream",
     "text": [
      "250 loss: 0.0031326173339039087\n",
      "tensor(2.7272e-28, device='cuda:0') tensor(-2.7281e-28, device='cuda:0')\n",
      "tensor(2.4545e-28, device='cuda:0') tensor(-2.4553e-28, device='cuda:0')\n"
     ]
    },
    {
     "name": "stderr",
     "output_type": "stream",
     "text": [
      " 75%|███████▌  | 753/1000 [02:14<00:43,  5.67it/s]"
     ]
    },
    {
     "name": "stdout",
     "output_type": "stream",
     "text": [
      "tensor(2.2090e-28, device='cuda:0') tensor(-2.2098e-28, device='cuda:0')\n",
      "tensor(1.9881e-28, device='cuda:0') tensor(-1.9888e-28, device='cuda:0')\n"
     ]
    },
    {
     "name": "stderr",
     "output_type": "stream",
     "text": [
      " 76%|███████▌  | 755/1000 [02:15<00:42,  5.75it/s]"
     ]
    },
    {
     "name": "stdout",
     "output_type": "stream",
     "text": [
      "tensor(1.7893e-28, device='cuda:0') tensor(-1.7899e-28, device='cuda:0')\n",
      "tensor(1.6104e-28, device='cuda:0') tensor(-1.6109e-28, device='cuda:0')\n"
     ]
    },
    {
     "name": "stderr",
     "output_type": "stream",
     "text": [
      " 76%|███████▌  | 757/1000 [02:15<00:42,  5.67it/s]"
     ]
    },
    {
     "name": "stdout",
     "output_type": "stream",
     "text": [
      "tensor(1.4494e-28, device='cuda:0') tensor(-1.4498e-28, device='cuda:0')\n",
      "tensor(1.3044e-28, device='cuda:0') tensor(-1.3049e-28, device='cuda:0')\n"
     ]
    },
    {
     "name": "stderr",
     "output_type": "stream",
     "text": [
      " 76%|███████▌  | 759/1000 [02:15<00:43,  5.56it/s]"
     ]
    },
    {
     "name": "stdout",
     "output_type": "stream",
     "text": [
      "tensor(1.1740e-28, device='cuda:0') tensor(-1.1744e-28, device='cuda:0')\n",
      "tensor(1.0566e-28, device='cuda:0') tensor(-1.0569e-28, device='cuda:0')\n"
     ]
    },
    {
     "name": "stderr",
     "output_type": "stream",
     "text": [
      " 76%|███████▌  | 761/1000 [02:16<00:43,  5.48it/s]"
     ]
    },
    {
     "name": "stdout",
     "output_type": "stream",
     "text": [
      "240 loss: 0.0031326173339039087\n",
      "tensor(9.5092e-29, device='cuda:0') tensor(-9.5125e-29, device='cuda:0')\n",
      "tensor(8.5583e-29, device='cuda:0') tensor(-8.5612e-29, device='cuda:0')\n"
     ]
    },
    {
     "name": "stderr",
     "output_type": "stream",
     "text": [
      " 76%|███████▋  | 763/1000 [02:16<00:42,  5.53it/s]"
     ]
    },
    {
     "name": "stdout",
     "output_type": "stream",
     "text": [
      "tensor(7.7025e-29, device='cuda:0') tensor(-7.7051e-29, device='cuda:0')\n",
      "tensor(6.9322e-29, device='cuda:0') tensor(-6.9346e-29, device='cuda:0')\n"
     ]
    },
    {
     "name": "stderr",
     "output_type": "stream",
     "text": [
      " 76%|███████▋  | 765/1000 [02:17<00:42,  5.54it/s]"
     ]
    },
    {
     "name": "stdout",
     "output_type": "stream",
     "text": [
      "tensor(6.2390e-29, device='cuda:0') tensor(-6.2411e-29, device='cuda:0')\n",
      "tensor(5.6151e-29, device='cuda:0') tensor(-5.6170e-29, device='cuda:0')\n"
     ]
    },
    {
     "name": "stderr",
     "output_type": "stream",
     "text": [
      " 77%|███████▋  | 767/1000 [02:17<00:42,  5.52it/s]"
     ]
    },
    {
     "name": "stdout",
     "output_type": "stream",
     "text": [
      "tensor(5.0536e-29, device='cuda:0') tensor(-5.0553e-29, device='cuda:0')\n",
      "tensor(4.5482e-29, device='cuda:0') tensor(-4.5498e-29, device='cuda:0')\n"
     ]
    },
    {
     "name": "stderr",
     "output_type": "stream",
     "text": [
      " 77%|███████▋  | 769/1000 [02:17<00:41,  5.53it/s]"
     ]
    },
    {
     "name": "stdout",
     "output_type": "stream",
     "text": [
      "tensor(4.0934e-29, device='cuda:0') tensor(-4.0948e-29, device='cuda:0')\n",
      "tensor(3.6841e-29, device='cuda:0') tensor(-3.6853e-29, device='cuda:0')\n"
     ]
    },
    {
     "name": "stderr",
     "output_type": "stream",
     "text": [
      " 77%|███████▋  | 771/1000 [02:18<00:41,  5.55it/s]"
     ]
    },
    {
     "name": "stdout",
     "output_type": "stream",
     "text": [
      "230 loss: 0.0031326173339039087\n",
      "tensor(3.3157e-29, device='cuda:0') tensor(-3.3168e-29, device='cuda:0')\n",
      "tensor(2.9841e-29, device='cuda:0') tensor(-2.9851e-29, device='cuda:0')\n"
     ]
    },
    {
     "name": "stderr",
     "output_type": "stream",
     "text": [
      " 77%|███████▋  | 773/1000 [02:18<00:41,  5.53it/s]"
     ]
    },
    {
     "name": "stdout",
     "output_type": "stream",
     "text": [
      "tensor(2.6857e-29, device='cuda:0') tensor(-2.6866e-29, device='cuda:0')\n",
      "tensor(2.4171e-29, device='cuda:0') tensor(-2.4179e-29, device='cuda:0')\n"
     ]
    },
    {
     "name": "stderr",
     "output_type": "stream",
     "text": [
      " 78%|███████▊  | 775/1000 [02:18<00:39,  5.65it/s]"
     ]
    },
    {
     "name": "stdout",
     "output_type": "stream",
     "text": [
      "tensor(2.1754e-29, device='cuda:0') tensor(-2.1761e-29, device='cuda:0')\n",
      "tensor(1.9579e-29, device='cuda:0') tensor(-1.9585e-29, device='cuda:0')\n"
     ]
    },
    {
     "name": "stderr",
     "output_type": "stream",
     "text": [
      " 78%|███████▊  | 777/1000 [02:19<00:39,  5.66it/s]"
     ]
    },
    {
     "name": "stdout",
     "output_type": "stream",
     "text": [
      "tensor(1.7621e-29, device='cuda:0') tensor(-1.7627e-29, device='cuda:0')\n",
      "tensor(1.5859e-29, device='cuda:0') tensor(-1.5864e-29, device='cuda:0')\n"
     ]
    },
    {
     "name": "stderr",
     "output_type": "stream",
     "text": [
      " 78%|███████▊  | 779/1000 [02:19<00:38,  5.72it/s]"
     ]
    },
    {
     "name": "stdout",
     "output_type": "stream",
     "text": [
      "tensor(1.4273e-29, device='cuda:0') tensor(-1.4278e-29, device='cuda:0')\n",
      "tensor(1.2846e-29, device='cuda:0') tensor(-1.2850e-29, device='cuda:0')\n"
     ]
    },
    {
     "name": "stderr",
     "output_type": "stream",
     "text": [
      " 78%|███████▊  | 781/1000 [02:19<00:38,  5.63it/s]"
     ]
    },
    {
     "name": "stdout",
     "output_type": "stream",
     "text": [
      "220 loss: 0.0031326173339039087\n",
      "tensor(1.1561e-29, device='cuda:0') tensor(-1.1565e-29, device='cuda:0')\n",
      "tensor(1.0405e-29, device='cuda:0') tensor(-1.0408e-29, device='cuda:0')\n"
     ]
    },
    {
     "name": "stderr",
     "output_type": "stream",
     "text": [
      " 78%|███████▊  | 783/1000 [02:20<00:37,  5.72it/s]"
     ]
    },
    {
     "name": "stdout",
     "output_type": "stream",
     "text": [
      "tensor(9.3644e-30, device='cuda:0') tensor(-9.3676e-30, device='cuda:0')\n",
      "tensor(8.4280e-30, device='cuda:0') tensor(-8.4308e-30, device='cuda:0')\n"
     ]
    },
    {
     "name": "stderr",
     "output_type": "stream",
     "text": [
      " 78%|███████▊  | 785/1000 [02:20<00:38,  5.59it/s]"
     ]
    },
    {
     "name": "stdout",
     "output_type": "stream",
     "text": [
      "tensor(7.5852e-30, device='cuda:0') tensor(-7.5877e-30, device='cuda:0')\n",
      "tensor(6.8266e-30, device='cuda:0') tensor(-6.8290e-30, device='cuda:0')\n"
     ]
    },
    {
     "name": "stderr",
     "output_type": "stream",
     "text": [
      " 79%|███████▊  | 787/1000 [02:20<00:37,  5.63it/s]"
     ]
    },
    {
     "name": "stdout",
     "output_type": "stream",
     "text": [
      "tensor(6.1440e-30, device='cuda:0') tensor(-6.1461e-30, device='cuda:0')\n",
      "tensor(5.5296e-30, device='cuda:0') tensor(-5.5315e-30, device='cuda:0')\n"
     ]
    },
    {
     "name": "stderr",
     "output_type": "stream",
     "text": [
      " 79%|███████▉  | 789/1000 [02:21<00:37,  5.68it/s]"
     ]
    },
    {
     "name": "stdout",
     "output_type": "stream",
     "text": [
      "tensor(4.9766e-30, device='cuda:0') tensor(-4.9783e-30, device='cuda:0')\n",
      "tensor(4.4790e-30, device='cuda:0') tensor(-4.4805e-30, device='cuda:0')\n"
     ]
    },
    {
     "name": "stderr",
     "output_type": "stream",
     "text": [
      " 79%|███████▉  | 791/1000 [02:21<00:36,  5.77it/s]"
     ]
    },
    {
     "name": "stdout",
     "output_type": "stream",
     "text": [
      "210 loss: 0.0031326173339039087\n",
      "tensor(4.0311e-30, device='cuda:0') tensor(-4.0324e-30, device='cuda:0')\n",
      "tensor(3.6280e-30, device='cuda:0') tensor(-3.6292e-30, device='cuda:0')\n"
     ]
    },
    {
     "name": "stderr",
     "output_type": "stream",
     "text": [
      " 79%|███████▉  | 793/1000 [02:22<00:36,  5.67it/s]"
     ]
    },
    {
     "name": "stdout",
     "output_type": "stream",
     "text": [
      "tensor(3.2652e-30, device='cuda:0') tensor(-3.2663e-30, device='cuda:0')\n",
      "tensor(2.9386e-30, device='cuda:0') tensor(-2.9396e-30, device='cuda:0')\n"
     ]
    },
    {
     "name": "stderr",
     "output_type": "stream",
     "text": [
      " 80%|███████▉  | 795/1000 [02:22<00:36,  5.61it/s]"
     ]
    },
    {
     "name": "stdout",
     "output_type": "stream",
     "text": [
      "tensor(2.6448e-30, device='cuda:0') tensor(-2.6457e-30, device='cuda:0')\n",
      "tensor(2.3803e-30, device='cuda:0') tensor(-2.3811e-30, device='cuda:0')\n"
     ]
    },
    {
     "name": "stderr",
     "output_type": "stream",
     "text": [
      " 80%|███████▉  | 797/1000 [02:22<00:36,  5.63it/s]"
     ]
    },
    {
     "name": "stdout",
     "output_type": "stream",
     "text": [
      "tensor(2.1423e-30, device='cuda:0') tensor(-2.1430e-30, device='cuda:0')\n",
      "tensor(1.9280e-30, device='cuda:0') tensor(-1.9287e-30, device='cuda:0')\n"
     ]
    },
    {
     "name": "stderr",
     "output_type": "stream",
     "text": [
      " 80%|███████▉  | 799/1000 [02:23<00:35,  5.68it/s]"
     ]
    },
    {
     "name": "stdout",
     "output_type": "stream",
     "text": [
      "tensor(1.7352e-30, device='cuda:0') tensor(-1.7358e-30, device='cuda:0')\n",
      "tensor(1.5617e-30, device='cuda:0') tensor(-1.5622e-30, device='cuda:0')\n"
     ]
    },
    {
     "name": "stderr",
     "output_type": "stream",
     "text": [
      " 80%|████████  | 801/1000 [02:23<00:35,  5.67it/s]"
     ]
    },
    {
     "name": "stdout",
     "output_type": "stream",
     "text": [
      "200 loss: 0.0031326173339039087\n",
      "tensor(1.4055e-30, device='cuda:0') tensor(-1.4060e-30, device='cuda:0')\n",
      "tensor(1.2650e-30, device='cuda:0') tensor(-1.2654e-30, device='cuda:0')\n"
     ]
    },
    {
     "name": "stderr",
     "output_type": "stream",
     "text": [
      " 80%|████████  | 803/1000 [02:23<00:35,  5.61it/s]"
     ]
    },
    {
     "name": "stdout",
     "output_type": "stream",
     "text": [
      "tensor(1.1385e-30, device='cuda:0') tensor(-1.1389e-30, device='cuda:0')\n",
      "tensor(1.0246e-30, device='cuda:0') tensor(-1.0250e-30, device='cuda:0')\n"
     ]
    },
    {
     "name": "stderr",
     "output_type": "stream",
     "text": [
      " 80%|████████  | 805/1000 [02:24<00:35,  5.56it/s]"
     ]
    },
    {
     "name": "stdout",
     "output_type": "stream",
     "text": [
      "tensor(9.2218e-31, device='cuda:0') tensor(-9.2249e-31, device='cuda:0')\n",
      "tensor(8.2996e-31, device='cuda:0') tensor(-8.3024e-31, device='cuda:0')\n"
     ]
    },
    {
     "name": "stderr",
     "output_type": "stream",
     "text": [
      " 81%|████████  | 807/1000 [02:24<00:34,  5.57it/s]"
     ]
    },
    {
     "name": "stdout",
     "output_type": "stream",
     "text": [
      "tensor(7.4696e-31, device='cuda:0') tensor(-7.4722e-31, device='cuda:0')\n",
      "tensor(6.7227e-31, device='cuda:0') tensor(-6.7250e-31, device='cuda:0')\n"
     ]
    },
    {
     "name": "stderr",
     "output_type": "stream",
     "text": [
      " 81%|████████  | 809/1000 [02:24<00:34,  5.59it/s]"
     ]
    },
    {
     "name": "stdout",
     "output_type": "stream",
     "text": [
      "tensor(6.0504e-31, device='cuda:0') tensor(-6.0525e-31, device='cuda:0')\n",
      "tensor(5.4454e-31, device='cuda:0') tensor(-5.4472e-31, device='cuda:0')\n"
     ]
    },
    {
     "name": "stderr",
     "output_type": "stream",
     "text": [
      " 81%|████████  | 811/1000 [02:25<00:34,  5.56it/s]"
     ]
    },
    {
     "name": "stdout",
     "output_type": "stream",
     "text": [
      "190 loss: 0.0031326173339039087\n",
      "tensor(4.9008e-31, device='cuda:0') tensor(-4.9025e-31, device='cuda:0')\n",
      "tensor(4.4108e-31, device='cuda:0') tensor(-4.4123e-31, device='cuda:0')\n"
     ]
    },
    {
     "name": "stderr",
     "output_type": "stream",
     "text": [
      " 81%|████████▏ | 813/1000 [02:25<00:33,  5.51it/s]"
     ]
    },
    {
     "name": "stdout",
     "output_type": "stream",
     "text": [
      "tensor(3.9697e-31, device='cuda:0') tensor(-3.9710e-31, device='cuda:0')\n",
      "tensor(3.5727e-31, device='cuda:0') tensor(-3.5739e-31, device='cuda:0')\n"
     ]
    },
    {
     "name": "stderr",
     "output_type": "stream",
     "text": [
      " 82%|████████▏ | 815/1000 [02:25<00:33,  5.51it/s]"
     ]
    },
    {
     "name": "stdout",
     "output_type": "stream",
     "text": [
      "tensor(3.2154e-31, device='cuda:0') tensor(-3.2165e-31, device='cuda:0')\n",
      "tensor(2.8939e-31, device='cuda:0') tensor(-2.8949e-31, device='cuda:0')\n"
     ]
    },
    {
     "name": "stderr",
     "output_type": "stream",
     "text": [
      " 82%|████████▏ | 817/1000 [02:26<00:33,  5.52it/s]"
     ]
    },
    {
     "name": "stdout",
     "output_type": "stream",
     "text": [
      "tensor(2.6045e-31, device='cuda:0') tensor(-2.6054e-31, device='cuda:0')\n",
      "tensor(2.3441e-31, device='cuda:0') tensor(-2.3449e-31, device='cuda:0')\n"
     ]
    },
    {
     "name": "stderr",
     "output_type": "stream",
     "text": [
      " 82%|████████▏ | 819/1000 [02:26<00:32,  5.57it/s]"
     ]
    },
    {
     "name": "stdout",
     "output_type": "stream",
     "text": [
      "tensor(2.1096e-31, device='cuda:0') tensor(-2.1104e-31, device='cuda:0')\n",
      "tensor(1.8987e-31, device='cuda:0') tensor(-1.8993e-31, device='cuda:0')\n"
     ]
    },
    {
     "name": "stderr",
     "output_type": "stream",
     "text": [
      " 82%|████████▏ | 821/1000 [02:27<00:32,  5.54it/s]"
     ]
    },
    {
     "name": "stdout",
     "output_type": "stream",
     "text": [
      "180 loss: 0.0031326173339039087\n",
      "tensor(1.7088e-31, device='cuda:0') tensor(-1.7094e-31, device='cuda:0')\n",
      "tensor(1.5379e-31, device='cuda:0') tensor(-1.5385e-31, device='cuda:0')\n"
     ]
    },
    {
     "name": "stderr",
     "output_type": "stream",
     "text": [
      " 82%|████████▏ | 823/1000 [02:27<00:32,  5.52it/s]"
     ]
    },
    {
     "name": "stdout",
     "output_type": "stream",
     "text": [
      "tensor(1.3841e-31, device='cuda:0') tensor(-1.3846e-31, device='cuda:0')\n",
      "tensor(1.2457e-31, device='cuda:0') tensor(-1.2461e-31, device='cuda:0')\n"
     ]
    },
    {
     "name": "stderr",
     "output_type": "stream",
     "text": [
      " 82%|████████▎ | 825/1000 [02:27<00:31,  5.53it/s]"
     ]
    },
    {
     "name": "stdout",
     "output_type": "stream",
     "text": [
      "tensor(1.1212e-31, device='cuda:0') tensor(-1.1215e-31, device='cuda:0')\n",
      "tensor(1.0090e-31, device='cuda:0') tensor(-1.0094e-31, device='cuda:0')\n"
     ]
    },
    {
     "name": "stderr",
     "output_type": "stream",
     "text": [
      " 83%|████████▎ | 827/1000 [02:28<00:31,  5.57it/s]"
     ]
    },
    {
     "name": "stdout",
     "output_type": "stream",
     "text": [
      "tensor(9.0813e-32, device='cuda:0') tensor(-9.0844e-32, device='cuda:0')\n",
      "tensor(8.1732e-32, device='cuda:0') tensor(-8.1760e-32, device='cuda:0')\n"
     ]
    },
    {
     "name": "stderr",
     "output_type": "stream",
     "text": [
      " 83%|████████▎ | 829/1000 [02:28<00:30,  5.56it/s]"
     ]
    },
    {
     "name": "stdout",
     "output_type": "stream",
     "text": [
      "tensor(7.3559e-32, device='cuda:0') tensor(-7.3584e-32, device='cuda:0')\n",
      "tensor(6.6203e-32, device='cuda:0') tensor(-6.6225e-32, device='cuda:0')\n"
     ]
    },
    {
     "name": "stderr",
     "output_type": "stream",
     "text": [
      " 83%|████████▎ | 831/1000 [02:28<00:30,  5.53it/s]"
     ]
    },
    {
     "name": "stdout",
     "output_type": "stream",
     "text": [
      "170 loss: 0.0031326173339039087\n",
      "tensor(5.9583e-32, device='cuda:0') tensor(-5.9603e-32, device='cuda:0')\n",
      "tensor(5.3624e-32, device='cuda:0') tensor(-5.3643e-32, device='cuda:0')\n"
     ]
    },
    {
     "name": "stderr",
     "output_type": "stream",
     "text": [
      " 83%|████████▎ | 833/1000 [02:29<00:30,  5.48it/s]"
     ]
    },
    {
     "name": "stdout",
     "output_type": "stream",
     "text": [
      "tensor(4.8262e-32, device='cuda:0') tensor(-4.8278e-32, device='cuda:0')\n",
      "tensor(4.3436e-32, device='cuda:0') tensor(-4.3451e-32, device='cuda:0')\n"
     ]
    },
    {
     "name": "stderr",
     "output_type": "stream",
     "text": [
      " 84%|████████▎ | 835/1000 [02:29<00:30,  5.45it/s]"
     ]
    },
    {
     "name": "stdout",
     "output_type": "stream",
     "text": [
      "tensor(3.9092e-32, device='cuda:0') tensor(-3.9105e-32, device='cuda:0')\n",
      "tensor(3.5183e-32, device='cuda:0') tensor(-3.5195e-32, device='cuda:0')\n"
     ]
    },
    {
     "name": "stderr",
     "output_type": "stream",
     "text": [
      " 84%|████████▎ | 837/1000 [02:29<00:29,  5.52it/s]"
     ]
    },
    {
     "name": "stdout",
     "output_type": "stream",
     "text": [
      "tensor(3.1665e-32, device='cuda:0') tensor(-3.1675e-32, device='cuda:0')\n",
      "tensor(2.8498e-32, device='cuda:0') tensor(-2.8508e-32, device='cuda:0')\n"
     ]
    },
    {
     "name": "stderr",
     "output_type": "stream",
     "text": [
      " 84%|████████▍ | 839/1000 [02:30<00:28,  5.56it/s]"
     ]
    },
    {
     "name": "stdout",
     "output_type": "stream",
     "text": [
      "tensor(2.5648e-32, device='cuda:0') tensor(-2.5657e-32, device='cuda:0')\n",
      "tensor(2.3084e-32, device='cuda:0') tensor(-2.3091e-32, device='cuda:0')\n"
     ]
    },
    {
     "name": "stderr",
     "output_type": "stream",
     "text": [
      " 84%|████████▍ | 841/1000 [02:30<00:28,  5.53it/s]"
     ]
    },
    {
     "name": "stdout",
     "output_type": "stream",
     "text": [
      "160 loss: 0.0031326173339039087\n",
      "tensor(2.0775e-32, device='cuda:0') tensor(-2.0782e-32, device='cuda:0')\n",
      "tensor(1.8698e-32, device='cuda:0') tensor(-1.8704e-32, device='cuda:0')\n"
     ]
    },
    {
     "name": "stderr",
     "output_type": "stream",
     "text": [
      " 84%|████████▍ | 843/1000 [02:31<00:28,  5.52it/s]"
     ]
    },
    {
     "name": "stdout",
     "output_type": "stream",
     "text": [
      "tensor(1.6828e-32, device='cuda:0') tensor(-1.6834e-32, device='cuda:0')\n",
      "tensor(1.5145e-32, device='cuda:0') tensor(-1.5150e-32, device='cuda:0')\n"
     ]
    },
    {
     "name": "stderr",
     "output_type": "stream",
     "text": [
      " 84%|████████▍ | 845/1000 [02:31<00:27,  5.57it/s]"
     ]
    },
    {
     "name": "stdout",
     "output_type": "stream",
     "text": [
      "tensor(1.3631e-32, device='cuda:0') tensor(-1.3635e-32, device='cuda:0')\n",
      "tensor(1.2268e-32, device='cuda:0') tensor(-1.2272e-32, device='cuda:0')\n"
     ]
    },
    {
     "name": "stderr",
     "output_type": "stream",
     "text": [
      " 85%|████████▍ | 847/1000 [02:31<00:27,  5.51it/s]"
     ]
    },
    {
     "name": "stdout",
     "output_type": "stream",
     "text": [
      "tensor(1.1041e-32, device='cuda:0') tensor(-1.1045e-32, device='cuda:0')\n",
      "tensor(9.9367e-33, device='cuda:0') tensor(-9.9401e-33, device='cuda:0')\n"
     ]
    },
    {
     "name": "stderr",
     "output_type": "stream",
     "text": [
      " 85%|████████▍ | 849/1000 [02:32<00:27,  5.56it/s]"
     ]
    },
    {
     "name": "stdout",
     "output_type": "stream",
     "text": [
      "tensor(8.9430e-33, device='cuda:0') tensor(-8.9461e-33, device='cuda:0')\n",
      "tensor(8.0487e-33, device='cuda:0') tensor(-8.0515e-33, device='cuda:0')\n"
     ]
    },
    {
     "name": "stderr",
     "output_type": "stream",
     "text": [
      " 85%|████████▌ | 851/1000 [02:32<00:26,  5.55it/s]"
     ]
    },
    {
     "name": "stdout",
     "output_type": "stream",
     "text": [
      "150 loss: 0.0031326173339039087\n",
      "tensor(7.2439e-33, device='cuda:0') tensor(-7.2463e-33, device='cuda:0')\n",
      "tensor(6.5195e-33, device='cuda:0') tensor(-6.5217e-33, device='cuda:0')\n"
     ]
    },
    {
     "name": "stderr",
     "output_type": "stream",
     "text": [
      " 85%|████████▌ | 853/1000 [02:32<00:26,  5.56it/s]"
     ]
    },
    {
     "name": "stdout",
     "output_type": "stream",
     "text": [
      "tensor(5.8675e-33, device='cuda:0') tensor(-5.8695e-33, device='cuda:0')\n",
      "tensor(5.2808e-33, device='cuda:0') tensor(-5.2826e-33, device='cuda:0')\n"
     ]
    },
    {
     "name": "stderr",
     "output_type": "stream",
     "text": [
      " 86%|████████▌ | 855/1000 [02:33<00:26,  5.57it/s]"
     ]
    },
    {
     "name": "stdout",
     "output_type": "stream",
     "text": [
      "tensor(4.7527e-33, device='cuda:0') tensor(-4.7543e-33, device='cuda:0')\n",
      "tensor(4.2774e-33, device='cuda:0') tensor(-4.2789e-33, device='cuda:0')\n"
     ]
    },
    {
     "name": "stderr",
     "output_type": "stream",
     "text": [
      " 86%|████████▌ | 856/1000 [02:33<00:26,  5.53it/s]"
     ]
    },
    {
     "name": "stdout",
     "output_type": "stream",
     "text": [
      "tensor(3.8497e-33, device='cuda:0') tensor(-3.8510e-33, device='cuda:0')\n",
      "tensor(3.4647e-33, device='cuda:0') tensor(-3.4659e-33, device='cuda:0')\n"
     ]
    },
    {
     "name": "stderr",
     "output_type": "stream",
     "text": [
      " 86%|████████▌ | 859/1000 [02:33<00:25,  5.46it/s]"
     ]
    },
    {
     "name": "stdout",
     "output_type": "stream",
     "text": [
      "tensor(3.1182e-33, device='cuda:0') tensor(-3.1193e-33, device='cuda:0')\n",
      "tensor(2.8064e-33, device='cuda:0') tensor(-2.8074e-33, device='cuda:0')\n"
     ]
    },
    {
     "name": "stderr",
     "output_type": "stream",
     "text": [
      " 86%|████████▌ | 861/1000 [02:34<00:25,  5.45it/s]"
     ]
    },
    {
     "name": "stdout",
     "output_type": "stream",
     "text": [
      "140 loss: 0.0031326173339039087\n",
      "tensor(2.5258e-33, device='cuda:0') tensor(-2.5266e-33, device='cuda:0')\n",
      "tensor(2.2732e-33, device='cuda:0') tensor(-2.2740e-33, device='cuda:0')\n"
     ]
    },
    {
     "name": "stderr",
     "output_type": "stream",
     "text": [
      " 86%|████████▋ | 863/1000 [02:34<00:25,  5.46it/s]"
     ]
    },
    {
     "name": "stdout",
     "output_type": "stream",
     "text": [
      "tensor(2.0459e-33, device='cuda:0') tensor(-2.0466e-33, device='cuda:0')\n",
      "tensor(1.8413e-33, device='cuda:0') tensor(-1.8419e-33, device='cuda:0')\n"
     ]
    },
    {
     "name": "stderr",
     "output_type": "stream",
     "text": [
      " 86%|████████▋ | 865/1000 [02:35<00:24,  5.43it/s]"
     ]
    },
    {
     "name": "stdout",
     "output_type": "stream",
     "text": [
      "tensor(1.6572e-33, device='cuda:0') tensor(-1.6577e-33, device='cuda:0')\n",
      "tensor(1.4914e-33, device='cuda:0') tensor(-1.4920e-33, device='cuda:0')\n"
     ]
    },
    {
     "name": "stderr",
     "output_type": "stream",
     "text": [
      " 87%|████████▋ | 867/1000 [02:35<00:24,  5.45it/s]"
     ]
    },
    {
     "name": "stdout",
     "output_type": "stream",
     "text": [
      "tensor(1.3423e-33, device='cuda:0') tensor(-1.3428e-33, device='cuda:0')\n",
      "tensor(1.2081e-33, device='cuda:0') tensor(-1.2085e-33, device='cuda:0')\n"
     ]
    },
    {
     "name": "stderr",
     "output_type": "stream",
     "text": [
      " 87%|████████▋ | 869/1000 [02:35<00:23,  5.50it/s]"
     ]
    },
    {
     "name": "stdout",
     "output_type": "stream",
     "text": [
      "tensor(1.0873e-33, device='cuda:0') tensor(-1.0876e-33, device='cuda:0')\n",
      "tensor(9.7854e-34, device='cuda:0') tensor(-9.7887e-34, device='cuda:0')\n"
     ]
    },
    {
     "name": "stderr",
     "output_type": "stream",
     "text": [
      " 87%|████████▋ | 871/1000 [02:36<00:23,  5.50it/s]"
     ]
    },
    {
     "name": "stdout",
     "output_type": "stream",
     "text": [
      "130 loss: 0.0031326173339039087\n",
      "tensor(8.8068e-34, device='cuda:0') tensor(-8.8098e-34, device='cuda:0')\n",
      "tensor(7.9262e-34, device='cuda:0') tensor(-7.9288e-34, device='cuda:0')\n"
     ]
    },
    {
     "name": "stderr",
     "output_type": "stream",
     "text": [
      " 87%|████████▋ | 873/1000 [02:36<00:23,  5.51it/s]"
     ]
    },
    {
     "name": "stdout",
     "output_type": "stream",
     "text": [
      "tensor(7.1335e-34, device='cuda:0') tensor(-7.1360e-34, device='cuda:0')\n",
      "tensor(6.4202e-34, device='cuda:0') tensor(-6.4224e-34, device='cuda:0')\n"
     ]
    },
    {
     "name": "stderr",
     "output_type": "stream",
     "text": [
      " 88%|████████▊ | 875/1000 [02:36<00:22,  5.49it/s]"
     ]
    },
    {
     "name": "stdout",
     "output_type": "stream",
     "text": [
      "tensor(5.7782e-34, device='cuda:0') tensor(-5.7801e-34, device='cuda:0')\n",
      "tensor(5.2003e-34, device='cuda:0') tensor(-5.2021e-34, device='cuda:0')\n"
     ]
    },
    {
     "name": "stderr",
     "output_type": "stream",
     "text": [
      " 88%|████████▊ | 877/1000 [02:37<00:22,  5.48it/s]"
     ]
    },
    {
     "name": "stdout",
     "output_type": "stream",
     "text": [
      "tensor(4.6803e-34, device='cuda:0') tensor(-4.6819e-34, device='cuda:0')\n",
      "tensor(4.2123e-34, device='cuda:0') tensor(-4.2137e-34, device='cuda:0')\n"
     ]
    },
    {
     "name": "stderr",
     "output_type": "stream",
     "text": [
      " 88%|████████▊ | 879/1000 [02:37<00:22,  5.47it/s]"
     ]
    },
    {
     "name": "stdout",
     "output_type": "stream",
     "text": [
      "tensor(3.7911e-34, device='cuda:0') tensor(-3.7923e-34, device='cuda:0')\n",
      "tensor(3.4119e-34, device='cuda:0') tensor(-3.4131e-34, device='cuda:0')\n"
     ]
    },
    {
     "name": "stderr",
     "output_type": "stream",
     "text": [
      " 88%|████████▊ | 881/1000 [02:37<00:21,  5.47it/s]"
     ]
    },
    {
     "name": "stdout",
     "output_type": "stream",
     "text": [
      "120 loss: 0.0031326173339039087\n",
      "tensor(3.0708e-34, device='cuda:0') tensor(-3.0718e-34, device='cuda:0')\n",
      "tensor(2.7637e-34, device='cuda:0') tensor(-2.7646e-34, device='cuda:0')\n"
     ]
    },
    {
     "name": "stderr",
     "output_type": "stream",
     "text": [
      " 88%|████████▊ | 883/1000 [02:38<00:21,  5.52it/s]"
     ]
    },
    {
     "name": "stdout",
     "output_type": "stream",
     "text": [
      "tensor(2.4873e-34, device='cuda:0') tensor(-2.4882e-34, device='cuda:0')\n",
      "tensor(2.2386e-34, device='cuda:0') tensor(-2.2393e-34, device='cuda:0')\n"
     ]
    },
    {
     "name": "stderr",
     "output_type": "stream",
     "text": [
      " 88%|████████▊ | 885/1000 [02:38<00:20,  5.53it/s]"
     ]
    },
    {
     "name": "stdout",
     "output_type": "stream",
     "text": [
      "tensor(2.0147e-34, device='cuda:0') tensor(-2.0154e-34, device='cuda:0')\n",
      "tensor(1.8132e-34, device='cuda:0') tensor(-1.8139e-34, device='cuda:0')\n"
     ]
    },
    {
     "name": "stderr",
     "output_type": "stream",
     "text": [
      " 89%|████████▊ | 887/1000 [02:39<00:20,  5.50it/s]"
     ]
    },
    {
     "name": "stdout",
     "output_type": "stream",
     "text": [
      "tensor(1.6319e-34, device='cuda:0') tensor(-1.6325e-34, device='cuda:0')\n",
      "tensor(1.4687e-34, device='cuda:0') tensor(-1.4692e-34, device='cuda:0')\n"
     ]
    },
    {
     "name": "stderr",
     "output_type": "stream",
     "text": [
      " 89%|████████▉ | 889/1000 [02:39<00:20,  5.51it/s]"
     ]
    },
    {
     "name": "stdout",
     "output_type": "stream",
     "text": [
      "tensor(1.3219e-34, device='cuda:0') tensor(-1.3223e-34, device='cuda:0')\n",
      "tensor(1.1897e-34, device='cuda:0') tensor(-1.1901e-34, device='cuda:0')\n"
     ]
    },
    {
     "name": "stderr",
     "output_type": "stream",
     "text": [
      " 89%|████████▉ | 891/1000 [02:39<00:19,  5.53it/s]"
     ]
    },
    {
     "name": "stdout",
     "output_type": "stream",
     "text": [
      "110 loss: 0.0031326173339039087\n",
      "tensor(1.0707e-34, device='cuda:0') tensor(-1.0711e-34, device='cuda:0')\n",
      "tensor(9.6363e-35, device='cuda:0') tensor(-9.6396e-35, device='cuda:0')\n"
     ]
    },
    {
     "name": "stderr",
     "output_type": "stream",
     "text": [
      " 89%|████████▉ | 893/1000 [02:40<00:19,  5.55it/s]"
     ]
    },
    {
     "name": "stdout",
     "output_type": "stream",
     "text": [
      "tensor(8.6727e-35, device='cuda:0') tensor(-8.6757e-35, device='cuda:0')\n",
      "tensor(7.8054e-35, device='cuda:0') tensor(-7.8081e-35, device='cuda:0')\n"
     ]
    },
    {
     "name": "stderr",
     "output_type": "stream",
     "text": [
      " 90%|████████▉ | 895/1000 [02:40<00:18,  5.54it/s]"
     ]
    },
    {
     "name": "stdout",
     "output_type": "stream",
     "text": [
      "tensor(7.0249e-35, device='cuda:0') tensor(-7.0273e-35, device='cuda:0')\n",
      "tensor(6.3224e-35, device='cuda:0') tensor(-6.3246e-35, device='cuda:0')\n"
     ]
    },
    {
     "name": "stderr",
     "output_type": "stream",
     "text": [
      " 90%|████████▉ | 897/1000 [02:40<00:18,  5.52it/s]"
     ]
    },
    {
     "name": "stdout",
     "output_type": "stream",
     "text": [
      "tensor(5.6902e-35, device='cuda:0') tensor(-5.6921e-35, device='cuda:0')\n",
      "tensor(5.1211e-35, device='cuda:0') tensor(-5.1229e-35, device='cuda:0')\n"
     ]
    },
    {
     "name": "stderr",
     "output_type": "stream",
     "text": [
      " 90%|████████▉ | 899/1000 [02:41<00:18,  5.49it/s]"
     ]
    },
    {
     "name": "stdout",
     "output_type": "stream",
     "text": [
      "tensor(4.6090e-35, device='cuda:0') tensor(-4.6106e-35, device='cuda:0')\n",
      "tensor(4.1481e-35, device='cuda:0') tensor(-4.1495e-35, device='cuda:0')\n"
     ]
    },
    {
     "name": "stderr",
     "output_type": "stream",
     "text": [
      " 90%|█████████ | 901/1000 [02:41<00:18,  5.46it/s]"
     ]
    },
    {
     "name": "stdout",
     "output_type": "stream",
     "text": [
      "100 loss: 0.0031326173339039087\n",
      "tensor(3.7333e-35, device='cuda:0') tensor(-3.7346e-35, device='cuda:0')\n",
      "tensor(3.3600e-35, device='cuda:0') tensor(-3.3611e-35, device='cuda:0')\n"
     ]
    },
    {
     "name": "stderr",
     "output_type": "stream",
     "text": [
      " 90%|█████████ | 903/1000 [02:41<00:17,  5.47it/s]"
     ]
    },
    {
     "name": "stdout",
     "output_type": "stream",
     "text": [
      "tensor(3.0240e-35, device='cuda:0') tensor(-3.0250e-35, device='cuda:0')\n",
      "tensor(2.7216e-35, device='cuda:0') tensor(-2.7225e-35, device='cuda:0')\n"
     ]
    },
    {
     "name": "stderr",
     "output_type": "stream",
     "text": [
      " 90%|█████████ | 905/1000 [02:42<00:17,  5.47it/s]"
     ]
    },
    {
     "name": "stdout",
     "output_type": "stream",
     "text": [
      "tensor(2.4494e-35, device='cuda:0') tensor(-2.4503e-35, device='cuda:0')\n",
      "tensor(2.2045e-35, device='cuda:0') tensor(-2.2052e-35, device='cuda:0')\n"
     ]
    },
    {
     "name": "stderr",
     "output_type": "stream",
     "text": [
      " 91%|█████████ | 907/1000 [02:42<00:16,  5.51it/s]"
     ]
    },
    {
     "name": "stdout",
     "output_type": "stream",
     "text": [
      "tensor(1.9840e-35, device='cuda:0') tensor(-1.9847e-35, device='cuda:0')\n",
      "tensor(1.7856e-35, device='cuda:0') tensor(-1.7862e-35, device='cuda:0')\n"
     ]
    },
    {
     "name": "stderr",
     "output_type": "stream",
     "text": [
      " 91%|█████████ | 909/1000 [02:43<00:16,  5.53it/s]"
     ]
    },
    {
     "name": "stdout",
     "output_type": "stream",
     "text": [
      "tensor(1.6071e-35, device='cuda:0') tensor(-1.6076e-35, device='cuda:0')\n",
      "tensor(1.4464e-35, device='cuda:0') tensor(-1.4469e-35, device='cuda:0')\n"
     ]
    },
    {
     "name": "stderr",
     "output_type": "stream",
     "text": [
      " 91%|█████████ | 911/1000 [02:43<00:16,  5.53it/s]"
     ]
    },
    {
     "name": "stdout",
     "output_type": "stream",
     "text": [
      "90 loss: 0.0031326173339039087\n",
      "tensor(1.3017e-35, device='cuda:0') tensor(-1.3022e-35, device='cuda:0')\n",
      "tensor(1.1716e-35, device='cuda:0') tensor(-1.1720e-35, device='cuda:0')\n"
     ]
    },
    {
     "name": "stderr",
     "output_type": "stream",
     "text": [
      " 91%|█████████▏| 913/1000 [02:43<00:15,  5.55it/s]"
     ]
    },
    {
     "name": "stdout",
     "output_type": "stream",
     "text": [
      "tensor(1.0544e-35, device='cuda:0') tensor(-1.0548e-35, device='cuda:0')\n",
      "tensor(9.4896e-36, device='cuda:0') tensor(-9.4928e-36, device='cuda:0')\n"
     ]
    },
    {
     "name": "stderr",
     "output_type": "stream",
     "text": [
      " 92%|█████████▏| 915/1000 [02:44<00:15,  5.59it/s]"
     ]
    },
    {
     "name": "stdout",
     "output_type": "stream",
     "text": [
      "tensor(8.5406e-36, device='cuda:0') tensor(-8.5435e-36, device='cuda:0')\n",
      "tensor(7.6866e-36, device='cuda:0') tensor(-7.6892e-36, device='cuda:0')\n"
     ]
    },
    {
     "name": "stderr",
     "output_type": "stream",
     "text": [
      " 92%|█████████▏| 917/1000 [02:44<00:14,  5.56it/s]"
     ]
    },
    {
     "name": "stdout",
     "output_type": "stream",
     "text": [
      "tensor(6.9179e-36, device='cuda:0') tensor(-6.9203e-36, device='cuda:0')\n",
      "tensor(6.2261e-36, device='cuda:0') tensor(-6.2282e-36, device='cuda:0')\n"
     ]
    },
    {
     "name": "stderr",
     "output_type": "stream",
     "text": [
      " 92%|█████████▏| 919/1000 [02:44<00:14,  5.58it/s]"
     ]
    },
    {
     "name": "stdout",
     "output_type": "stream",
     "text": [
      "tensor(5.6035e-36, device='cuda:0') tensor(-5.6054e-36, device='cuda:0')\n",
      "tensor(5.0432e-36, device='cuda:0') tensor(-5.0449e-36, device='cuda:0')\n"
     ]
    },
    {
     "name": "stderr",
     "output_type": "stream",
     "text": [
      " 92%|█████████▏| 921/1000 [02:45<00:14,  5.59it/s]"
     ]
    },
    {
     "name": "stdout",
     "output_type": "stream",
     "text": [
      "80 loss: 0.0031326173339039087\n",
      "tensor(4.5388e-36, device='cuda:0') tensor(-4.5404e-36, device='cuda:0')\n",
      "tensor(4.0850e-36, device='cuda:0') tensor(-4.0863e-36, device='cuda:0')\n"
     ]
    },
    {
     "name": "stderr",
     "output_type": "stream",
     "text": [
      " 92%|█████████▏| 923/1000 [02:45<00:13,  5.51it/s]"
     ]
    },
    {
     "name": "stdout",
     "output_type": "stream",
     "text": [
      "tensor(3.6765e-36, device='cuda:0') tensor(-3.6777e-36, device='cuda:0')\n",
      "tensor(3.3088e-36, device='cuda:0') tensor(-3.3099e-36, device='cuda:0')\n"
     ]
    },
    {
     "name": "stderr",
     "output_type": "stream",
     "text": [
      " 92%|█████████▎| 925/1000 [02:45<00:13,  5.52it/s]"
     ]
    },
    {
     "name": "stdout",
     "output_type": "stream",
     "text": [
      "tensor(2.9779e-36, device='cuda:0') tensor(-2.9789e-36, device='cuda:0')\n",
      "tensor(2.6801e-36, device='cuda:0') tensor(-2.6811e-36, device='cuda:0')\n"
     ]
    },
    {
     "name": "stderr",
     "output_type": "stream",
     "text": [
      " 93%|█████████▎| 927/1000 [02:46<00:13,  5.53it/s]"
     ]
    },
    {
     "name": "stdout",
     "output_type": "stream",
     "text": [
      "tensor(2.4121e-36, device='cuda:0') tensor(-2.4129e-36, device='cuda:0')\n",
      "tensor(2.1709e-36, device='cuda:0') tensor(-2.1717e-36, device='cuda:0')\n"
     ]
    },
    {
     "name": "stderr",
     "output_type": "stream",
     "text": [
      " 93%|█████████▎| 929/1000 [02:46<00:12,  5.53it/s]"
     ]
    },
    {
     "name": "stdout",
     "output_type": "stream",
     "text": [
      "tensor(1.9538e-36, device='cuda:0') tensor(-1.9545e-36, device='cuda:0')\n",
      "tensor(1.7584e-36, device='cuda:0') tensor(-1.7590e-36, device='cuda:0')\n"
     ]
    },
    {
     "name": "stderr",
     "output_type": "stream",
     "text": [
      " 93%|█████████▎| 931/1000 [02:46<00:12,  5.54it/s]"
     ]
    },
    {
     "name": "stdout",
     "output_type": "stream",
     "text": [
      "70 loss: 0.0031326173339039087\n",
      "tensor(1.5826e-36, device='cuda:0') tensor(-1.5831e-36, device='cuda:0')\n",
      "tensor(1.4243e-36, device='cuda:0') tensor(-1.4248e-36, device='cuda:0')\n"
     ]
    },
    {
     "name": "stderr",
     "output_type": "stream",
     "text": [
      " 93%|█████████▎| 933/1000 [02:47<00:12,  5.57it/s]"
     ]
    },
    {
     "name": "stdout",
     "output_type": "stream",
     "text": [
      "tensor(1.2819e-36, device='cuda:0') tensor(-1.2823e-36, device='cuda:0')\n",
      "tensor(1.1537e-36, device='cuda:0') tensor(-1.1541e-36, device='cuda:0')\n"
     ]
    },
    {
     "name": "stderr",
     "output_type": "stream",
     "text": [
      " 94%|█████████▎| 935/1000 [02:47<00:11,  5.60it/s]"
     ]
    },
    {
     "name": "stdout",
     "output_type": "stream",
     "text": [
      "tensor(1.0383e-36, device='cuda:0') tensor(-1.0387e-36, device='cuda:0')\n",
      "tensor(9.3451e-37, device='cuda:0') tensor(-9.3482e-37, device='cuda:0')\n"
     ]
    },
    {
     "name": "stderr",
     "output_type": "stream",
     "text": [
      " 94%|█████████▎| 937/1000 [02:48<00:11,  5.60it/s]"
     ]
    },
    {
     "name": "stdout",
     "output_type": "stream",
     "text": [
      "tensor(8.4106e-37, device='cuda:0') tensor(-8.4134e-37, device='cuda:0')\n",
      "tensor(7.5695e-37, device='cuda:0') tensor(-7.5721e-37, device='cuda:0')\n"
     ]
    },
    {
     "name": "stderr",
     "output_type": "stream",
     "text": [
      " 94%|█████████▍| 939/1000 [02:48<00:10,  5.58it/s]"
     ]
    },
    {
     "name": "stdout",
     "output_type": "stream",
     "text": [
      "tensor(6.8125e-37, device='cuda:0') tensor(-6.8149e-37, device='cuda:0')\n",
      "tensor(6.1313e-37, device='cuda:0') tensor(-6.1334e-37, device='cuda:0')\n"
     ]
    },
    {
     "name": "stderr",
     "output_type": "stream",
     "text": [
      " 94%|█████████▍| 941/1000 [02:48<00:10,  5.57it/s]"
     ]
    },
    {
     "name": "stdout",
     "output_type": "stream",
     "text": [
      "60 loss: 0.0031326173339039087\n",
      "tensor(5.5182e-37, device='cuda:0') tensor(-5.5200e-37, device='cuda:0')\n",
      "tensor(4.9663e-37, device='cuda:0') tensor(-4.9680e-37, device='cuda:0')\n"
     ]
    },
    {
     "name": "stderr",
     "output_type": "stream",
     "text": [
      " 94%|█████████▍| 943/1000 [02:49<00:10,  5.58it/s]"
     ]
    },
    {
     "name": "stdout",
     "output_type": "stream",
     "text": [
      "tensor(4.4697e-37, device='cuda:0') tensor(-4.4712e-37, device='cuda:0')\n",
      "tensor(4.0227e-37, device='cuda:0') tensor(-4.0241e-37, device='cuda:0')\n"
     ]
    },
    {
     "name": "stderr",
     "output_type": "stream",
     "text": [
      " 94%|█████████▍| 945/1000 [02:49<00:09,  5.59it/s]"
     ]
    },
    {
     "name": "stdout",
     "output_type": "stream",
     "text": [
      "tensor(3.6205e-37, device='cuda:0') tensor(-3.6217e-37, device='cuda:0')\n",
      "tensor(3.2584e-37, device='cuda:0') tensor(-3.2595e-37, device='cuda:0')\n"
     ]
    },
    {
     "name": "stderr",
     "output_type": "stream",
     "text": [
      " 95%|█████████▍| 947/1000 [02:49<00:09,  5.60it/s]"
     ]
    },
    {
     "name": "stdout",
     "output_type": "stream",
     "text": [
      "tensor(2.9326e-37, device='cuda:0') tensor(-2.9336e-37, device='cuda:0')\n",
      "tensor(2.6393e-37, device='cuda:0') tensor(-2.6402e-37, device='cuda:0')\n"
     ]
    },
    {
     "name": "stderr",
     "output_type": "stream",
     "text": [
      " 95%|█████████▍| 949/1000 [02:50<00:09,  5.58it/s]"
     ]
    },
    {
     "name": "stdout",
     "output_type": "stream",
     "text": [
      "tensor(2.3754e-37, device='cuda:0') tensor(-2.3762e-37, device='cuda:0')\n",
      "tensor(2.1378e-37, device='cuda:0') tensor(-2.1386e-37, device='cuda:0')\n"
     ]
    },
    {
     "name": "stderr",
     "output_type": "stream",
     "text": [
      " 95%|█████████▌| 951/1000 [02:50<00:08,  5.50it/s]"
     ]
    },
    {
     "name": "stdout",
     "output_type": "stream",
     "text": [
      "50 loss: 0.0031326173339039087\n",
      "tensor(1.9241e-37, device='cuda:0') tensor(-1.9247e-37, device='cuda:0')\n",
      "tensor(1.7317e-37, device='cuda:0') tensor(-1.7322e-37, device='cuda:0')\n"
     ]
    },
    {
     "name": "stderr",
     "output_type": "stream",
     "text": [
      " 95%|█████████▌| 953/1000 [02:50<00:08,  5.49it/s]"
     ]
    },
    {
     "name": "stdout",
     "output_type": "stream",
     "text": [
      "tensor(1.5585e-37, device='cuda:0') tensor(-1.5590e-37, device='cuda:0')\n",
      "tensor(1.4026e-37, device='cuda:0') tensor(-1.4031e-37, device='cuda:0')\n"
     ]
    },
    {
     "name": "stderr",
     "output_type": "stream",
     "text": [
      " 96%|█████████▌| 955/1000 [02:51<00:08,  5.45it/s]"
     ]
    },
    {
     "name": "stdout",
     "output_type": "stream",
     "text": [
      "tensor(1.2624e-37, device='cuda:0') tensor(-1.2628e-37, device='cuda:0')\n",
      "tensor(1.1361e-37, device='cuda:0') tensor(-1.1365e-37, device='cuda:0')\n"
     ]
    },
    {
     "name": "stderr",
     "output_type": "stream",
     "text": [
      " 96%|█████████▌| 956/1000 [02:51<00:08,  5.41it/s]"
     ]
    },
    {
     "name": "stdout",
     "output_type": "stream",
     "text": [
      "tensor(1.0225e-37, device='cuda:0') tensor(-1.0229e-37, device='cuda:0')\n",
      "tensor(9.2027e-38, device='cuda:0') tensor(-9.2059e-38, device='cuda:0')\n"
     ]
    },
    {
     "name": "stderr",
     "output_type": "stream",
     "text": [
      " 96%|█████████▌| 959/1000 [02:52<00:07,  5.38it/s]"
     ]
    },
    {
     "name": "stdout",
     "output_type": "stream",
     "text": [
      "tensor(8.2825e-38, device='cuda:0') tensor(-8.2853e-38, device='cuda:0')\n",
      "tensor(7.4542e-38, device='cuda:0') tensor(-7.4568e-38, device='cuda:0')\n"
     ]
    },
    {
     "name": "stderr",
     "output_type": "stream",
     "text": [
      " 96%|█████████▌| 961/1000 [02:52<00:07,  5.50it/s]"
     ]
    },
    {
     "name": "stdout",
     "output_type": "stream",
     "text": [
      "40 loss: 0.0031326173339039087\n",
      "tensor(6.7088e-38, device='cuda:0') tensor(-6.7111e-38, device='cuda:0')\n",
      "tensor(6.0379e-38, device='cuda:0') tensor(-6.0400e-38, device='cuda:0')\n"
     ]
    },
    {
     "name": "stderr",
     "output_type": "stream",
     "text": [
      " 96%|█████████▋| 963/1000 [02:52<00:06,  5.55it/s]"
     ]
    },
    {
     "name": "stdout",
     "output_type": "stream",
     "text": [
      "tensor(5.4341e-38, device='cuda:0') tensor(-5.4360e-38, device='cuda:0')\n",
      "tensor(4.8907e-38, device='cuda:0') tensor(-4.8924e-38, device='cuda:0')\n"
     ]
    },
    {
     "name": "stderr",
     "output_type": "stream",
     "text": [
      " 96%|█████████▋| 965/1000 [02:53<00:06,  5.54it/s]"
     ]
    },
    {
     "name": "stdout",
     "output_type": "stream",
     "text": [
      "tensor(4.4016e-38, device='cuda:0') tensor(-4.4031e-38, device='cuda:0')\n",
      "tensor(3.9615e-38, device='cuda:0') tensor(-3.9628e-38, device='cuda:0')\n"
     ]
    },
    {
     "name": "stderr",
     "output_type": "stream",
     "text": [
      " 97%|█████████▋| 967/1000 [02:53<00:05,  5.57it/s]"
     ]
    },
    {
     "name": "stdout",
     "output_type": "stream",
     "text": [
      "tensor(3.5653e-38, device='cuda:0') tensor(-3.5665e-38, device='cuda:0')\n",
      "tensor(3.2088e-38, device='cuda:0') tensor(-3.2099e-38, device='cuda:0')\n"
     ]
    },
    {
     "name": "stderr",
     "output_type": "stream",
     "text": [
      " 97%|█████████▋| 969/1000 [02:53<00:05,  5.51it/s]"
     ]
    },
    {
     "name": "stdout",
     "output_type": "stream",
     "text": [
      "tensor(2.8879e-38, device='cuda:0') tensor(-2.8889e-38, device='cuda:0')\n",
      "tensor(2.5991e-38, device='cuda:0') tensor(-2.6000e-38, device='cuda:0')\n"
     ]
    },
    {
     "name": "stderr",
     "output_type": "stream",
     "text": [
      " 97%|█████████▋| 971/1000 [02:54<00:05,  5.55it/s]"
     ]
    },
    {
     "name": "stdout",
     "output_type": "stream",
     "text": [
      "30 loss: 0.0031326173339039087\n",
      "tensor(2.3392e-38, device='cuda:0') tensor(-2.3400e-38, device='cuda:0')\n",
      "tensor(2.1053e-38, device='cuda:0') tensor(-2.1060e-38, device='cuda:0')\n"
     ]
    },
    {
     "name": "stderr",
     "output_type": "stream",
     "text": [
      " 97%|█████████▋| 973/1000 [02:54<00:04,  5.52it/s]"
     ]
    },
    {
     "name": "stdout",
     "output_type": "stream",
     "text": [
      "tensor(1.8948e-38, device='cuda:0') tensor(-1.8954e-38, device='cuda:0')\n",
      "tensor(1.7053e-38, device='cuda:0') tensor(-1.7059e-38, device='cuda:0')\n"
     ]
    },
    {
     "name": "stderr",
     "output_type": "stream",
     "text": [
      " 98%|█████████▊| 975/1000 [02:54<00:04,  5.52it/s]"
     ]
    },
    {
     "name": "stdout",
     "output_type": "stream",
     "text": [
      "tensor(1.5348e-38, device='cuda:0') tensor(-1.5353e-38, device='cuda:0')\n",
      "tensor(1.3813e-38, device='cuda:0') tensor(-1.3818e-38, device='cuda:0')\n"
     ]
    },
    {
     "name": "stderr",
     "output_type": "stream",
     "text": [
      " 98%|█████████▊| 977/1000 [02:55<00:04,  5.55it/s]"
     ]
    },
    {
     "name": "stdout",
     "output_type": "stream",
     "text": [
      "tensor(1.2432e-38, device='cuda:0') tensor(-1.2436e-38, device='cuda:0')\n",
      "tensor(1.1188e-38, device='cuda:0') tensor(-1.1192e-38, device='cuda:0')\n"
     ]
    },
    {
     "name": "stderr",
     "output_type": "stream",
     "text": [
      " 98%|█████████▊| 979/1000 [02:55<00:03,  5.49it/s]"
     ]
    },
    {
     "name": "stdout",
     "output_type": "stream",
     "text": [
      "tensor(1.0070e-38, device='cuda:0') tensor(-1.0073e-38, device='cuda:0')\n",
      "tensor(9.0626e-39, device='cuda:0') tensor(-9.0657e-39, device='cuda:0')\n"
     ]
    },
    {
     "name": "stderr",
     "output_type": "stream",
     "text": [
      " 98%|█████████▊| 980/1000 [02:55<00:03,  5.45it/s]"
     ]
    },
    {
     "name": "stdout",
     "output_type": "stream",
     "text": [
      "20 loss: 0.0031326173339039087\n",
      "tensor(8.1563e-39, device='cuda:0') tensor(-8.1591e-39, device='cuda:0')\n",
      "tensor(7.3407e-39, device='cuda:0') tensor(-7.3432e-39, device='cuda:0')\n"
     ]
    },
    {
     "name": "stderr",
     "output_type": "stream",
     "text": [
      " 98%|█████████▊| 983/1000 [02:56<00:03,  5.41it/s]"
     ]
    },
    {
     "name": "stdout",
     "output_type": "stream",
     "text": [
      "tensor(6.6066e-39, device='cuda:0') tensor(-6.6089e-39, device='cuda:0')\n",
      "tensor(5.9460e-39, device='cuda:0') tensor(-5.9480e-39, device='cuda:0')\n"
     ]
    },
    {
     "name": "stderr",
     "output_type": "stream",
     "text": [
      " 98%|█████████▊| 985/1000 [02:56<00:02,  5.41it/s]"
     ]
    },
    {
     "name": "stdout",
     "output_type": "stream",
     "text": [
      "tensor(5.3514e-39, device='cuda:0') tensor(-5.3532e-39, device='cuda:0')\n",
      "tensor(4.8162e-39, device='cuda:0') tensor(-4.8179e-39, device='cuda:0')\n"
     ]
    },
    {
     "name": "stderr",
     "output_type": "stream",
     "text": [
      " 99%|█████████▊| 987/1000 [02:57<00:02,  5.41it/s]"
     ]
    },
    {
     "name": "stdout",
     "output_type": "stream",
     "text": [
      "tensor(4.3346e-39, device='cuda:0') tensor(-4.3361e-39, device='cuda:0')\n",
      "tensor(3.9011e-39, device='cuda:0') tensor(-3.9025e-39, device='cuda:0')\n"
     ]
    },
    {
     "name": "stderr",
     "output_type": "stream",
     "text": [
      " 99%|█████████▉| 989/1000 [02:57<00:02,  5.48it/s]"
     ]
    },
    {
     "name": "stdout",
     "output_type": "stream",
     "text": [
      "tensor(3.5110e-39, device='cuda:0') tensor(-3.5122e-39, device='cuda:0')\n",
      "tensor(3.1599e-39, device='cuda:0') tensor(-3.1610e-39, device='cuda:0')\n"
     ]
    },
    {
     "name": "stderr",
     "output_type": "stream",
     "text": [
      " 99%|█████████▉| 991/1000 [02:57<00:01,  5.49it/s]"
     ]
    },
    {
     "name": "stdout",
     "output_type": "stream",
     "text": [
      "10 loss: 0.0031326173339039087\n",
      "tensor(2.8439e-39, device='cuda:0') tensor(-2.8449e-39, device='cuda:0')\n",
      "tensor(2.5595e-39, device='cuda:0') tensor(-2.5604e-39, device='cuda:0')\n"
     ]
    },
    {
     "name": "stderr",
     "output_type": "stream",
     "text": [
      " 99%|█████████▉| 993/1000 [02:58<00:01,  5.56it/s]"
     ]
    },
    {
     "name": "stdout",
     "output_type": "stream",
     "text": [
      "tensor(2.3036e-39, device='cuda:0') tensor(-2.3044e-39, device='cuda:0')\n",
      "tensor(2.0732e-39, device='cuda:0') tensor(-2.0739e-39, device='cuda:0')\n"
     ]
    },
    {
     "name": "stderr",
     "output_type": "stream",
     "text": [
      "100%|█████████▉| 995/1000 [02:58<00:00,  5.57it/s]"
     ]
    },
    {
     "name": "stdout",
     "output_type": "stream",
     "text": [
      "tensor(1.8659e-39, device='cuda:0') tensor(-1.8665e-39, device='cuda:0')\n",
      "tensor(1.6793e-39, device='cuda:0') tensor(-1.6799e-39, device='cuda:0')\n"
     ]
    },
    {
     "name": "stderr",
     "output_type": "stream",
     "text": [
      "100%|█████████▉| 997/1000 [02:58<00:00,  5.52it/s]"
     ]
    },
    {
     "name": "stdout",
     "output_type": "stream",
     "text": [
      "tensor(1.5114e-39, device='cuda:0') tensor(-1.5119e-39, device='cuda:0')\n",
      "tensor(1.3602e-39, device='cuda:0') tensor(-1.3607e-39, device='cuda:0')\n"
     ]
    },
    {
     "name": "stderr",
     "output_type": "stream",
     "text": [
      "100%|█████████▉| 999/1000 [02:59<00:00,  5.53it/s]"
     ]
    },
    {
     "name": "stdout",
     "output_type": "stream",
     "text": [
      "tensor(1.2242e-39, device='cuda:0') tensor(-1.2246e-39, device='cuda:0')\n",
      "tensor(1.1018e-39, device='cuda:0') tensor(-1.1022e-39, device='cuda:0')\n",
      "0 loss: 0.0031326173339039087\n",
      "tensor(9.9162e-40, device='cuda:0') tensor(-9.9196e-40, device='cuda:0')\n"
     ]
    },
    {
     "name": "stderr",
     "output_type": "stream",
     "text": [
      "100%|██████████| 1000/1000 [02:59<00:00,  5.56it/s]\n"
     ]
    }
   ],
   "source": [
    "#with torch.no_grad():\n",
    "for i in range(1):\n",
    "    ims, cond_trans = sample(model, classifier_model, cond, scheduler, train_config, diffusion_model_config,\n",
    "                autoencoder_model_config, diffusion_config, dataset_config, vae, use_ddim=True, dir=current_time, noise_input=noise_input, num_steps=1000, start_step=0)\n",
    "\n",
    "    "
   ]
  },
  {
   "cell_type": "code",
   "execution_count": null,
   "metadata": {},
   "outputs": [],
   "source": []
  }
 ],
 "metadata": {
  "kernelspec": {
   "display_name": "stable_diffusion",
   "language": "python",
   "name": "python3"
  },
  "language_info": {
   "codemirror_mode": {
    "name": "ipython",
    "version": 3
   },
   "file_extension": ".py",
   "mimetype": "text/x-python",
   "name": "python",
   "nbconvert_exporter": "python",
   "pygments_lexer": "ipython3",
   "version": "3.8.19"
  }
 },
 "nbformat": 4,
 "nbformat_minor": 2
}
