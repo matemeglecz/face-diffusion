{
 "cells": [
  {
   "cell_type": "code",
   "execution_count": 1,
   "metadata": {},
   "outputs": [],
   "source": [
    "import os"
   ]
  },
  {
   "cell_type": "code",
   "execution_count": 2,
   "metadata": {},
   "outputs": [],
   "source": [
    "dir = '/mnt/g/visuals_from_server/glasses_post_cond_700_3'"
   ]
  },
  {
   "cell_type": "code",
   "execution_count": 3,
   "metadata": {},
   "outputs": [],
   "source": [
    "# get all txt files in the directory\n",
    "files = [f for f in os.listdir(dir) if f.endswith('.txt')]"
   ]
  },
  {
   "cell_type": "code",
   "execution_count": 4,
   "metadata": {},
   "outputs": [
    {
     "data": {
      "text/plain": [
       "1259"
      ]
     },
     "execution_count": 4,
     "metadata": {},
     "output_type": "execute_result"
    }
   ],
   "source": [
    "len(files)"
   ]
  },
  {
   "cell_type": "code",
   "execution_count": 5,
   "metadata": {},
   "outputs": [],
   "source": [
    "real_pred = []\n",
    "noise_edit = []\n",
    "guidance = []\n",
    "combined = [] "
   ]
  },
  {
   "cell_type": "code",
   "execution_count": 6,
   "metadata": {},
   "outputs": [],
   "source": [
    "for file in files:\n",
    "    with open(os.path.join(dir, file), 'r') as f:\n",
    "        lines = f.readlines()\n",
    "        if len(lines) < 4:\n",
    "            print('problem with file:', file)\n",
    "        else:\n",
    "            real_pred.append(float(lines[1]))\n",
    "            noise_edit.append(float(lines[2]))\n",
    "            guidance.append(float(lines[3]))\n",
    "            combined.append(float(lines[4]))"
   ]
  },
  {
   "cell_type": "code",
   "execution_count": null,
   "metadata": {},
   "outputs": [],
   "source": []
  },
  {
   "cell_type": "code",
   "execution_count": 7,
   "metadata": {},
   "outputs": [],
   "source": [
    "# targets are the real_pred rounded values\n",
    "targets = [1 - round(x) for x in real_pred]"
   ]
  },
  {
   "cell_type": "code",
   "execution_count": 8,
   "metadata": {},
   "outputs": [
    {
     "data": {
      "text/plain": [
       "[1, 1, 1, 1, 1, 1, 1, 1, 1, 1]"
      ]
     },
     "execution_count": 8,
     "metadata": {},
     "output_type": "execute_result"
    }
   ],
   "source": [
    "targets[:10]"
   ]
  },
  {
   "cell_type": "code",
   "execution_count": 9,
   "metadata": {},
   "outputs": [],
   "source": [
    "noise_edit_preds = [round(x) for x in noise_edit]\n",
    "guidance_preds = [round(x) for x in guidance]\n",
    "combined_preds = [round(x) for x in combined]"
   ]
  },
  {
   "cell_type": "code",
   "execution_count": 10,
   "metadata": {},
   "outputs": [
    {
     "data": {
      "text/plain": [
       "(0.14614773629864972, 0.12390786338363781, 0.26846703733121524)"
      ]
     },
     "execution_count": 10,
     "metadata": {},
     "output_type": "execute_result"
    }
   ],
   "source": [
    "# calculate accuracy\n",
    "noise_edit_acc = sum([1 if x == y else 0 for x, y in zip(targets, noise_edit_preds)]) / len(targets)\n",
    "guidance_acc = sum([1 if x == y else 0 for x, y in zip(targets, guidance_preds)]) / len(targets)\n",
    "combined_acc = sum([1 if x == y else 0 for x, y in zip(targets, combined_preds)]) / len(targets)\n",
    "\n",
    "noise_edit_acc, guidance_acc, combined_acc"
   ]
  },
  {
   "cell_type": "code",
   "execution_count": 17,
   "metadata": {},
   "outputs": [
    {
     "data": {
      "text/plain": [
       "20"
      ]
     },
     "execution_count": 17,
     "metadata": {},
     "output_type": "execute_result"
    }
   ],
   "source": [
    "sum([1 if x == 0 else 0 for x in targets])"
   ]
  },
  {
   "cell_type": "code",
   "execution_count": 11,
   "metadata": {},
   "outputs": [
    {
     "data": {
      "text/plain": [
       "(0.55, 0.7, 0.85)"
      ]
     },
     "execution_count": 11,
     "metadata": {},
     "output_type": "execute_result"
    }
   ],
   "source": [
    "# calculate success when target is 0\n",
    "noise_edit_succ_0 = sum([1 if x == 0 and y == 0 else 0 for x, y in zip(targets, noise_edit_preds)]) / sum([1 if x == 0 else 0 for x in targets])\n",
    "guidance_succ_0 = sum([1 if x == 0 and y == 0 else 0 for x, y in zip(targets, guidance_preds)]) / sum([1 if x == 0 else 0 for x in targets])\n",
    "combined_succ_0 = sum([1 if x == 0 and y == 0 else 0 for x, y in zip(targets, combined_preds)]) / sum([1 if x == 0 else 0 for x in targets])\n",
    "\n",
    "noise_edit_succ_0, guidance_succ_0, combined_succ_0"
   ]
  },
  {
   "cell_type": "code",
   "execution_count": 13,
   "metadata": {},
   "outputs": [
    {
     "data": {
      "text/plain": [
       "(0.13962873284907182, 0.11460855528652139, 0.25907990314769974)"
      ]
     },
     "execution_count": 13,
     "metadata": {},
     "output_type": "execute_result"
    }
   ],
   "source": [
    "# calculate success when target is 1\n",
    "noise_edit_succ_1 = sum([1 if x == 1 and y == 1 else 0 for x, y in zip(targets, noise_edit_preds)]) / sum([1 if x == 1 else 0 for x in targets])\n",
    "guidance_succ_1 = sum([1 if x == 1 and y == 1 else 0 for x, y in zip(targets, guidance_preds)]) / sum([1 if x == 1 else 0 for x in targets])\n",
    "combined_succ_1 = sum([1 if x == 1 and y == 1 else 0 for x, y in zip(targets, combined_preds)]) / sum([1 if x == 1 else 0 for x in targets])\n",
    "\n",
    "noise_edit_succ_1, guidance_succ_1, combined_succ_1"
   ]
  },
  {
   "cell_type": "code",
   "execution_count": 14,
   "metadata": {},
   "outputs": [
    {
     "data": {
      "text/plain": [
       "(0.14997283039937082, 0.14807733240728935, 0.28982496694044)"
      ]
     },
     "execution_count": 14,
     "metadata": {},
     "output_type": "execute_result"
    }
   ],
   "source": [
    "noise_conf_diff = [(x - y if t == 0 else y - x) for t, x, y in zip(targets, real_pred, noise_edit)]\n",
    "guidance_conf_diff = [(x - y if t == 0 else y - x) for t, x, y in zip(targets, real_pred, guidance)]\n",
    "combined_conf_diff = [(x - y if t == 0 else y - x) for t, x, y in zip(targets, real_pred, combined)]\n",
    "\n",
    "noise_conf_diff_avg = sum(noise_conf_diff) / len(noise_conf_diff)\n",
    "guidance_conf_diff_avg = sum(guidance_conf_diff) / len(guidance_conf_diff)\n",
    "combined_conf_diff_avg = sum(combined_conf_diff) / len(combined_conf_diff)\n",
    "\n",
    "noise_conf_diff_avg, guidance_conf_diff_avg, combined_conf_diff_avg\n",
    "    "
   ]
  },
  {
   "cell_type": "code",
   "execution_count": 16,
   "metadata": {},
   "outputs": [
    {
     "name": "stdout",
     "output_type": "stream",
     "text": [
      "Noise Edit\n",
      "Accuracy: 0.14614773629864972\n",
      "Success when target is 0: 0.55\n",
      "Success when target is 1: 0.13962873284907182\n",
      "\n",
      "Guidance\n",
      "Accuracy: 0.12390786338363781\n",
      "Success when target is 0: 0.7\n",
      "Success when target is 1: 0.11460855528652139\n",
      "\n",
      "Combined\n",
      "Accuracy: 0.26846703733121524\n",
      "Success when target is 0: 0.85\n",
      "Success when target is 1: 0.25907990314769974\n",
      "\n",
      "Real Pred\n",
      "\n"
     ]
    }
   ],
   "source": [
    "# print results\n",
    "print('Noise Edit')\n",
    "print('Accuracy:', noise_edit_acc)\n",
    "print('Success when target is 0:', noise_edit_succ_0)\n",
    "print('Success when target is 1:', noise_edit_succ_1)\n",
    "#print('Average confidence when target is 0:', noise_edit_conf_0)\n",
    "#print('Average confidence when target is 1:', noise_edit_conf_1)\n",
    "print()\n",
    "print('Guidance')\n",
    "print('Accuracy:', guidance_acc)\n",
    "print('Success when target is 0:', guidance_succ_0)\n",
    "print('Success when target is 1:', guidance_succ_1)\n",
    "#print('Average confidence when target is 0:', guidance_conf_0)\n",
    "#print('Average confidence when target is 1:', guidance_conf_1)\n",
    "print()\n",
    "print('Combined')\n",
    "print('Accuracy:', combined_acc)\n",
    "print('Success when target is 0:', combined_succ_0)\n",
    "print('Success when target is 1:', combined_succ_1)\n",
    "#print('Average confidence when target is 0:', combined_conf_0)\n",
    "#print('Average confidence when target is 1:', combined_conf_1)\n",
    "print()\n",
    "print('Real Pred')\n",
    "#print('Average confidence when target is 0:', real_pred_conf_0)\n",
    "#print('Average confidence when target is 1:', real_pred_conf_1)\n",
    "print()\n"
   ]
  },
  {
   "cell_type": "code",
   "execution_count": null,
   "metadata": {},
   "outputs": [],
   "source": []
  }
 ],
 "metadata": {
  "kernelspec": {
   "display_name": "stable_diffusion",
   "language": "python",
   "name": "python3"
  },
  "language_info": {
   "codemirror_mode": {
    "name": "ipython",
    "version": 3
   },
   "file_extension": ".py",
   "mimetype": "text/x-python",
   "name": "python",
   "nbconvert_exporter": "python",
   "pygments_lexer": "ipython3",
   "version": "3.8.19"
  }
 },
 "nbformat": 4,
 "nbformat_minor": 2
}
