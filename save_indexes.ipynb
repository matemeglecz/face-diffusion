{
 "cells": [
  {
   "cell_type": "code",
   "execution_count": 10,
   "metadata": {},
   "outputs": [],
   "source": [
    "from dataset.celeb_dataset import CelebDataset\n",
    "import torch\n",
    "import torchvision\n",
    "import argparse\n",
    "import yaml\n",
    "import os\n",
    "from torchvision.utils import make_grid\n",
    "from PIL import Image\n",
    "from tqdm import tqdm\n",
    "from models.unet_cond_base import Unet\n",
    "from models.vqvae import VQVAE\n",
    "from scheduler.linear_noise_scheduler import LinearNoiseScheduler\n",
    "from scheduler.linear_noise_scheduler_ddim import LinearNoiseSchedulerDDIM\n",
    "from utils.config_utils import *\n",
    "from collections import OrderedDict\n",
    "from datetime import datetime\n",
    "\n",
    "device = torch.device('cuda' if torch.cuda.is_available() else 'cpu')"
   ]
  },
  {
   "cell_type": "code",
   "execution_count": 11,
   "metadata": {},
   "outputs": [
    {
     "name": "stdout",
     "output_type": "stream",
     "text": [
      "{'task_name': 'celebhq-512-64-train-komondor_b', 'continue': True, 'last_step': 0, 'last_epoch': 199, 'dataset_params': {'im_path': 'data/CelebAMask-HQ', 'im_channels': 3, 'im_size': 512, 'name': 'celebhq'}, 'diffusion_params': {'num_timesteps': 1000, 'beta_start': 0.0015, 'beta_end': 0.0195}, 'ldm_params': {'down_channels': [512, 768, 768, 1024], 'mid_channels': [1024, 768], 'down_sample': [True, True, True], 'attn_down': [True, True, True], 'time_emb_dim': 512, 'norm_channels': 32, 'num_heads': 16, 'conv_out_channels': 128, 'num_down_layers': 2, 'num_mid_layers': 2, 'num_up_layers': 2, 'condition_config': {'condition_types': ['attribute'], 'attribute_condition_config': {'attribute_condition_num': 19, 'attribute_condition_selected_attrs': ['Male', 'Young', 'Bald', 'Bangs', 'Receding_Hairline', 'Black_Hair', 'Blond_Hair', 'Brown_Hair', 'Gray_Hair', 'Straight_Hair', 'Wavy_Hair', 'No_Beard', 'Goatee', 'Mustache', 'Sideburns', 'Narrow_Eyes', 'Oval_Face', 'Pale_Skin', 'Pointy_Nose']}}}, 'autoencoder_params': {'z_channels': 3, 'codebook_size': 8192, 'down_channels': [128, 256, 512, 512], 'mid_channels': [512, 512], 'down_sample': [True, True, True], 'attn_down': [False, False, False], 'norm_channels': 32, 'num_heads': 4, 'num_down_layers': 2, 'num_mid_layers': 2, 'num_up_layers': 2}, 'train_params': {'seed': 1111, 'task_name': 'celebhq-512-64-train-komondor_b', 'ldm_batch_size': 1, 'autoencoder_batch_size': 1, 'disc_start': 15000, 'disc_weight': 0.5, 'codebook_weight': 1, 'commitment_beta': 0.2, 'perceptual_weight': 1, 'kl_weight': 5e-06, 'ldm_epochs': 300, 'autoencoder_epochs': 80, 'num_samples': 1, 'num_grid_rows': 1, 'ldm_lr': 1e-06, 'autoencoder_lr': 1e-05, 'autoencoder_acc_steps': 4, 'autoencoder_img_save_steps': 64, 'autoencoder_img_save_steps_wandb': 500, 'autoencoder_log_step_steps_wandb': 500, 'save_latents': True, 'vae_latent_dir_name': 'vae_latents', 'vqvae_latent_dir_name': 'vqvae_latents', 'ldm_ckpt_name': 'ddpm_ckpt.pth', 'vqvae_autoencoder_ckpt_name': 'vqvae_autoencoder_ckpt.pth', 'vae_autoencoder_ckpt_name': 'vae_autoencoder_ckpt.pth', 'vqvae_discriminator_ckpt_name': 'vqvae_discriminator_ckpt.pth', 'vae_discriminator_ckpt_name': 'vae_discriminator_ckpt.pth', 'distributed_data_paralell': True, 'ddpm_log_step_steps_wandb': 500, 'ddpm_img_save_steps_wandb': 1500}, 'sample_params': {'use_ddim': True}}\n",
      "Using DDIM\n"
     ]
    }
   ],
   "source": [
    "# Read the config file #\n",
    "#with open('celebhq-1024-64-16k-komondor/celeba_komondor_16k.yaml', 'r') as file:\n",
    "#with open('celebhq-512-64/celeba_komondor_512.yaml', 'r') as file:\n",
    "with open('celebhq-512-64-train-komondor_b/celeba_komondor_512_b.yaml', 'r') as file:\n",
    "    try:\n",
    "        config = yaml.safe_load(file)\n",
    "    except yaml.YAMLError as exc:\n",
    "        print(exc)\n",
    "print(config)\n",
    "########################\n",
    "\n",
    "diffusion_config = config['diffusion_params']\n",
    "dataset_config = config['dataset_params']\n",
    "diffusion_model_config = config['ldm_params']\n",
    "autoencoder_model_config = config['autoencoder_params']\n",
    "train_config = config['train_params']\n",
    "sample_config = config['sample_params']\n",
    "\n",
    "########## Create the noise scheduler #############\n",
    "\n",
    "if sample_config['use_ddim']:\n",
    "    print('Using DDIM')\n",
    "    scheduler = LinearNoiseSchedulerDDIM(num_timesteps=diffusion_config['num_timesteps'],\n",
    "                                            beta_start=diffusion_config['beta_start'],\n",
    "                                            beta_end=diffusion_config['beta_end'])\n",
    "else:\n",
    "    scheduler = LinearNoiseScheduler(num_timesteps=diffusion_config['num_timesteps'],\n",
    "                                    beta_start=diffusion_config['beta_start'],\n",
    "                                    beta_end=diffusion_config['beta_end'])\n",
    "###############################################\n",
    "\n",
    "\n",
    "#####################################\n",
    "\n"
   ]
  },
  {
   "cell_type": "code",
   "execution_count": 12,
   "metadata": {},
   "outputs": [
    {
     "name": "stdout",
     "output_type": "stream",
     "text": [
      "{'down_channels': [512, 768, 768, 1024], 'mid_channels': [1024, 768], 'down_sample': [True, True, True], 'attn_down': [True, True, True], 'time_emb_dim': 512, 'norm_channels': 32, 'num_heads': 16, 'conv_out_channels': 128, 'num_down_layers': 2, 'num_mid_layers': 2, 'num_up_layers': 2, 'condition_config': {'condition_types': ['attribute'], 'attribute_condition_config': {'attribute_condition_num': 19, 'attribute_condition_selected_attrs': ['Male', 'Young', 'Bald', 'Bangs', 'Receding_Hairline', 'Black_Hair', 'Blond_Hair', 'Brown_Hair', 'Gray_Hair', 'Straight_Hair', 'Wavy_Hair', 'No_Beard', 'Goatee', 'Mustache', 'Sideburns', 'Narrow_Eyes', 'Oval_Face', 'Pale_Skin', 'Pointy_Nose']}}}\n"
     ]
    }
   ],
   "source": [
    "diffusion_model_config = config['ldm_params']\n",
    "print(diffusion_model_config)"
   ]
  },
  {
   "cell_type": "code",
   "execution_count": 13,
   "metadata": {},
   "outputs": [
    {
     "name": "stdout",
     "output_type": "stream",
     "text": [
      "['Male', 'Young', 'Bald', 'Bangs', 'Receding_Hairline', 'Black_Hair', 'Blond_Hair', 'Brown_Hair', 'Gray_Hair', 'Straight_Hair', 'Wavy_Hair', 'No_Beard', 'Goatee', 'Mustache', 'Sideburns', 'Narrow_Eyes', 'Oval_Face', 'Pale_Skin', 'Pointy_Nose']\n"
     ]
    }
   ],
   "source": [
    "print(diffusion_model_config['condition_config']['attribute_condition_config']['attribute_condition_selected_attrs'] )"
   ]
  },
  {
   "cell_type": "code",
   "execution_count": 14,
   "metadata": {},
   "outputs": [],
   "source": [
    "temp_conf = diffusion_model_config.copy()"
   ]
  },
  {
   "cell_type": "code",
   "execution_count": 15,
   "metadata": {},
   "outputs": [],
   "source": [
    "# add Eyeglasses to the condition\n",
    "temp_conf['condition_config']['attribute_condition_config']['attribute_condition_selected_attrs'].extend(['Mouth_Slightly_Open'])\n",
    "temp_conf['condition_config']['attribute_condition_config']['attribute_condition_num'] = len(temp_conf['condition_config']['attribute_condition_config']['attribute_condition_selected_attrs'])"
   ]
  },
  {
   "cell_type": "code",
   "execution_count": 16,
   "metadata": {},
   "outputs": [
    {
     "name": "stderr",
     "output_type": "stream",
     "text": [
      "100%|██████████| 30000/30000 [00:00<00:00, 78304.83it/s]"
     ]
    },
    {
     "name": "stdout",
     "output_type": "stream",
     "text": [
      "Found 30000 images\n",
      "Found 0 masks\n",
      "Found 0 captions\n",
      "Found 30000 attributes\n"
     ]
    },
    {
     "name": "stderr",
     "output_type": "stream",
     "text": [
      "\n"
     ]
    }
   ],
   "source": [
    "im_dataset = CelebDataset(split='train',\n",
    "                                im_path=dataset_config['im_path'],\n",
    "                                im_size=dataset_config['im_size'],\n",
    "                                im_channels=dataset_config['im_channels'],\n",
    "                                use_latents=False,\n",
    "                                latent_path=os.path.join(train_config['task_name'],\n",
    "                                                         train_config['vqvae_latent_dir_name']),\n",
    "                                condition_config=temp_conf['condition_config'],\n",
    "                                #condition_config=diffusion_model_config['condition_config'],\n",
    "                                )"
   ]
  },
  {
   "cell_type": "code",
   "execution_count": 17,
   "metadata": {},
   "outputs": [
    {
     "name": "stderr",
     "output_type": "stream",
     "text": [
      " 16%|█▌        | 4258/27000 [00:51<04:32, 83.31it/s]"
     ]
    },
    {
     "name": "stdout",
     "output_type": "stream",
     "text": [
      "2000\n"
     ]
    },
    {
     "name": "stderr",
     "output_type": "stream",
     "text": [
      "\n"
     ]
    }
   ],
   "source": [
    "# go through the dataset find all image with 1 at position 19 in the condition\n",
    "indexes_chubby = []\n",
    "indexes_not_chubby = []\n",
    "for i in tqdm(range(len(im_dataset))):\n",
    "    _, cond = im_dataset[i]\n",
    "    if cond['attribute'][19] == 1:\n",
    "        indexes_chubby.append(i)\n",
    "    elif len(indexes_not_chubby) < 2000:\n",
    "        indexes_not_chubby.append(i)\n",
    "\n",
    "    if len(indexes_chubby) == 2000 and len(indexes_not_chubby) == 2000:\n",
    "        break\n",
    "\n",
    "print(len(indexes_chubby))"
   ]
  },
  {
   "cell_type": "code",
   "execution_count": 18,
   "metadata": {},
   "outputs": [],
   "source": [
    "# save the indexes\n",
    "import pickle\n",
    "\n",
    "with open('indexes_mouth_open_2000.pkl', 'wb') as f:\n",
    "    pickle.dump(indexes_chubby, f)\n",
    "\n",
    "with open('indexes_mouth_closed_2000.pkl', 'wb') as f:\n",
    "    pickle.dump(indexes_not_chubby, f)"
   ]
  }
 ],
 "metadata": {
  "kernelspec": {
   "display_name": "stable_diffusion",
   "language": "python",
   "name": "python3"
  },
  "language_info": {
   "codemirror_mode": {
    "name": "ipython",
    "version": 3
   },
   "file_extension": ".py",
   "mimetype": "text/x-python",
   "name": "python",
   "nbconvert_exporter": "python",
   "pygments_lexer": "ipython3",
   "version": "3.8.19"
  }
 },
 "nbformat": 4,
 "nbformat_minor": 2
}
