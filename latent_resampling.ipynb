{
 "cells": [
  {
   "cell_type": "code",
   "execution_count": 1,
   "metadata": {},
   "outputs": [],
   "source": [
    "import torch\n",
    "import torchvision\n",
    "import argparse\n",
    "import yaml\n",
    "import os\n",
    "from torchvision.utils import make_grid\n",
    "from PIL import Image\n",
    "from tqdm import tqdm\n",
    "from models.unet_cond_base import Unet\n",
    "from models.vqvae import VQVAE\n",
    "from scheduler.linear_noise_scheduler import LinearNoiseScheduler\n",
    "from scheduler.linear_noise_scheduler_ddim import LinearNoiseSchedulerDDIM\n",
    "from utils.config_utils import *\n",
    "from collections import OrderedDict\n",
    "from datetime import datetime\n",
    "from dataset.celeb_dataset import CelebDataset\n",
    "\n",
    "device = torch.device('cuda' if torch.cuda.is_available() else 'cpu')\n",
    "\n",
    "\n",
    "def sample(model, cond, scheduler, train_config, diffusion_model_config,\n",
    "           autoencoder_model_config, diffusion_config, dataset_config, vae, use_ddim=False, start_step=0, num_steps=1000, noise_input=None, dir='', save_img=True):\n",
    "    r\"\"\"\n",
    "    Sample stepwise by going backward one timestep at a time.\n",
    "    We save the x0 predictions\n",
    "    \"\"\"\n",
    "\n",
    "    # seed random for reproducibility\n",
    "    #torch.manual_seed(9)\n",
    "\n",
    "    im_size = dataset_config['im_size'] // 2 ** sum(autoencoder_model_config['down_sample'])\n",
    "    \n",
    "    ########### Sample random noise latent ##########\n",
    "    if noise_input is not None:\n",
    "        xt = noise_input.to(device)\n",
    "    else:\n",
    "        xt = torch.randn((train_config['num_samples'],\n",
    "                        autoencoder_model_config['z_channels'],\n",
    "                        im_size,\n",
    "                        im_size)).to(device)\n",
    "    ###############################################\n",
    "    \n",
    "    ############# Validate the config #################\n",
    "    condition_config = get_config_value(diffusion_model_config, key='condition_config', default_value=None)\n",
    "    assert condition_config is not None, (\"This sampling script is for class conditional \"\n",
    "                                          \"but no conditioning config found\")\n",
    "    condition_types = get_config_value(condition_config, 'condition_types', [])\n",
    "    assert 'attribute' in condition_types, (\"This sampling script is for attribute conditional \"\n",
    "                                          \"but no class condition found in config\")\n",
    "    #validate_class_config(condition_config)\n",
    "    ###############################################\n",
    "    \n",
    "    ############ Create Conditional input ###############\n",
    "    num_classes = condition_config['attribute_condition_config']['attribute_condition_num']\n",
    "    #sample_classes = torch.randint(0, num_classes, (train_config['num_samples'], ))\n",
    "    #print('Generating images for {}'.format(list(sample_classes.numpy())))\n",
    "    cond_input = {\n",
    "        # 'class': torch.nn.functional.one_hot(sample_classes, num_classes).to(device)\n",
    "        #  ['Male', 'Young', 'Bald', 'Bangs', 'Receding_Hairline', 'Black_Hair', 'Blond_Hair', 'Brown_Hair', 'Gray_Hair', 'Straight_Hair', 'Wavy_Hair', 'No_Beard', 'Goatee', 'Mustache', 'Sideburns', 'Narrow_Eyes', 'Oval_Face', 'Pale_Skin', 'Pointy_Nose']\n",
    "        'attribute': cond\n",
    "\n",
    "    }\n",
    "    # Unconditional input for classifier free guidance\n",
    "    uncond_input = {\n",
    "        'attribute': cond_input['attribute'] * 0\n",
    "    }\n",
    "    ###############################################\n",
    "    \n",
    "    # By default classifier free guidance is disabled\n",
    "    # Change value in config or change default value here to enable it\n",
    "    cf_guidance_scale = get_config_value(train_config, 'cf_guidance_scale', 1.0)\n",
    "    \n",
    "    current_time = datetime.now().strftime(\"%Y%m%d-%H%M%S\")\n",
    "\n",
    "    if not use_ddim:\n",
    "        num_steps = diffusion_config['num_timesteps']\n",
    "\n",
    "    intermediate_xt = []\n",
    "    intermediate_x0_pred = []\n",
    "    ################# Sampling Loop ########################\n",
    "    for i in tqdm(reversed(range(num_steps - start_step)), total=num_steps):\n",
    "        timestep = ((i-1) * (1000 // num_steps)) + 1\n",
    "        #print(timestep)\n",
    "        \n",
    "        # Get prediction of noise\n",
    "        t = (torch.ones((xt.shape[0],))*timestep).long().to(device)\n",
    "        noise_pred_cond = model(xt, t, cond_input)\n",
    "        \n",
    "        if cf_guidance_scale > 1:\n",
    "            noise_pred_uncond = model(xt, t, uncond_input)\n",
    "            noise_pred = noise_pred_uncond + cf_guidance_scale*(noise_pred_cond - noise_pred_uncond)\n",
    "        else:\n",
    "            noise_pred = noise_pred_cond\n",
    "        \n",
    "        # If DDIM is enabled, we need to also compute t_prev for the DDIM reverse process\n",
    "        if use_ddim:\n",
    "            timestep_prev = max(timestep - (1000 // num_steps), 1)\n",
    "            t_prev = (torch.ones((xt.shape[0],)).to(device) * max(timestep - (1000 // num_steps), 1)).long().to(device)\n",
    "\n",
    "            xt, x0_pred = scheduler.sample_prev_timestep(xt, noise_pred, timestep, timestep_prev)  # Use DDIM sampling\n",
    "        else:\n",
    "            xt, x0_pred = scheduler.sample_prev_timestep(xt, noise_pred, torch.as_tensor(i).to(device))  # Use DDPM sampling\n",
    "       \n",
    "        intermediate_xt.append(xt)\n",
    "        intermediate_x0_pred.append(x0_pred)\n",
    "\n",
    "        if i == 0:\n",
    "            # Decode ONLY the final image to save time\n",
    "            ims = vae.decode(xt)\n",
    "        else:\n",
    "            ims = x0_pred\n",
    "        \n",
    "        ims = torch.clamp(ims, -1., 1.).detach().cpu()\n",
    "        ims = (ims + 1) / 2\n",
    "        grid = make_grid(ims, nrow=1)\n",
    "        img = torchvision.transforms.ToPILImage()(grid)\n",
    "\n",
    "        if not os.path.exists(os.path.join(train_config['task_name'], 'cond_attr_samples', dir, current_time)):\n",
    "            os.makedirs(os.path.join(train_config['task_name'], 'cond_attr_samples', dir, current_time), exist_ok=True)\n",
    "\n",
    "        if save_img:\n",
    "            img.save(os.path.join(train_config['task_name'], 'cond_attr_samples', dir, current_time, 'x0_{}.png'.format(i)))\n",
    "            img.close()\n",
    "    ##############################################################\n",
    "\n",
    "    intermediate_xt = torch.stack(intermediate_xt, dim=0)\n",
    "    intermediate_x0_pred = torch.stack(intermediate_x0_pred, dim=0)\n",
    "\n",
    "    return ims, cond_input, intermediate_xt, intermediate_x0_pred\n",
    "\n",
    "def ddim_inversion(scheduler, vae, xt, diffusion_config, condition_input, model, train_config, num_inference_steps=None, dir='', save_img=True):\n",
    "    r\"\"\"\n",
    "    Reverse the process by diffusing the image forward in time.\n",
    "    :param scheduler: the noise scheduler used (e.g., LinearNoiseSchedulerDDIM)\n",
    "    :param vae: the variational autoencoder (VAE) to encode and decode images\n",
    "    :param xt: image tensor that will be diffused forward\n",
    "    :param diffusion_config: configuration for the diffusion process\n",
    "    :param condition_input: the conditioning input for the image\n",
    "    :param model: the diffusion model (e.g., Unet)\n",
    "    :param train_config: the training configuration\n",
    "    \"\"\"\n",
    "\n",
    "    xt = xt.to(device)  # Ensure image is on the correct device\n",
    "    xt = (xt * 2) - 1  # Rescale from [0, 1] to [-1, 1] to match the model's input range\n",
    "\n",
    "    # First, encode the image into latent space using the VAE\n",
    "    z, _ = vae.encode(xt)\n",
    "\n",
    "    all_timesteps = diffusion_config['num_timesteps']\n",
    "\n",
    "    # If the number of inference steps is not provided, use all timesteps\n",
    "    if num_inference_steps is None:\n",
    "        num_timesteps = all_timesteps\n",
    "\n",
    "    current_time = datetime.now().strftime(\"%Y%m%d-%H%M%S\")\n",
    "\n",
    "    \n",
    "    intermediate_latents = []\n",
    "    # Move forward in time by applying noise progressively\n",
    "    for i in tqdm(range(1, num_inference_steps), total=num_inference_steps):\n",
    "        t_val = (i * (all_timesteps // num_inference_steps) + 1)\n",
    "        t = (torch.ones((z.shape[0],)) * (i * (all_timesteps // num_inference_steps) + 1)).long().to(z.device)\n",
    "\n",
    "        if i >= num_inference_steps - 1: continue\n",
    "\n",
    "        # Predict noise based on current step and conditions\n",
    "        noise_pred = model(z, t, condition_input)\n",
    "        \n",
    "        next_timestep = t\n",
    "        current_timestep = max(0, t_val - (all_timesteps // num_inference_steps))\n",
    "        current_timestep =  (torch.ones((z.shape[0],)) * current_timestep).long().to(z.device)\n",
    "\n",
    "        # Use the noise prediction to forward-sample to the next timestep using DDIM forward equation\n",
    "        # Reverse the reverse process from sample_prev_timestep\n",
    "        alpha_t = scheduler.alpha_cum_prod.to(z.device)[current_timestep]\n",
    "        alpha_t_next = scheduler.alpha_cum_prod.to(z.device)[next_timestep]\n",
    "        \n",
    "        '''\n",
    "        z_next = (\n",
    "            torch.sqrt(alpha_t_next) * z +\n",
    "            torch.sqrt(1 - alpha_t_next) * noise_pred\n",
    "        )\n",
    "        '''\n",
    "\n",
    "        z_next = (z - torch.sqrt(1 - alpha_t)[0] * noise_pred) * (torch.sqrt(alpha_t_next)[0] / torch.sqrt(alpha_t))[0] + torch.sqrt(1 - alpha_t_next)[0] * noise_pred\n",
    "        \n",
    "        # Optionally, if stochasticity is involved (if ddim_eta > 0), add noise at each step\n",
    "        if scheduler.ddim_eta > 0:\n",
    "            variance = (1 - alpha_t_next) / (1 - alpha_t) * scheduler.betas.to(z.device)[t]\n",
    "            sigma = scheduler.ddim_eta * torch.sqrt(variance)\n",
    "            z_next = z_next + sigma * torch.randn_like(z_next)\n",
    "        \n",
    "        z = z_next  # Move to the next time step\n",
    "\n",
    "        intermediate_latents.append(z)\n",
    "\n",
    "        if save_img:\n",
    "            ims_clamped = torch.clamp(z, -1., 1.).detach().cpu()\n",
    "            ims_clamped = (ims_clamped + 1) / 2  # Rescale to [0, 1]\n",
    "            \n",
    "            # Convert to image and save\n",
    "            grid = make_grid(ims_clamped, nrow=1)\n",
    "            img = torchvision.transforms.ToPILImage()(grid)\n",
    "            \n",
    "            # Save images at each step for visualization\n",
    "            save_dir = os.path.join(train_config['task_name'], 'cond_attr_samples', dir, current_time)\n",
    "            if not os.path.exists(save_dir):\n",
    "                os.makedirs(save_dir, exist_ok=True)\n",
    "\n",
    "            \n",
    "                # Save the image corresponding to the current timestep\n",
    "                img.save(os.path.join(save_dir, 'x0_{}.png'.format(i)))\n",
    "            img.close()\n",
    "\n",
    "    # convert to torch tensor\n",
    "    intermediate_latents = torch.stack(intermediate_latents, dim=0)\n",
    "\n",
    "    # Return the final noisy latent z and the predicted noise used for the inversion\n",
    "    return intermediate_latents\n"
   ]
  },
  {
   "cell_type": "code",
   "execution_count": 2,
   "metadata": {},
   "outputs": [
    {
     "name": "stdout",
     "output_type": "stream",
     "text": [
      "{'task_name': 'celebhq-512-64-train-komondor_b', 'continue': True, 'last_step': 0, 'last_epoch': 199, 'dataset_params': {'im_path': 'data/CelebAMask-HQ', 'im_channels': 3, 'im_size': 512, 'name': 'celebhq'}, 'diffusion_params': {'num_timesteps': 1000, 'beta_start': 0.0015, 'beta_end': 0.0195}, 'ldm_params': {'down_channels': [512, 768, 768, 1024], 'mid_channels': [1024, 768], 'down_sample': [True, True, True], 'attn_down': [True, True, True], 'time_emb_dim': 512, 'norm_channels': 32, 'num_heads': 16, 'conv_out_channels': 128, 'num_down_layers': 2, 'num_mid_layers': 2, 'num_up_layers': 2, 'condition_config': {'condition_types': ['attribute'], 'attribute_condition_config': {'attribute_condition_num': 19, 'attribute_condition_selected_attrs': ['Male', 'Young', 'Bald', 'Bangs', 'Receding_Hairline', 'Black_Hair', 'Blond_Hair', 'Brown_Hair', 'Gray_Hair', 'Straight_Hair', 'Wavy_Hair', 'No_Beard', 'Goatee', 'Mustache', 'Sideburns', 'Narrow_Eyes', 'Oval_Face', 'Pale_Skin', 'Pointy_Nose']}}}, 'autoencoder_params': {'z_channels': 3, 'codebook_size': 8192, 'down_channels': [128, 256, 512, 512], 'mid_channels': [512, 512], 'down_sample': [True, True, True], 'attn_down': [False, False, False], 'norm_channels': 32, 'num_heads': 4, 'num_down_layers': 2, 'num_mid_layers': 2, 'num_up_layers': 2}, 'train_params': {'seed': 1111, 'task_name': 'celebhq-512-64-train-komondor_b', 'ldm_batch_size': 1, 'autoencoder_batch_size': 1, 'disc_start': 15000, 'disc_weight': 0.5, 'codebook_weight': 1, 'commitment_beta': 0.2, 'perceptual_weight': 1, 'kl_weight': 5e-06, 'ldm_epochs': 300, 'autoencoder_epochs': 80, 'num_samples': 1, 'num_grid_rows': 1, 'ldm_lr': 1e-06, 'autoencoder_lr': 1e-05, 'autoencoder_acc_steps': 4, 'autoencoder_img_save_steps': 64, 'autoencoder_img_save_steps_wandb': 500, 'autoencoder_log_step_steps_wandb': 500, 'save_latents': True, 'vae_latent_dir_name': 'vae_latents', 'vqvae_latent_dir_name': 'vqvae_latents', 'ldm_ckpt_name': 'ddpm_ckpt.pth', 'vqvae_autoencoder_ckpt_name': 'vqvae_autoencoder_ckpt.pth', 'vae_autoencoder_ckpt_name': 'vae_autoencoder_ckpt.pth', 'vqvae_discriminator_ckpt_name': 'vqvae_discriminator_ckpt.pth', 'vae_discriminator_ckpt_name': 'vae_discriminator_ckpt.pth', 'distributed_data_paralell': True, 'ddpm_log_step_steps_wandb': 500, 'ddpm_img_save_steps_wandb': 1500}, 'sample_params': {'use_ddim': True}}\n",
      "Using DDIM\n",
      "Loaded unet checkpoint\n",
      "Loaded vae checkpoint\n"
     ]
    }
   ],
   "source": [
    "# Read the config file #\n",
    "#with open('celebhq-1024-64-16k-komondor/celeba_komondor_16k.yaml', 'r') as file:\n",
    "#with open('celebhq-512-64/celeba_komondor_512.yaml', 'r') as file:\n",
    "with open('celebhq-512-64-train-komondor_b/celeba_komondor_512_b.yaml', 'r') as file:\n",
    "    try:\n",
    "        config = yaml.safe_load(file)\n",
    "    except yaml.YAMLError as exc:\n",
    "        print(exc)\n",
    "print(config)\n",
    "########################\n",
    "\n",
    "diffusion_config = config['diffusion_params']\n",
    "dataset_config = config['dataset_params']\n",
    "diffusion_model_config = config['ldm_params']\n",
    "autoencoder_model_config = config['autoencoder_params']\n",
    "train_config = config['train_params']\n",
    "sample_config = config['sample_params']\n",
    "\n",
    "########## Create the noise scheduler #############\n",
    "\n",
    "if sample_config['use_ddim']:\n",
    "    print('Using DDIM')\n",
    "    scheduler = LinearNoiseSchedulerDDIM(num_timesteps=diffusion_config['num_timesteps'],\n",
    "                                            beta_start=diffusion_config['beta_start'],\n",
    "                                            beta_end=diffusion_config['beta_end'])\n",
    "else:\n",
    "    scheduler = LinearNoiseScheduler(num_timesteps=diffusion_config['num_timesteps'],\n",
    "                                    beta_start=diffusion_config['beta_start'],\n",
    "                                    beta_end=diffusion_config['beta_end'])\n",
    "###############################################\n",
    "\n",
    "########## Load Unet #############\n",
    "model = Unet(im_channels=autoencoder_model_config['z_channels'],\n",
    "                model_config=diffusion_model_config).to(device)\n",
    "model.eval()\n",
    "if os.path.exists(os.path.join(train_config['task_name'],\n",
    "                                train_config['ldm_ckpt_name'])):\n",
    "    \n",
    "\n",
    "    ddp_state_dict = torch.load(os.path.join(train_config['task_name'],\n",
    "                                                    train_config['ldm_ckpt_name']),\n",
    "                                        map_location=device)\n",
    "    new_state_dict = OrderedDict()\n",
    "    for k, v in ddp_state_dict.items():\n",
    "        if k.startswith('module.'):\n",
    "            name = k[7:] # remove `module.`\n",
    "        new_state_dict[name] = v\n",
    "    \n",
    "    ddp_state_dict = new_state_dict\n",
    "    print('Loaded unet checkpoint')\n",
    "    model.load_state_dict(ddp_state_dict)\n",
    "else:\n",
    "    raise Exception('Model checkpoint {} not found'.format(os.path.join(train_config['task_name'],\n",
    "                                                                        train_config['ldm_ckpt_name'])))\n",
    "#####################################\n",
    "\n",
    "# Create output directories\n",
    "if not os.path.exists(train_config['task_name']):\n",
    "    os.mkdir(train_config['task_name'])\n",
    "\n",
    "########## Load VQVAE #############\n",
    "vae = VQVAE(im_channels=dataset_config['im_channels'],\n",
    "            model_config=autoencoder_model_config).to(device)\n",
    "vae.eval()\n",
    "\n",
    "# Load vae if found\n",
    "if os.path.exists(os.path.join(train_config['task_name'],\n",
    "                                train_config['vqvae_autoencoder_ckpt_name'])):\n",
    "    print('Loaded vae checkpoint')\n",
    "\n",
    "    vae_state_dict = torch.load(os.path.join(train_config['task_name'],\n",
    "                                                train_config['vqvae_autoencoder_ckpt_name']),\n",
    "                                    map_location=device)\n",
    "    \n",
    "    \n",
    "    new_state_dict = OrderedDict()\n",
    "\n",
    "    for k, v in vae_state_dict.items():\n",
    "        if k.startswith('module.'):\n",
    "            name = k[7:]        \n",
    "            new_state_dict[name] = v   \n",
    "\n",
    "    #new_state_dict = vae_state_dict     \n",
    "    \n",
    "    vae.load_state_dict(new_state_dict, strict=False)\n",
    "else:\n",
    "    raise Exception('VAE checkpoint {} not found'.format(os.path.join(train_config['task_name'],\n",
    "                                                train_config['vqvae_autoencoder_ckpt_name'])))\n",
    "#####################################\n"
   ]
  },
  {
   "cell_type": "code",
   "execution_count": 3,
   "metadata": {},
   "outputs": [
    {
     "name": "stdout",
     "output_type": "stream",
     "text": [
      "{'down_channels': [512, 768, 768, 1024], 'mid_channels': [1024, 768], 'down_sample': [True, True, True], 'attn_down': [True, True, True], 'time_emb_dim': 512, 'norm_channels': 32, 'num_heads': 16, 'conv_out_channels': 128, 'num_down_layers': 2, 'num_mid_layers': 2, 'num_up_layers': 2, 'condition_config': {'condition_types': ['attribute'], 'attribute_condition_config': {'attribute_condition_num': 19, 'attribute_condition_selected_attrs': ['Male', 'Young', 'Bald', 'Bangs', 'Receding_Hairline', 'Black_Hair', 'Blond_Hair', 'Brown_Hair', 'Gray_Hair', 'Straight_Hair', 'Wavy_Hair', 'No_Beard', 'Goatee', 'Mustache', 'Sideburns', 'Narrow_Eyes', 'Oval_Face', 'Pale_Skin', 'Pointy_Nose']}}}\n"
     ]
    }
   ],
   "source": [
    "diffusion_model_config = config['ldm_params']\n",
    "print(diffusion_model_config)\n",
    "\n",
    "temp_conf = diffusion_model_config.copy()\n",
    "\n",
    "# add Eyeglasses to the condition\n",
    "temp_conf['condition_config']['attribute_condition_config']['attribute_condition_selected_attrs'].extend(['Eyeglasses', 'Heavy_Makeup', 'Wearing_Lipstick'])\n",
    "temp_conf['condition_config']['attribute_condition_config']['attribute_condition_num'] = len(temp_conf['condition_config']['attribute_condition_config']['attribute_condition_selected_attrs'])\n"
   ]
  },
  {
   "cell_type": "code",
   "execution_count": 4,
   "metadata": {},
   "outputs": [
    {
     "name": "stderr",
     "output_type": "stream",
     "text": [
      "100%|██████████| 30000/30000 [00:00<00:00, 74148.15it/s]"
     ]
    },
    {
     "name": "stdout",
     "output_type": "stream",
     "text": [
      "Found 30000 images\n",
      "Found 0 masks\n",
      "Found 0 captions\n",
      "Found 30000 attributes\n"
     ]
    },
    {
     "name": "stderr",
     "output_type": "stream",
     "text": [
      "\n"
     ]
    }
   ],
   "source": [
    "im_dataset_train = CelebDataset(split='train',\n",
    "                                im_path=dataset_config['im_path'],\n",
    "                                im_size=dataset_config['im_size'],\n",
    "                                im_channels=dataset_config['im_channels'],\n",
    "                                use_latents=False,\n",
    "                                latent_path=os.path.join(train_config['task_name'],\n",
    "                                                         train_config['vqvae_latent_dir_name']),\n",
    "                                condition_config=temp_conf['condition_config'],\n",
    "                                )"
   ]
  },
  {
   "cell_type": "code",
   "execution_count": 5,
   "metadata": {},
   "outputs": [],
   "source": [
    "# load the indexes\n",
    "import pickle\n",
    "\n",
    "with open('indexes_with_eyeglasses.pkl', 'rb') as f:\n",
    "    indexes_with_eyeglasses = pickle.load(f)\n",
    "\n",
    "with open('indexes_without_eyeglasses.pkl', 'rb') as f:\n",
    "    indexes_without_eyeglasses = pickle.load(f)"
   ]
  },
  {
   "cell_type": "code",
   "execution_count": 6,
   "metadata": {},
   "outputs": [
    {
     "name": "stdout",
     "output_type": "stream",
     "text": [
      "200\n"
     ]
    }
   ],
   "source": [
    "# create a dataloader just for these indexes\n",
    "from torch.utils.data import DataLoader\n",
    "from torch.utils.data import Subset\n",
    "# take 10 images with eyeglasses and 10 images without eyeglasses\n",
    "indexes = indexes_with_eyeglasses[600:700] + indexes_without_eyeglasses[600:700]\n",
    "#indexes = indexes_without_eyeglasses[560:600]\n",
    "print(len(indexes))\n",
    "\n",
    "subset = Subset(im_dataset_train, indexes)\n",
    "dataloader = DataLoader(subset, batch_size=2, shuffle=False)"
   ]
  },
  {
   "cell_type": "code",
   "execution_count": 8,
   "metadata": {},
   "outputs": [
    {
     "name": "stderr",
     "output_type": "stream",
     "text": [
      "  4%|▍         | 4/100 [00:00<00:02, 39.90it/s]"
     ]
    },
    {
     "name": "stdout",
     "output_type": "stream",
     "text": [
      "0\n",
      "1\n",
      "2\n",
      "3\n",
      "4\n",
      "5\n",
      "6\n"
     ]
    },
    {
     "name": "stderr",
     "output_type": "stream",
     "text": [
      " 12%|█▏        | 12/100 [00:00<00:03, 28.75it/s]"
     ]
    },
    {
     "name": "stdout",
     "output_type": "stream",
     "text": [
      "7\n",
      "8\n",
      "9\n",
      "10\n",
      "11\n"
     ]
    },
    {
     "name": "stderr",
     "output_type": "stream",
     "text": [
      " 15%|█▌        | 15/100 [00:00<00:03, 26.70it/s]"
     ]
    },
    {
     "name": "stdout",
     "output_type": "stream",
     "text": [
      "12\n",
      "13\n",
      "14\n",
      "15\n",
      "16\n"
     ]
    },
    {
     "name": "stderr",
     "output_type": "stream",
     "text": [
      " 21%|██        | 21/100 [00:00<00:03, 23.75it/s]"
     ]
    },
    {
     "name": "stdout",
     "output_type": "stream",
     "text": [
      "17\n",
      "18\n",
      "19\n",
      "20\n",
      "21\n"
     ]
    },
    {
     "name": "stderr",
     "output_type": "stream",
     "text": [
      " 27%|██▋       | 27/100 [00:01<00:03, 23.88it/s]"
     ]
    },
    {
     "name": "stdout",
     "output_type": "stream",
     "text": [
      "22\n",
      "23\n",
      "24\n",
      "25\n",
      "26\n"
     ]
    },
    {
     "name": "stderr",
     "output_type": "stream",
     "text": [
      " 33%|███▎      | 33/100 [00:01<00:02, 25.00it/s]"
     ]
    },
    {
     "name": "stdout",
     "output_type": "stream",
     "text": [
      "27\n",
      "28\n",
      "29\n",
      "30\n",
      "31\n",
      "32\n"
     ]
    },
    {
     "name": "stderr",
     "output_type": "stream",
     "text": [
      " 36%|███▌      | 36/100 [00:01<00:02, 24.64it/s]"
     ]
    },
    {
     "name": "stdout",
     "output_type": "stream",
     "text": [
      "33\n",
      "34\n",
      "35\n",
      "36\n",
      "37\n"
     ]
    },
    {
     "name": "stderr",
     "output_type": "stream",
     "text": [
      " 42%|████▏     | 42/100 [00:01<00:02, 24.72it/s]"
     ]
    },
    {
     "name": "stdout",
     "output_type": "stream",
     "text": [
      "38\n",
      "39\n",
      "40\n",
      "41\n",
      "42\n"
     ]
    },
    {
     "name": "stderr",
     "output_type": "stream",
     "text": [
      " 48%|████▊     | 48/100 [00:01<00:02, 25.47it/s]"
     ]
    },
    {
     "name": "stdout",
     "output_type": "stream",
     "text": [
      "43\n",
      "44\n",
      "45\n",
      "46\n",
      "47\n",
      "48\n"
     ]
    },
    {
     "name": "stderr",
     "output_type": "stream",
     "text": [
      " 55%|█████▌    | 55/100 [00:02<00:01, 27.13it/s]"
     ]
    },
    {
     "name": "stdout",
     "output_type": "stream",
     "text": [
      "49\n",
      "50\n",
      "51\n",
      "52\n",
      "53\n",
      "54\n"
     ]
    },
    {
     "name": "stderr",
     "output_type": "stream",
     "text": [
      " 59%|█████▉    | 59/100 [00:02<00:01, 28.50it/s]"
     ]
    },
    {
     "name": "stdout",
     "output_type": "stream",
     "text": [
      "55\n",
      "56\n",
      "57\n",
      "58\n",
      "59\n",
      "60\n",
      "61\n"
     ]
    },
    {
     "name": "stderr",
     "output_type": "stream",
     "text": [
      " 66%|██████▌   | 66/100 [00:02<00:01, 28.59it/s]"
     ]
    },
    {
     "name": "stdout",
     "output_type": "stream",
     "text": [
      "62\n",
      "63\n",
      "64\n",
      "65\n",
      "66\n",
      "67\n"
     ]
    },
    {
     "name": "stderr",
     "output_type": "stream",
     "text": [
      " 74%|███████▍  | 74/100 [00:02<00:00, 29.30it/s]"
     ]
    },
    {
     "name": "stdout",
     "output_type": "stream",
     "text": [
      "68\n",
      "69\n",
      "70\n",
      "71\n",
      "72\n",
      "73\n"
     ]
    },
    {
     "name": "stderr",
     "output_type": "stream",
     "text": [
      " 80%|████████  | 80/100 [00:02<00:00, 28.91it/s]"
     ]
    },
    {
     "name": "stdout",
     "output_type": "stream",
     "text": [
      "74\n",
      "75\n",
      "76\n",
      "77\n",
      "78\n",
      "79\n"
     ]
    },
    {
     "name": "stderr",
     "output_type": "stream",
     "text": [
      " 86%|████████▌ | 86/100 [00:03<00:00, 27.82it/s]"
     ]
    },
    {
     "name": "stdout",
     "output_type": "stream",
     "text": [
      "80\n",
      "81\n",
      "82\n",
      "83\n",
      "84\n",
      "85\n"
     ]
    },
    {
     "name": "stderr",
     "output_type": "stream",
     "text": [
      " 92%|█████████▏| 92/100 [00:03<00:00, 27.56it/s]"
     ]
    },
    {
     "name": "stdout",
     "output_type": "stream",
     "text": [
      "86\n",
      "87\n",
      "88\n",
      "89\n",
      "90\n",
      "91\n"
     ]
    },
    {
     "name": "stderr",
     "output_type": "stream",
     "text": [
      " 95%|█████████▌| 95/100 [00:03<00:00, 27.23it/s]"
     ]
    },
    {
     "name": "stdout",
     "output_type": "stream",
     "text": [
      "92\n",
      "93\n",
      "94\n",
      "95\n",
      "96\n",
      "97\n"
     ]
    },
    {
     "name": "stderr",
     "output_type": "stream",
     "text": [
      "100%|██████████| 100/100 [00:03<00:00, 27.08it/s]"
     ]
    },
    {
     "name": "stdout",
     "output_type": "stream",
     "text": [
      "98\n",
      "99\n"
     ]
    },
    {
     "name": "stderr",
     "output_type": "stream",
     "text": [
      "\n"
     ]
    }
   ],
   "source": [
    "latens = torch.tensor([])\n",
    "attribute_desc = torch.tensor([])\n",
    "xts = torch.tensor([])\n",
    "x0s = torch.tensor([])\n",
    "\n",
    "current_time = datetime.now().strftime(\"%Y%m%d-%H%M%S\")\n",
    "\n",
    "# for each image in the training set create a ddim inversion\n",
    "for i, (im, cond) in tqdm(enumerate(dataloader), total=len(dataloader)):\n",
    "    # torch clear cache\n",
    "    \n",
    "    torch.cuda.empty_cache()\n",
    "    im = im.to(device)\n",
    "    attr = cond['attribute'].clone()    \n",
    "    \n",
    "    cond = cond\n",
    "    cond['attribute'] = cond['attribute'][:, :19].to(device)\n",
    "\n",
    "    with torch.no_grad():\n",
    "        intermediate_latents = ddim_inversion(scheduler, vae, im, diffusion_config, cond, model, train_config, 250, dir=current_time, save_img=False)\n",
    "\n",
    "        cond = torch.tensor(cond['attribute']).to(device)\n",
    "\n",
    "        _, _, inter_xt, inter_x0_pred = sample(model, cond, scheduler, train_config, diffusion_model_config,\n",
    "            autoencoder_model_config, diffusion_config, dataset_config, vae, use_ddim=True, start_step=0, num_steps=1000, noise_input=intermediate_latents[-1], dir=current_time, save_img=False)\n",
    "\n",
    "    #start_latent = intermediate_latents[-1]\n",
    "\n",
    "    #start_latent = start_latent.detach().cpu()\n",
    "\n",
    "    intermediate_latents = intermediate_latents.detach().cpu()\n",
    "\n",
    "    inter_xt = inter_xt.detach().cpu()\n",
    "    inter_x0_pred = inter_x0_pred.detach().cpu()\n",
    "\n",
    "    # stack the results\n",
    "    latens = torch.cat((latens, intermediate_latents), 1)\n",
    "    attribute_desc = torch.cat((attribute_desc, attr), 0)\n",
    "\n",
    "    xts = torch.cat((xts, inter_xt), 1)\n",
    "    x0s = torch.cat((x0s, inter_x0_pred), 1)\n",
    "\n",
    "    if (i+1) % 5 == 0:\n",
    "        # save the latents and the attribute description into a file\n",
    "        torch.save({'latents': latens, 'attribute_desc': attribute_desc, 'xt': xts, 'x0': x0s}, f'ddim_inter_latents/ddim_resample/latents_glasses_intermediates_{i}.pt')\n",
    "\n",
    "        latens = torch.tensor([])\n",
    "        attribute_desc = torch.tensor([])\n",
    "        xts = torch.tensor([])\n",
    "        x0s = torch.tensor([])\n",
    "    \n",
    "\n",
    "\n",
    "\n",
    "    "
   ]
  }
 ],
 "metadata": {
  "kernelspec": {
   "display_name": "stable_diffusion",
   "language": "python",
   "name": "python3"
  },
  "language_info": {
   "codemirror_mode": {
    "name": "ipython",
    "version": 3
   },
   "file_extension": ".py",
   "mimetype": "text/x-python",
   "name": "python",
   "nbconvert_exporter": "python",
   "pygments_lexer": "ipython3",
   "version": "3.8.19"
  }
 },
 "nbformat": 4,
 "nbformat_minor": 2
}
